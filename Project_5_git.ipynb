{
 "cells": [
  {
   "cell_type": "markdown",
   "id": "9ee1785a",
   "metadata": {
    "toc": true
   },
   "source": [
    "<h1>Table of Contents<span class=\"tocSkip\"></span></h1>\n",
    "<div class=\"toc\"><ul class=\"toc-item\"><li><span><a href=\"#Описание-проекта\" data-toc-modified-id=\"Описание-проекта-1\"><span class=\"toc-item-num\">1&nbsp;&nbsp;</span>Описание проекта</a></span></li><li><span><a href=\"#Описание-данных\" data-toc-modified-id=\"Описание-данных-2\"><span class=\"toc-item-num\">2&nbsp;&nbsp;</span>Описание данных</a></span></li><li><span><a href=\"#Общая-информация-о-датасете\" data-toc-modified-id=\"Общая-информация-о-датасете-3\"><span class=\"toc-item-num\">3&nbsp;&nbsp;</span>Общая информация о датасете</a></span></li><li><span><a href=\"#Подготовка-данных\" data-toc-modified-id=\"Подготовка-данных-4\"><span class=\"toc-item-num\">4&nbsp;&nbsp;</span>Подготовка данных</a></span><ul class=\"toc-item\"><li><span><a href=\"#Названия-столбцов\" data-toc-modified-id=\"Названия-столбцов-4.1\"><span class=\"toc-item-num\">4.1&nbsp;&nbsp;</span>Названия столбцов</a></span></li><li><span><a href=\"#Типы-данных-в-столбцах\" data-toc-modified-id=\"Типы-данных-в-столбцах-4.2\"><span class=\"toc-item-num\">4.2&nbsp;&nbsp;</span>Типы данных в столбцах</a></span></li><li><span><a href=\"#Обработка-пропусков\" data-toc-modified-id=\"Обработка-пропусков-4.3\"><span class=\"toc-item-num\">4.3&nbsp;&nbsp;</span>Обработка пропусков</a></span><ul class=\"toc-item\"><li><span><a href=\"#critic_score,-user_score-и-rating\" data-toc-modified-id=\"critic_score,-user_score-и-rating-4.3.1\"><span class=\"toc-item-num\">4.3.1&nbsp;&nbsp;</span><code>critic_score</code>, <code>user_score</code> и <code>rating</code></a></span></li><li><span><a href=\"#year_of_release,-name-и-genre\" data-toc-modified-id=\"year_of_release,-name-и-genre-4.3.2\"><span class=\"toc-item-num\">4.3.2&nbsp;&nbsp;</span><code>year_of_release</code>, <code>name</code> и <code>genre</code></a></span></li></ul></li><li><span><a href=\"#Сумма-продаж-по-регионам\" data-toc-modified-id=\"Сумма-продаж-по-регионам-4.4\"><span class=\"toc-item-num\">4.4&nbsp;&nbsp;</span>Сумма продаж по регионам</a></span></li><li><span><a href=\"#Аномалии\" data-toc-modified-id=\"Аномалии-4.5\"><span class=\"toc-item-num\">4.5&nbsp;&nbsp;</span>Аномалии</a></span></li><li><span><a href=\"#Дубликаты\" data-toc-modified-id=\"Дубликаты-4.6\"><span class=\"toc-item-num\">4.6&nbsp;&nbsp;</span>Дубликаты</a></span></li><li><span><a href=\"#Вывод\" data-toc-modified-id=\"Вывод-4.7\"><span class=\"toc-item-num\">4.7&nbsp;&nbsp;</span>Вывод</a></span></li></ul></li><li><span><a href=\"#Исследовательский-анализ-данных\" data-toc-modified-id=\"Исследовательский-анализ-данных-5\"><span class=\"toc-item-num\">5&nbsp;&nbsp;</span>Исследовательский анализ данных</a></span><ul class=\"toc-item\"><li><span><a href=\"#Сколько-игр-выпускалось-в-разные-года?\" data-toc-modified-id=\"Сколько-игр-выпускалось-в-разные-года?-5.1\"><span class=\"toc-item-num\">5.1&nbsp;&nbsp;</span>Сколько игр выпускалось в разные года?</a></span></li><li><span><a href=\"#Как-менялись-продажи-по-платформам?\" data-toc-modified-id=\"Как-менялись-продажи-по-платформам?-5.2\"><span class=\"toc-item-num\">5.2&nbsp;&nbsp;</span>Как менялись продажи по платформам?</a></span></li><li><span><a href=\"#Определение-актуального-периода\" data-toc-modified-id=\"Определение-актуального-периода-5.3\"><span class=\"toc-item-num\">5.3&nbsp;&nbsp;</span>Определение актуального периода</a></span></li><li><span><a href=\"#Какие-платформы-лидируют-по-продажам,-растут-или-падают?\" data-toc-modified-id=\"Какие-платформы-лидируют-по-продажам,-растут-или-падают?-5.4\"><span class=\"toc-item-num\">5.4&nbsp;&nbsp;</span>Какие платформы лидируют по продажам, растут или падают?</a></span></li><li><span><a href=\"#«ящик-с-усами»-по-глобальным-продажам-игр-в-разбивке-по-платформам\" data-toc-modified-id=\"«ящик-с-усами»-по-глобальным-продажам-игр-в-разбивке-по-платформам-5.5\"><span class=\"toc-item-num\">5.5&nbsp;&nbsp;</span>«ящик с усами» по глобальным продажам игр в разбивке по платформам</a></span></li><li><span><a href=\"#Как-влияют-на-продажи-внутри-одной-популярной-платформы-отзывы-пользователей-и-критиков?\" data-toc-modified-id=\"Как-влияют-на-продажи-внутри-одной-популярной-платформы-отзывы-пользователей-и-критиков?-5.6\"><span class=\"toc-item-num\">5.6&nbsp;&nbsp;</span>Как влияют на продажи внутри одной популярной платформы отзывы пользователей и критиков?</a></span></li><li><span><a href=\"#Продажи-игр-на-других-платформах\" data-toc-modified-id=\"Продажи-игр-на-других-платформах-5.7\"><span class=\"toc-item-num\">5.7&nbsp;&nbsp;</span>Продажи игр на других платформах</a></span></li><li><span><a href=\"#Общее-распределение-игр-по-жанрам\" data-toc-modified-id=\"Общее-распределение-игр-по-жанрам-5.8\"><span class=\"toc-item-num\">5.8&nbsp;&nbsp;</span>Общее распределение игр по жанрам</a></span></li><li><span><a href=\"#Вывод\" data-toc-modified-id=\"Вывод-5.9\"><span class=\"toc-item-num\">5.9&nbsp;&nbsp;</span>Вывод</a></span></li></ul></li><li><span><a href=\"#Портрет-пользователя-каждого-региона\" data-toc-modified-id=\"Портрет-пользователя-каждого-региона-6\"><span class=\"toc-item-num\">6&nbsp;&nbsp;</span>Портрет пользователя каждого региона</a></span><ul class=\"toc-item\"><li><span><a href=\"#NA---Северная-Америка\" data-toc-modified-id=\"NA---Северная-Америка-6.1\"><span class=\"toc-item-num\">6.1&nbsp;&nbsp;</span>NA - Северная Америка</a></span><ul class=\"toc-item\"><li><span><a href=\"#Самые-популярные-платформы-(топ-5)\" data-toc-modified-id=\"Самые-популярные-платформы-(топ-5)-6.1.1\"><span class=\"toc-item-num\">6.1.1&nbsp;&nbsp;</span><i>Самые популярные платформы (топ-5)</i></a></span></li><li><span><a href=\"#Самые-популярные-жанры-(топ-5)\" data-toc-modified-id=\"Самые-популярные-жанры-(топ-5)-6.1.2\"><span class=\"toc-item-num\">6.1.2&nbsp;&nbsp;</span><i>Самые популярные жанры (топ-5)</i></a></span></li><li><span><a href=\"#Влияет-ли-рейтинг-ESRB-на-продажи?\" data-toc-modified-id=\"Влияет-ли-рейтинг-ESRB-на-продажи?-6.1.3\"><span class=\"toc-item-num\">6.1.3&nbsp;&nbsp;</span><i>Влияет ли рейтинг ESRB на продажи?</i></a></span></li><li><span><a href=\"#Вывод\" data-toc-modified-id=\"Вывод-6.1.4\"><span class=\"toc-item-num\">6.1.4&nbsp;&nbsp;</span><i>Вывод</i></a></span></li></ul></li><li><span><a href=\"#EU---Европа\" data-toc-modified-id=\"EU---Европа-6.2\"><span class=\"toc-item-num\">6.2&nbsp;&nbsp;</span>EU - Европа</a></span><ul class=\"toc-item\"><li><span><a href=\"#Самые-популярные-платформы-(топ-5)\" data-toc-modified-id=\"Самые-популярные-платформы-(топ-5)-6.2.1\"><span class=\"toc-item-num\">6.2.1&nbsp;&nbsp;</span><i>Самые популярные платформы (топ-5)</i></a></span></li><li><span><a href=\"#Самые-популярные-жанры-(топ-5)\" data-toc-modified-id=\"Самые-популярные-жанры-(топ-5)-6.2.2\"><span class=\"toc-item-num\">6.2.2&nbsp;&nbsp;</span><i>Самые популярные жанры (топ-5)</i></a></span></li><li><span><a href=\"#Влияет-ли-рейтинг-ESRB-на-продажи?\" data-toc-modified-id=\"Влияет-ли-рейтинг-ESRB-на-продажи?-6.2.3\"><span class=\"toc-item-num\">6.2.3&nbsp;&nbsp;</span><i>Влияет ли рейтинг ESRB на продажи?</i></a></span></li><li><span><a href=\"#Вывод\" data-toc-modified-id=\"Вывод-6.2.4\"><span class=\"toc-item-num\">6.2.4&nbsp;&nbsp;</span>Вывод</a></span></li></ul></li><li><span><a href=\"#JP---Япония\" data-toc-modified-id=\"JP---Япония-6.3\"><span class=\"toc-item-num\">6.3&nbsp;&nbsp;</span>JP - Япония</a></span><ul class=\"toc-item\"><li><span><a href=\"#Самые-популярные-платформы-(топ-5)\" data-toc-modified-id=\"Самые-популярные-платформы-(топ-5)-6.3.1\"><span class=\"toc-item-num\">6.3.1&nbsp;&nbsp;</span><i>Самые популярные платформы (топ-5)</i></a></span></li><li><span><a href=\"#Самые-популярные-жанры-(топ-5)\" data-toc-modified-id=\"Самые-популярные-жанры-(топ-5)-6.3.2\"><span class=\"toc-item-num\">6.3.2&nbsp;&nbsp;</span><i>Самые популярные жанры (топ-5)</i></a></span></li><li><span><a href=\"#Влияет-ли-рейтинг-ESRB-на-продажи?\" data-toc-modified-id=\"Влияет-ли-рейтинг-ESRB-на-продажи?-6.3.3\"><span class=\"toc-item-num\">6.3.3&nbsp;&nbsp;</span><i>Влияет ли рейтинг ESRB на продажи?</i></a></span></li></ul></li><li><span><a href=\"#Вывод\" data-toc-modified-id=\"Вывод-6.4\"><span class=\"toc-item-num\">6.4&nbsp;&nbsp;</span>Вывод</a></span></li></ul></li><li><span><a href=\"#Првоерка-гипотез\" data-toc-modified-id=\"Првоерка-гипотез-7\"><span class=\"toc-item-num\">7&nbsp;&nbsp;</span>Првоерка гипотез</a></span><ul class=\"toc-item\"><li><span><a href=\"#Средние-пользовательские-рейтинги-платформ-Xbox-One-и-PC-одинаковые\" data-toc-modified-id=\"Средние-пользовательские-рейтинги-платформ-Xbox-One-и-PC-одинаковые-7.1\"><span class=\"toc-item-num\">7.1&nbsp;&nbsp;</span>Средние пользовательские рейтинги платформ Xbox One и PC одинаковые</a></span></li><li><span><a href=\"#Средние-пользовательские-рейтинги-жанров-Action-(англ.-«действие»,-экшен-игры)-и-Sports-(англ.-«спортивные-соревнования»)-разные.\" data-toc-modified-id=\"Средние-пользовательские-рейтинги-жанров-Action-(англ.-«действие»,-экшен-игры)-и-Sports-(англ.-«спортивные-соревнования»)-разные.-7.2\"><span class=\"toc-item-num\">7.2&nbsp;&nbsp;</span>Средние пользовательские рейтинги жанров Action (англ. «действие», экшен-игры) и Sports (англ. «спортивные соревнования») разные.</a></span></li><li><span><a href=\"#Вывод\" data-toc-modified-id=\"Вывод-7.3\"><span class=\"toc-item-num\">7.3&nbsp;&nbsp;</span>Вывод</a></span></li></ul></li><li><span><a href=\"#Общий-вывод\" data-toc-modified-id=\"Общий-вывод-8\"><span class=\"toc-item-num\">8&nbsp;&nbsp;</span>Общий вывод</a></span></li></ul></div>"
   ]
  },
  {
   "cell_type": "markdown",
   "id": "c60fa26a",
   "metadata": {},
   "source": [
    "# Анализ продаж компьютерных игр в интернет-магазине «Стримчик»"
   ]
  },
  {
   "cell_type": "markdown",
   "id": "03b797c8",
   "metadata": {},
   "source": [
    "## Описание проекта"
   ]
  },
  {
   "cell_type": "markdown",
   "id": "695361c0",
   "metadata": {},
   "source": [
    "Интернет-магазин «Стримчик», который продаёт по всему миру компьютерные игры. <br>\n",
    "Из открытых источников доступны исторические данные о продажах игр, оценки пользователей и экспертов, жанры и платформы (например, Xbox или PlayStation).<br>\n",
    "Нужно выявить определяющие успешность игры закономерности. Это позволит сделать ставку на потенциально популярный продукт и спланировать рекламные кампании. У нас данные до 2016 года. Нужно отработать принцип работы с данными.<br>\n",
    "<br>\n",
    "В наборе данных попадается аббревиатура ESRB (Entertainment Software Rating Board) — это ассоциация, определяющая возрастной рейтинг компьютерных игр. ESRB оценивает игровой контент и присваивает ему подходящую возрастную категорию, например, «Для взрослых», «Для детей младшего возраста» или «Для подростков»."
   ]
  },
  {
   "cell_type": "markdown",
   "id": "c7d64519",
   "metadata": {},
   "source": [
    "1. Подготовка данных данные\n",
    "    1. Заменить названия столбцов\n",
    "    2. Преобразовать данные в нужные типы. \n",
    "    3. Обработать пропуски при необходимости\n",
    "    4. Посчитать суммарные продажи во всех регионах.\n",
    "2. Провести исследовательский анализ данных\n",
    "    1. Сколько игр выпускалось в разные годы. Важны ли данные за все периоды?\n",
    "    2. Как менялись продажи по платформам. За какой характерный срок появляются новые и исчезают старые платформы?\n",
    "    3. Определить актуальный период\n",
    "    4. Какие платформы лидируют по продажам, растут или падают?\n",
    "    5. «ящик с усами» по глобальным продажам игр в разбивке по платформам.\n",
    "    6. Как влияют на продажи внутри одной популярной платформы отзывы пользователей и критиков.\n",
    "    7. Соотнести выводы с продажами игр на других платформах.\n",
    "    8. Распределение игр по жанрам. Что можно сказать о самых прибыльных жанрах? Выделяются ли жанры с высокими и низкими продажами?\n",
    "3. Портрет пользователя каждого региона (NA, EU, JP):\n",
    "    1. Самые популярные платформы (топ-5). Опишите различия в долях продаж.\n",
    "    2. Самые популярные жанры (топ-5). Поясните разницу.\n",
    "    3. Влияет ли рейтинг ESRB на продажи в отдельном регионе?\n",
    "4. Проверить гипотезы\n",
    "    1. Средние пользовательские рейтинги платформ Xbox One и PC одинаковые;\n",
    "    2. Средние пользовательские рейтинги жанров Action (англ. «действие», экшен-игры) и Sports (англ. «спортивные соревнования») разные.\n",
    "5. Общий вывод"
   ]
  },
  {
   "cell_type": "markdown",
   "id": "3979d135",
   "metadata": {},
   "source": [
    "## Описание данных"
   ]
  },
  {
   "cell_type": "markdown",
   "id": "216aeb66",
   "metadata": {},
   "source": [
    "`Name` — название игры<br>\n",
    "`Platform` — платформа<br>\n",
    "`Year_of_Release` — год выпуска<br>\n",
    "`Genre` — жанр игры<br>\n",
    "`NA_sales` — продажи в Северной Америке (миллионы проданных копий)<br>\n",
    "`EU_sales` — продажи в Европе (миллионы проданных копий)<br>\n",
    "`JP_sales` — продажи в Японии (миллионы проданных копий)<br>\n",
    "`Other_sales` — продажи в других странах (миллионы проданных копий)<br>\n",
    "`Critic_Score` — оценка критиков (максимум 100)<br>\n",
    "`User_Score` — оценка пользователей (максимум 10)<br>\n",
    "`Rating` — рейтинг от организации ESRB (англ. Entertainment Software Rating Board). Эта ассоциация определяет рейтинг компьютерных игр и присваивает им подходящую возрастную категорию."
   ]
  },
  {
   "cell_type": "markdown",
   "id": "469533d5",
   "metadata": {},
   "source": [
    "## Общая информация о датасете"
   ]
  },
  {
   "cell_type": "code",
   "execution_count": 1,
   "id": "b8816669",
   "metadata": {},
   "outputs": [],
   "source": [
    "# Подклюение библиотек\n",
    "import pandas as pd\n",
    "import numpy as np\n",
    "import os\n",
    "from matplotlib import pyplot as plt\n",
    "from scipy import stats as st\n",
    "import random\n",
    "import seaborn as sns"
   ]
  },
  {
   "cell_type": "code",
   "execution_count": 2,
   "id": "6d200725",
   "metadata": {},
   "outputs": [],
   "source": [
    "# Чтение датасета\n",
    "try:\n",
    "    data = pd.read_csv('games.csv')\n",
    "except:\n",
    "    data = pd.read_csv('https://code.s3.yandex.net/datasets/games.csv')\n",
    "\n",
    "pd.set_option('display.max_columns', None)"
   ]
  },
  {
   "cell_type": "code",
   "execution_count": 3,
   "id": "3b905eb0",
   "metadata": {},
   "outputs": [],
   "source": [
    "data = pd.read_csv('https://code.s3.yandex.net/datasets/games.csv')"
   ]
  },
  {
   "cell_type": "code",
   "execution_count": 4,
   "id": "6e21beb8",
   "metadata": {},
   "outputs": [
    {
     "data": {
      "text/html": [
       "<div>\n",
       "<style scoped>\n",
       "    .dataframe tbody tr th:only-of-type {\n",
       "        vertical-align: middle;\n",
       "    }\n",
       "\n",
       "    .dataframe tbody tr th {\n",
       "        vertical-align: top;\n",
       "    }\n",
       "\n",
       "    .dataframe thead th {\n",
       "        text-align: right;\n",
       "    }\n",
       "</style>\n",
       "<table border=\"1\" class=\"dataframe\">\n",
       "  <thead>\n",
       "    <tr style=\"text-align: right;\">\n",
       "      <th></th>\n",
       "      <th>Name</th>\n",
       "      <th>Platform</th>\n",
       "      <th>Year_of_Release</th>\n",
       "      <th>Genre</th>\n",
       "      <th>NA_sales</th>\n",
       "      <th>EU_sales</th>\n",
       "      <th>JP_sales</th>\n",
       "      <th>Other_sales</th>\n",
       "      <th>Critic_Score</th>\n",
       "      <th>User_Score</th>\n",
       "      <th>Rating</th>\n",
       "    </tr>\n",
       "  </thead>\n",
       "  <tbody>\n",
       "    <tr>\n",
       "      <th>0</th>\n",
       "      <td>Wii Sports</td>\n",
       "      <td>Wii</td>\n",
       "      <td>2006.0</td>\n",
       "      <td>Sports</td>\n",
       "      <td>41.36</td>\n",
       "      <td>28.96</td>\n",
       "      <td>3.77</td>\n",
       "      <td>8.45</td>\n",
       "      <td>76.0</td>\n",
       "      <td>8</td>\n",
       "      <td>E</td>\n",
       "    </tr>\n",
       "    <tr>\n",
       "      <th>1</th>\n",
       "      <td>Super Mario Bros.</td>\n",
       "      <td>NES</td>\n",
       "      <td>1985.0</td>\n",
       "      <td>Platform</td>\n",
       "      <td>29.08</td>\n",
       "      <td>3.58</td>\n",
       "      <td>6.81</td>\n",
       "      <td>0.77</td>\n",
       "      <td>NaN</td>\n",
       "      <td>NaN</td>\n",
       "      <td>NaN</td>\n",
       "    </tr>\n",
       "    <tr>\n",
       "      <th>2</th>\n",
       "      <td>Mario Kart Wii</td>\n",
       "      <td>Wii</td>\n",
       "      <td>2008.0</td>\n",
       "      <td>Racing</td>\n",
       "      <td>15.68</td>\n",
       "      <td>12.76</td>\n",
       "      <td>3.79</td>\n",
       "      <td>3.29</td>\n",
       "      <td>82.0</td>\n",
       "      <td>8.3</td>\n",
       "      <td>E</td>\n",
       "    </tr>\n",
       "    <tr>\n",
       "      <th>3</th>\n",
       "      <td>Wii Sports Resort</td>\n",
       "      <td>Wii</td>\n",
       "      <td>2009.0</td>\n",
       "      <td>Sports</td>\n",
       "      <td>15.61</td>\n",
       "      <td>10.93</td>\n",
       "      <td>3.28</td>\n",
       "      <td>2.95</td>\n",
       "      <td>80.0</td>\n",
       "      <td>8</td>\n",
       "      <td>E</td>\n",
       "    </tr>\n",
       "    <tr>\n",
       "      <th>4</th>\n",
       "      <td>Pokemon Red/Pokemon Blue</td>\n",
       "      <td>GB</td>\n",
       "      <td>1996.0</td>\n",
       "      <td>Role-Playing</td>\n",
       "      <td>11.27</td>\n",
       "      <td>8.89</td>\n",
       "      <td>10.22</td>\n",
       "      <td>1.00</td>\n",
       "      <td>NaN</td>\n",
       "      <td>NaN</td>\n",
       "      <td>NaN</td>\n",
       "    </tr>\n",
       "    <tr>\n",
       "      <th>5</th>\n",
       "      <td>Tetris</td>\n",
       "      <td>GB</td>\n",
       "      <td>1989.0</td>\n",
       "      <td>Puzzle</td>\n",
       "      <td>23.20</td>\n",
       "      <td>2.26</td>\n",
       "      <td>4.22</td>\n",
       "      <td>0.58</td>\n",
       "      <td>NaN</td>\n",
       "      <td>NaN</td>\n",
       "      <td>NaN</td>\n",
       "    </tr>\n",
       "    <tr>\n",
       "      <th>6</th>\n",
       "      <td>New Super Mario Bros.</td>\n",
       "      <td>DS</td>\n",
       "      <td>2006.0</td>\n",
       "      <td>Platform</td>\n",
       "      <td>11.28</td>\n",
       "      <td>9.14</td>\n",
       "      <td>6.50</td>\n",
       "      <td>2.88</td>\n",
       "      <td>89.0</td>\n",
       "      <td>8.5</td>\n",
       "      <td>E</td>\n",
       "    </tr>\n",
       "    <tr>\n",
       "      <th>7</th>\n",
       "      <td>Wii Play</td>\n",
       "      <td>Wii</td>\n",
       "      <td>2006.0</td>\n",
       "      <td>Misc</td>\n",
       "      <td>13.96</td>\n",
       "      <td>9.18</td>\n",
       "      <td>2.93</td>\n",
       "      <td>2.84</td>\n",
       "      <td>58.0</td>\n",
       "      <td>6.6</td>\n",
       "      <td>E</td>\n",
       "    </tr>\n",
       "    <tr>\n",
       "      <th>8</th>\n",
       "      <td>New Super Mario Bros. Wii</td>\n",
       "      <td>Wii</td>\n",
       "      <td>2009.0</td>\n",
       "      <td>Platform</td>\n",
       "      <td>14.44</td>\n",
       "      <td>6.94</td>\n",
       "      <td>4.70</td>\n",
       "      <td>2.24</td>\n",
       "      <td>87.0</td>\n",
       "      <td>8.4</td>\n",
       "      <td>E</td>\n",
       "    </tr>\n",
       "    <tr>\n",
       "      <th>9</th>\n",
       "      <td>Duck Hunt</td>\n",
       "      <td>NES</td>\n",
       "      <td>1984.0</td>\n",
       "      <td>Shooter</td>\n",
       "      <td>26.93</td>\n",
       "      <td>0.63</td>\n",
       "      <td>0.28</td>\n",
       "      <td>0.47</td>\n",
       "      <td>NaN</td>\n",
       "      <td>NaN</td>\n",
       "      <td>NaN</td>\n",
       "    </tr>\n",
       "  </tbody>\n",
       "</table>\n",
       "</div>"
      ],
      "text/plain": [
       "                        Name Platform  Year_of_Release         Genre  \\\n",
       "0                 Wii Sports      Wii           2006.0        Sports   \n",
       "1          Super Mario Bros.      NES           1985.0      Platform   \n",
       "2             Mario Kart Wii      Wii           2008.0        Racing   \n",
       "3          Wii Sports Resort      Wii           2009.0        Sports   \n",
       "4   Pokemon Red/Pokemon Blue       GB           1996.0  Role-Playing   \n",
       "5                     Tetris       GB           1989.0        Puzzle   \n",
       "6      New Super Mario Bros.       DS           2006.0      Platform   \n",
       "7                   Wii Play      Wii           2006.0          Misc   \n",
       "8  New Super Mario Bros. Wii      Wii           2009.0      Platform   \n",
       "9                  Duck Hunt      NES           1984.0       Shooter   \n",
       "\n",
       "   NA_sales  EU_sales  JP_sales  Other_sales  Critic_Score User_Score Rating  \n",
       "0     41.36     28.96      3.77         8.45          76.0          8      E  \n",
       "1     29.08      3.58      6.81         0.77           NaN        NaN    NaN  \n",
       "2     15.68     12.76      3.79         3.29          82.0        8.3      E  \n",
       "3     15.61     10.93      3.28         2.95          80.0          8      E  \n",
       "4     11.27      8.89     10.22         1.00           NaN        NaN    NaN  \n",
       "5     23.20      2.26      4.22         0.58           NaN        NaN    NaN  \n",
       "6     11.28      9.14      6.50         2.88          89.0        8.5      E  \n",
       "7     13.96      9.18      2.93         2.84          58.0        6.6      E  \n",
       "8     14.44      6.94      4.70         2.24          87.0        8.4      E  \n",
       "9     26.93      0.63      0.28         0.47           NaN        NaN    NaN  "
      ]
     },
     "execution_count": 4,
     "metadata": {},
     "output_type": "execute_result"
    }
   ],
   "source": [
    "data.head(10)"
   ]
  },
  {
   "cell_type": "code",
   "execution_count": 5,
   "id": "16e00426",
   "metadata": {},
   "outputs": [
    {
     "name": "stdout",
     "output_type": "stream",
     "text": [
      "<class 'pandas.core.frame.DataFrame'>\n",
      "RangeIndex: 16715 entries, 0 to 16714\n",
      "Data columns (total 11 columns):\n",
      " #   Column           Non-Null Count  Dtype  \n",
      "---  ------           --------------  -----  \n",
      " 0   Name             16713 non-null  object \n",
      " 1   Platform         16715 non-null  object \n",
      " 2   Year_of_Release  16446 non-null  float64\n",
      " 3   Genre            16713 non-null  object \n",
      " 4   NA_sales         16715 non-null  float64\n",
      " 5   EU_sales         16715 non-null  float64\n",
      " 6   JP_sales         16715 non-null  float64\n",
      " 7   Other_sales      16715 non-null  float64\n",
      " 8   Critic_Score     8137 non-null   float64\n",
      " 9   User_Score       10014 non-null  object \n",
      " 10  Rating           9949 non-null   object \n",
      "dtypes: float64(6), object(5)\n",
      "memory usage: 1.4+ MB\n"
     ]
    }
   ],
   "source": [
    "data.info()"
   ]
  },
  {
   "cell_type": "markdown",
   "id": "dd3514df",
   "metadata": {},
   "source": [
    "Всего в датасете 16715 строк и 11 столбцов.<br>\n",
    "Пропуски имеют столбцы `Name`, `Year_of_Release`, `Genre`, `Critic_Score`, `User_Score`, `Rating`. Обработаем их на следующих этапах.<br>\n",
    "Типы данных в столбцах тоже в большенстве корректные. Стоит обратить внимание на `Year_of_Release`.<br>"
   ]
  },
  {
   "cell_type": "markdown",
   "id": "11f4a1a8",
   "metadata": {},
   "source": [
    "## Подготовка данных"
   ]
  },
  {
   "cell_type": "markdown",
   "id": "20c52d5b",
   "metadata": {},
   "source": [
    "### Названия столбцов"
   ]
  },
  {
   "cell_type": "markdown",
   "id": "455e5830",
   "metadata": {},
   "source": [
    "Названия столбцов лучше привести к нижнему регистру"
   ]
  },
  {
   "cell_type": "code",
   "execution_count": 6,
   "id": "d567e0bb",
   "metadata": {},
   "outputs": [],
   "source": [
    "data.columns = map(str.lower, data.columns)"
   ]
  },
  {
   "cell_type": "code",
   "execution_count": 7,
   "id": "4a0d4110",
   "metadata": {},
   "outputs": [
    {
     "data": {
      "text/plain": [
       "Index(['name', 'platform', 'year_of_release', 'genre', 'na_sales', 'eu_sales',\n",
       "       'jp_sales', 'other_sales', 'critic_score', 'user_score', 'rating'],\n",
       "      dtype='object')"
      ]
     },
     "execution_count": 7,
     "metadata": {},
     "output_type": "execute_result"
    }
   ],
   "source": [
    "# Посмотрим на наши столбцы после преобразования\n",
    "data.columns"
   ]
  },
  {
   "cell_type": "markdown",
   "id": "18200c60",
   "metadata": {},
   "source": [
    "Названия столбцов корректно приведены к нижнему регистру"
   ]
  },
  {
   "cell_type": "markdown",
   "id": "76322be9",
   "metadata": {},
   "source": [
    "### Типы данных в столбцах"
   ]
  },
  {
   "cell_type": "markdown",
   "id": "722ca9ee",
   "metadata": {},
   "source": [
    "Еще раз посмотрим на строки датафрейма и типы данных в столбцах"
   ]
  },
  {
   "cell_type": "code",
   "execution_count": 8,
   "id": "2fcd649b",
   "metadata": {},
   "outputs": [
    {
     "data": {
      "text/html": [
       "<div>\n",
       "<style scoped>\n",
       "    .dataframe tbody tr th:only-of-type {\n",
       "        vertical-align: middle;\n",
       "    }\n",
       "\n",
       "    .dataframe tbody tr th {\n",
       "        vertical-align: top;\n",
       "    }\n",
       "\n",
       "    .dataframe thead th {\n",
       "        text-align: right;\n",
       "    }\n",
       "</style>\n",
       "<table border=\"1\" class=\"dataframe\">\n",
       "  <thead>\n",
       "    <tr style=\"text-align: right;\">\n",
       "      <th></th>\n",
       "      <th>name</th>\n",
       "      <th>platform</th>\n",
       "      <th>year_of_release</th>\n",
       "      <th>genre</th>\n",
       "      <th>na_sales</th>\n",
       "      <th>eu_sales</th>\n",
       "      <th>jp_sales</th>\n",
       "      <th>other_sales</th>\n",
       "      <th>critic_score</th>\n",
       "      <th>user_score</th>\n",
       "      <th>rating</th>\n",
       "    </tr>\n",
       "  </thead>\n",
       "  <tbody>\n",
       "    <tr>\n",
       "      <th>0</th>\n",
       "      <td>Wii Sports</td>\n",
       "      <td>Wii</td>\n",
       "      <td>2006.0</td>\n",
       "      <td>Sports</td>\n",
       "      <td>41.36</td>\n",
       "      <td>28.96</td>\n",
       "      <td>3.77</td>\n",
       "      <td>8.45</td>\n",
       "      <td>76.0</td>\n",
       "      <td>8</td>\n",
       "      <td>E</td>\n",
       "    </tr>\n",
       "    <tr>\n",
       "      <th>1</th>\n",
       "      <td>Super Mario Bros.</td>\n",
       "      <td>NES</td>\n",
       "      <td>1985.0</td>\n",
       "      <td>Platform</td>\n",
       "      <td>29.08</td>\n",
       "      <td>3.58</td>\n",
       "      <td>6.81</td>\n",
       "      <td>0.77</td>\n",
       "      <td>NaN</td>\n",
       "      <td>NaN</td>\n",
       "      <td>NaN</td>\n",
       "    </tr>\n",
       "    <tr>\n",
       "      <th>2</th>\n",
       "      <td>Mario Kart Wii</td>\n",
       "      <td>Wii</td>\n",
       "      <td>2008.0</td>\n",
       "      <td>Racing</td>\n",
       "      <td>15.68</td>\n",
       "      <td>12.76</td>\n",
       "      <td>3.79</td>\n",
       "      <td>3.29</td>\n",
       "      <td>82.0</td>\n",
       "      <td>8.3</td>\n",
       "      <td>E</td>\n",
       "    </tr>\n",
       "    <tr>\n",
       "      <th>3</th>\n",
       "      <td>Wii Sports Resort</td>\n",
       "      <td>Wii</td>\n",
       "      <td>2009.0</td>\n",
       "      <td>Sports</td>\n",
       "      <td>15.61</td>\n",
       "      <td>10.93</td>\n",
       "      <td>3.28</td>\n",
       "      <td>2.95</td>\n",
       "      <td>80.0</td>\n",
       "      <td>8</td>\n",
       "      <td>E</td>\n",
       "    </tr>\n",
       "    <tr>\n",
       "      <th>4</th>\n",
       "      <td>Pokemon Red/Pokemon Blue</td>\n",
       "      <td>GB</td>\n",
       "      <td>1996.0</td>\n",
       "      <td>Role-Playing</td>\n",
       "      <td>11.27</td>\n",
       "      <td>8.89</td>\n",
       "      <td>10.22</td>\n",
       "      <td>1.00</td>\n",
       "      <td>NaN</td>\n",
       "      <td>NaN</td>\n",
       "      <td>NaN</td>\n",
       "    </tr>\n",
       "  </tbody>\n",
       "</table>\n",
       "</div>"
      ],
      "text/plain": [
       "                       name platform  year_of_release         genre  na_sales  \\\n",
       "0                Wii Sports      Wii           2006.0        Sports     41.36   \n",
       "1         Super Mario Bros.      NES           1985.0      Platform     29.08   \n",
       "2            Mario Kart Wii      Wii           2008.0        Racing     15.68   \n",
       "3         Wii Sports Resort      Wii           2009.0        Sports     15.61   \n",
       "4  Pokemon Red/Pokemon Blue       GB           1996.0  Role-Playing     11.27   \n",
       "\n",
       "   eu_sales  jp_sales  other_sales  critic_score user_score rating  \n",
       "0     28.96      3.77         8.45          76.0          8      E  \n",
       "1      3.58      6.81         0.77           NaN        NaN    NaN  \n",
       "2     12.76      3.79         3.29          82.0        8.3      E  \n",
       "3     10.93      3.28         2.95          80.0          8      E  \n",
       "4      8.89     10.22         1.00           NaN        NaN    NaN  "
      ]
     },
     "execution_count": 8,
     "metadata": {},
     "output_type": "execute_result"
    }
   ],
   "source": [
    "data.head()"
   ]
  },
  {
   "cell_type": "code",
   "execution_count": 9,
   "id": "87b2d897",
   "metadata": {},
   "outputs": [
    {
     "name": "stdout",
     "output_type": "stream",
     "text": [
      "<class 'pandas.core.frame.DataFrame'>\n",
      "RangeIndex: 16715 entries, 0 to 16714\n",
      "Data columns (total 11 columns):\n",
      " #   Column           Non-Null Count  Dtype  \n",
      "---  ------           --------------  -----  \n",
      " 0   name             16713 non-null  object \n",
      " 1   platform         16715 non-null  object \n",
      " 2   year_of_release  16446 non-null  float64\n",
      " 3   genre            16713 non-null  object \n",
      " 4   na_sales         16715 non-null  float64\n",
      " 5   eu_sales         16715 non-null  float64\n",
      " 6   jp_sales         16715 non-null  float64\n",
      " 7   other_sales      16715 non-null  float64\n",
      " 8   critic_score     8137 non-null   float64\n",
      " 9   user_score       10014 non-null  object \n",
      " 10  rating           9949 non-null   object \n",
      "dtypes: float64(6), object(5)\n",
      "memory usage: 1.4+ MB\n"
     ]
    }
   ],
   "source": [
    "data.info()"
   ]
  },
  {
   "cell_type": "markdown",
   "id": "bdf9808d",
   "metadata": {},
   "source": [
    "На первый взгляд кажется, что некорректный тип данных у столбцов `year_of_release` и `user_score`.<br>\n",
    "`year_of_release` можно было бы привести к типу int, так как год не может быть не целым. Но столбец имеет пропуски, поэтому тип данных все равно не изменится и будет float.<br>\n",
    "`users_score` имеет тип данных object, что странно. Там не должны содержаться строковые значения. Посмотрим"
   ]
  },
  {
   "cell_type": "code",
   "execution_count": 10,
   "id": "96a920e4",
   "metadata": {},
   "outputs": [
    {
     "data": {
      "text/plain": [
       "array(['8', nan, '8.3', '8.5', '6.6', '8.4', '8.6', '7.7', '6.3', '7.4',\n",
       "       '8.2', '9', '7.9', '8.1', '8.7', '7.1', '3.4', '5.3', '4.8', '3.2',\n",
       "       '8.9', '6.4', '7.8', '7.5', '2.6', '7.2', '9.2', '7', '7.3', '4.3',\n",
       "       '7.6', '5.7', '5', '9.1', '6.5', 'tbd', '8.8', '6.9', '9.4', '6.8',\n",
       "       '6.1', '6.7', '5.4', '4', '4.9', '4.5', '9.3', '6.2', '4.2', '6',\n",
       "       '3.7', '4.1', '5.8', '5.6', '5.5', '4.4', '4.6', '5.9', '3.9',\n",
       "       '3.1', '2.9', '5.2', '3.3', '4.7', '5.1', '3.5', '2.5', '1.9', '3',\n",
       "       '2.7', '2.2', '2', '9.5', '2.1', '3.6', '2.8', '1.8', '3.8', '0',\n",
       "       '1.6', '9.6', '2.4', '1.7', '1.1', '0.3', '1.5', '0.7', '1.2',\n",
       "       '2.3', '0.5', '1.3', '0.2', '0.6', '1.4', '0.9', '1', '9.7'],\n",
       "      dtype=object)"
      ]
     },
     "execution_count": 10,
     "metadata": {},
     "output_type": "execute_result"
    }
   ],
   "source": [
    "data['user_score'].unique()"
   ]
  },
  {
   "cell_type": "markdown",
   "id": "cfa23b3a",
   "metadata": {},
   "source": [
    "Посмотрим на строки с этим значением"
   ]
  },
  {
   "cell_type": "code",
   "execution_count": 11,
   "id": "1829a522",
   "metadata": {},
   "outputs": [
    {
     "data": {
      "text/html": [
       "<div>\n",
       "<style scoped>\n",
       "    .dataframe tbody tr th:only-of-type {\n",
       "        vertical-align: middle;\n",
       "    }\n",
       "\n",
       "    .dataframe tbody tr th {\n",
       "        vertical-align: top;\n",
       "    }\n",
       "\n",
       "    .dataframe thead th {\n",
       "        text-align: right;\n",
       "    }\n",
       "</style>\n",
       "<table border=\"1\" class=\"dataframe\">\n",
       "  <thead>\n",
       "    <tr style=\"text-align: right;\">\n",
       "      <th></th>\n",
       "      <th>name</th>\n",
       "      <th>platform</th>\n",
       "      <th>year_of_release</th>\n",
       "      <th>genre</th>\n",
       "      <th>na_sales</th>\n",
       "      <th>eu_sales</th>\n",
       "      <th>jp_sales</th>\n",
       "      <th>other_sales</th>\n",
       "      <th>critic_score</th>\n",
       "      <th>user_score</th>\n",
       "      <th>rating</th>\n",
       "    </tr>\n",
       "  </thead>\n",
       "  <tbody>\n",
       "    <tr>\n",
       "      <th>119</th>\n",
       "      <td>Zumba Fitness</td>\n",
       "      <td>Wii</td>\n",
       "      <td>2010.0</td>\n",
       "      <td>Sports</td>\n",
       "      <td>3.45</td>\n",
       "      <td>2.59</td>\n",
       "      <td>0.0</td>\n",
       "      <td>0.66</td>\n",
       "      <td>NaN</td>\n",
       "      <td>tbd</td>\n",
       "      <td>E</td>\n",
       "    </tr>\n",
       "    <tr>\n",
       "      <th>301</th>\n",
       "      <td>Namco Museum: 50th Anniversary</td>\n",
       "      <td>PS2</td>\n",
       "      <td>2005.0</td>\n",
       "      <td>Misc</td>\n",
       "      <td>2.08</td>\n",
       "      <td>1.35</td>\n",
       "      <td>0.0</td>\n",
       "      <td>0.54</td>\n",
       "      <td>61.0</td>\n",
       "      <td>tbd</td>\n",
       "      <td>E10+</td>\n",
       "    </tr>\n",
       "    <tr>\n",
       "      <th>520</th>\n",
       "      <td>Zumba Fitness 2</td>\n",
       "      <td>Wii</td>\n",
       "      <td>2011.0</td>\n",
       "      <td>Sports</td>\n",
       "      <td>1.51</td>\n",
       "      <td>1.03</td>\n",
       "      <td>0.0</td>\n",
       "      <td>0.27</td>\n",
       "      <td>NaN</td>\n",
       "      <td>tbd</td>\n",
       "      <td>T</td>\n",
       "    </tr>\n",
       "    <tr>\n",
       "      <th>645</th>\n",
       "      <td>uDraw Studio</td>\n",
       "      <td>Wii</td>\n",
       "      <td>2010.0</td>\n",
       "      <td>Misc</td>\n",
       "      <td>1.65</td>\n",
       "      <td>0.57</td>\n",
       "      <td>0.0</td>\n",
       "      <td>0.20</td>\n",
       "      <td>71.0</td>\n",
       "      <td>tbd</td>\n",
       "      <td>E</td>\n",
       "    </tr>\n",
       "    <tr>\n",
       "      <th>657</th>\n",
       "      <td>Frogger's Adventures: Temple of the Frog</td>\n",
       "      <td>GBA</td>\n",
       "      <td>NaN</td>\n",
       "      <td>Adventure</td>\n",
       "      <td>2.15</td>\n",
       "      <td>0.18</td>\n",
       "      <td>0.0</td>\n",
       "      <td>0.07</td>\n",
       "      <td>73.0</td>\n",
       "      <td>tbd</td>\n",
       "      <td>E</td>\n",
       "    </tr>\n",
       "    <tr>\n",
       "      <th>...</th>\n",
       "      <td>...</td>\n",
       "      <td>...</td>\n",
       "      <td>...</td>\n",
       "      <td>...</td>\n",
       "      <td>...</td>\n",
       "      <td>...</td>\n",
       "      <td>...</td>\n",
       "      <td>...</td>\n",
       "      <td>...</td>\n",
       "      <td>...</td>\n",
       "      <td>...</td>\n",
       "    </tr>\n",
       "    <tr>\n",
       "      <th>16695</th>\n",
       "      <td>Planet Monsters</td>\n",
       "      <td>GBA</td>\n",
       "      <td>2001.0</td>\n",
       "      <td>Action</td>\n",
       "      <td>0.01</td>\n",
       "      <td>0.00</td>\n",
       "      <td>0.0</td>\n",
       "      <td>0.00</td>\n",
       "      <td>67.0</td>\n",
       "      <td>tbd</td>\n",
       "      <td>E</td>\n",
       "    </tr>\n",
       "    <tr>\n",
       "      <th>16697</th>\n",
       "      <td>Bust-A-Move 3000</td>\n",
       "      <td>GC</td>\n",
       "      <td>2003.0</td>\n",
       "      <td>Puzzle</td>\n",
       "      <td>0.01</td>\n",
       "      <td>0.00</td>\n",
       "      <td>0.0</td>\n",
       "      <td>0.00</td>\n",
       "      <td>53.0</td>\n",
       "      <td>tbd</td>\n",
       "      <td>E</td>\n",
       "    </tr>\n",
       "    <tr>\n",
       "      <th>16698</th>\n",
       "      <td>Mega Brain Boost</td>\n",
       "      <td>DS</td>\n",
       "      <td>2008.0</td>\n",
       "      <td>Puzzle</td>\n",
       "      <td>0.01</td>\n",
       "      <td>0.00</td>\n",
       "      <td>0.0</td>\n",
       "      <td>0.00</td>\n",
       "      <td>48.0</td>\n",
       "      <td>tbd</td>\n",
       "      <td>E</td>\n",
       "    </tr>\n",
       "    <tr>\n",
       "      <th>16704</th>\n",
       "      <td>Plushees</td>\n",
       "      <td>DS</td>\n",
       "      <td>2008.0</td>\n",
       "      <td>Simulation</td>\n",
       "      <td>0.01</td>\n",
       "      <td>0.00</td>\n",
       "      <td>0.0</td>\n",
       "      <td>0.00</td>\n",
       "      <td>NaN</td>\n",
       "      <td>tbd</td>\n",
       "      <td>E</td>\n",
       "    </tr>\n",
       "    <tr>\n",
       "      <th>16706</th>\n",
       "      <td>Men in Black II: Alien Escape</td>\n",
       "      <td>GC</td>\n",
       "      <td>2003.0</td>\n",
       "      <td>Shooter</td>\n",
       "      <td>0.01</td>\n",
       "      <td>0.00</td>\n",
       "      <td>0.0</td>\n",
       "      <td>0.00</td>\n",
       "      <td>NaN</td>\n",
       "      <td>tbd</td>\n",
       "      <td>T</td>\n",
       "    </tr>\n",
       "  </tbody>\n",
       "</table>\n",
       "<p>2424 rows × 11 columns</p>\n",
       "</div>"
      ],
      "text/plain": [
       "                                           name platform  year_of_release  \\\n",
       "119                               Zumba Fitness      Wii           2010.0   \n",
       "301              Namco Museum: 50th Anniversary      PS2           2005.0   \n",
       "520                             Zumba Fitness 2      Wii           2011.0   \n",
       "645                                uDraw Studio      Wii           2010.0   \n",
       "657    Frogger's Adventures: Temple of the Frog      GBA              NaN   \n",
       "...                                         ...      ...              ...   \n",
       "16695                           Planet Monsters      GBA           2001.0   \n",
       "16697                          Bust-A-Move 3000       GC           2003.0   \n",
       "16698                          Mega Brain Boost       DS           2008.0   \n",
       "16704                                  Plushees       DS           2008.0   \n",
       "16706             Men in Black II: Alien Escape       GC           2003.0   \n",
       "\n",
       "            genre  na_sales  eu_sales  jp_sales  other_sales  critic_score  \\\n",
       "119        Sports      3.45      2.59       0.0         0.66           NaN   \n",
       "301          Misc      2.08      1.35       0.0         0.54          61.0   \n",
       "520        Sports      1.51      1.03       0.0         0.27           NaN   \n",
       "645          Misc      1.65      0.57       0.0         0.20          71.0   \n",
       "657     Adventure      2.15      0.18       0.0         0.07          73.0   \n",
       "...           ...       ...       ...       ...          ...           ...   \n",
       "16695      Action      0.01      0.00       0.0         0.00          67.0   \n",
       "16697      Puzzle      0.01      0.00       0.0         0.00          53.0   \n",
       "16698      Puzzle      0.01      0.00       0.0         0.00          48.0   \n",
       "16704  Simulation      0.01      0.00       0.0         0.00           NaN   \n",
       "16706     Shooter      0.01      0.00       0.0         0.00           NaN   \n",
       "\n",
       "      user_score rating  \n",
       "119          tbd      E  \n",
       "301          tbd   E10+  \n",
       "520          tbd      T  \n",
       "645          tbd      E  \n",
       "657          tbd      E  \n",
       "...          ...    ...  \n",
       "16695        tbd      E  \n",
       "16697        tbd      E  \n",
       "16698        tbd      E  \n",
       "16704        tbd      E  \n",
       "16706        tbd      T  \n",
       "\n",
       "[2424 rows x 11 columns]"
      ]
     },
     "execution_count": 11,
     "metadata": {},
     "output_type": "execute_result"
    }
   ],
   "source": [
    "data[data['user_score'] == 'tbd']"
   ]
  },
  {
   "cell_type": "markdown",
   "id": "8cf60116",
   "metadata": {},
   "source": [
    "tbd (анг. To Be Determined) -  значит \"Будет определен позже\". Сложно точно сказать от чего именно зависит такой рейтинг. Но раз рейтинга нет и корректно предсказать возможные значения невозможно. Поэтому, чтобы не искажать результаты исследования, будем считать, что 'tbd' - это пропуск."
   ]
  },
  {
   "cell_type": "code",
   "execution_count": 12,
   "id": "414eb098",
   "metadata": {},
   "outputs": [],
   "source": [
    "data['user_score'] = data['user_score'].replace('tbd', np.nan).astype('float64')"
   ]
  },
  {
   "cell_type": "code",
   "execution_count": 13,
   "id": "05e83b84",
   "metadata": {},
   "outputs": [
    {
     "data": {
      "text/plain": [
       "0"
      ]
     },
     "execution_count": 13,
     "metadata": {},
     "output_type": "execute_result"
    }
   ],
   "source": [
    "len(data[data['user_score'] == 'tbd'])"
   ]
  },
  {
   "cell_type": "code",
   "execution_count": 14,
   "id": "f6b77358",
   "metadata": {},
   "outputs": [
    {
     "name": "stdout",
     "output_type": "stream",
     "text": [
      "<class 'pandas.core.frame.DataFrame'>\n",
      "RangeIndex: 16715 entries, 0 to 16714\n",
      "Data columns (total 11 columns):\n",
      " #   Column           Non-Null Count  Dtype  \n",
      "---  ------           --------------  -----  \n",
      " 0   name             16713 non-null  object \n",
      " 1   platform         16715 non-null  object \n",
      " 2   year_of_release  16446 non-null  float64\n",
      " 3   genre            16713 non-null  object \n",
      " 4   na_sales         16715 non-null  float64\n",
      " 5   eu_sales         16715 non-null  float64\n",
      " 6   jp_sales         16715 non-null  float64\n",
      " 7   other_sales      16715 non-null  float64\n",
      " 8   critic_score     8137 non-null   float64\n",
      " 9   user_score       7590 non-null   float64\n",
      " 10  rating           9949 non-null   object \n",
      "dtypes: float64(7), object(4)\n",
      "memory usage: 1.4+ MB\n"
     ]
    }
   ],
   "source": [
    "data.info()"
   ]
  },
  {
   "cell_type": "markdown",
   "id": "d53b0436",
   "metadata": {},
   "source": [
    "Заменили типы данных в столбцах, где это было возможно:<br>\n",
    "`users_score` - теперь имеет тип данных float и к нему можно применять числовые методы"
   ]
  },
  {
   "cell_type": "markdown",
   "id": "4e69bc14",
   "metadata": {},
   "source": [
    "### Обработка пропусков"
   ]
  },
  {
   "cell_type": "markdown",
   "id": "1b186997",
   "metadata": {},
   "source": [
    "Посмотрим в каких столбцах сколько пропусков"
   ]
  },
  {
   "cell_type": "code",
   "execution_count": 15,
   "id": "e4f3f3dd",
   "metadata": {},
   "outputs": [
    {
     "data": {
      "text/plain": [
       "name                  2\n",
       "year_of_release     269\n",
       "genre                 2\n",
       "critic_score       8578\n",
       "user_score         9125\n",
       "rating             6766\n",
       "dtype: int64"
      ]
     },
     "execution_count": 15,
     "metadata": {},
     "output_type": "execute_result"
    }
   ],
   "source": [
    "data_na_cols = data.isna().sum()\n",
    "data_na_cols = data_na_cols[data_na_cols > 0]\n",
    "data_na_cols"
   ]
  },
  {
   "cell_type": "markdown",
   "id": "f75452ea",
   "metadata": {},
   "source": [
    "Теперь в процентном соотношении"
   ]
  },
  {
   "cell_type": "code",
   "execution_count": 16,
   "id": "c0171e86",
   "metadata": {},
   "outputs": [
    {
     "name": "stdout",
     "output_type": "stream",
     "text": [
      "Процент пропусков по столбцам:\n"
     ]
    },
    {
     "data": {
      "text/plain": [
       "name                0.01\n",
       "year_of_release     1.61\n",
       "genre               0.01\n",
       "critic_score       51.32\n",
       "user_score         54.59\n",
       "rating             40.48\n",
       "dtype: float64"
      ]
     },
     "execution_count": 16,
     "metadata": {},
     "output_type": "execute_result"
    }
   ],
   "source": [
    "print('Процент пропусков по столбцам:')\n",
    "na_part_arr = []\n",
    "for i in range(0, len(data_na_cols)):\n",
    "    na_part_arr.append(round((data_na_cols[i] / len(data) * 100), 2))\n",
    "\n",
    "data_na_parts = pd.Series(data=na_part_arr, index=data_na_cols.index)\n",
    "data_na_parts"
   ]
  },
  {
   "cell_type": "markdown",
   "id": "01a625c9",
   "metadata": {},
   "source": [
    "Для информативности визуализируем"
   ]
  },
  {
   "cell_type": "code",
   "execution_count": 17,
   "id": "b2eeeda9",
   "metadata": {},
   "outputs": [
    {
     "data": {
      "image/png": "[encoded data removed]",
      "text/plain": [
       "<Figure size 864x360 with 2 Axes>"
      ]
     },
     "metadata": {
      "needs_background": "light"
     },
     "output_type": "display_data"
    }
   ],
   "source": [
    "plt.figure(figsize=(12, 5))\n",
    "\n",
    "# Сначала по количеству\n",
    "plt.subplot(1, 2, 1)\n",
    "plt.title('График количества пропусков')\n",
    "plt.xlabel('Столбец')\n",
    "plt.ylabel('Количество')\n",
    "plt.xticks(rotation=45)\n",
    "plt.grid(True)\n",
    "plt.bar(data_na_cols.index, data_na_cols, ec='black')\n",
    "\n",
    "# Теперь по процентам\n",
    "plt.subplot(1, 2, 2)\n",
    "plt.title('График процента пропусков')\n",
    "plt.xlabel('Столбец')\n",
    "plt.ylabel('Процент')\n",
    "plt.xticks(rotation=45)\n",
    "plt.grid(True)\n",
    "plt.bar(data_na_parts.index, data_na_parts, ec='black', color='green')\n",
    "\n",
    "plt.show()"
   ]
  },
  {
   "cell_type": "markdown",
   "id": "6b86a0d6",
   "metadata": {},
   "source": [
    "Больше всего пропусков в столбце `user_score` = 54%<br>\n",
    "У `critic_score` 51%<br>\n",
    "40% у `rating`<br>\n",
    "Меньше всего пропусков у `year_of_release`, `name` и `genre` - 1.61% и по 0.01% соотвественно"
   ]
  },
  {
   "cell_type": "markdown",
   "id": "002969de",
   "metadata": {},
   "source": [
    "#### `critic_score`, `user_score` и `rating`"
   ]
  },
  {
   "cell_type": "markdown",
   "id": "547b6c0c",
   "metadata": {},
   "source": [
    "#### `year_of_release`, `name` и `genre`"
   ]
  },
  {
   "cell_type": "markdown",
   "id": "152422b4",
   "metadata": {},
   "source": [
    "Посмотрим на пропуски в этих столбцах"
   ]
  },
  {
   "cell_type": "code",
   "execution_count": 29,
   "id": "2cecb779",
   "metadata": {},
   "outputs": [
    {
     "data": {
      "text/html": [
       "<div>\n",
       "<style scoped>\n",
       "    .dataframe tbody tr th:only-of-type {\n",
       "        vertical-align: middle;\n",
       "    }\n",
       "\n",
       "    .dataframe tbody tr th {\n",
       "        vertical-align: top;\n",
       "    }\n",
       "\n",
       "    .dataframe thead th {\n",
       "        text-align: right;\n",
       "    }\n",
       "</style>\n",
       "<table border=\"1\" class=\"dataframe\">\n",
       "  <thead>\n",
       "    <tr style=\"text-align: right;\">\n",
       "      <th></th>\n",
       "      <th>name</th>\n",
       "      <th>platform</th>\n",
       "      <th>year_of_release</th>\n",
       "      <th>genre</th>\n",
       "      <th>na_sales</th>\n",
       "      <th>eu_sales</th>\n",
       "      <th>jp_sales</th>\n",
       "      <th>other_sales</th>\n",
       "      <th>critic_score</th>\n",
       "      <th>user_score</th>\n",
       "      <th>rating</th>\n",
       "    </tr>\n",
       "  </thead>\n",
       "  <tbody>\n",
       "    <tr>\n",
       "      <th>659</th>\n",
       "      <td>NaN</td>\n",
       "      <td>GEN</td>\n",
       "      <td>1993.0</td>\n",
       "      <td>NaN</td>\n",
       "      <td>1.78</td>\n",
       "      <td>0.53</td>\n",
       "      <td>0.00</td>\n",
       "      <td>0.08</td>\n",
       "      <td>NaN</td>\n",
       "      <td>NaN</td>\n",
       "      <td>NaN</td>\n",
       "    </tr>\n",
       "    <tr>\n",
       "      <th>14244</th>\n",
       "      <td>NaN</td>\n",
       "      <td>GEN</td>\n",
       "      <td>1993.0</td>\n",
       "      <td>NaN</td>\n",
       "      <td>0.00</td>\n",
       "      <td>0.00</td>\n",
       "      <td>0.03</td>\n",
       "      <td>0.00</td>\n",
       "      <td>NaN</td>\n",
       "      <td>NaN</td>\n",
       "      <td>NaN</td>\n",
       "    </tr>\n",
       "  </tbody>\n",
       "</table>\n",
       "</div>"
      ],
      "text/plain": [
       "      name platform  year_of_release genre  na_sales  eu_sales  jp_sales  \\\n",
       "659    NaN      GEN           1993.0   NaN      1.78      0.53      0.00   \n",
       "14244  NaN      GEN           1993.0   NaN      0.00      0.00      0.03   \n",
       "\n",
       "       other_sales  critic_score  user_score rating  \n",
       "659           0.08           NaN         NaN    NaN  \n",
       "14244         0.00           NaN         NaN    NaN  "
      ]
     },
     "execution_count": 29,
     "metadata": {},
     "output_type": "execute_result"
    }
   ],
   "source": [
    "data[data['name'].isna()]"
   ]
  },
  {
   "cell_type": "markdown",
   "id": "f9e466d4",
   "metadata": {},
   "source": [
    "Одним выстрелом - двух зайцев. Строки, где имеются пропуски в столбцах `name` и `genre` совпадают. Так как без названия игры, оценки критиков и юзеров данные не имеют смысла, то будет резонно их удалить. Предложить нормальный вариант заполнения здесь тоже не получится"
   ]
  },
  {
   "cell_type": "code",
   "execution_count": 30,
   "id": "948d5d06",
   "metadata": {},
   "outputs": [],
   "source": [
    "index = data[data['name'].isna()].index\n",
    "data = data.drop(index)"
   ]
  },
  {
   "cell_type": "code",
   "execution_count": 31,
   "id": "3d5aa2ca",
   "metadata": {},
   "outputs": [
    {
     "data": {
      "text/plain": [
       "0"
      ]
     },
     "execution_count": 31,
     "metadata": {},
     "output_type": "execute_result"
    }
   ],
   "source": [
    "data['name'].isna().sum()"
   ]
  },
  {
   "cell_type": "code",
   "execution_count": 32,
   "id": "b046d707",
   "metadata": {},
   "outputs": [
    {
     "data": {
      "text/plain": [
       "0"
      ]
     },
     "execution_count": 32,
     "metadata": {},
     "output_type": "execute_result"
    }
   ],
   "source": [
    "data['genre'].isna().sum()"
   ]
  },
  {
   "cell_type": "markdown",
   "id": "8d6bc2ec",
   "metadata": {},
   "source": [
    "Пропуски в столбцах `name` и `genre` обработаны. Перейдем к `year_of_release`"
   ]
  },
  {
   "cell_type": "code",
   "execution_count": 33,
   "id": "27874f00",
   "metadata": {},
   "outputs": [
    {
     "data": {
      "text/html": [
       "<div>\n",
       "<style scoped>\n",
       "    .dataframe tbody tr th:only-of-type {\n",
       "        vertical-align: middle;\n",
       "    }\n",
       "\n",
       "    .dataframe tbody tr th {\n",
       "        vertical-align: top;\n",
       "    }\n",
       "\n",
       "    .dataframe thead th {\n",
       "        text-align: right;\n",
       "    }\n",
       "</style>\n",
       "<table border=\"1\" class=\"dataframe\">\n",
       "  <thead>\n",
       "    <tr style=\"text-align: right;\">\n",
       "      <th></th>\n",
       "      <th>name</th>\n",
       "      <th>platform</th>\n",
       "      <th>year_of_release</th>\n",
       "      <th>genre</th>\n",
       "      <th>na_sales</th>\n",
       "      <th>eu_sales</th>\n",
       "      <th>jp_sales</th>\n",
       "      <th>other_sales</th>\n",
       "      <th>critic_score</th>\n",
       "      <th>user_score</th>\n",
       "      <th>rating</th>\n",
       "    </tr>\n",
       "  </thead>\n",
       "  <tbody>\n",
       "    <tr>\n",
       "      <th>183</th>\n",
       "      <td>Madden NFL 2004</td>\n",
       "      <td>PS2</td>\n",
       "      <td>NaN</td>\n",
       "      <td>Sports</td>\n",
       "      <td>4.26</td>\n",
       "      <td>0.26</td>\n",
       "      <td>0.01</td>\n",
       "      <td>0.71</td>\n",
       "      <td>94.0</td>\n",
       "      <td>8.5</td>\n",
       "      <td>E</td>\n",
       "    </tr>\n",
       "    <tr>\n",
       "      <th>377</th>\n",
       "      <td>FIFA Soccer 2004</td>\n",
       "      <td>PS2</td>\n",
       "      <td>NaN</td>\n",
       "      <td>Sports</td>\n",
       "      <td>0.59</td>\n",
       "      <td>2.36</td>\n",
       "      <td>0.04</td>\n",
       "      <td>0.51</td>\n",
       "      <td>84.0</td>\n",
       "      <td>6.4</td>\n",
       "      <td>E</td>\n",
       "    </tr>\n",
       "    <tr>\n",
       "      <th>456</th>\n",
       "      <td>LEGO Batman: The Videogame</td>\n",
       "      <td>Wii</td>\n",
       "      <td>NaN</td>\n",
       "      <td>Action</td>\n",
       "      <td>1.80</td>\n",
       "      <td>0.97</td>\n",
       "      <td>0.00</td>\n",
       "      <td>0.29</td>\n",
       "      <td>74.0</td>\n",
       "      <td>7.9</td>\n",
       "      <td>E10+</td>\n",
       "    </tr>\n",
       "    <tr>\n",
       "      <th>475</th>\n",
       "      <td>wwe Smackdown vs. Raw 2006</td>\n",
       "      <td>PS2</td>\n",
       "      <td>NaN</td>\n",
       "      <td>Fighting</td>\n",
       "      <td>1.57</td>\n",
       "      <td>1.02</td>\n",
       "      <td>0.00</td>\n",
       "      <td>0.41</td>\n",
       "      <td>NaN</td>\n",
       "      <td>NaN</td>\n",
       "      <td>NaN</td>\n",
       "    </tr>\n",
       "    <tr>\n",
       "      <th>609</th>\n",
       "      <td>Space Invaders</td>\n",
       "      <td>2600</td>\n",
       "      <td>NaN</td>\n",
       "      <td>Shooter</td>\n",
       "      <td>2.36</td>\n",
       "      <td>0.14</td>\n",
       "      <td>0.00</td>\n",
       "      <td>0.03</td>\n",
       "      <td>NaN</td>\n",
       "      <td>NaN</td>\n",
       "      <td>NaN</td>\n",
       "    </tr>\n",
       "    <tr>\n",
       "      <th>...</th>\n",
       "      <td>...</td>\n",
       "      <td>...</td>\n",
       "      <td>...</td>\n",
       "      <td>...</td>\n",
       "      <td>...</td>\n",
       "      <td>...</td>\n",
       "      <td>...</td>\n",
       "      <td>...</td>\n",
       "      <td>...</td>\n",
       "      <td>...</td>\n",
       "      <td>...</td>\n",
       "    </tr>\n",
       "    <tr>\n",
       "      <th>16373</th>\n",
       "      <td>PDC World Championship Darts 2008</td>\n",
       "      <td>PSP</td>\n",
       "      <td>NaN</td>\n",
       "      <td>Sports</td>\n",
       "      <td>0.01</td>\n",
       "      <td>0.00</td>\n",
       "      <td>0.00</td>\n",
       "      <td>0.00</td>\n",
       "      <td>43.0</td>\n",
       "      <td>NaN</td>\n",
       "      <td>E10+</td>\n",
       "    </tr>\n",
       "    <tr>\n",
       "      <th>16405</th>\n",
       "      <td>Freaky Flyers</td>\n",
       "      <td>GC</td>\n",
       "      <td>NaN</td>\n",
       "      <td>Racing</td>\n",
       "      <td>0.01</td>\n",
       "      <td>0.00</td>\n",
       "      <td>0.00</td>\n",
       "      <td>0.00</td>\n",
       "      <td>69.0</td>\n",
       "      <td>6.5</td>\n",
       "      <td>T</td>\n",
       "    </tr>\n",
       "    <tr>\n",
       "      <th>16448</th>\n",
       "      <td>Inversion</td>\n",
       "      <td>PC</td>\n",
       "      <td>NaN</td>\n",
       "      <td>Shooter</td>\n",
       "      <td>0.01</td>\n",
       "      <td>0.00</td>\n",
       "      <td>0.00</td>\n",
       "      <td>0.00</td>\n",
       "      <td>59.0</td>\n",
       "      <td>6.7</td>\n",
       "      <td>M</td>\n",
       "    </tr>\n",
       "    <tr>\n",
       "      <th>16458</th>\n",
       "      <td>Hakuouki: Shinsengumi Kitan</td>\n",
       "      <td>PS3</td>\n",
       "      <td>NaN</td>\n",
       "      <td>Adventure</td>\n",
       "      <td>0.01</td>\n",
       "      <td>0.00</td>\n",
       "      <td>0.00</td>\n",
       "      <td>0.00</td>\n",
       "      <td>NaN</td>\n",
       "      <td>NaN</td>\n",
       "      <td>NaN</td>\n",
       "    </tr>\n",
       "    <tr>\n",
       "      <th>16522</th>\n",
       "      <td>Virtua Quest</td>\n",
       "      <td>GC</td>\n",
       "      <td>NaN</td>\n",
       "      <td>Role-Playing</td>\n",
       "      <td>0.01</td>\n",
       "      <td>0.00</td>\n",
       "      <td>0.00</td>\n",
       "      <td>0.00</td>\n",
       "      <td>55.0</td>\n",
       "      <td>5.5</td>\n",
       "      <td>T</td>\n",
       "    </tr>\n",
       "  </tbody>\n",
       "</table>\n",
       "<p>269 rows × 11 columns</p>\n",
       "</div>"
      ],
      "text/plain": [
       "                                    name platform  year_of_release  \\\n",
       "183                      Madden NFL 2004      PS2              NaN   \n",
       "377                     FIFA Soccer 2004      PS2              NaN   \n",
       "456           LEGO Batman: The Videogame      Wii              NaN   \n",
       "475           wwe Smackdown vs. Raw 2006      PS2              NaN   \n",
       "609                       Space Invaders     2600              NaN   \n",
       "...                                  ...      ...              ...   \n",
       "16373  PDC World Championship Darts 2008      PSP              NaN   \n",
       "16405                      Freaky Flyers       GC              NaN   \n",
       "16448                          Inversion       PC              NaN   \n",
       "16458        Hakuouki: Shinsengumi Kitan      PS3              NaN   \n",
       "16522                       Virtua Quest       GC              NaN   \n",
       "\n",
       "              genre  na_sales  eu_sales  jp_sales  other_sales  critic_score  \\\n",
       "183          Sports      4.26      0.26      0.01         0.71          94.0   \n",
       "377          Sports      0.59      2.36      0.04         0.51          84.0   \n",
       "456          Action      1.80      0.97      0.00         0.29          74.0   \n",
       "475        Fighting      1.57      1.02      0.00         0.41           NaN   \n",
       "609         Shooter      2.36      0.14      0.00         0.03           NaN   \n",
       "...             ...       ...       ...       ...          ...           ...   \n",
       "16373        Sports      0.01      0.00      0.00         0.00          43.0   \n",
       "16405        Racing      0.01      0.00      0.00         0.00          69.0   \n",
       "16448       Shooter      0.01      0.00      0.00         0.00          59.0   \n",
       "16458     Adventure      0.01      0.00      0.00         0.00           NaN   \n",
       "16522  Role-Playing      0.01      0.00      0.00         0.00          55.0   \n",
       "\n",
       "       user_score rating  \n",
       "183           8.5      E  \n",
       "377           6.4      E  \n",
       "456           7.9   E10+  \n",
       "475           NaN    NaN  \n",
       "609           NaN    NaN  \n",
       "...           ...    ...  \n",
       "16373         NaN   E10+  \n",
       "16405         6.5      T  \n",
       "16448         6.7      M  \n",
       "16458         NaN    NaN  \n",
       "16522         5.5      T  \n",
       "\n",
       "[269 rows x 11 columns]"
      ]
     },
     "execution_count": 33,
     "metadata": {},
     "output_type": "execute_result"
    }
   ],
   "source": [
    "data[data['year_of_release'].isna()]"
   ]
  },
  {
   "cell_type": "markdown",
   "id": "380e3447",
   "metadata": {},
   "source": [
    "Не будем трогать строки с пропусками в столбце \"Год выпуска\". Так как пропуски исследованию не мешают, а заполнить корректными значениями невозможно"
   ]
  },
  {
   "cell_type": "markdown",
   "id": "c4eb00dd",
   "metadata": {},
   "source": [
    "В столбцах `critic_score`, `user_score` и `rating` предложить корректный метод заполнения пропусков невозможно, поэтому оаставим как есть<br>\n",
    "Для остальных данных невозможно предложить корректную методику заполнения пропусков. Поэтому оставим их как есть.<br>\n",
    "Строки с пропусками в столбцах `name` и `genre` удалены. Они одинакавы и строка без названия игры, оценки критиков и юзеров не имеет смысла для исследования.<br>\n",
    "В столбце `year_of_release` пропуски оставили, как есть, так как исследованию они не мешают, а заполнить корректными значениями невозможно"
   ]
  },
  {
   "cell_type": "markdown",
   "id": "6d958642",
   "metadata": {},
   "source": [
    "### Сумма продаж по регионам"
   ]
  },
  {
   "cell_type": "code",
   "execution_count": 34,
   "id": "38fb5fbf",
   "metadata": {},
   "outputs": [],
   "source": [
    "data['all_sales'] = data['na_sales'] + data['eu_sales'] + data['jp_sales'] + data['other_sales']"
   ]
  },
  {
   "cell_type": "code",
   "execution_count": 35,
   "id": "4ef32049",
   "metadata": {},
   "outputs": [
    {
     "data": {
      "text/html": [
       "<div>\n",
       "<style scoped>\n",
       "    .dataframe tbody tr th:only-of-type {\n",
       "        vertical-align: middle;\n",
       "    }\n",
       "\n",
       "    .dataframe tbody tr th {\n",
       "        vertical-align: top;\n",
       "    }\n",
       "\n",
       "    .dataframe thead th {\n",
       "        text-align: right;\n",
       "    }\n",
       "</style>\n",
       "<table border=\"1\" class=\"dataframe\">\n",
       "  <thead>\n",
       "    <tr style=\"text-align: right;\">\n",
       "      <th></th>\n",
       "      <th>name</th>\n",
       "      <th>platform</th>\n",
       "      <th>year_of_release</th>\n",
       "      <th>genre</th>\n",
       "      <th>na_sales</th>\n",
       "      <th>eu_sales</th>\n",
       "      <th>jp_sales</th>\n",
       "      <th>other_sales</th>\n",
       "      <th>critic_score</th>\n",
       "      <th>user_score</th>\n",
       "      <th>rating</th>\n",
       "      <th>all_sales</th>\n",
       "    </tr>\n",
       "  </thead>\n",
       "  <tbody>\n",
       "    <tr>\n",
       "      <th>0</th>\n",
       "      <td>Wii Sports</td>\n",
       "      <td>Wii</td>\n",
       "      <td>2006.0</td>\n",
       "      <td>Sports</td>\n",
       "      <td>41.36</td>\n",
       "      <td>28.96</td>\n",
       "      <td>3.77</td>\n",
       "      <td>8.45</td>\n",
       "      <td>76.0</td>\n",
       "      <td>8.0</td>\n",
       "      <td>E</td>\n",
       "      <td>82.54</td>\n",
       "    </tr>\n",
       "    <tr>\n",
       "      <th>1</th>\n",
       "      <td>Super Mario Bros.</td>\n",
       "      <td>NES</td>\n",
       "      <td>1985.0</td>\n",
       "      <td>Platform</td>\n",
       "      <td>29.08</td>\n",
       "      <td>3.58</td>\n",
       "      <td>6.81</td>\n",
       "      <td>0.77</td>\n",
       "      <td>NaN</td>\n",
       "      <td>NaN</td>\n",
       "      <td>NaN</td>\n",
       "      <td>40.24</td>\n",
       "    </tr>\n",
       "    <tr>\n",
       "      <th>2</th>\n",
       "      <td>Mario Kart Wii</td>\n",
       "      <td>Wii</td>\n",
       "      <td>2008.0</td>\n",
       "      <td>Racing</td>\n",
       "      <td>15.68</td>\n",
       "      <td>12.76</td>\n",
       "      <td>3.79</td>\n",
       "      <td>3.29</td>\n",
       "      <td>82.0</td>\n",
       "      <td>8.3</td>\n",
       "      <td>E</td>\n",
       "      <td>35.52</td>\n",
       "    </tr>\n",
       "    <tr>\n",
       "      <th>3</th>\n",
       "      <td>Wii Sports Resort</td>\n",
       "      <td>Wii</td>\n",
       "      <td>2009.0</td>\n",
       "      <td>Sports</td>\n",
       "      <td>15.61</td>\n",
       "      <td>10.93</td>\n",
       "      <td>3.28</td>\n",
       "      <td>2.95</td>\n",
       "      <td>80.0</td>\n",
       "      <td>8.0</td>\n",
       "      <td>E</td>\n",
       "      <td>32.77</td>\n",
       "    </tr>\n",
       "    <tr>\n",
       "      <th>4</th>\n",
       "      <td>Pokemon Red/Pokemon Blue</td>\n",
       "      <td>GB</td>\n",
       "      <td>1996.0</td>\n",
       "      <td>Role-Playing</td>\n",
       "      <td>11.27</td>\n",
       "      <td>8.89</td>\n",
       "      <td>10.22</td>\n",
       "      <td>1.00</td>\n",
       "      <td>NaN</td>\n",
       "      <td>NaN</td>\n",
       "      <td>NaN</td>\n",
       "      <td>31.38</td>\n",
       "    </tr>\n",
       "  </tbody>\n",
       "</table>\n",
       "</div>"
      ],
      "text/plain": [
       "                       name platform  year_of_release         genre  na_sales  \\\n",
       "0                Wii Sports      Wii           2006.0        Sports     41.36   \n",
       "1         Super Mario Bros.      NES           1985.0      Platform     29.08   \n",
       "2            Mario Kart Wii      Wii           2008.0        Racing     15.68   \n",
       "3         Wii Sports Resort      Wii           2009.0        Sports     15.61   \n",
       "4  Pokemon Red/Pokemon Blue       GB           1996.0  Role-Playing     11.27   \n",
       "\n",
       "   eu_sales  jp_sales  other_sales  critic_score  user_score rating  all_sales  \n",
       "0     28.96      3.77         8.45          76.0         8.0      E      82.54  \n",
       "1      3.58      6.81         0.77           NaN         NaN    NaN      40.24  \n",
       "2     12.76      3.79         3.29          82.0         8.3      E      35.52  \n",
       "3     10.93      3.28         2.95          80.0         8.0      E      32.77  \n",
       "4      8.89     10.22         1.00           NaN         NaN    NaN      31.38  "
      ]
     },
     "execution_count": 35,
     "metadata": {},
     "output_type": "execute_result"
    }
   ],
   "source": [
    "data.head()"
   ]
  },
  {
   "cell_type": "markdown",
   "id": "335333c3",
   "metadata": {},
   "source": [
    "Столбец с суммой продаж по всем регионам добавлен успешно"
   ]
  },
  {
   "cell_type": "markdown",
   "id": "13f68726",
   "metadata": {},
   "source": [
    "### Аномалии"
   ]
  },
  {
   "cell_type": "markdown",
   "id": "cb758f9d",
   "metadata": {},
   "source": [
    "Посмотрим на распределения значений по числовым столбцам"
   ]
  },
  {
   "cell_type": "code",
   "execution_count": 36,
   "id": "66e6e01d",
   "metadata": {
    "scrolled": false
   },
   "outputs": [
    {
     "data": {
      "image/png": "[encoded data removed]",
      "text/plain": [
       "<Figure size 1080x504 with 8 Axes>"
      ]
     },
     "metadata": {
      "needs_background": "light"
     },
     "output_type": "display_data"
    }
   ],
   "source": [
    "count = 1\n",
    "plt.figure(figsize=(15,7))\n",
    "plt.suptitle('Графики распредеоений числовых значений в столбцах', fontweight='bold')\n",
    "for col in data.columns[[2,4,5,6,7,8,9,11]]:\n",
    "    plt.subplot(2, 4, count)\n",
    "    plt.title(col)\n",
    "    plt.xlabel(col)\n",
    "    plt.ylabel('Количество')\n",
    "    plt.grid(True, alpha=0.5)\n",
    "    plt.hist(data[col], ec='black')\n",
    "    count += 1\n",
    "\n",
    "plt.tight_layout()\n",
    "plt.show()"
   ]
  },
  {
   "cell_type": "markdown",
   "id": "4557b489",
   "metadata": {},
   "source": [
    "Если посмотреть на распределения числовых значений, каких-либо аномальных значений не наблюдается. Можно сказать, что графики выглядат ожидаемо"
   ]
  },
  {
   "cell_type": "markdown",
   "id": "63effffb",
   "metadata": {},
   "source": [
    "### Дубликаты"
   ]
  },
  {
   "cell_type": "code",
   "execution_count": 37,
   "id": "63a1f4fd",
   "metadata": {},
   "outputs": [
    {
     "data": {
      "text/plain": [
       "0"
      ]
     },
     "execution_count": 37,
     "metadata": {},
     "output_type": "execute_result"
    }
   ],
   "source": [
    "data.duplicated().sum()"
   ]
  },
  {
   "cell_type": "markdown",
   "id": "cf96d342",
   "metadata": {},
   "source": [
    "Полностью явных дубликатов тоже нет. Посмотрим есть ли дубликаты в столце `name`"
   ]
  },
  {
   "cell_type": "code",
   "execution_count": 38,
   "id": "ca38912f",
   "metadata": {},
   "outputs": [
    {
     "data": {
      "text/plain": [
       "0"
      ]
     },
     "execution_count": 38,
     "metadata": {},
     "output_type": "execute_result"
    }
   ],
   "source": [
    "data.groupby(by='name')['all_sales'].count().reset_index().duplicated(subset='name').sum()"
   ]
  },
  {
   "cell_type": "markdown",
   "id": "01af3a5e",
   "metadata": {},
   "source": [
    "Явных дубликаторв в столбце с названиями игр тоже нет"
   ]
  },
  {
   "cell_type": "markdown",
   "id": "bbceb7e3",
   "metadata": {},
   "source": [
    "Посмотрим на неявные дубликаты."
   ]
  },
  {
   "cell_type": "code",
   "execution_count": 39,
   "id": "97626f85",
   "metadata": {
    "scrolled": true
   },
   "outputs": [
    {
     "data": {
      "text/html": [
       "<div>\n",
       "<style scoped>\n",
       "    .dataframe tbody tr th:only-of-type {\n",
       "        vertical-align: middle;\n",
       "    }\n",
       "\n",
       "    .dataframe tbody tr th {\n",
       "        vertical-align: top;\n",
       "    }\n",
       "\n",
       "    .dataframe thead th {\n",
       "        text-align: right;\n",
       "    }\n",
       "</style>\n",
       "<table border=\"1\" class=\"dataframe\">\n",
       "  <thead>\n",
       "    <tr style=\"text-align: right;\">\n",
       "      <th></th>\n",
       "      <th>name</th>\n",
       "      <th>platform</th>\n",
       "      <th>year_of_release</th>\n",
       "      <th>genre</th>\n",
       "      <th>na_sales</th>\n",
       "      <th>eu_sales</th>\n",
       "      <th>jp_sales</th>\n",
       "      <th>other_sales</th>\n",
       "      <th>critic_score</th>\n",
       "      <th>user_score</th>\n",
       "      <th>rating</th>\n",
       "      <th>all_sales</th>\n",
       "    </tr>\n",
       "  </thead>\n",
       "  <tbody>\n",
       "    <tr>\n",
       "      <th>16230</th>\n",
       "      <td>Madden NFL 13</td>\n",
       "      <td>PS3</td>\n",
       "      <td>2012.0</td>\n",
       "      <td>Sports</td>\n",
       "      <td>0.0</td>\n",
       "      <td>0.01</td>\n",
       "      <td>0.0</td>\n",
       "      <td>0.0</td>\n",
       "      <td>83.0</td>\n",
       "      <td>5.5</td>\n",
       "      <td>E</td>\n",
       "      <td>0.01</td>\n",
       "    </tr>\n",
       "  </tbody>\n",
       "</table>\n",
       "</div>"
      ],
      "text/plain": [
       "                name platform  year_of_release   genre  na_sales  eu_sales  \\\n",
       "16230  Madden NFL 13      PS3           2012.0  Sports       0.0      0.01   \n",
       "\n",
       "       jp_sales  other_sales  critic_score  user_score rating  all_sales  \n",
       "16230       0.0          0.0          83.0         5.5      E       0.01  "
      ]
     },
     "execution_count": 39,
     "metadata": {},
     "output_type": "execute_result"
    }
   ],
   "source": [
    "data.loc[data.duplicated(subset=['name', 'platform', 'year_of_release'])]"
   ]
  },
  {
   "cell_type": "code",
   "execution_count": 40,
   "id": "b2e3cfa1",
   "metadata": {},
   "outputs": [
    {
     "data": {
      "text/html": [
       "<div>\n",
       "<style scoped>\n",
       "    .dataframe tbody tr th:only-of-type {\n",
       "        vertical-align: middle;\n",
       "    }\n",
       "\n",
       "    .dataframe tbody tr th {\n",
       "        vertical-align: top;\n",
       "    }\n",
       "\n",
       "    .dataframe thead th {\n",
       "        text-align: right;\n",
       "    }\n",
       "</style>\n",
       "<table border=\"1\" class=\"dataframe\">\n",
       "  <thead>\n",
       "    <tr style=\"text-align: right;\">\n",
       "      <th></th>\n",
       "      <th>name</th>\n",
       "      <th>platform</th>\n",
       "      <th>year_of_release</th>\n",
       "      <th>genre</th>\n",
       "      <th>na_sales</th>\n",
       "      <th>eu_sales</th>\n",
       "      <th>jp_sales</th>\n",
       "      <th>other_sales</th>\n",
       "      <th>critic_score</th>\n",
       "      <th>user_score</th>\n",
       "      <th>rating</th>\n",
       "      <th>all_sales</th>\n",
       "    </tr>\n",
       "  </thead>\n",
       "  <tbody>\n",
       "    <tr>\n",
       "      <th>507</th>\n",
       "      <td>Madden NFL 13</td>\n",
       "      <td>X360</td>\n",
       "      <td>2012.0</td>\n",
       "      <td>Sports</td>\n",
       "      <td>2.53</td>\n",
       "      <td>0.15</td>\n",
       "      <td>0.0</td>\n",
       "      <td>0.17</td>\n",
       "      <td>81.0</td>\n",
       "      <td>5.8</td>\n",
       "      <td>E</td>\n",
       "      <td>2.85</td>\n",
       "    </tr>\n",
       "    <tr>\n",
       "      <th>604</th>\n",
       "      <td>Madden NFL 13</td>\n",
       "      <td>PS3</td>\n",
       "      <td>2012.0</td>\n",
       "      <td>Sports</td>\n",
       "      <td>2.11</td>\n",
       "      <td>0.22</td>\n",
       "      <td>0.0</td>\n",
       "      <td>0.23</td>\n",
       "      <td>83.0</td>\n",
       "      <td>5.5</td>\n",
       "      <td>E</td>\n",
       "      <td>2.56</td>\n",
       "    </tr>\n",
       "    <tr>\n",
       "      <th>3986</th>\n",
       "      <td>Madden NFL 13</td>\n",
       "      <td>Wii</td>\n",
       "      <td>2012.0</td>\n",
       "      <td>Sports</td>\n",
       "      <td>0.47</td>\n",
       "      <td>0.00</td>\n",
       "      <td>0.0</td>\n",
       "      <td>0.03</td>\n",
       "      <td>NaN</td>\n",
       "      <td>7.3</td>\n",
       "      <td>E</td>\n",
       "      <td>0.50</td>\n",
       "    </tr>\n",
       "    <tr>\n",
       "      <th>5887</th>\n",
       "      <td>Madden NFL 13</td>\n",
       "      <td>PSV</td>\n",
       "      <td>2012.0</td>\n",
       "      <td>Sports</td>\n",
       "      <td>0.28</td>\n",
       "      <td>0.00</td>\n",
       "      <td>0.0</td>\n",
       "      <td>0.02</td>\n",
       "      <td>63.0</td>\n",
       "      <td>7.3</td>\n",
       "      <td>E</td>\n",
       "      <td>0.30</td>\n",
       "    </tr>\n",
       "    <tr>\n",
       "      <th>7066</th>\n",
       "      <td>Madden NFL 13</td>\n",
       "      <td>WiiU</td>\n",
       "      <td>2012.0</td>\n",
       "      <td>Sports</td>\n",
       "      <td>0.21</td>\n",
       "      <td>0.00</td>\n",
       "      <td>0.0</td>\n",
       "      <td>0.02</td>\n",
       "      <td>75.0</td>\n",
       "      <td>6.7</td>\n",
       "      <td>E</td>\n",
       "      <td>0.23</td>\n",
       "    </tr>\n",
       "    <tr>\n",
       "      <th>16230</th>\n",
       "      <td>Madden NFL 13</td>\n",
       "      <td>PS3</td>\n",
       "      <td>2012.0</td>\n",
       "      <td>Sports</td>\n",
       "      <td>0.00</td>\n",
       "      <td>0.01</td>\n",
       "      <td>0.0</td>\n",
       "      <td>0.00</td>\n",
       "      <td>83.0</td>\n",
       "      <td>5.5</td>\n",
       "      <td>E</td>\n",
       "      <td>0.01</td>\n",
       "    </tr>\n",
       "  </tbody>\n",
       "</table>\n",
       "</div>"
      ],
      "text/plain": [
       "                name platform  year_of_release   genre  na_sales  eu_sales  \\\n",
       "507    Madden NFL 13     X360           2012.0  Sports      2.53      0.15   \n",
       "604    Madden NFL 13      PS3           2012.0  Sports      2.11      0.22   \n",
       "3986   Madden NFL 13      Wii           2012.0  Sports      0.47      0.00   \n",
       "5887   Madden NFL 13      PSV           2012.0  Sports      0.28      0.00   \n",
       "7066   Madden NFL 13     WiiU           2012.0  Sports      0.21      0.00   \n",
       "16230  Madden NFL 13      PS3           2012.0  Sports      0.00      0.01   \n",
       "\n",
       "       jp_sales  other_sales  critic_score  user_score rating  all_sales  \n",
       "507         0.0         0.17          81.0         5.8      E       2.85  \n",
       "604         0.0         0.23          83.0         5.5      E       2.56  \n",
       "3986        0.0         0.03           NaN         7.3      E       0.50  \n",
       "5887        0.0         0.02          63.0         7.3      E       0.30  \n",
       "7066        0.0         0.02          75.0         6.7      E       0.23  \n",
       "16230       0.0         0.00          83.0         5.5      E       0.01  "
      ]
     },
     "execution_count": 40,
     "metadata": {},
     "output_type": "execute_result"
    }
   ],
   "source": [
    "data[data['name'] == 'Madden NFL 13']"
   ]
  },
  {
   "cell_type": "markdown",
   "id": "e6071b14",
   "metadata": {},
   "source": [
    "Видим, что у нас одинаковые строки с Madden NFL 13 для PS3 2012 года. Строка несет в себе информацию о продажах игры в Европе. Это 10000 продаж. Возможно информация по игре взята из другого источника. Дубликат удалим, а к продажам основной строки прибавим это число"
   ]
  },
  {
   "cell_type": "code",
   "execution_count": 41,
   "id": "d70544ae",
   "metadata": {},
   "outputs": [],
   "source": [
    "data.loc[604, ['eu_sales', 'all_sales']] = \\\n",
    "data.loc[604, ['eu_sales', 'all_sales']] + data.loc[16230, ['eu_sales', 'all_sales']]"
   ]
  },
  {
   "cell_type": "code",
   "execution_count": 42,
   "id": "7ff12955",
   "metadata": {},
   "outputs": [
    {
     "data": {
      "text/plain": [
       "name               0\n",
       "platform           0\n",
       "year_of_release    0\n",
       "genre              0\n",
       "na_sales           0\n",
       "eu_sales           0\n",
       "jp_sales           0\n",
       "other_sales        0\n",
       "critic_score       0\n",
       "user_score         0\n",
       "rating             0\n",
       "all_sales          0\n",
       "dtype: int64"
      ]
     },
     "execution_count": 42,
     "metadata": {},
     "output_type": "execute_result"
    }
   ],
   "source": [
    "data = data.drop_duplicates(subset=['name', 'platform', 'year_of_release'])\n",
    "data.loc[data.duplicated(subset=['name', 'platform', 'year_of_release'])].count()"
   ]
  },
  {
   "cell_type": "markdown",
   "id": "256e7203",
   "metadata": {},
   "source": [
    "### Вывод"
   ]
  },
  {
   "cell_type": "markdown",
   "id": "fea9e887",
   "metadata": {},
   "source": [
    "Была выполнена преобработка данных, а именно:\n",
    "1. Имена столбцов все приведены к стилю snake_case\n",
    "2. Изменен тип данных в столбце `user_score` на \"float\". Знанчения \"tbd\" изменены на пропуски\n",
    "3. Обработаны пропуски\n",
    "    1. Большая часть пропусков в столбцах `ctitic_score`, `user_score`, `rating` оставлены как есть. Так как предложить какой-либо более корректный способ их заполнения невозможно. Для ответа на вопросы, поставленные в задаче, имеющихся данных должно хватить. Другие способы заполнения могут исказить результаты. \n",
    "    2. Строки с пропусками в столбцах `name` и `genre` удалены.\n",
    "    3. Пропуски в столбце `year_of_release` оставлены как есть так как исследованию они не мешают, а заполнить корректными значениями невозможно\n",
    "4. Аномальных значений и дубликатов в датафрейме не обнаружено\n",
    "5. Добвлен столбце с суммой продаж по всем регионам\n",
    "6. Можно предположить, что данные собирались из множества открытых источников. Неизвестно, что это за источник, и какая информация в нем хранилась. Например источник мог просто не опубликавать какую то информацию об игре. Или, если этот датасет собирался из нескольких датасетов, то из-за не совсем корректного \"слияния\" некоторые данные могли \"потеряться\""
   ]
  },
  {
   "cell_type": "markdown",
   "id": "2c73be9b",
   "metadata": {},
   "source": [
    "## Исследовательский анализ данных"
   ]
  },
  {
   "cell_type": "markdown",
   "id": "959073b4",
   "metadata": {},
   "source": [
    "### Сколько игр выпускалось в разные года?"
   ]
  },
  {
   "cell_type": "code",
   "execution_count": 43,
   "id": "32fd2973",
   "metadata": {},
   "outputs": [
    {
     "data": {
      "text/html": [
       "<div>\n",
       "<style scoped>\n",
       "    .dataframe tbody tr th:only-of-type {\n",
       "        vertical-align: middle;\n",
       "    }\n",
       "\n",
       "    .dataframe tbody tr th {\n",
       "        vertical-align: top;\n",
       "    }\n",
       "\n",
       "    .dataframe thead th {\n",
       "        text-align: right;\n",
       "    }\n",
       "</style>\n",
       "<table border=\"1\" class=\"dataframe\">\n",
       "  <thead>\n",
       "    <tr style=\"text-align: right;\">\n",
       "      <th></th>\n",
       "      <th>name</th>\n",
       "      <th>year_of_release</th>\n",
       "      <th>all_sales</th>\n",
       "    </tr>\n",
       "  </thead>\n",
       "  <tbody>\n",
       "    <tr>\n",
       "      <th>0</th>\n",
       "      <td>Beyblade Burst</td>\n",
       "      <td>2016.0</td>\n",
       "      <td>1</td>\n",
       "    </tr>\n",
       "    <tr>\n",
       "      <th>1</th>\n",
       "      <td>Fire Emblem Fates</td>\n",
       "      <td>2015.0</td>\n",
       "      <td>1</td>\n",
       "    </tr>\n",
       "    <tr>\n",
       "      <th>2</th>\n",
       "      <td>Frozen: Olaf's Quest</td>\n",
       "      <td>2013.0</td>\n",
       "      <td>2</td>\n",
       "    </tr>\n",
       "    <tr>\n",
       "      <th>3</th>\n",
       "      <td>Haikyu!! Cross Team Match!</td>\n",
       "      <td>2016.0</td>\n",
       "      <td>1</td>\n",
       "    </tr>\n",
       "    <tr>\n",
       "      <th>4</th>\n",
       "      <td>Tales of Xillia 2</td>\n",
       "      <td>2012.0</td>\n",
       "      <td>1</td>\n",
       "    </tr>\n",
       "    <tr>\n",
       "      <th>...</th>\n",
       "      <td>...</td>\n",
       "      <td>...</td>\n",
       "      <td>...</td>\n",
       "    </tr>\n",
       "    <tr>\n",
       "      <th>12190</th>\n",
       "      <td>thinkSMART FAMILY!</td>\n",
       "      <td>2010.0</td>\n",
       "      <td>1</td>\n",
       "    </tr>\n",
       "    <tr>\n",
       "      <th>12191</th>\n",
       "      <td>thinkSMART: Chess for Kids</td>\n",
       "      <td>2011.0</td>\n",
       "      <td>1</td>\n",
       "    </tr>\n",
       "    <tr>\n",
       "      <th>12192</th>\n",
       "      <td>uDraw Studio</td>\n",
       "      <td>2010.0</td>\n",
       "      <td>1</td>\n",
       "    </tr>\n",
       "    <tr>\n",
       "      <th>12193</th>\n",
       "      <td>uDraw Studio: Instant Artist</td>\n",
       "      <td>2011.0</td>\n",
       "      <td>2</td>\n",
       "    </tr>\n",
       "    <tr>\n",
       "      <th>12194</th>\n",
       "      <td>¡Shin Chan Flipa en colores!</td>\n",
       "      <td>2007.0</td>\n",
       "      <td>1</td>\n",
       "    </tr>\n",
       "  </tbody>\n",
       "</table>\n",
       "<p>12195 rows × 3 columns</p>\n",
       "</div>"
      ],
      "text/plain": [
       "                               name  year_of_release  all_sales\n",
       "0                    Beyblade Burst           2016.0          1\n",
       "1                 Fire Emblem Fates           2015.0          1\n",
       "2              Frozen: Olaf's Quest           2013.0          2\n",
       "3        Haikyu!! Cross Team Match!           2016.0          1\n",
       "4                 Tales of Xillia 2           2012.0          1\n",
       "...                             ...              ...        ...\n",
       "12190            thinkSMART FAMILY!           2010.0          1\n",
       "12191    thinkSMART: Chess for Kids           2011.0          1\n",
       "12192                  uDraw Studio           2010.0          1\n",
       "12193  uDraw Studio: Instant Artist           2011.0          2\n",
       "12194  ¡Shin Chan Flipa en colores!           2007.0          1\n",
       "\n",
       "[12195 rows x 3 columns]"
      ]
     },
     "execution_count": 43,
     "metadata": {},
     "output_type": "execute_result"
    }
   ],
   "source": [
    "year_game_count = data.pivot_table(index=['name', 'year_of_release'], values='all_sales', aggfunc='count').reset_index()\n",
    "year_game_count"
   ]
  },
  {
   "cell_type": "code",
   "execution_count": 44,
   "id": "303a68d3",
   "metadata": {},
   "outputs": [
    {
     "data": {
      "text/html": [
       "<div>\n",
       "<style scoped>\n",
       "    .dataframe tbody tr th:only-of-type {\n",
       "        vertical-align: middle;\n",
       "    }\n",
       "\n",
       "    .dataframe tbody tr th {\n",
       "        vertical-align: top;\n",
       "    }\n",
       "\n",
       "    .dataframe thead th {\n",
       "        text-align: right;\n",
       "    }\n",
       "</style>\n",
       "<table border=\"1\" class=\"dataframe\">\n",
       "  <thead>\n",
       "    <tr style=\"text-align: right;\">\n",
       "      <th></th>\n",
       "      <th>year_of_release</th>\n",
       "      <th>name</th>\n",
       "    </tr>\n",
       "  </thead>\n",
       "  <tbody>\n",
       "    <tr>\n",
       "      <th>0</th>\n",
       "      <td>1980.0</td>\n",
       "      <td>9</td>\n",
       "    </tr>\n",
       "    <tr>\n",
       "      <th>1</th>\n",
       "      <td>1981.0</td>\n",
       "      <td>46</td>\n",
       "    </tr>\n",
       "    <tr>\n",
       "      <th>2</th>\n",
       "      <td>1982.0</td>\n",
       "      <td>36</td>\n",
       "    </tr>\n",
       "    <tr>\n",
       "      <th>3</th>\n",
       "      <td>1983.0</td>\n",
       "      <td>17</td>\n",
       "    </tr>\n",
       "    <tr>\n",
       "      <th>4</th>\n",
       "      <td>1984.0</td>\n",
       "      <td>14</td>\n",
       "    </tr>\n",
       "    <tr>\n",
       "      <th>5</th>\n",
       "      <td>1985.0</td>\n",
       "      <td>14</td>\n",
       "    </tr>\n",
       "    <tr>\n",
       "      <th>6</th>\n",
       "      <td>1986.0</td>\n",
       "      <td>21</td>\n",
       "    </tr>\n",
       "    <tr>\n",
       "      <th>7</th>\n",
       "      <td>1987.0</td>\n",
       "      <td>16</td>\n",
       "    </tr>\n",
       "    <tr>\n",
       "      <th>8</th>\n",
       "      <td>1988.0</td>\n",
       "      <td>15</td>\n",
       "    </tr>\n",
       "    <tr>\n",
       "      <th>9</th>\n",
       "      <td>1989.0</td>\n",
       "      <td>17</td>\n",
       "    </tr>\n",
       "    <tr>\n",
       "      <th>10</th>\n",
       "      <td>1990.0</td>\n",
       "      <td>16</td>\n",
       "    </tr>\n",
       "    <tr>\n",
       "      <th>11</th>\n",
       "      <td>1991.0</td>\n",
       "      <td>40</td>\n",
       "    </tr>\n",
       "    <tr>\n",
       "      <th>12</th>\n",
       "      <td>1992.0</td>\n",
       "      <td>41</td>\n",
       "    </tr>\n",
       "    <tr>\n",
       "      <th>13</th>\n",
       "      <td>1993.0</td>\n",
       "      <td>59</td>\n",
       "    </tr>\n",
       "    <tr>\n",
       "      <th>14</th>\n",
       "      <td>1994.0</td>\n",
       "      <td>117</td>\n",
       "    </tr>\n",
       "    <tr>\n",
       "      <th>15</th>\n",
       "      <td>1995.0</td>\n",
       "      <td>215</td>\n",
       "    </tr>\n",
       "    <tr>\n",
       "      <th>16</th>\n",
       "      <td>1996.0</td>\n",
       "      <td>258</td>\n",
       "    </tr>\n",
       "    <tr>\n",
       "      <th>17</th>\n",
       "      <td>1997.0</td>\n",
       "      <td>282</td>\n",
       "    </tr>\n",
       "    <tr>\n",
       "      <th>18</th>\n",
       "      <td>1998.0</td>\n",
       "      <td>364</td>\n",
       "    </tr>\n",
       "    <tr>\n",
       "      <th>19</th>\n",
       "      <td>1999.0</td>\n",
       "      <td>326</td>\n",
       "    </tr>\n",
       "    <tr>\n",
       "      <th>20</th>\n",
       "      <td>2000.0</td>\n",
       "      <td>325</td>\n",
       "    </tr>\n",
       "    <tr>\n",
       "      <th>21</th>\n",
       "      <td>2001.0</td>\n",
       "      <td>428</td>\n",
       "    </tr>\n",
       "    <tr>\n",
       "      <th>22</th>\n",
       "      <td>2002.0</td>\n",
       "      <td>631</td>\n",
       "    </tr>\n",
       "    <tr>\n",
       "      <th>23</th>\n",
       "      <td>2003.0</td>\n",
       "      <td>546</td>\n",
       "    </tr>\n",
       "    <tr>\n",
       "      <th>24</th>\n",
       "      <td>2004.0</td>\n",
       "      <td>550</td>\n",
       "    </tr>\n",
       "    <tr>\n",
       "      <th>25</th>\n",
       "      <td>2005.0</td>\n",
       "      <td>657</td>\n",
       "    </tr>\n",
       "    <tr>\n",
       "      <th>26</th>\n",
       "      <td>2006.0</td>\n",
       "      <td>773</td>\n",
       "    </tr>\n",
       "    <tr>\n",
       "      <th>27</th>\n",
       "      <td>2007.0</td>\n",
       "      <td>884</td>\n",
       "    </tr>\n",
       "    <tr>\n",
       "      <th>28</th>\n",
       "      <td>2008.0</td>\n",
       "      <td>1039</td>\n",
       "    </tr>\n",
       "    <tr>\n",
       "      <th>29</th>\n",
       "      <td>2009.0</td>\n",
       "      <td>1001</td>\n",
       "    </tr>\n",
       "    <tr>\n",
       "      <th>30</th>\n",
       "      <td>2010.0</td>\n",
       "      <td>900</td>\n",
       "    </tr>\n",
       "    <tr>\n",
       "      <th>31</th>\n",
       "      <td>2011.0</td>\n",
       "      <td>779</td>\n",
       "    </tr>\n",
       "    <tr>\n",
       "      <th>32</th>\n",
       "      <td>2012.0</td>\n",
       "      <td>446</td>\n",
       "    </tr>\n",
       "    <tr>\n",
       "      <th>33</th>\n",
       "      <td>2013.0</td>\n",
       "      <td>335</td>\n",
       "    </tr>\n",
       "    <tr>\n",
       "      <th>34</th>\n",
       "      <td>2014.0</td>\n",
       "      <td>319</td>\n",
       "    </tr>\n",
       "    <tr>\n",
       "      <th>35</th>\n",
       "      <td>2015.0</td>\n",
       "      <td>362</td>\n",
       "    </tr>\n",
       "    <tr>\n",
       "      <th>36</th>\n",
       "      <td>2016.0</td>\n",
       "      <td>297</td>\n",
       "    </tr>\n",
       "  </tbody>\n",
       "</table>\n",
       "</div>"
      ],
      "text/plain": [
       "    year_of_release  name\n",
       "0            1980.0     9\n",
       "1            1981.0    46\n",
       "2            1982.0    36\n",
       "3            1983.0    17\n",
       "4            1984.0    14\n",
       "5            1985.0    14\n",
       "6            1986.0    21\n",
       "7            1987.0    16\n",
       "8            1988.0    15\n",
       "9            1989.0    17\n",
       "10           1990.0    16\n",
       "11           1991.0    40\n",
       "12           1992.0    41\n",
       "13           1993.0    59\n",
       "14           1994.0   117\n",
       "15           1995.0   215\n",
       "16           1996.0   258\n",
       "17           1997.0   282\n",
       "18           1998.0   364\n",
       "19           1999.0   326\n",
       "20           2000.0   325\n",
       "21           2001.0   428\n",
       "22           2002.0   631\n",
       "23           2003.0   546\n",
       "24           2004.0   550\n",
       "25           2005.0   657\n",
       "26           2006.0   773\n",
       "27           2007.0   884\n",
       "28           2008.0  1039\n",
       "29           2009.0  1001\n",
       "30           2010.0   900\n",
       "31           2011.0   779\n",
       "32           2012.0   446\n",
       "33           2013.0   335\n",
       "34           2014.0   319\n",
       "35           2015.0   362\n",
       "36           2016.0   297"
      ]
     },
     "execution_count": 44,
     "metadata": {},
     "output_type": "execute_result"
    }
   ],
   "source": [
    "year_game_count = year_game_count.groupby(by='year_of_release')['name'].count()\n",
    "year_game_count = year_game_count.reset_index()\n",
    "year_game_count"
   ]
  },
  {
   "cell_type": "code",
   "execution_count": 45,
   "id": "f760894a",
   "metadata": {
    "scrolled": false
   },
   "outputs": [
    {
     "data": {
      "image/png": "[encoded data removed]",
      "text/plain": [
       "<Figure size 432x288 with 1 Axes>"
      ]
     },
     "metadata": {
      "needs_background": "light"
     },
     "output_type": "display_data"
    }
   ],
   "source": [
    "plt.title('Диаграмма количества игр по годам')\n",
    "plt.xlabel('Года')\n",
    "plt.ylabel('Количество')\n",
    "plt.grid(True)\n",
    "plt.bar(year_game_count['year_of_release'], year_game_count['name'], ec='black')\n",
    "plt.show()"
   ]
  },
  {
   "cell_type": "markdown",
   "id": "0d175af1",
   "metadata": {},
   "source": [
    "График смещен вправо. Основная масса игр продавалась с 2007 по 2010.<br>\n",
    "Меньше всего игр выпускалось с 1980 по 1994. Первый резкий пик произошел в 1995 году.<br>\n",
    "После 2008 года начался спад. В 2015 году игр вышло примерно столько же, сколько в 1998"
   ]
  },
  {
   "cell_type": "markdown",
   "id": "9cff60c5",
   "metadata": {},
   "source": [
    "###  Как менялись продажи по платформам?"
   ]
  },
  {
   "cell_type": "markdown",
   "id": "24c80a9a",
   "metadata": {},
   "source": [
    "Как менялись продажи по платформам. Выбрать платформы с наибольшими суммарными продажами и построить распределение по годам. За какой характерный срок появляются новые и исчезают старые платформы?"
   ]
  },
  {
   "cell_type": "code",
   "execution_count": 46,
   "id": "88502f41",
   "metadata": {},
   "outputs": [
    {
     "data": {
      "text/html": [
       "<div>\n",
       "<style scoped>\n",
       "    .dataframe tbody tr th:only-of-type {\n",
       "        vertical-align: middle;\n",
       "    }\n",
       "\n",
       "    .dataframe tbody tr th {\n",
       "        vertical-align: top;\n",
       "    }\n",
       "\n",
       "    .dataframe thead th {\n",
       "        text-align: right;\n",
       "    }\n",
       "</style>\n",
       "<table border=\"1\" class=\"dataframe\">\n",
       "  <thead>\n",
       "    <tr style=\"text-align: right;\">\n",
       "      <th></th>\n",
       "      <th>platform</th>\n",
       "      <th>year_of_release</th>\n",
       "      <th>all_sales</th>\n",
       "    </tr>\n",
       "  </thead>\n",
       "  <tbody>\n",
       "    <tr>\n",
       "      <th>0</th>\n",
       "      <td>2600</td>\n",
       "      <td>1980.0</td>\n",
       "      <td>11.38</td>\n",
       "    </tr>\n",
       "    <tr>\n",
       "      <th>1</th>\n",
       "      <td>2600</td>\n",
       "      <td>1981.0</td>\n",
       "      <td>35.68</td>\n",
       "    </tr>\n",
       "    <tr>\n",
       "      <th>2</th>\n",
       "      <td>2600</td>\n",
       "      <td>1982.0</td>\n",
       "      <td>28.88</td>\n",
       "    </tr>\n",
       "    <tr>\n",
       "      <th>3</th>\n",
       "      <td>2600</td>\n",
       "      <td>1983.0</td>\n",
       "      <td>5.84</td>\n",
       "    </tr>\n",
       "    <tr>\n",
       "      <th>4</th>\n",
       "      <td>2600</td>\n",
       "      <td>1984.0</td>\n",
       "      <td>0.27</td>\n",
       "    </tr>\n",
       "    <tr>\n",
       "      <th>...</th>\n",
       "      <td>...</td>\n",
       "      <td>...</td>\n",
       "      <td>...</td>\n",
       "    </tr>\n",
       "    <tr>\n",
       "      <th>233</th>\n",
       "      <td>XB</td>\n",
       "      <td>2008.0</td>\n",
       "      <td>0.18</td>\n",
       "    </tr>\n",
       "    <tr>\n",
       "      <th>234</th>\n",
       "      <td>XOne</td>\n",
       "      <td>2013.0</td>\n",
       "      <td>18.96</td>\n",
       "    </tr>\n",
       "    <tr>\n",
       "      <th>235</th>\n",
       "      <td>XOne</td>\n",
       "      <td>2014.0</td>\n",
       "      <td>54.07</td>\n",
       "    </tr>\n",
       "    <tr>\n",
       "      <th>236</th>\n",
       "      <td>XOne</td>\n",
       "      <td>2015.0</td>\n",
       "      <td>60.14</td>\n",
       "    </tr>\n",
       "    <tr>\n",
       "      <th>237</th>\n",
       "      <td>XOne</td>\n",
       "      <td>2016.0</td>\n",
       "      <td>26.15</td>\n",
       "    </tr>\n",
       "  </tbody>\n",
       "</table>\n",
       "<p>238 rows × 3 columns</p>\n",
       "</div>"
      ],
      "text/plain": [
       "    platform  year_of_release  all_sales\n",
       "0       2600           1980.0      11.38\n",
       "1       2600           1981.0      35.68\n",
       "2       2600           1982.0      28.88\n",
       "3       2600           1983.0       5.84\n",
       "4       2600           1984.0       0.27\n",
       "..       ...              ...        ...\n",
       "233       XB           2008.0       0.18\n",
       "234     XOne           2013.0      18.96\n",
       "235     XOne           2014.0      54.07\n",
       "236     XOne           2015.0      60.14\n",
       "237     XOne           2016.0      26.15\n",
       "\n",
       "[238 rows x 3 columns]"
      ]
     },
     "execution_count": 46,
     "metadata": {},
     "output_type": "execute_result"
    }
   ],
   "source": [
    "platforms = data.pivot_table(index=['platform', 'year_of_release'], values='all_sales', aggfunc='sum').reset_index()\n",
    "platforms"
   ]
  },
  {
   "cell_type": "code",
   "execution_count": 47,
   "id": "99c0588a",
   "metadata": {},
   "outputs": [
    {
     "data": {
      "text/plain": [
       "array(['2600', '3DO', '3DS', 'DC', 'DS', 'GB', 'GBA', 'GC', 'GEN', 'GG',\n",
       "       'N64', 'NES', 'NG', 'PC', 'PCFX', 'PS', 'PS2', 'PS3', 'PS4', 'PSP',\n",
       "       'PSV', 'SAT', 'SCD', 'SNES', 'TG16', 'WS', 'Wii', 'WiiU', 'X360',\n",
       "       'XB', 'XOne'], dtype=object)"
      ]
     },
     "execution_count": 47,
     "metadata": {},
     "output_type": "execute_result"
    }
   ],
   "source": [
    "platforms['platform'].unique()"
   ]
  },
  {
   "cell_type": "code",
   "execution_count": 48,
   "id": "0b3f094b",
   "metadata": {},
   "outputs": [
    {
     "data": {
      "text/html": [
       "<div>\n",
       "<style scoped>\n",
       "    .dataframe tbody tr th:only-of-type {\n",
       "        vertical-align: middle;\n",
       "    }\n",
       "\n",
       "    .dataframe tbody tr th {\n",
       "        vertical-align: top;\n",
       "    }\n",
       "\n",
       "    .dataframe thead th {\n",
       "        text-align: right;\n",
       "    }\n",
       "</style>\n",
       "<table border=\"1\" class=\"dataframe\">\n",
       "  <thead>\n",
       "    <tr style=\"text-align: right;\">\n",
       "      <th></th>\n",
       "      <th>platform</th>\n",
       "      <th>all_sales</th>\n",
       "    </tr>\n",
       "  </thead>\n",
       "  <tbody>\n",
       "    <tr>\n",
       "      <th>0</th>\n",
       "      <td>PCFX</td>\n",
       "      <td>0.03</td>\n",
       "    </tr>\n",
       "    <tr>\n",
       "      <th>1</th>\n",
       "      <td>GG</td>\n",
       "      <td>0.04</td>\n",
       "    </tr>\n",
       "    <tr>\n",
       "      <th>2</th>\n",
       "      <td>3DO</td>\n",
       "      <td>0.10</td>\n",
       "    </tr>\n",
       "    <tr>\n",
       "      <th>3</th>\n",
       "      <td>TG16</td>\n",
       "      <td>0.16</td>\n",
       "    </tr>\n",
       "    <tr>\n",
       "      <th>4</th>\n",
       "      <td>WS</td>\n",
       "      <td>1.42</td>\n",
       "    </tr>\n",
       "    <tr>\n",
       "      <th>5</th>\n",
       "      <td>NG</td>\n",
       "      <td>1.44</td>\n",
       "    </tr>\n",
       "    <tr>\n",
       "      <th>6</th>\n",
       "      <td>SCD</td>\n",
       "      <td>1.86</td>\n",
       "    </tr>\n",
       "    <tr>\n",
       "      <th>7</th>\n",
       "      <td>DC</td>\n",
       "      <td>15.95</td>\n",
       "    </tr>\n",
       "    <tr>\n",
       "      <th>8</th>\n",
       "      <td>GEN</td>\n",
       "      <td>28.35</td>\n",
       "    </tr>\n",
       "    <tr>\n",
       "      <th>9</th>\n",
       "      <td>SAT</td>\n",
       "      <td>33.59</td>\n",
       "    </tr>\n",
       "    <tr>\n",
       "      <th>10</th>\n",
       "      <td>PSV</td>\n",
       "      <td>53.81</td>\n",
       "    </tr>\n",
       "    <tr>\n",
       "      <th>11</th>\n",
       "      <td>WiiU</td>\n",
       "      <td>82.19</td>\n",
       "    </tr>\n",
       "    <tr>\n",
       "      <th>12</th>\n",
       "      <td>2600</td>\n",
       "      <td>86.48</td>\n",
       "    </tr>\n",
       "    <tr>\n",
       "      <th>13</th>\n",
       "      <td>XOne</td>\n",
       "      <td>159.32</td>\n",
       "    </tr>\n",
       "    <tr>\n",
       "      <th>14</th>\n",
       "      <td>GC</td>\n",
       "      <td>196.73</td>\n",
       "    </tr>\n",
       "    <tr>\n",
       "      <th>15</th>\n",
       "      <td>SNES</td>\n",
       "      <td>200.04</td>\n",
       "    </tr>\n",
       "    <tr>\n",
       "      <th>16</th>\n",
       "      <td>N64</td>\n",
       "      <td>218.01</td>\n",
       "    </tr>\n",
       "    <tr>\n",
       "      <th>17</th>\n",
       "      <td>NES</td>\n",
       "      <td>251.05</td>\n",
       "    </tr>\n",
       "    <tr>\n",
       "      <th>18</th>\n",
       "      <td>XB</td>\n",
       "      <td>251.57</td>\n",
       "    </tr>\n",
       "    <tr>\n",
       "      <th>19</th>\n",
       "      <td>GB</td>\n",
       "      <td>254.43</td>\n",
       "    </tr>\n",
       "    <tr>\n",
       "      <th>20</th>\n",
       "      <td>PC</td>\n",
       "      <td>255.76</td>\n",
       "    </tr>\n",
       "    <tr>\n",
       "      <th>21</th>\n",
       "      <td>3DS</td>\n",
       "      <td>257.81</td>\n",
       "    </tr>\n",
       "    <tr>\n",
       "      <th>22</th>\n",
       "      <td>PSP</td>\n",
       "      <td>289.53</td>\n",
       "    </tr>\n",
       "    <tr>\n",
       "      <th>23</th>\n",
       "      <td>GBA</td>\n",
       "      <td>312.88</td>\n",
       "    </tr>\n",
       "    <tr>\n",
       "      <th>24</th>\n",
       "      <td>PS4</td>\n",
       "      <td>314.14</td>\n",
       "    </tr>\n",
       "    <tr>\n",
       "      <th>25</th>\n",
       "      <td>PS</td>\n",
       "      <td>727.58</td>\n",
       "    </tr>\n",
       "    <tr>\n",
       "      <th>26</th>\n",
       "      <td>DS</td>\n",
       "      <td>802.78</td>\n",
       "    </tr>\n",
       "    <tr>\n",
       "      <th>27</th>\n",
       "      <td>Wii</td>\n",
       "      <td>891.18</td>\n",
       "    </tr>\n",
       "    <tr>\n",
       "      <th>28</th>\n",
       "      <td>PS3</td>\n",
       "      <td>931.34</td>\n",
       "    </tr>\n",
       "    <tr>\n",
       "      <th>29</th>\n",
       "      <td>X360</td>\n",
       "      <td>961.24</td>\n",
       "    </tr>\n",
       "    <tr>\n",
       "      <th>30</th>\n",
       "      <td>PS2</td>\n",
       "      <td>1233.56</td>\n",
       "    </tr>\n",
       "  </tbody>\n",
       "</table>\n",
       "</div>"
      ],
      "text/plain": [
       "   platform  all_sales\n",
       "0      PCFX       0.03\n",
       "1        GG       0.04\n",
       "2       3DO       0.10\n",
       "3      TG16       0.16\n",
       "4        WS       1.42\n",
       "5        NG       1.44\n",
       "6       SCD       1.86\n",
       "7        DC      15.95\n",
       "8       GEN      28.35\n",
       "9       SAT      33.59\n",
       "10      PSV      53.81\n",
       "11     WiiU      82.19\n",
       "12     2600      86.48\n",
       "13     XOne     159.32\n",
       "14       GC     196.73\n",
       "15     SNES     200.04\n",
       "16      N64     218.01\n",
       "17      NES     251.05\n",
       "18       XB     251.57\n",
       "19       GB     254.43\n",
       "20       PC     255.76\n",
       "21      3DS     257.81\n",
       "22      PSP     289.53\n",
       "23      GBA     312.88\n",
       "24      PS4     314.14\n",
       "25       PS     727.58\n",
       "26       DS     802.78\n",
       "27      Wii     891.18\n",
       "28      PS3     931.34\n",
       "29     X360     961.24\n",
       "30      PS2    1233.56"
      ]
     },
     "execution_count": 48,
     "metadata": {},
     "output_type": "execute_result"
    }
   ],
   "source": [
    "platforms_group = platforms.groupby(by='platform')['all_sales'].sum().reset_index()\n",
    "platforms_group = platforms_group.sort_values(by='all_sales').reset_index(drop=True)\n",
    "platforms_group"
   ]
  },
  {
   "cell_type": "code",
   "execution_count": 49,
   "id": "860ee4d3",
   "metadata": {},
   "outputs": [
    {
     "data": {
      "image/png": "[encoded data removed]",
      "text/plain": [
       "<Figure size 432x288 with 1 Axes>"
      ]
     },
     "metadata": {
      "needs_background": "light"
     },
     "output_type": "display_data"
    }
   ],
   "source": [
    "plt.title('График продаж по платформам')\n",
    "plt.ylabel('Количество продаж')\n",
    "plt.xlabel('Название платформы')\n",
    "plt.grid(True, alpha=0.5)\n",
    "plt.bar(platforms_group['platform'], platforms_group['all_sales'], ec='black')\n",
    "plt.xticks(rotation=90)\n",
    "plt.show()"
   ]
  },
  {
   "cell_type": "markdown",
   "id": "5dcd4e56",
   "metadata": {},
   "source": [
    "Для ответа на вопрос \"За какой характерный срок появляются новые и исчезают старые платформы?\" возьмем платформы, начиная с XOne. Так как лучше захватить не одно поколоние консоли. А также нельзя пропускать такие знаковые платформы, как PC, PS4, XB"
   ]
  },
  {
   "cell_type": "code",
   "execution_count": 50,
   "id": "7548b06f",
   "metadata": {},
   "outputs": [],
   "source": [
    "platforms_group = platforms_group[platforms_group['all_sales'] > 150]"
   ]
  },
  {
   "cell_type": "code",
   "execution_count": 51,
   "id": "c96dd9ca",
   "metadata": {},
   "outputs": [
    {
     "data": {
      "image/png": "[encoded data removed]",
      "text/plain": [
       "<Figure size 432x288 with 1 Axes>"
      ]
     },
     "metadata": {
      "needs_background": "light"
     },
     "output_type": "display_data"
    }
   ],
   "source": [
    "plt.title('График продаж по платформам с наибольшими продажами')\n",
    "plt.ylabel('Количество продаж')\n",
    "plt.xlabel('Название платформы')\n",
    "plt.bar(platforms_group['platform'], platforms_group['all_sales'], ec='black')\n",
    "plt.grid(True, alpha=0.5)\n",
    "plt.xticks(rotation=90)\n",
    "plt.show()"
   ]
  },
  {
   "cell_type": "markdown",
   "id": "982da436",
   "metadata": {},
   "source": [
    "Самая популярная платформа - PlayStation 2 с сумарными продажами более 1.2 млрд.<br>\n",
    "Далее идут консоли одного поколения, но конкурирующих брендов PlayStation 3 и Xbox360. Можно сказать, что пользователи плюс-минус одинаково предпочитают конкрурирующие платформы этого поколения.<br>\n",
    "Меньше всего продаж имеют устаревшие, портативные и консоли нового поколения"
   ]
  },
  {
   "cell_type": "markdown",
   "id": "67cbed95",
   "metadata": {},
   "source": [
    "Построим распределение по годам"
   ]
  },
  {
   "cell_type": "code",
   "execution_count": 52,
   "id": "9d3ebb27",
   "metadata": {
    "scrolled": false
   },
   "outputs": [
    {
     "data": {
      "text/plain": [
       "array(['NES', 'DS', 'PC', 'GB', 'SNES', 'PS', 'N64', 'XB', 'PS2', 'GBA',\n",
       "       'GC', 'PSP', 'X360', 'PS3', 'Wii', '3DS', 'XOne', 'PS4'],\n",
       "      dtype=object)"
      ]
     },
     "execution_count": 52,
     "metadata": {},
     "output_type": "execute_result"
    }
   ],
   "source": [
    "platforms_big_names = platforms_group['platform'].unique()\n",
    "platforms_biggest = platforms.query('platform.isin(@platforms_big_names)').sort_values\\\n",
    "                                    (by='year_of_release').reset_index(drop=True)\n",
    "platforms_biggest['platform'].unique()"
   ]
  },
  {
   "cell_type": "code",
   "execution_count": 53,
   "id": "b7cde2f1",
   "metadata": {},
   "outputs": [
    {
     "data": {
      "image/png": "[encoded data removed]",
      "text/plain": [
       "<Figure size 720x720 with 18 Axes>"
      ]
     },
     "metadata": {
      "needs_background": "light"
     },
     "output_type": "display_data"
    }
   ],
   "source": [
    "plt.figure(figsize=(10, 10))\n",
    "count = 1\n",
    "plt.suptitle('Распределение продаж по годам для популярных платформ', fontweight='bold')\n",
    "for name in platforms_biggest['platform'].unique():\n",
    "    plt.subplot(5,4,count)\n",
    "    plot_table = platforms_biggest[platforms_biggest['platform'] == name]\n",
    "    plt.title(name)\n",
    "    plt.xlabel('Год')\n",
    "    plt.ylabel('Продажи')\n",
    "    plt.grid(True, alpha=0.5)\n",
    "    plt.bar(plot_table['year_of_release'], plot_table['all_sales'])\n",
    "    count += 1\n",
    "plt.tight_layout()\n",
    "plt.show()"
   ]
  },
  {
   "cell_type": "markdown",
   "id": "006700d5",
   "metadata": {},
   "source": [
    "Исходя из распределения продаж по годам для консолей с самыми большими продажами (мы взяли от 150 млн) можно заметить такую тендецнию: на старте выхода консоли она только набирает популярность. С каждым годом продажи игр для определенной консоли увеличиваются. Потом они достигают определенного пика и дальше идут на спад. Это можно объяснить простым устареванием консоли и ее технологий, и/или приходу на смену нового поколения. Разным платформам необходимо разное время, чтобы достичь пика, но чаще всего значения в диапазоне от 2 до 6 лет. Примерно такое же время нужно платформам, чтобы окончалтельно потерять популярность<br>\n",
    "Разберем на примере консолей Sony PlayStation. PS 1-го поколения вышла в 1994 году и для того, чтобы достичь пика ей понадобилось 4 года. Дальше интерес геймеров пошел на спад. И в скором времени вышло следующее поколоение консоли. PS2 вышла в 2000 году и на старте ее популярность была более, чем в 2 раза меньше популярности предыдщего поколения в этот год. Но уже в 2001 году все изменилось. Продажи игр на PS2 превысили 150 млн, в то время как продажи игр PS1 в этот год составили менее 50 млн.<br>\n",
    "Подобная тенденция характерна и для других консолей, например XBox.<br>\n",
    "Если посмотреть на другие платформы, то тендеция для них тоже характерна. Какое то время платформа набирает популярность, достигает пика, технологии устаревают, популярность идет на спад. "
   ]
  },
  {
   "cell_type": "markdown",
   "id": "97fafdde",
   "metadata": {},
   "source": [
    "### Определение актуального периода"
   ]
  },
  {
   "cell_type": "markdown",
   "id": "da201094",
   "metadata": {},
   "source": [
    "Посмотрим еще раз на распределение продаж по годам"
   ]
  },
  {
   "cell_type": "code",
   "execution_count": 54,
   "id": "482cf0eb",
   "metadata": {},
   "outputs": [
    {
     "data": {
      "image/png": "[encoded data removed]",
      "text/plain": [
       "<Figure size 432x288 with 1 Axes>"
      ]
     },
     "metadata": {
      "needs_background": "light"
     },
     "output_type": "display_data"
    }
   ],
   "source": [
    "plt.title('Диаграмма количества игр по годам')\n",
    "plt.xlabel('Год')\n",
    "plt.ylabel('Количество')\n",
    "plt.grid(True)\n",
    "plt.bar(year_game_count['year_of_release'], year_game_count['name'], ec='black')\n",
    "plt.show()"
   ]
  },
  {
   "cell_type": "markdown",
   "id": "f03933d4",
   "metadata": {},
   "source": [
    "Первый резкий пик мы наблюдаем в 1995 году. После него идет плавное увеличение. Весь график достигает своего пика в 2008 году. В этот год было продано более миллиарда игр. Но после этого график снова идет на спад. Следующий резкий спад наблюдаем в 2012 году. Это время как раз на пороге нового поколения консолей.<br>\n",
    "Как мы помним из предыдущего вывода, платформы набирают и теряют свою популярность в течение 2-6 лет. Для прогнозирования возьмем период в 3 года, начиная с 2014."
   ]
  },
  {
   "cell_type": "code",
   "execution_count": 55,
   "id": "2b43c63b",
   "metadata": {},
   "outputs": [
    {
     "data": {
      "text/html": [
       "<div>\n",
       "<style scoped>\n",
       "    .dataframe tbody tr th:only-of-type {\n",
       "        vertical-align: middle;\n",
       "    }\n",
       "\n",
       "    .dataframe tbody tr th {\n",
       "        vertical-align: top;\n",
       "    }\n",
       "\n",
       "    .dataframe thead th {\n",
       "        text-align: right;\n",
       "    }\n",
       "</style>\n",
       "<table border=\"1\" class=\"dataframe\">\n",
       "  <thead>\n",
       "    <tr style=\"text-align: right;\">\n",
       "      <th></th>\n",
       "      <th>name</th>\n",
       "      <th>platform</th>\n",
       "      <th>year_of_release</th>\n",
       "      <th>genre</th>\n",
       "      <th>na_sales</th>\n",
       "      <th>eu_sales</th>\n",
       "      <th>jp_sales</th>\n",
       "      <th>other_sales</th>\n",
       "      <th>critic_score</th>\n",
       "      <th>user_score</th>\n",
       "      <th>rating</th>\n",
       "      <th>all_sales</th>\n",
       "    </tr>\n",
       "  </thead>\n",
       "  <tbody>\n",
       "    <tr>\n",
       "      <th>0</th>\n",
       "      <td>Call of Duty: Black Ops 3</td>\n",
       "      <td>PS4</td>\n",
       "      <td>2015.0</td>\n",
       "      <td>Shooter</td>\n",
       "      <td>6.03</td>\n",
       "      <td>5.86</td>\n",
       "      <td>0.36</td>\n",
       "      <td>2.38</td>\n",
       "      <td>NaN</td>\n",
       "      <td>NaN</td>\n",
       "      <td>NaN</td>\n",
       "      <td>14.63</td>\n",
       "    </tr>\n",
       "    <tr>\n",
       "      <th>1</th>\n",
       "      <td>Grand Theft Auto V</td>\n",
       "      <td>PS4</td>\n",
       "      <td>2014.0</td>\n",
       "      <td>Action</td>\n",
       "      <td>3.96</td>\n",
       "      <td>6.31</td>\n",
       "      <td>0.38</td>\n",
       "      <td>1.97</td>\n",
       "      <td>97.0</td>\n",
       "      <td>8.3</td>\n",
       "      <td>M</td>\n",
       "      <td>12.62</td>\n",
       "    </tr>\n",
       "    <tr>\n",
       "      <th>2</th>\n",
       "      <td>Pokemon Omega Ruby/Pokemon Alpha Sapphire</td>\n",
       "      <td>3DS</td>\n",
       "      <td>2014.0</td>\n",
       "      <td>Role-Playing</td>\n",
       "      <td>4.35</td>\n",
       "      <td>3.49</td>\n",
       "      <td>3.10</td>\n",
       "      <td>0.74</td>\n",
       "      <td>NaN</td>\n",
       "      <td>NaN</td>\n",
       "      <td>NaN</td>\n",
       "      <td>11.68</td>\n",
       "    </tr>\n",
       "    <tr>\n",
       "      <th>3</th>\n",
       "      <td>FIFA 16</td>\n",
       "      <td>PS4</td>\n",
       "      <td>2015.0</td>\n",
       "      <td>Sports</td>\n",
       "      <td>1.12</td>\n",
       "      <td>6.12</td>\n",
       "      <td>0.06</td>\n",
       "      <td>1.28</td>\n",
       "      <td>82.0</td>\n",
       "      <td>4.3</td>\n",
       "      <td>E</td>\n",
       "      <td>8.58</td>\n",
       "    </tr>\n",
       "    <tr>\n",
       "      <th>4</th>\n",
       "      <td>Star Wars Battlefront (2015)</td>\n",
       "      <td>PS4</td>\n",
       "      <td>2015.0</td>\n",
       "      <td>Shooter</td>\n",
       "      <td>2.99</td>\n",
       "      <td>3.49</td>\n",
       "      <td>0.22</td>\n",
       "      <td>1.28</td>\n",
       "      <td>NaN</td>\n",
       "      <td>NaN</td>\n",
       "      <td>NaN</td>\n",
       "      <td>7.98</td>\n",
       "    </tr>\n",
       "  </tbody>\n",
       "</table>\n",
       "</div>"
      ],
      "text/plain": [
       "                                        name platform  year_of_release  \\\n",
       "0                  Call of Duty: Black Ops 3      PS4           2015.0   \n",
       "1                         Grand Theft Auto V      PS4           2014.0   \n",
       "2  Pokemon Omega Ruby/Pokemon Alpha Sapphire      3DS           2014.0   \n",
       "3                                    FIFA 16      PS4           2015.0   \n",
       "4               Star Wars Battlefront (2015)      PS4           2015.0   \n",
       "\n",
       "          genre  na_sales  eu_sales  jp_sales  other_sales  critic_score  \\\n",
       "0       Shooter      6.03      5.86      0.36         2.38           NaN   \n",
       "1        Action      3.96      6.31      0.38         1.97          97.0   \n",
       "2  Role-Playing      4.35      3.49      3.10         0.74           NaN   \n",
       "3        Sports      1.12      6.12      0.06         1.28          82.0   \n",
       "4       Shooter      2.99      3.49      0.22         1.28           NaN   \n",
       "\n",
       "   user_score rating  all_sales  \n",
       "0         NaN    NaN      14.63  \n",
       "1         8.3      M      12.62  \n",
       "2         NaN    NaN      11.68  \n",
       "3         4.3      E       8.58  \n",
       "4         NaN    NaN       7.98  "
      ]
     },
     "execution_count": 55,
     "metadata": {},
     "output_type": "execute_result"
    }
   ],
   "source": [
    "# Отберем данные за актуальный период - с 2010 года\n",
    "data_actual = data[data['year_of_release'] >= 2014].reset_index(drop=True)\n",
    "data_actual.head()"
   ]
  },
  {
   "cell_type": "markdown",
   "id": "f11dbaf7",
   "metadata": {},
   "source": [
    "### Какие платформы лидируют по продажам, растут или падают?"
   ]
  },
  {
   "cell_type": "markdown",
   "id": "d13b69ed",
   "metadata": {},
   "source": [
    "Выберем потенциально прибыльные платформы"
   ]
  },
  {
   "cell_type": "code",
   "execution_count": 56,
   "id": "54ee49e8",
   "metadata": {},
   "outputs": [
    {
     "data": {
      "text/html": [
       "<div>\n",
       "<style scoped>\n",
       "    .dataframe tbody tr th:only-of-type {\n",
       "        vertical-align: middle;\n",
       "    }\n",
       "\n",
       "    .dataframe tbody tr th {\n",
       "        vertical-align: top;\n",
       "    }\n",
       "\n",
       "    .dataframe thead th {\n",
       "        text-align: right;\n",
       "    }\n",
       "</style>\n",
       "<table border=\"1\" class=\"dataframe\">\n",
       "  <thead>\n",
       "    <tr style=\"text-align: right;\">\n",
       "      <th></th>\n",
       "      <th>all_sales</th>\n",
       "    </tr>\n",
       "    <tr>\n",
       "      <th>platform</th>\n",
       "      <th></th>\n",
       "    </tr>\n",
       "  </thead>\n",
       "  <tbody>\n",
       "    <tr>\n",
       "      <th>PSP</th>\n",
       "      <td>0.36</td>\n",
       "    </tr>\n",
       "    <tr>\n",
       "      <th>Wii</th>\n",
       "      <td>5.07</td>\n",
       "    </tr>\n",
       "    <tr>\n",
       "      <th>PSV</th>\n",
       "      <td>22.40</td>\n",
       "    </tr>\n",
       "    <tr>\n",
       "      <th>PC</th>\n",
       "      <td>27.05</td>\n",
       "    </tr>\n",
       "    <tr>\n",
       "      <th>WiiU</th>\n",
       "      <td>42.98</td>\n",
       "    </tr>\n",
       "    <tr>\n",
       "      <th>X360</th>\n",
       "      <td>48.22</td>\n",
       "    </tr>\n",
       "    <tr>\n",
       "      <th>PS3</th>\n",
       "      <td>68.18</td>\n",
       "    </tr>\n",
       "    <tr>\n",
       "      <th>3DS</th>\n",
       "      <td>86.68</td>\n",
       "    </tr>\n",
       "    <tr>\n",
       "      <th>XOne</th>\n",
       "      <td>140.36</td>\n",
       "    </tr>\n",
       "    <tr>\n",
       "      <th>PS4</th>\n",
       "      <td>288.15</td>\n",
       "    </tr>\n",
       "  </tbody>\n",
       "</table>\n",
       "</div>"
      ],
      "text/plain": [
       "          all_sales\n",
       "platform           \n",
       "PSP            0.36\n",
       "Wii            5.07\n",
       "PSV           22.40\n",
       "PC            27.05\n",
       "WiiU          42.98\n",
       "X360          48.22\n",
       "PS3           68.18\n",
       "3DS           86.68\n",
       "XOne         140.36\n",
       "PS4          288.15"
      ]
     },
     "execution_count": 56,
     "metadata": {},
     "output_type": "execute_result"
    }
   ],
   "source": [
    "# Лидирующие продажи по платформам за актуальный период\n",
    "data_actual_sales = data_actual.pivot_table(index='platform', values='all_sales', aggfunc='sum').sort_values(by='all_sales')\n",
    "data_actual_sales"
   ]
  },
  {
   "cell_type": "code",
   "execution_count": 57,
   "id": "6f968098",
   "metadata": {},
   "outputs": [
    {
     "data": {
      "image/png": "[encoded data removed]",
      "text/plain": [
       "<Figure size 432x288 with 1 Axes>"
      ]
     },
     "metadata": {
      "needs_background": "light"
     },
     "output_type": "display_data"
    }
   ],
   "source": [
    "plt.title('График продаж по платформам за актуальный период')\n",
    "plt.xlabel('Плаформа')\n",
    "plt.ylabel('Количество продаж')\n",
    "plt.grid(True, alpha=0.5)\n",
    "plt.bar(data_actual_sales.index, data_actual_sales['all_sales'], ec='black')\n",
    "plt.show()"
   ]
  },
  {
   "cell_type": "markdown",
   "id": "0de1bfa2",
   "metadata": {},
   "source": [
    "График выглядит ожидаемо. За акутальный период больше всего популярны консоли нового поколения (PS4 и XOne). Что логично, так как с момента выхода прошел уже год и они успели набрать популярность. Также можно заметить, что PS4 в два раза популярнее XOne. Пользователи явно больше предпочитают консосль от Sony. Думаю это стоит учесть при прогнозорировании на 2017 год<br>\n",
    "Также можно сказать, что консоли прошлого покололения доживают последние дни. Их популярность на порядок ниже нового поколения.<br>\n",
    "Портативные консоли не сильно популярны. Особенно от Sony. Хотя 3DS от Nintendo еще пытается держаться."
   ]
  },
  {
   "cell_type": "code",
   "execution_count": 58,
   "id": "fb4941e7",
   "metadata": {},
   "outputs": [],
   "source": [
    "platforms_actual = platforms[platforms['year_of_release'] >= 2014].reset_index(drop=True)"
   ]
  },
  {
   "cell_type": "code",
   "execution_count": 59,
   "id": "9bc77144",
   "metadata": {},
   "outputs": [
    {
     "data": {
      "image/png": "[encoded data removed]",
      "text/plain": [
       "<Figure size 1008x720 with 10 Axes>"
      ]
     },
     "metadata": {
      "needs_background": "light"
     },
     "output_type": "display_data"
    }
   ],
   "source": [
    "# Посмотрим на продажи консолей по годам за актуальный период\n",
    "plt.figure(figsize=(14, 10))\n",
    "count = 1\n",
    "plt.suptitle('Графики продажи консолей по годам за актуальный период', fontweight='bold')\n",
    "for name in platforms_actual['platform'].unique():\n",
    "    plt.subplot(3,4,count)\n",
    "    plot_table = platforms_actual[platforms_actual['platform'] == name]\n",
    "    plt.title(name)\n",
    "    plt.xlabel('Год')\n",
    "    plt.ylabel('Кол-во проданных игр')\n",
    "    plt.grid(True, alpha=0.5)\n",
    "    plt.bar(plot_table['year_of_release'], plot_table['all_sales'])\n",
    "    count += 1\n",
    "\n",
    "plt.tight_layout()\n",
    "plt.show()"
   ]
  },
  {
   "cell_type": "markdown",
   "id": "4a282802",
   "metadata": {},
   "source": [
    "На данных графиках хорошо видно, что продажи консолей предыдущих поколений (X360, PS3, Wii) стремятся к максимально низким. После выхода новых поколений виден резкий спад, который к следующим годам только уcиливается<br>\n",
    "Для консолей нового поколения тоже все не сильно радужно. 2015 год был лучшим, а уже в 2016 продажи пошли на спад, но все еще выше остальных. Возможно это обусловлено меньшим количеством новых и интересных публике игр.<br>\n",
    "Что касается портативных консолей, то глядя на графики можно сказать, что этот формат сам по себе теряет свою популярность. "
   ]
  },
  {
   "cell_type": "markdown",
   "id": "18431b28",
   "metadata": {},
   "source": [
    "### «ящик с усами» по глобальным продажам игр в разбивке по платформам"
   ]
  },
  {
   "cell_type": "code",
   "execution_count": 60,
   "id": "ae7aff84",
   "metadata": {
    "scrolled": false
   },
   "outputs": [
    {
     "data": {
      "image/png": "[encoded data removed]",
      "text/plain": [
       "<Figure size 432x288 with 1 Axes>"
      ]
     },
     "metadata": {
      "needs_background": "light"
     },
     "output_type": "display_data"
    }
   ],
   "source": [
    "plt.title('Ящик с усами по глобальным продажам игр в разбивке по платформам')\n",
    "sns.boxplot(x='platform', y='all_sales', data=data_actual)\n",
    "plt.xlabel('Платформа')\n",
    "plt.ylabel('Кол-во продаж')\n",
    "plt.show()"
   ]
  },
  {
   "cell_type": "markdown",
   "id": "5522c29e",
   "metadata": {},
   "source": [
    "Приблизим график"
   ]
  },
  {
   "cell_type": "code",
   "execution_count": 109,
   "id": "db0c54e9",
   "metadata": {},
   "outputs": [
    {
     "data": {
      "image/png": "[encoded data removed]",
      "text/plain": [
       "<Figure size 432x288 with 1 Axes>"
      ]
     },
     "metadata": {
      "needs_background": "light"
     },
     "output_type": "display_data"
    }
   ],
   "source": [
    "plt.title('Ящик с усами по глобальным продажам игр в разбивке по платформам')\n",
    "sns.boxplot(x='platform', y='all_sales', data=data_actual)\n",
    "plt.ylim([0, 1])\n",
    "plt.grid(True, alpha=0.15)\n",
    "plt.xlabel('Платформа')\n",
    "plt.ylabel('Кол-во продаж')\n",
    "plt.show()"
   ]
  },
  {
   "cell_type": "markdown",
   "id": "d5546a5e",
   "metadata": {},
   "source": [
    "График \"Ящик с усами\" показывает что, в среднем для каждой платформы игры имеют плюс минус похожие общие продажи. Консоли нового поколения лидируют по продажам игр.<br>\n",
    "Также мы видим, что у консолей прошлого поколения на заре их популярности игры для X360 продаются лучше, чем для PS3. Так как у X360 и медиана выше, и 75% квантиль, и окончание верхнего уса.<br>\n",
    "К сожалению продажам игр для ПК еще далеко до консольных цифр. Медиана и 75% находятся довольно низко по сравнению с остальными. Кстати, это может быть обусловлено более распространенным пиратсвом среди ПК-геймеров"
   ]
  },
  {
   "cell_type": "markdown",
   "id": "64fbdb62",
   "metadata": {},
   "source": [
    "### Как влияют на продажи внутри одной популярной платформы отзывы пользователей и критиков?"
   ]
  },
  {
   "cell_type": "markdown",
   "id": "6f1d7ab8",
   "metadata": {},
   "source": [
    "Построим диаграмму рассеяния и посчитаем корреляцию между отзывами и продажами."
   ]
  },
  {
   "cell_type": "markdown",
   "id": "e4175afe",
   "metadata": {},
   "source": [
    "Для исследования возьмем одну из самых популярных патформ - PS3"
   ]
  },
  {
   "cell_type": "code",
   "execution_count": 62,
   "id": "3541e0a3",
   "metadata": {},
   "outputs": [],
   "source": [
    "data_actual_ps4 = data_actual[data_actual['platform'] == 'PS4']"
   ]
  },
  {
   "cell_type": "code",
   "execution_count": 63,
   "id": "dae3e091",
   "metadata": {},
   "outputs": [
    {
     "data": {
      "image/png": "[encoded data removed]",
      "text/plain": [
       "<Figure size 432x288 with 1 Axes>"
      ]
     },
     "metadata": {
      "needs_background": "light"
     },
     "output_type": "display_data"
    }
   ],
   "source": [
    "plt.title('Диаграмма рассеяния хар-ик \"Оценка критиков\" и \"Общие продажи\" для PS4')\n",
    "plt.xlabel('Оценка критиков')\n",
    "plt.ylabel('Общие продажи')\n",
    "plt.scatter(data_actual_ps4['critic_score'], data_actual_ps4['all_sales'], alpha=0.2)\n",
    "plt.show()"
   ]
  },
  {
   "cell_type": "code",
   "execution_count": 64,
   "id": "511f00f9",
   "metadata": {},
   "outputs": [
    {
     "name": "stdout",
     "output_type": "stream",
     "text": [
      "Коэффициент Пирсона для характеристик \"Оценка критиков\" и \"Общие продажи\" = 0.40266141068104083\n"
     ]
    }
   ],
   "source": [
    "critic_sales_corr = data_actual_ps4['critic_score'].corr(data_actual_ps4['all_sales'])\n",
    "print('Коэффициент Пирсона для характеристик \"Оценка критиков\" и \"Общие продажи\" =', critic_sales_corr)"
   ]
  },
  {
   "cell_type": "markdown",
   "id": "151f6489",
   "metadata": {},
   "source": [
    "Коэффициент Пирсона подтвреждает диаграмму рассеяния. Корреляция между этими характиристиками мала. Большое количество игр с хорошими оценками критиков имеют совсем небольшие продажи.<br>\n",
    "Тут скорее напрашивается вывод о том, что связь между этими характеристиками имеет более сложный, нелинейный характер. Не стоит утверждать, что связи между ними нет совсем"
   ]
  },
  {
   "cell_type": "code",
   "execution_count": 65,
   "id": "4e96efee",
   "metadata": {},
   "outputs": [
    {
     "data": {
      "image/png": "[encoded data removed]",
      "text/plain": [
       "<Figure size 432x288 with 1 Axes>"
      ]
     },
     "metadata": {
      "needs_background": "light"
     },
     "output_type": "display_data"
    }
   ],
   "source": [
    "plt.title('Диаграмма рассеяния хар-ик \"Оценка пользователей\" и \"Общие продажи\" для PS4')\n",
    "plt.xlabel('Оценка пользователей')\n",
    "plt.ylabel('Общие продажи')\n",
    "plt.scatter(data_actual_ps4['user_score'], data_actual_ps4['all_sales'], alpha=0.2)\n",
    "plt.show()"
   ]
  },
  {
   "cell_type": "code",
   "execution_count": 66,
   "id": "e3bf43a2",
   "metadata": {},
   "outputs": [
    {
     "name": "stdout",
     "output_type": "stream",
     "text": [
      "Коэффициент Пирсона для характеристик \"Оценка пользователй\" и \"Общие продажи\" = -0.040131589472697356\n"
     ]
    }
   ],
   "source": [
    "critic_sales_corr = data_actual_ps4['user_score'].corr(data_actual_ps4['all_sales'])\n",
    "print('Коэффициент Пирсона для характеристик \"Оценка пользователй\" и \"Общие продажи\" =', critic_sales_corr)"
   ]
  },
  {
   "cell_type": "markdown",
   "id": "d94e1217",
   "metadata": {},
   "source": [
    "Коэффициент Пирсона для характеристик \"Оценка пользователй\" и \"Общие продажи\" еще меньше и близок к нулю. Ситуация аналогична предыдущей. Не стоит утверждать, что связи нет совсем. С большой долей уверенности можно сказать, что просто продажи зависят далеко не только от оценки пользователей, что логично"
   ]
  },
  {
   "cell_type": "markdown",
   "id": "d5cfed10",
   "metadata": {},
   "source": [
    "### Продажи игр на других платформах"
   ]
  },
  {
   "cell_type": "code",
   "execution_count": 67,
   "id": "d9813413",
   "metadata": {},
   "outputs": [],
   "source": [
    "data_no_ps4 = data_actual[data_actual['platform'] != 'PS4']"
   ]
  },
  {
   "cell_type": "code",
   "execution_count": 68,
   "id": "b2f6814f",
   "metadata": {},
   "outputs": [
    {
     "data": {
      "image/png": "[encoded data removed]",
      "text/plain": [
       "<Figure size 1008x720 with 9 Axes>"
      ]
     },
     "metadata": {
      "needs_background": "light"
     },
     "output_type": "display_data"
    }
   ],
   "source": [
    "plt.figure(figsize=(14, 10))\n",
    "count = 1\n",
    "plt.suptitle('Диаграмма рассеяния хар-ик \"Оценка критиков\" и \"Общие продажи\" остальных платформ', fontweight='bold')\n",
    "for name in data_no_ps4['platform'].unique():\n",
    "    plt.subplot(3, 4, count)\n",
    "    plat_pivot = data_no_ps4[data_no_ps4['platform'] == name]\n",
    "    plt.title(name)\n",
    "    plt.xlabel('Оценка критиков')\n",
    "    plt.ylabel('Общие продажи')\n",
    "    plt.scatter(plat_pivot['critic_score'], plat_pivot['all_sales'])\n",
    "    count += 1\n",
    "plt.tight_layout()\n",
    "plt.show()"
   ]
  },
  {
   "cell_type": "code",
   "execution_count": 69,
   "id": "3e64dd4f",
   "metadata": {},
   "outputs": [
    {
     "data": {
      "image/png": "[encoded data removed]",
      "text/plain": [
       "<Figure size 1008x720 with 9 Axes>"
      ]
     },
     "metadata": {
      "needs_background": "light"
     },
     "output_type": "display_data"
    }
   ],
   "source": [
    "plt.figure(figsize=(14, 10))\n",
    "count = 1\n",
    "plt.suptitle('Диаграмма рассеяния хар-ик \"Оценка пользователей\" и \"Общие продажи\" остальных платформ', fontweight='bold')\n",
    "for name in data_no_ps4['platform'].unique():\n",
    "    plt.subplot(3, 4, count)\n",
    "    plat_pivot = data_no_ps4[data_no_ps4['platform'] == name]\n",
    "    plt.title(name)\n",
    "    plt.xlabel('Оценка пользователей')\n",
    "    plt.ylabel('Общие продажи')\n",
    "    plt.scatter(plat_pivot['user_score'], plat_pivot['all_sales'])\n",
    "    count += 1\n",
    "plt.tight_layout()\n",
    "plt.show()"
   ]
  },
  {
   "cell_type": "markdown",
   "id": "71ccadb3",
   "metadata": {},
   "source": [
    "Как мы видим из графиков корреляции для остальных платформ, ситуация не меняется. Между характиристиками \"Оценка критиков\", \"Оценка пользовтелей\" и \"Общие продажи\" нет прямой связи. Скорее всего можно предположить, что связь нелинейная, а имеет более сложную зависимость"
   ]
  },
  {
   "cell_type": "markdown",
   "id": "f7d710db",
   "metadata": {},
   "source": [
    "Посмортим еще на корреляцию XOne и 3DS, как 2х самых актуальных платформ, после PS4"
   ]
  },
  {
   "cell_type": "code",
   "execution_count": 70,
   "id": "78a7b116",
   "metadata": {},
   "outputs": [],
   "source": [
    "data_xone = data_actual[data_actual['platform'] == 'XOne']\n",
    "data_3ds = data_actual[data_actual['platform'] == '3DS']"
   ]
  },
  {
   "cell_type": "code",
   "execution_count": 71,
   "id": "a0252550",
   "metadata": {},
   "outputs": [
    {
     "name": "stdout",
     "output_type": "stream",
     "text": [
      "Корреляция хар-ик \"Оценка критиков\" и \"Продажи\" для XOne: 0.42867694370333226\n",
      "Корреляция хар-ик \"Оценка критиков\" и \"Продажи\" для 3DS: 0.314117492869051\n"
     ]
    }
   ],
   "source": [
    "corr_sales_critics_xone = data_xone['critic_score'].corr(data_xone['all_sales'])\n",
    "corr_sales_critics_3ds = data_3ds['critic_score'].corr(data_3ds['all_sales'])\n",
    "print('Корреляция хар-ик \"Оценка критиков\" и \"Продажи\" для XOne:', corr_sales_critics_xone)\n",
    "print('Корреляция хар-ик \"Оценка критиков\" и \"Продажи\" для 3DS:', corr_sales_critics_3ds)"
   ]
  },
  {
   "cell_type": "code",
   "execution_count": 72,
   "id": "6a54cd2c",
   "metadata": {},
   "outputs": [
    {
     "name": "stdout",
     "output_type": "stream",
     "text": [
      "Корреляция хар-ик \"Оценка пользователей\" и \"Продажи\" для XOne: -0.0703839280647581\n",
      "Корреляция хар-ик \"Оценка пользователей\" и \"Продажи\" для 3DS: 0.2151932718527028\n"
     ]
    }
   ],
   "source": [
    "corr_sales_users_xone = data_xone['user_score'].corr(data_xone['all_sales'])\n",
    "corr_sales_users_3ds = data_3ds['user_score'].corr(data_3ds['all_sales'])\n",
    "print('Корреляция хар-ик \"Оценка пользователей\" и \"Продажи\" для XOne:', corr_sales_users_xone)\n",
    "print('Корреляция хар-ик \"Оценка пользователей\" и \"Продажи\" для 3DS:', corr_sales_users_3ds)"
   ]
  },
  {
   "cell_type": "markdown",
   "id": "85440b10",
   "metadata": {},
   "source": [
    "Как мы видим, корреляцию для всех 3х самых актуальных платформ одинакова. Выводы совпадают, как для PS4, так и для XOne и 3DS"
   ]
  },
  {
   "cell_type": "markdown",
   "id": "81c597f4",
   "metadata": {},
   "source": [
    "### Общее распределение игр по жанрам"
   ]
  },
  {
   "cell_type": "markdown",
   "id": "61d75d9e",
   "metadata": {},
   "source": [
    "Что можно сказать о самых прибыльных жанрах? Выделяются ли жанры с высокими и низкими продажами?"
   ]
  },
  {
   "cell_type": "code",
   "execution_count": 73,
   "id": "9650a3e5",
   "metadata": {},
   "outputs": [
    {
     "data": {
      "text/html": [
       "<div>\n",
       "<style scoped>\n",
       "    .dataframe tbody tr th:only-of-type {\n",
       "        vertical-align: middle;\n",
       "    }\n",
       "\n",
       "    .dataframe tbody tr th {\n",
       "        vertical-align: top;\n",
       "    }\n",
       "\n",
       "    .dataframe thead th {\n",
       "        text-align: right;\n",
       "    }\n",
       "</style>\n",
       "<table border=\"1\" class=\"dataframe\">\n",
       "  <thead>\n",
       "    <tr style=\"text-align: right;\">\n",
       "      <th></th>\n",
       "      <th>genre</th>\n",
       "      <th>all_sales</th>\n",
       "    </tr>\n",
       "  </thead>\n",
       "  <tbody>\n",
       "    <tr>\n",
       "      <th>5</th>\n",
       "      <td>Puzzle</td>\n",
       "      <td>2.21</td>\n",
       "    </tr>\n",
       "    <tr>\n",
       "      <th>11</th>\n",
       "      <td>Strategy</td>\n",
       "      <td>3.96</td>\n",
       "    </tr>\n",
       "    <tr>\n",
       "      <th>9</th>\n",
       "      <td>Simulation</td>\n",
       "      <td>13.13</td>\n",
       "    </tr>\n",
       "    <tr>\n",
       "      <th>1</th>\n",
       "      <td>Adventure</td>\n",
       "      <td>17.55</td>\n",
       "    </tr>\n",
       "    <tr>\n",
       "      <th>4</th>\n",
       "      <td>Platform</td>\n",
       "      <td>18.09</td>\n",
       "    </tr>\n",
       "    <tr>\n",
       "      <th>6</th>\n",
       "      <td>Racing</td>\n",
       "      <td>27.52</td>\n",
       "    </tr>\n",
       "    <tr>\n",
       "      <th>2</th>\n",
       "      <td>Fighting</td>\n",
       "      <td>28.22</td>\n",
       "    </tr>\n",
       "    <tr>\n",
       "      <th>3</th>\n",
       "      <td>Misc</td>\n",
       "      <td>37.55</td>\n",
       "    </tr>\n",
       "    <tr>\n",
       "      <th>7</th>\n",
       "      <td>Role-Playing</td>\n",
       "      <td>101.44</td>\n",
       "    </tr>\n",
       "    <tr>\n",
       "      <th>10</th>\n",
       "      <td>Sports</td>\n",
       "      <td>109.48</td>\n",
       "    </tr>\n",
       "    <tr>\n",
       "      <th>8</th>\n",
       "      <td>Shooter</td>\n",
       "      <td>170.94</td>\n",
       "    </tr>\n",
       "    <tr>\n",
       "      <th>0</th>\n",
       "      <td>Action</td>\n",
       "      <td>199.36</td>\n",
       "    </tr>\n",
       "  </tbody>\n",
       "</table>\n",
       "</div>"
      ],
      "text/plain": [
       "           genre  all_sales\n",
       "5         Puzzle       2.21\n",
       "11      Strategy       3.96\n",
       "9     Simulation      13.13\n",
       "1      Adventure      17.55\n",
       "4       Platform      18.09\n",
       "6         Racing      27.52\n",
       "2       Fighting      28.22\n",
       "3           Misc      37.55\n",
       "7   Role-Playing     101.44\n",
       "10        Sports     109.48\n",
       "8        Shooter     170.94\n",
       "0         Action     199.36"
      ]
     },
     "execution_count": 73,
     "metadata": {},
     "output_type": "execute_result"
    }
   ],
   "source": [
    "genre_sales = data_actual.pivot_table(index='genre', \n",
    "                                      values='all_sales', \n",
    "                                      aggfunc='sum').reset_index().sort_values(by='all_sales')\n",
    "genre_sales"
   ]
  },
  {
   "cell_type": "code",
   "execution_count": 74,
   "id": "47961a7b",
   "metadata": {},
   "outputs": [
    {
     "data": {
      "image/png": "[encoded data removed]",
      "text/plain": [
       "<Figure size 432x288 with 1 Axes>"
      ]
     },
     "metadata": {
      "needs_background": "light"
     },
     "output_type": "display_data"
    }
   ],
   "source": [
    "plt.title('График продаж по жанрам за актульный период')\n",
    "plt.xlabel('Жанр')\n",
    "plt.ylabel('Продажи')\n",
    "plt.xticks(rotation=60)\n",
    "plt.grid(True, alpha=0.5)\n",
    "plt.bar(genre_sales['genre'], genre_sales['all_sales'], ec='black')\n",
    "plt.show()"
   ]
  },
  {
   "cell_type": "markdown",
   "id": "b35db725",
   "metadata": {},
   "source": [
    "Посмотрим на средние и медианные продажи"
   ]
  },
  {
   "cell_type": "code",
   "execution_count": 75,
   "id": "19651dd8",
   "metadata": {},
   "outputs": [
    {
     "data": {
      "text/html": [
       "<div>\n",
       "<style scoped>\n",
       "    .dataframe tbody tr th:only-of-type {\n",
       "        vertical-align: middle;\n",
       "    }\n",
       "\n",
       "    .dataframe tbody tr th {\n",
       "        vertical-align: top;\n",
       "    }\n",
       "\n",
       "    .dataframe thead th {\n",
       "        text-align: right;\n",
       "    }\n",
       "</style>\n",
       "<table border=\"1\" class=\"dataframe\">\n",
       "  <thead>\n",
       "    <tr style=\"text-align: right;\">\n",
       "      <th></th>\n",
       "      <th>genre</th>\n",
       "      <th>mean</th>\n",
       "      <th>median</th>\n",
       "    </tr>\n",
       "  </thead>\n",
       "  <tbody>\n",
       "    <tr>\n",
       "      <th>0</th>\n",
       "      <td>Adventure</td>\n",
       "      <td>0.094865</td>\n",
       "      <td>0.030</td>\n",
       "    </tr>\n",
       "    <tr>\n",
       "      <th>1</th>\n",
       "      <td>Puzzle</td>\n",
       "      <td>0.157857</td>\n",
       "      <td>0.045</td>\n",
       "    </tr>\n",
       "    <tr>\n",
       "      <th>2</th>\n",
       "      <td>Strategy</td>\n",
       "      <td>0.107027</td>\n",
       "      <td>0.060</td>\n",
       "    </tr>\n",
       "    <tr>\n",
       "      <th>3</th>\n",
       "      <td>Action</td>\n",
       "      <td>0.322068</td>\n",
       "      <td>0.090</td>\n",
       "    </tr>\n",
       "    <tr>\n",
       "      <th>4</th>\n",
       "      <td>Misc</td>\n",
       "      <td>0.332301</td>\n",
       "      <td>0.090</td>\n",
       "    </tr>\n",
       "    <tr>\n",
       "      <th>5</th>\n",
       "      <td>Racing</td>\n",
       "      <td>0.398841</td>\n",
       "      <td>0.090</td>\n",
       "    </tr>\n",
       "    <tr>\n",
       "      <th>6</th>\n",
       "      <td>Simulation</td>\n",
       "      <td>0.298409</td>\n",
       "      <td>0.100</td>\n",
       "    </tr>\n",
       "    <tr>\n",
       "      <th>7</th>\n",
       "      <td>Role-Playing</td>\n",
       "      <td>0.459005</td>\n",
       "      <td>0.110</td>\n",
       "    </tr>\n",
       "    <tr>\n",
       "      <th>8</th>\n",
       "      <td>Fighting</td>\n",
       "      <td>0.470333</td>\n",
       "      <td>0.125</td>\n",
       "    </tr>\n",
       "    <tr>\n",
       "      <th>9</th>\n",
       "      <td>Platform</td>\n",
       "      <td>0.476053</td>\n",
       "      <td>0.140</td>\n",
       "    </tr>\n",
       "    <tr>\n",
       "      <th>10</th>\n",
       "      <td>Sports</td>\n",
       "      <td>0.680000</td>\n",
       "      <td>0.180</td>\n",
       "    </tr>\n",
       "    <tr>\n",
       "      <th>11</th>\n",
       "      <td>Shooter</td>\n",
       "      <td>1.335469</td>\n",
       "      <td>0.515</td>\n",
       "    </tr>\n",
       "  </tbody>\n",
       "</table>\n",
       "</div>"
      ],
      "text/plain": [
       "           genre      mean  median\n",
       "0      Adventure  0.094865   0.030\n",
       "1         Puzzle  0.157857   0.045\n",
       "2       Strategy  0.107027   0.060\n",
       "3         Action  0.322068   0.090\n",
       "4           Misc  0.332301   0.090\n",
       "5         Racing  0.398841   0.090\n",
       "6     Simulation  0.298409   0.100\n",
       "7   Role-Playing  0.459005   0.110\n",
       "8       Fighting  0.470333   0.125\n",
       "9       Platform  0.476053   0.140\n",
       "10        Sports  0.680000   0.180\n",
       "11       Shooter  1.335469   0.515"
      ]
     },
     "execution_count": 75,
     "metadata": {},
     "output_type": "execute_result"
    }
   ],
   "source": [
    "genre_sales_v2 = data_actual.pivot_table(index='genre', \n",
    "                                      values='all_sales', \n",
    "                                      aggfunc=['mean', 'median']).reset_index()\n",
    "genre_sales_v2.columns = ['genre', 'mean', 'median']\n",
    "genre_sales_v2 = genre_sales_v2.sort_values(by='median').reset_index(drop=True)\n",
    "genre_sales_v2"
   ]
  },
  {
   "cell_type": "markdown",
   "id": "0164b592",
   "metadata": {},
   "source": [
    "Посмотрим на графике"
   ]
  },
  {
   "cell_type": "code",
   "execution_count": 76,
   "id": "1bfb40d5",
   "metadata": {},
   "outputs": [
    {
     "data": {
      "image/png": "[encoded data removed]",
      "text/plain": [
       "<Figure size 432x288 with 1 Axes>"
      ]
     },
     "metadata": {
      "needs_background": "light"
     },
     "output_type": "display_data"
    }
   ],
   "source": [
    "plt.title('Ящик с усами для продаж игр по жанрам')\n",
    "sns.boxplot(x='genre', y='all_sales', data=data_actual)\n",
    "plt.xlabel('Жанр')\n",
    "plt.ylabel('Продажи')\n",
    "plt.ylim([0, 4.5])\n",
    "plt.xticks(rotation=60)\n",
    "plt.show()"
   ]
  },
  {
   "cell_type": "markdown",
   "id": "83c8fa10",
   "metadata": {},
   "source": [
    "По графикам можно сказать следующее:<br>\n",
    "В лидерах жанр со стабильно высокими продажами - `Shooter`, его средние и медианные продажи выше всех: 1.3 и 0.5. На втором месте расположился жанр `Sports`, со средним и медианой: 0.7 и 0.2.<br>\n",
    "Хоть жанр `Action` изначально и оказался на 1 месте по общим продажам, более детальный график говорит немного другое: этот жанр со стабильно средними продажами и большим количеством выбросов (аномально высокими значениями). Возможно это связано с какими-либо очень популярными сериями игр (напр. GTA). А остальные продаются не так хорошо.<br>\n",
    "А вот `Puzzle` и `Strategy` - имеют стабильно низкие продажи"
   ]
  },
  {
   "cell_type": "markdown",
   "id": "ebf79763",
   "metadata": {},
   "source": [
    "### Вывод"
   ]
  },
  {
   "cell_type": "markdown",
   "id": "dbeaa664",
   "metadata": {},
   "source": [
    "В ходе исследовательского анализа сделаны следующие выводы:\n",
    "1. Основная масса игр продавалась с 2007 по 2010. Меньше всего игр выпускалось с 1980 по 1994. Первый резкий пик произошел в 1995 году. После 2008 года начался спад. В 2015 году игр вышло примерно столько же, сколько в 1998\n",
    "2. На старте выхода консоли она только набирает популярность. С каждым годом продажи игр для определенной консоли увеличиваются. Потом они достигают определенного пика и дальше идут на спад. Это можно объяснить простым устареванием консоли и ее технологий, и/или приходу на смену нового поколения. Разным платформам необходимо разное время, чтобы достичь пика, но чаще всего значения в диапазоне от 2 до 6 лет.\n",
    "3. Для прогнозирования возьмем период в 3 года, начиная с 2014.\n",
    "4. За акутальный период больше всего популярны консоли нового поколения (PS4 и XOne). Что логично, так как с момента выхода прошел уже год и они успели набрать популярность. Также можно заметить, что PS4 в два раза популярнее XOne. Пользователи явно больше предпочитают консосль от Sony. Думаю это стоит учесть при прогнозорировании на 2017 год\n",
    "5. Между характиристиками \"Оценка критиков\", \"Оценка пользовтелей\" и \"Общие продажи\" нет прямой связи. Скорее всего можно предположить, что связь нелинейная, а имеет более сложную зависимость\n",
    "6. В лидерах жанр со стабильно высокими продажами - Shooter, его средние и медианные продажи выше всех: 1.3 и 0.5. На втором месте расположился жанр Sports, со средним и медианой: 0.7 и 0.2. Хоть жанр Action изначально и оказался на 1 месте по общим продажам, более детальный график говорит немного другое: этот жанр со стабильно средними продажами и большим количеством выбросов (аномально высокими значениями). Возможно это связано с какими-либо очень популярными сериями игр (напр. GTA). А остальные продаются не так хорошо. А вот Puzzle и Strategy - имеют стабильно низкие продажи"
   ]
  },
  {
   "cell_type": "markdown",
   "id": "e593579f",
   "metadata": {},
   "source": [
    "## Портрет пользователя каждого региона"
   ]
  },
  {
   "cell_type": "markdown",
   "id": "76cd9bd5",
   "metadata": {},
   "source": [
    "### NA - Северная Америка"
   ]
  },
  {
   "cell_type": "markdown",
   "id": "7f02d48e",
   "metadata": {},
   "source": [
    "#### <i>Самые популярные платформы (топ-5)</i>"
   ]
  },
  {
   "cell_type": "code",
   "execution_count": 77,
   "id": "f81a4b3d",
   "metadata": {},
   "outputs": [
    {
     "data": {
      "text/html": [
       "<div>\n",
       "<style scoped>\n",
       "    .dataframe tbody tr th:only-of-type {\n",
       "        vertical-align: middle;\n",
       "    }\n",
       "\n",
       "    .dataframe tbody tr th {\n",
       "        vertical-align: top;\n",
       "    }\n",
       "\n",
       "    .dataframe thead th {\n",
       "        text-align: right;\n",
       "    }\n",
       "</style>\n",
       "<table border=\"1\" class=\"dataframe\">\n",
       "  <thead>\n",
       "    <tr style=\"text-align: right;\">\n",
       "      <th></th>\n",
       "      <th>platform</th>\n",
       "      <th>na_sales</th>\n",
       "    </tr>\n",
       "  </thead>\n",
       "  <tbody>\n",
       "    <tr>\n",
       "      <th>0</th>\n",
       "      <td>PS4</td>\n",
       "      <td>98.61</td>\n",
       "    </tr>\n",
       "    <tr>\n",
       "      <th>1</th>\n",
       "      <td>XOne</td>\n",
       "      <td>81.27</td>\n",
       "    </tr>\n",
       "    <tr>\n",
       "      <th>2</th>\n",
       "      <td>X360</td>\n",
       "      <td>28.30</td>\n",
       "    </tr>\n",
       "    <tr>\n",
       "      <th>3</th>\n",
       "      <td>3DS</td>\n",
       "      <td>22.64</td>\n",
       "    </tr>\n",
       "    <tr>\n",
       "      <th>4</th>\n",
       "      <td>PS3</td>\n",
       "      <td>22.05</td>\n",
       "    </tr>\n",
       "  </tbody>\n",
       "</table>\n",
       "</div>"
      ],
      "text/plain": [
       "  platform  na_sales\n",
       "0      PS4     98.61\n",
       "1     XOne     81.27\n",
       "2     X360     28.30\n",
       "3      3DS     22.64\n",
       "4      PS3     22.05"
      ]
     },
     "execution_count": 77,
     "metadata": {},
     "output_type": "execute_result"
    }
   ],
   "source": [
    "na_platforms = data_actual.pivot_table(index='platform', \n",
    "                                       values='na_sales', \n",
    "                                       aggfunc='sum')\\\n",
    "                .sort_values(by='na_sales', ascending=False).reset_index().head()\n",
    "na_platforms"
   ]
  },
  {
   "cell_type": "code",
   "execution_count": 78,
   "id": "dd094943",
   "metadata": {},
   "outputs": [
    {
     "name": "stdout",
     "output_type": "stream",
     "text": [
      "Доли продаж по 5-ти популярным платформам\n",
      "PS4 = 0.38996322220904023\n",
      "XOne = 0.32139043777435045\n",
      "X360 = 0.11191521335073351\n",
      "3DS = 0.08953217068058687\n",
      "PS3 = 0.08719895598528891\n"
     ]
    }
   ],
   "source": [
    "print('Доли продаж по 5-ти популярным платформам')\n",
    "for name in range(len(na_platforms['platform'])):\n",
    "    print(na_platforms.loc[name, 'platform'], \n",
    "          '=', \n",
    "          na_platforms.loc[name, 'na_sales'] / na_platforms['na_sales'].sum())"
   ]
  },
  {
   "cell_type": "code",
   "execution_count": 79,
   "id": "2da72718",
   "metadata": {},
   "outputs": [
    {
     "data": {
      "image/png": "[encoded data removed]",
      "text/plain": [
       "<Figure size 432x288 with 1 Axes>"
      ]
     },
     "metadata": {
      "needs_background": "light"
     },
     "output_type": "display_data"
    }
   ],
   "source": [
    "plt.title('График популярности платформ в Северной Америке')\n",
    "plt.xlabel('Платформа')\n",
    "plt.ylabel('Сумма продаж')\n",
    "plt.grid(True, alpha=0.5)\n",
    "plt.bar(na_platforms['platform'], na_platforms['na_sales'], ec='black')\n",
    "plt.show()"
   ]
  },
  {
   "cell_type": "markdown",
   "id": "d35474a9",
   "metadata": {},
   "source": [
    "Американцы больше всего предпочитают консоль нового поколения PS4 (98.61 млн), на втором месте расположился XOne (81 мн)<br>\n",
    "Интересно, что из консолей последнего поколения, Американцы больше предпочитают PS4 - 108. Разница в сравнии с XOne - 93 млн. не такая большая, но все же.<br>\n",
    "Консоли прошлого поколения расположились на одном уровне с портативной от Nintendo"
   ]
  },
  {
   "cell_type": "markdown",
   "id": "857da50e",
   "metadata": {},
   "source": [
    "#### <i>Самые популярные жанры (топ-5)</i>"
   ]
  },
  {
   "cell_type": "code",
   "execution_count": 80,
   "id": "57ea1af1",
   "metadata": {},
   "outputs": [
    {
     "data": {
      "text/html": [
       "<div>\n",
       "<style scoped>\n",
       "    .dataframe tbody tr th:only-of-type {\n",
       "        vertical-align: middle;\n",
       "    }\n",
       "\n",
       "    .dataframe tbody tr th {\n",
       "        vertical-align: top;\n",
       "    }\n",
       "\n",
       "    .dataframe thead th {\n",
       "        text-align: right;\n",
       "    }\n",
       "</style>\n",
       "<table border=\"1\" class=\"dataframe\">\n",
       "  <thead>\n",
       "    <tr style=\"text-align: right;\">\n",
       "      <th></th>\n",
       "      <th>genre</th>\n",
       "      <th>na_sales</th>\n",
       "    </tr>\n",
       "  </thead>\n",
       "  <tbody>\n",
       "    <tr>\n",
       "      <th>0</th>\n",
       "      <td>Shooter</td>\n",
       "      <td>79.02</td>\n",
       "    </tr>\n",
       "    <tr>\n",
       "      <th>1</th>\n",
       "      <td>Action</td>\n",
       "      <td>72.53</td>\n",
       "    </tr>\n",
       "    <tr>\n",
       "      <th>2</th>\n",
       "      <td>Sports</td>\n",
       "      <td>46.13</td>\n",
       "    </tr>\n",
       "    <tr>\n",
       "      <th>3</th>\n",
       "      <td>Role-Playing</td>\n",
       "      <td>33.47</td>\n",
       "    </tr>\n",
       "    <tr>\n",
       "      <th>4</th>\n",
       "      <td>Misc</td>\n",
       "      <td>15.05</td>\n",
       "    </tr>\n",
       "  </tbody>\n",
       "</table>\n",
       "</div>"
      ],
      "text/plain": [
       "          genre  na_sales\n",
       "0       Shooter     79.02\n",
       "1        Action     72.53\n",
       "2        Sports     46.13\n",
       "3  Role-Playing     33.47\n",
       "4          Misc     15.05"
      ]
     },
     "execution_count": 80,
     "metadata": {},
     "output_type": "execute_result"
    }
   ],
   "source": [
    "na_genres = data_actual.pivot_table(index='genre', \n",
    "                                       values='na_sales', \n",
    "                                       aggfunc='sum')\\\n",
    "                .sort_values(by='na_sales', ascending=False).reset_index().head()\n",
    "na_genres"
   ]
  },
  {
   "cell_type": "code",
   "execution_count": 81,
   "id": "e3eb5f85",
   "metadata": {},
   "outputs": [
    {
     "name": "stdout",
     "output_type": "stream",
     "text": [
      "Доли продаж по 5-ти популярным жанрам\n",
      "Shooter = 0.32095857026807456\n",
      "Action = 0.2945978878960199\n",
      "Sports = 0.18736799350121852\n",
      "Role-Playing = 0.13594638505280257\n",
      "Misc = 0.061129163281884585\n"
     ]
    }
   ],
   "source": [
    "print('Доли продаж по 5-ти популярным жанрам')\n",
    "for name in range(len(na_genres['genre'])):\n",
    "    print(na_genres.loc[name, 'genre'], \n",
    "          '=', \n",
    "          na_genres.loc[name, 'na_sales'] / na_genres['na_sales'].sum())"
   ]
  },
  {
   "cell_type": "code",
   "execution_count": 82,
   "id": "4b1e1446",
   "metadata": {},
   "outputs": [
    {
     "data": {
      "image/png": "[encoded data removed]",
      "text/plain": [
       "<Figure size 432x288 with 1 Axes>"
      ]
     },
     "metadata": {
      "needs_background": "light"
     },
     "output_type": "display_data"
    }
   ],
   "source": [
    "plt.title('График популярности платформ в Северной Америке')\n",
    "plt.xlabel('Жанр')\n",
    "plt.ylabel('Сумма продаж')\n",
    "plt.grid(True, alpha=0.5)\n",
    "plt.bar(na_genres['genre'], na_genres['na_sales'], ec='black')\n",
    "plt.show()"
   ]
  },
  {
   "cell_type": "markdown",
   "id": "6133973e",
   "metadata": {},
   "source": [
    "В Северной Америке на первом месте Шутеры, потом Экшн (это также может быть связано с несколькими очень популярными сериями игр)<br>\n",
    "Американцы не прочь поиграть и в Спортивный жанр, он в тройке лидеров. Ролевые игры также входят в пятерку"
   ]
  },
  {
   "cell_type": "markdown",
   "id": "ac312778",
   "metadata": {},
   "source": [
    "#### <i>Влияет ли рейтинг ESRB на продажи?</i>"
   ]
  },
  {
   "cell_type": "markdown",
   "id": "5788f638",
   "metadata": {},
   "source": [
    "Для наглядности расшифруем каждый рейтинг<br>\n",
    "<div>\n",
    "<table style=\"margin:10px auto 20px 0\">\n",
    "    <thead>\n",
    "        <th>Рейтинг</th>\n",
    "        <th>Описание</th>\n",
    "    </thead>\n",
    "    <tbody>\n",
    "        <tr>\n",
    "            <td>EC</td>\n",
    "            <td>Для детей младшего возраста. Подходит для детей от 3 лет, неприемлемое содержание отсутствует</td>\n",
    "        <tr>\n",
    "        <tr>\n",
    "            <td>E</td>\n",
    "            <td>Подходит для всех возрастных категорий. Игра не должна содержать звуков или изображений, которые могут напугать маленьких детей. Не должна использоваться ненормативная лексика.</td>\n",
    "        <tr>\n",
    "        <tr>\n",
    "            <td>E10+</td>\n",
    "            <td>Подходит для лиц старше 10 лет. Игра может содержать умеренные формы насилия, а некоторые сцены могут пугать детей.</td>\n",
    "        <tr>\n",
    "        <tr>\n",
    "            <td>T</td>\n",
    "            <td>Подходит для лиц старше 13 лет. Игра может содержать более реалистичные и натуралистические сцены насилия.</td>\n",
    "        <tr>\n",
    "        <tr>\n",
    "            <td>M</td>\n",
    "            <td>Подходит для лиц старше 17 лет. Этот рейтинг используется, когда насилие становится реалистичным и похожим на реальную жизнь. Также может присутствовать ненормативная лексика, употребление табака, алкоголя или запрещенных наркотиков.</td>\n",
    "        <tr>\n",
    "        <tr>\n",
    "            <td>AO</td>\n",
    "            <td>Подходит для взрослых старше 18 лет. Классификация «для взрослых» используется, когда в игре присутствует крайний уровень насилия и немотивированного убийства. Также может присутствовать романтизация наркотиков, азартных игр и сексуальной активности.</td>\n",
    "        <tr>\n",
    "        <tr>\n",
    "            <td>RP</td>\n",
    "            <td>Категория ещё не присвоена. Играм с категорией RP еще не присвоен окончательный рейтинг ESRB</td>\n",
    "        <tr>\n",
    "    </tbody>\n",
    "</table>\n",
    "</div>"
   ]
  },
  {
   "cell_type": "markdown",
   "id": "5956704e",
   "metadata": {},
   "source": [
    "Посмотрим на продажи в зависимости от рейтинга в цифрах"
   ]
  },
  {
   "cell_type": "code",
   "execution_count": 83,
   "id": "1d99644e",
   "metadata": {},
   "outputs": [
    {
     "data": {
      "text/html": [
       "<div>\n",
       "<style scoped>\n",
       "    .dataframe tbody tr th:only-of-type {\n",
       "        vertical-align: middle;\n",
       "    }\n",
       "\n",
       "    .dataframe tbody tr th {\n",
       "        vertical-align: top;\n",
       "    }\n",
       "\n",
       "    .dataframe thead th {\n",
       "        text-align: right;\n",
       "    }\n",
       "</style>\n",
       "<table border=\"1\" class=\"dataframe\">\n",
       "  <thead>\n",
       "    <tr style=\"text-align: right;\">\n",
       "      <th></th>\n",
       "      <th>rating</th>\n",
       "      <th>na_sales</th>\n",
       "    </tr>\n",
       "  </thead>\n",
       "  <tbody>\n",
       "    <tr>\n",
       "      <th>0</th>\n",
       "      <td>M</td>\n",
       "      <td>96.42</td>\n",
       "    </tr>\n",
       "    <tr>\n",
       "      <th>1</th>\n",
       "      <td>E</td>\n",
       "      <td>50.74</td>\n",
       "    </tr>\n",
       "    <tr>\n",
       "      <th>2</th>\n",
       "      <td>T</td>\n",
       "      <td>38.95</td>\n",
       "    </tr>\n",
       "    <tr>\n",
       "      <th>3</th>\n",
       "      <td>E10+</td>\n",
       "      <td>33.23</td>\n",
       "    </tr>\n",
       "  </tbody>\n",
       "</table>\n",
       "</div>"
      ],
      "text/plain": [
       "  rating  na_sales\n",
       "0      M     96.42\n",
       "1      E     50.74\n",
       "2      T     38.95\n",
       "3   E10+     33.23"
      ]
     },
     "execution_count": 83,
     "metadata": {},
     "output_type": "execute_result"
    }
   ],
   "source": [
    "na_rating = data_actual.pivot_table(index='rating', \n",
    "                                       values='na_sales', \n",
    "                                       aggfunc='sum')\\\n",
    "                .sort_values(by='na_sales', ascending=False).reset_index()\n",
    "na_rating"
   ]
  },
  {
   "cell_type": "code",
   "execution_count": 84,
   "id": "d984a5fb",
   "metadata": {},
   "outputs": [
    {
     "name": "stdout",
     "output_type": "stream",
     "text": [
      "Доли продаж по рейтингу игры\n",
      "M = 0.4395915017780616\n",
      "E = 0.2313303547004649\n",
      "T = 0.17757818911279294\n",
      "E10+ = 0.15149995440868044\n"
     ]
    }
   ],
   "source": [
    "print('Доли продаж по рейтингу игры')\n",
    "for name in range(len(na_rating['rating'])):\n",
    "    print(na_rating.loc[name, 'rating'], \n",
    "          '=', \n",
    "          na_rating.loc[name, 'na_sales'] / na_rating['na_sales'].sum())"
   ]
  },
  {
   "cell_type": "code",
   "execution_count": 85,
   "id": "30ed73e1",
   "metadata": {},
   "outputs": [
    {
     "data": {
      "image/png": "[encoded data removed]",
      "text/plain": [
       "<Figure size 432x288 with 1 Axes>"
      ]
     },
     "metadata": {
      "needs_background": "light"
     },
     "output_type": "display_data"
    }
   ],
   "source": [
    "plt.title('График продаж игр по рейтингу в Северной Америке')\n",
    "plt.xlabel('Рейтинг')\n",
    "plt.ylabel('Сумма продаж')\n",
    "plt.grid(True, alpha=0.5)\n",
    "plt.bar(na_rating['rating'], na_rating['na_sales'], ec='black')\n",
    "plt.show()"
   ]
  },
  {
   "cell_type": "markdown",
   "id": "645fe7cc",
   "metadata": {},
   "source": [
    "График выглядит ожидаемо<br>\n",
    "Самый \"продаваемый\" рейтинг - M (для лиц старше 17 лет). Такой рейтинг как раз характерен для самых популярных жанров - Action и Shooter. На втором месте расположились игры с рейтингом E (для всех возрастных категорий).<br>\n",
    "Меньше всего продаж у игр с рейтингом EC (для детей младшего возраста), что тоже логично.<br>\n",
    "Нельзя однозначно сказать, что чем выше рейтинг, тем больше продаж. Но можно выделить явных \"призеров\" и \"аутсайдеров\". Больше всего игр продается с рейтингом M и E, меньше всего с E10+. Рейтинг T расположился посередине"
   ]
  },
  {
   "cell_type": "markdown",
   "id": "20c3b84b",
   "metadata": {},
   "source": [
    "#### <i>Вывод</i>"
   ]
  },
  {
   "cell_type": "markdown",
   "id": "88ee9a5d",
   "metadata": {},
   "source": [
    "1. Американцы больше всего предпочитают консоль нового поколения PS4 (98.61 млн), на втором месте расположился XOne (81 мн). Интересно, что из консолей последнего поколения, Американцы больше предпочитают PS4 - 108. Разница в сравнии с XOne - 93 млн. не такая большая, но все же. Консоли прошлого поколения расположились на одном уровне с портативной от Nintendo\n",
    "2. Американцы также больше всего любят \"веселые\" и динамичные жанры. Спортивные игры замыкают тройку. Ролевые игры входят в четверку. \n",
    "3. Нельзя однозначно сказать, что чем выше рейтинг, тем больше продаж. Но можно выделить явных \"призеров\" и \"аутсайдеров\". Больше всего игр продается с рейтингом M и E, меньше всего с E10+. Рейтинг T расположился посередине"
   ]
  },
  {
   "cell_type": "markdown",
   "id": "b08aa9b8",
   "metadata": {},
   "source": [
    "### EU - Европа"
   ]
  },
  {
   "cell_type": "markdown",
   "id": "a540fe3a",
   "metadata": {},
   "source": [
    "#### <i>Самые популярные платформы (топ-5)</i>"
   ]
  },
  {
   "cell_type": "code",
   "execution_count": 86,
   "id": "66ac4370",
   "metadata": {},
   "outputs": [
    {
     "data": {
      "text/html": [
       "<div>\n",
       "<style scoped>\n",
       "    .dataframe tbody tr th:only-of-type {\n",
       "        vertical-align: middle;\n",
       "    }\n",
       "\n",
       "    .dataframe tbody tr th {\n",
       "        vertical-align: top;\n",
       "    }\n",
       "\n",
       "    .dataframe thead th {\n",
       "        text-align: right;\n",
       "    }\n",
       "</style>\n",
       "<table border=\"1\" class=\"dataframe\">\n",
       "  <thead>\n",
       "    <tr style=\"text-align: right;\">\n",
       "      <th></th>\n",
       "      <th>platform</th>\n",
       "      <th>eu_sales</th>\n",
       "    </tr>\n",
       "  </thead>\n",
       "  <tbody>\n",
       "    <tr>\n",
       "      <th>0</th>\n",
       "      <td>PS4</td>\n",
       "      <td>130.04</td>\n",
       "    </tr>\n",
       "    <tr>\n",
       "      <th>1</th>\n",
       "      <td>XOne</td>\n",
       "      <td>46.25</td>\n",
       "    </tr>\n",
       "    <tr>\n",
       "      <th>2</th>\n",
       "      <td>PS3</td>\n",
       "      <td>25.54</td>\n",
       "    </tr>\n",
       "    <tr>\n",
       "      <th>3</th>\n",
       "      <td>PC</td>\n",
       "      <td>17.97</td>\n",
       "    </tr>\n",
       "    <tr>\n",
       "      <th>4</th>\n",
       "      <td>3DS</td>\n",
       "      <td>16.12</td>\n",
       "    </tr>\n",
       "  </tbody>\n",
       "</table>\n",
       "</div>"
      ],
      "text/plain": [
       "  platform  eu_sales\n",
       "0      PS4    130.04\n",
       "1     XOne     46.25\n",
       "2      PS3     25.54\n",
       "3       PC     17.97\n",
       "4      3DS     16.12"
      ]
     },
     "execution_count": 86,
     "metadata": {},
     "output_type": "execute_result"
    }
   ],
   "source": [
    "eu_platforms = data_actual.pivot_table(index='platform', \n",
    "                                       values='eu_sales', \n",
    "                                       aggfunc='sum')\\\n",
    "                .sort_values(by='eu_sales', ascending=False).reset_index().head()\n",
    "eu_platforms"
   ]
  },
  {
   "cell_type": "code",
   "execution_count": 87,
   "id": "92d5afa9",
   "metadata": {},
   "outputs": [
    {
     "name": "stdout",
     "output_type": "stream",
     "text": [
      "Доли продаж по 5-ти популярным платформам\n",
      "PS4 = 0.5512037978975924\n",
      "XOne = 0.19604103085791783\n",
      "PS3 = 0.10825703628348597\n",
      "PC = 0.07616988809766036\n",
      "3DS = 0.06832824686334345\n"
     ]
    }
   ],
   "source": [
    "print('Доли продаж по 5-ти популярным платформам')\n",
    "for name in range(len(eu_platforms['platform'])):\n",
    "    print(eu_platforms.loc[name, 'platform'], \n",
    "          '=', \n",
    "          eu_platforms.loc[name, 'eu_sales'] / eu_platforms['eu_sales'].sum())"
   ]
  },
  {
   "cell_type": "code",
   "execution_count": 88,
   "id": "6dc98ae7",
   "metadata": {},
   "outputs": [
    {
     "data": {
      "image/png": "[encoded data removed]",
      "text/plain": [
       "<Figure size 432x288 with 1 Axes>"
      ]
     },
     "metadata": {
      "needs_background": "light"
     },
     "output_type": "display_data"
    }
   ],
   "source": [
    "plt.title('График популярности платформ в Европе')\n",
    "plt.xlabel('Платформа')\n",
    "plt.ylabel('Сумма продаж')\n",
    "plt.grid(True, alpha=0.5)\n",
    "plt.bar(eu_platforms['platform'], eu_platforms['eu_sales'], ec='black')\n",
    "plt.show()"
   ]
  },
  {
   "cell_type": "markdown",
   "id": "fbb43ae7",
   "metadata": {},
   "source": [
    "У Европейцев из прошлого поколения консолей лидирует PS4 (130 млн). XOne (46 млн) на втором месте, но почти 3 раза менее популярен, чем PS4!<br>\n",
    "PS3 расположилась на 3м месте. Интересно, что X360 даже не вошел в пятерку. В Европе Micrisoft не так популярен, как Sony<br>\n",
    "Также у европейцев пользуется популярностью ПК-гейминг.<br>"
   ]
  },
  {
   "cell_type": "markdown",
   "id": "ddbde0bb",
   "metadata": {},
   "source": [
    "#### <i>Самые популярные жанры (топ-5)</i>"
   ]
  },
  {
   "cell_type": "code",
   "execution_count": 89,
   "id": "6e806504",
   "metadata": {},
   "outputs": [
    {
     "data": {
      "text/html": [
       "<div>\n",
       "<style scoped>\n",
       "    .dataframe tbody tr th:only-of-type {\n",
       "        vertical-align: middle;\n",
       "    }\n",
       "\n",
       "    .dataframe tbody tr th {\n",
       "        vertical-align: top;\n",
       "    }\n",
       "\n",
       "    .dataframe thead th {\n",
       "        text-align: right;\n",
       "    }\n",
       "</style>\n",
       "<table border=\"1\" class=\"dataframe\">\n",
       "  <thead>\n",
       "    <tr style=\"text-align: right;\">\n",
       "      <th></th>\n",
       "      <th>genre</th>\n",
       "      <th>eu_sales</th>\n",
       "    </tr>\n",
       "  </thead>\n",
       "  <tbody>\n",
       "    <tr>\n",
       "      <th>0</th>\n",
       "      <td>Action</td>\n",
       "      <td>74.68</td>\n",
       "    </tr>\n",
       "    <tr>\n",
       "      <th>1</th>\n",
       "      <td>Shooter</td>\n",
       "      <td>65.52</td>\n",
       "    </tr>\n",
       "    <tr>\n",
       "      <th>2</th>\n",
       "      <td>Sports</td>\n",
       "      <td>45.73</td>\n",
       "    </tr>\n",
       "    <tr>\n",
       "      <th>3</th>\n",
       "      <td>Role-Playing</td>\n",
       "      <td>28.17</td>\n",
       "    </tr>\n",
       "    <tr>\n",
       "      <th>4</th>\n",
       "      <td>Racing</td>\n",
       "      <td>14.13</td>\n",
       "    </tr>\n",
       "  </tbody>\n",
       "</table>\n",
       "</div>"
      ],
      "text/plain": [
       "          genre  eu_sales\n",
       "0        Action     74.68\n",
       "1       Shooter     65.52\n",
       "2        Sports     45.73\n",
       "3  Role-Playing     28.17\n",
       "4        Racing     14.13"
      ]
     },
     "execution_count": 89,
     "metadata": {},
     "output_type": "execute_result"
    }
   ],
   "source": [
    "eu_genres = data_actual.pivot_table(index='genre', \n",
    "                                       values='eu_sales', \n",
    "                                       aggfunc='sum')\\\n",
    "                .sort_values(by='eu_sales', ascending=False).reset_index().head()\n",
    "eu_genres"
   ]
  },
  {
   "cell_type": "code",
   "execution_count": 90,
   "id": "295379aa",
   "metadata": {},
   "outputs": [
    {
     "name": "stdout",
     "output_type": "stream",
     "text": [
      "Доли продаж по 5-ти популярным жанрам\n",
      "Action = 0.32721377557726883\n",
      "Shooter = 0.2870788239933398\n",
      "Sports = 0.20036804977435038\n",
      "Role-Playing = 0.12342812075537844\n",
      "Racing = 0.06191122989966255\n"
     ]
    }
   ],
   "source": [
    "print('Доли продаж по 5-ти популярным жанрам')\n",
    "for name in range(len(eu_genres['genre'])):\n",
    "    print(eu_genres.loc[name, 'genre'], \n",
    "          '=', \n",
    "          eu_genres.loc[name, 'eu_sales'] / eu_genres['eu_sales'].sum())"
   ]
  },
  {
   "cell_type": "code",
   "execution_count": 91,
   "id": "1858e6c8",
   "metadata": {},
   "outputs": [
    {
     "data": {
      "image/png": "[encoded data removed]",
      "text/plain": [
       "<Figure size 432x288 with 1 Axes>"
      ]
     },
     "metadata": {
      "needs_background": "light"
     },
     "output_type": "display_data"
    }
   ],
   "source": [
    "plt.title('График популярности платформ в Европе')\n",
    "plt.xlabel('Жанр')\n",
    "plt.ylabel('Сумма продаж')\n",
    "plt.grid(True, alpha=0.5)\n",
    "plt.bar(eu_genres['genre'], eu_genres['eu_sales'], ec='black')\n",
    "plt.show()"
   ]
  },
  {
   "cell_type": "markdown",
   "id": "fd05c68b",
   "metadata": {},
   "source": [
    "Картина не сильно отличается от Американской. Европейцам своейственны те же жанры.<br>\n",
    "Разве что, в пятерку вошли гонки"
   ]
  },
  {
   "cell_type": "markdown",
   "id": "57aafd72",
   "metadata": {},
   "source": [
    "#### <i>Влияет ли рейтинг ESRB на продажи?</i>"
   ]
  },
  {
   "cell_type": "code",
   "execution_count": 92,
   "id": "d964f4ed",
   "metadata": {},
   "outputs": [
    {
     "data": {
      "text/html": [
       "<div>\n",
       "<style scoped>\n",
       "    .dataframe tbody tr th:only-of-type {\n",
       "        vertical-align: middle;\n",
       "    }\n",
       "\n",
       "    .dataframe tbody tr th {\n",
       "        vertical-align: top;\n",
       "    }\n",
       "\n",
       "    .dataframe thead th {\n",
       "        text-align: right;\n",
       "    }\n",
       "</style>\n",
       "<table border=\"1\" class=\"dataframe\">\n",
       "  <thead>\n",
       "    <tr style=\"text-align: right;\">\n",
       "      <th></th>\n",
       "      <th>rating</th>\n",
       "      <th>eu_sales</th>\n",
       "    </tr>\n",
       "  </thead>\n",
       "  <tbody>\n",
       "    <tr>\n",
       "      <th>0</th>\n",
       "      <td>M</td>\n",
       "      <td>93.44</td>\n",
       "    </tr>\n",
       "    <tr>\n",
       "      <th>1</th>\n",
       "      <td>E</td>\n",
       "      <td>58.06</td>\n",
       "    </tr>\n",
       "    <tr>\n",
       "      <th>2</th>\n",
       "      <td>T</td>\n",
       "      <td>34.07</td>\n",
       "    </tr>\n",
       "    <tr>\n",
       "      <th>3</th>\n",
       "      <td>E10+</td>\n",
       "      <td>26.16</td>\n",
       "    </tr>\n",
       "  </tbody>\n",
       "</table>\n",
       "</div>"
      ],
      "text/plain": [
       "  rating  eu_sales\n",
       "0      M     93.44\n",
       "1      E     58.06\n",
       "2      T     34.07\n",
       "3   E10+     26.16"
      ]
     },
     "execution_count": 92,
     "metadata": {},
     "output_type": "execute_result"
    }
   ],
   "source": [
    "eu_rating = data_actual.pivot_table(index='rating', \n",
    "                                       values='eu_sales', \n",
    "                                       aggfunc='sum')\\\n",
    "                .sort_values(by='eu_sales', ascending=False).reset_index()\n",
    "eu_rating"
   ]
  },
  {
   "cell_type": "code",
   "execution_count": 93,
   "id": "c2de5a99",
   "metadata": {},
   "outputs": [
    {
     "name": "stdout",
     "output_type": "stream",
     "text": [
      "Доли продаж по рейтингу игры\n",
      "M = 0.44131677135975056\n",
      "E = 0.27421716336844115\n",
      "T = 0.1609124828791383\n",
      "E10+ = 0.12355358239266992\n"
     ]
    }
   ],
   "source": [
    "print('Доли продаж по рейтингу игры')\n",
    "for name in range(len(eu_rating['rating'])):\n",
    "    print(eu_rating.loc[name, 'rating'], \n",
    "          '=', \n",
    "          eu_rating.loc[name, 'eu_sales'] / eu_rating['eu_sales'].sum())"
   ]
  },
  {
   "cell_type": "code",
   "execution_count": 94,
   "id": "39764936",
   "metadata": {},
   "outputs": [
    {
     "data": {
      "image/png": "[encoded data removed]",
      "text/plain": [
       "<Figure size 432x288 with 1 Axes>"
      ]
     },
     "metadata": {
      "needs_background": "light"
     },
     "output_type": "display_data"
    }
   ],
   "source": [
    "plt.title('График продаж игр по рейтингу в Европе')\n",
    "plt.xlabel('Рейтинг')\n",
    "plt.ylabel('Сумма продаж')\n",
    "plt.grid(True, alpha=0.5)\n",
    "plt.bar(eu_rating['rating'], eu_rating['eu_sales'], ec='black')\n",
    "plt.show()"
   ]
  },
  {
   "cell_type": "markdown",
   "id": "39aa0101",
   "metadata": {},
   "source": [
    "Картина идентична Американской"
   ]
  },
  {
   "cell_type": "markdown",
   "id": "3e75d614",
   "metadata": {},
   "source": [
    "#### Вывод"
   ]
  },
  {
   "cell_type": "markdown",
   "id": "978cf453",
   "metadata": {},
   "source": [
    "1. У Европейцев из прошлого поколения консолей лидирует PS4 (130 млн). XOne (46 млн) на втором месте, но почти 3 раза менее популярен, чем PS4! PS3 расположилась на 3м месте. Интересно, что X360 даже не вошел в пятерку. В Европе Micrisoft не так популярен, как Sony. Также у европейцев пользуется популярностью ПК-гейминг.\n",
    "2. Картина не сильно отличается от Американской. Европейцам своейственны те же жанры. Разве что, в пятерку вошли гонки.\n",
    "3. Картина идентична Американской. Нельзя однозначно сказать, что чем выше рейтинг, тем больше продаж. Но можно выделить явных \"призеров\" и \"аутсайдеров\". Больше всего игр продается с рейтингом M и E, меньше всего с EC. Рейтинг T и E10+ расположился посередине"
   ]
  },
  {
   "cell_type": "markdown",
   "id": "9445d047",
   "metadata": {},
   "source": [
    "### JP - Япония"
   ]
  },
  {
   "cell_type": "markdown",
   "id": "18864688",
   "metadata": {},
   "source": [
    "#### <i>Самые популярные платформы (топ-5)</i>"
   ]
  },
  {
   "cell_type": "code",
   "execution_count": 95,
   "id": "38893ec0",
   "metadata": {},
   "outputs": [
    {
     "data": {
      "text/html": [
       "<div>\n",
       "<style scoped>\n",
       "    .dataframe tbody tr th:only-of-type {\n",
       "        vertical-align: middle;\n",
       "    }\n",
       "\n",
       "    .dataframe tbody tr th {\n",
       "        vertical-align: top;\n",
       "    }\n",
       "\n",
       "    .dataframe thead th {\n",
       "        text-align: right;\n",
       "    }\n",
       "</style>\n",
       "<table border=\"1\" class=\"dataframe\">\n",
       "  <thead>\n",
       "    <tr style=\"text-align: right;\">\n",
       "      <th></th>\n",
       "      <th>platform</th>\n",
       "      <th>jp_sales</th>\n",
       "    </tr>\n",
       "  </thead>\n",
       "  <tbody>\n",
       "    <tr>\n",
       "      <th>0</th>\n",
       "      <td>3DS</td>\n",
       "      <td>44.24</td>\n",
       "    </tr>\n",
       "    <tr>\n",
       "      <th>1</th>\n",
       "      <td>PS4</td>\n",
       "      <td>15.02</td>\n",
       "    </tr>\n",
       "    <tr>\n",
       "      <th>2</th>\n",
       "      <td>PSV</td>\n",
       "      <td>14.54</td>\n",
       "    </tr>\n",
       "    <tr>\n",
       "      <th>3</th>\n",
       "      <td>PS3</td>\n",
       "      <td>11.22</td>\n",
       "    </tr>\n",
       "    <tr>\n",
       "      <th>4</th>\n",
       "      <td>WiiU</td>\n",
       "      <td>7.31</td>\n",
       "    </tr>\n",
       "  </tbody>\n",
       "</table>\n",
       "</div>"
      ],
      "text/plain": [
       "  platform  jp_sales\n",
       "0      3DS     44.24\n",
       "1      PS4     15.02\n",
       "2      PSV     14.54\n",
       "3      PS3     11.22\n",
       "4     WiiU      7.31"
      ]
     },
     "execution_count": 95,
     "metadata": {},
     "output_type": "execute_result"
    }
   ],
   "source": [
    "jp_platforms = data_actual.pivot_table(index='platform', \n",
    "                                       values='jp_sales', \n",
    "                                       aggfunc='sum')\\\n",
    "                .sort_values(by='jp_sales', ascending=False).reset_index().head()\n",
    "jp_platforms"
   ]
  },
  {
   "cell_type": "code",
   "execution_count": 96,
   "id": "165ae25c",
   "metadata": {},
   "outputs": [
    {
     "name": "stdout",
     "output_type": "stream",
     "text": [
      "Доли продаж по 5-ти популярным платформам\n",
      "3DS = 0.47915087187263133\n",
      "PS4 = 0.16267735297303137\n",
      "PSV = 0.1574786093360767\n",
      "PS3 = 0.12152063251380894\n",
      "WiiU = 0.07917253330445148\n"
     ]
    }
   ],
   "source": [
    "print('Доли продаж по 5-ти популярным платформам')\n",
    "for name in range(len(jp_platforms['platform'])):\n",
    "    print(jp_platforms.loc[name, 'platform'], \n",
    "          '=', \n",
    "          jp_platforms.loc[name, 'jp_sales'] / jp_platforms['jp_sales'].sum())"
   ]
  },
  {
   "cell_type": "code",
   "execution_count": 97,
   "id": "64ca5bfa",
   "metadata": {},
   "outputs": [
    {
     "data": {
      "image/png": "[encoded data removed]",
      "text/plain": [
       "<Figure size 432x288 with 1 Axes>"
      ]
     },
     "metadata": {
      "needs_background": "light"
     },
     "output_type": "display_data"
    }
   ],
   "source": [
    "plt.title('График популярности платформ в Японии')\n",
    "plt.xlabel('Платформа')\n",
    "plt.ylabel('Сумма продаж')\n",
    "plt.grid(True, alpha=0.5)\n",
    "plt.bar(jp_platforms['platform'], jp_platforms['jp_sales'], ec='black')\n",
    "plt.show()"
   ]
  },
  {
   "cell_type": "markdown",
   "id": "6e7d0cd5",
   "metadata": {},
   "source": [
    "У Японцев совершненно другая история. Как можно заметить, в 5-ке лидеров консоли только японских производителей. Sony и Nintendo.<br>\n",
    "Также интересно, что в японии лидирует портативная платформа. Кто бы мог подумать. Ее продажи более чем в 2 раза превышают продажи домашней консоли PS4. Портативные консоли в японии не просто лидируют, а занимают 4 места из 5 в пятерке самых популярных.<br>\n",
    "PS4 на равне с PSV. Возможно на родине PS4 еще не успела обзавестись фанатами"
   ]
  },
  {
   "cell_type": "markdown",
   "id": "8f5c2269",
   "metadata": {},
   "source": [
    "#### <i>Самые популярные жанры (топ-5)</i>"
   ]
  },
  {
   "cell_type": "code",
   "execution_count": 98,
   "id": "45c916a1",
   "metadata": {},
   "outputs": [
    {
     "data": {
      "text/html": [
       "<div>\n",
       "<style scoped>\n",
       "    .dataframe tbody tr th:only-of-type {\n",
       "        vertical-align: middle;\n",
       "    }\n",
       "\n",
       "    .dataframe tbody tr th {\n",
       "        vertical-align: top;\n",
       "    }\n",
       "\n",
       "    .dataframe thead th {\n",
       "        text-align: right;\n",
       "    }\n",
       "</style>\n",
       "<table border=\"1\" class=\"dataframe\">\n",
       "  <thead>\n",
       "    <tr style=\"text-align: right;\">\n",
       "      <th></th>\n",
       "      <th>genre</th>\n",
       "      <th>jp_sales</th>\n",
       "    </tr>\n",
       "  </thead>\n",
       "  <tbody>\n",
       "    <tr>\n",
       "      <th>0</th>\n",
       "      <td>Role-Playing</td>\n",
       "      <td>31.16</td>\n",
       "    </tr>\n",
       "    <tr>\n",
       "      <th>1</th>\n",
       "      <td>Action</td>\n",
       "      <td>29.58</td>\n",
       "    </tr>\n",
       "    <tr>\n",
       "      <th>2</th>\n",
       "      <td>Fighting</td>\n",
       "      <td>6.37</td>\n",
       "    </tr>\n",
       "    <tr>\n",
       "      <th>3</th>\n",
       "      <td>Misc</td>\n",
       "      <td>5.61</td>\n",
       "    </tr>\n",
       "    <tr>\n",
       "      <th>4</th>\n",
       "      <td>Shooter</td>\n",
       "      <td>4.87</td>\n",
       "    </tr>\n",
       "  </tbody>\n",
       "</table>\n",
       "</div>"
      ],
      "text/plain": [
       "          genre  jp_sales\n",
       "0  Role-Playing     31.16\n",
       "1        Action     29.58\n",
       "2      Fighting      6.37\n",
       "3          Misc      5.61\n",
       "4       Shooter      4.87"
      ]
     },
     "execution_count": 98,
     "metadata": {},
     "output_type": "execute_result"
    }
   ],
   "source": [
    "jp_genres = data_actual.pivot_table(index='genre', \n",
    "                                       values='jp_sales', \n",
    "                                       aggfunc='sum')\\\n",
    "                .sort_values(by='jp_sales', ascending=False).reset_index().head()\n",
    "jp_genres"
   ]
  },
  {
   "cell_type": "code",
   "execution_count": 99,
   "id": "8a1d3317",
   "metadata": {},
   "outputs": [
    {
     "name": "stdout",
     "output_type": "stream",
     "text": [
      "Доли продаж по 5-ти популярным жанрам\n",
      "Role-Playing = 0.4015981440907332\n",
      "Action = 0.3812346951926797\n",
      "Fighting = 0.08209820853202725\n",
      "Misc = 0.07230313184688737\n",
      "Shooter = 0.06276582033767229\n"
     ]
    }
   ],
   "source": [
    "print('Доли продаж по 5-ти популярным жанрам')\n",
    "for name in range(len(jp_genres['genre'])):\n",
    "    print(jp_genres.loc[name, 'genre'], \n",
    "          '=', \n",
    "          jp_genres.loc[name, 'jp_sales'] / jp_genres['jp_sales'].sum())"
   ]
  },
  {
   "cell_type": "code",
   "execution_count": 100,
   "id": "45f9d4de",
   "metadata": {},
   "outputs": [
    {
     "data": {
      "image/png": "[encoded data removed]",
      "text/plain": [
       "<Figure size 432x288 with 1 Axes>"
      ]
     },
     "metadata": {
      "needs_background": "light"
     },
     "output_type": "display_data"
    }
   ],
   "source": [
    "plt.title('График популярности платформ в Японии')\n",
    "plt.xlabel('Жанр')\n",
    "plt.ylabel('Сумма продаж')\n",
    "plt.grid(True, alpha=0.5)\n",
    "plt.bar(jp_genres['genre'], jp_genres['jp_sales'], ec='black')\n",
    "plt.show()"
   ]
  },
  {
   "cell_type": "markdown",
   "id": "61955bf1",
   "metadata": {},
   "source": [
    "И здесь в Японии совершенно другая ситуация. Лидирует жанр Ролевых Игр, на втором месте Экшн. Файтинги и Шутеры продаются меньше, но все равно попадают в пятерку.<br>"
   ]
  },
  {
   "cell_type": "markdown",
   "id": "7c577d5e",
   "metadata": {},
   "source": [
    "#### <i>Влияет ли рейтинг ESRB на продажи?</i>"
   ]
  },
  {
   "cell_type": "code",
   "execution_count": 101,
   "id": "baa59605",
   "metadata": {},
   "outputs": [
    {
     "data": {
      "text/html": [
       "<div>\n",
       "<style scoped>\n",
       "    .dataframe tbody tr th:only-of-type {\n",
       "        vertical-align: middle;\n",
       "    }\n",
       "\n",
       "    .dataframe tbody tr th {\n",
       "        vertical-align: top;\n",
       "    }\n",
       "\n",
       "    .dataframe thead th {\n",
       "        text-align: right;\n",
       "    }\n",
       "</style>\n",
       "<table border=\"1\" class=\"dataframe\">\n",
       "  <thead>\n",
       "    <tr style=\"text-align: right;\">\n",
       "      <th></th>\n",
       "      <th>rating</th>\n",
       "      <th>jp_sales</th>\n",
       "    </tr>\n",
       "  </thead>\n",
       "  <tbody>\n",
       "    <tr>\n",
       "      <th>0</th>\n",
       "      <td>T</td>\n",
       "      <td>14.78</td>\n",
       "    </tr>\n",
       "    <tr>\n",
       "      <th>1</th>\n",
       "      <td>E</td>\n",
       "      <td>8.94</td>\n",
       "    </tr>\n",
       "    <tr>\n",
       "      <th>2</th>\n",
       "      <td>M</td>\n",
       "      <td>8.01</td>\n",
       "    </tr>\n",
       "    <tr>\n",
       "      <th>3</th>\n",
       "      <td>E10+</td>\n",
       "      <td>4.46</td>\n",
       "    </tr>\n",
       "  </tbody>\n",
       "</table>\n",
       "</div>"
      ],
      "text/plain": [
       "  rating  jp_sales\n",
       "0      T     14.78\n",
       "1      E      8.94\n",
       "2      M      8.01\n",
       "3   E10+      4.46"
      ]
     },
     "execution_count": 101,
     "metadata": {},
     "output_type": "execute_result"
    }
   ],
   "source": [
    "jp_rating = data_actual.pivot_table(index='rating', \n",
    "                                       values='jp_sales', \n",
    "                                       aggfunc='sum')\\\n",
    "                .sort_values(by='jp_sales', ascending=False).reset_index()\n",
    "jp_rating"
   ]
  },
  {
   "cell_type": "code",
   "execution_count": 102,
   "id": "c6af6db5",
   "metadata": {},
   "outputs": [
    {
     "name": "stdout",
     "output_type": "stream",
     "text": [
      "Доли продаж по рейтингу игры\n",
      "T = 0.40840011052777003\n",
      "E = 0.24702956617850258\n",
      "M = 0.22133185962973187\n",
      "E10+ = 0.12323846366399561\n"
     ]
    }
   ],
   "source": [
    "print('Доли продаж по рейтингу игры')\n",
    "for name in range(len(jp_rating['rating'])):\n",
    "    print(jp_rating.loc[name, 'rating'], \n",
    "          '=', \n",
    "          jp_rating.loc[name, 'jp_sales'] / jp_rating['jp_sales'].sum())"
   ]
  },
  {
   "cell_type": "code",
   "execution_count": 103,
   "id": "09c77149",
   "metadata": {},
   "outputs": [
    {
     "data": {
      "image/png": "[encoded data removed]",
      "text/plain": [
       "<Figure size 432x288 with 1 Axes>"
      ]
     },
     "metadata": {
      "needs_background": "light"
     },
     "output_type": "display_data"
    }
   ],
   "source": [
    "plt.title('График продаж игр по рейтингу в Японии')\n",
    "plt.xlabel('Рейтинг')\n",
    "plt.ylabel('Сумма продаж')\n",
    "plt.grid(True, alpha=0.5)\n",
    "plt.bar(jp_rating['rating'], jp_rating['jp_sales'], ec='black')\n",
    "plt.show()"
   ]
  },
  {
   "cell_type": "markdown",
   "id": "5c37c12a",
   "metadata": {},
   "source": [
    "У Японцев популярность рейтингов тоже немного отличается. Больше всего популярны рейтинги T и E. То есть на первом месте игры без большой доли жестокости. Игры для взрослых расположились только на 3 месте. <br>\n",
    "Здесь как и в предыдущих исследованиях нельзя сказать, что рейтинг напрямую влияет на продажи. Скорее он лишь характеризует популярность жанров. Ведь подобные рейтинги как раз характерны для ролевых игр"
   ]
  },
  {
   "cell_type": "markdown",
   "id": "1466c05c",
   "metadata": {},
   "source": [
    "### Вывод"
   ]
  },
  {
   "cell_type": "markdown",
   "id": "1ec118c3",
   "metadata": {},
   "source": [
    "1. Северная Америка:\n",
    "    1. Американцы больше всего предпочитают консоль нового поколения PS4 (98.61 млн), на втором месте расположился XOne (81 мн). Интересно, что из консолей последнего поколения, Американцы больше предпочитают PS4 - 108. Разница в сравнии с XOne - 93 млн. не такая большая, но все же. Консоли прошлого поколения расположились на одном уровне с портативной от Nintendo\n",
    "    2. Американцы также больше всего любят \"веселые\" и динамичные жанры. Спортивные игры замыкают тройку. Ролевые игры входят в четверку.\n",
    "    3. Нельзя однозначно сказать, что чем выше рейтинг, тем больше продаж. Но можно выделить явных \"призеров\" и \"аутсайдеров\". Больше всего игр продается с рейтингом M и E, меньше всего с E10+. Рейтинг T расположился посередине\n",
    "2. Европа:\n",
    "    1. У Европейцев из прошлого поколения консолей лидирует PS4 (130 млн). XOne (46 млн) на втором месте, но почти 3 раза менее популярен, чем PS4! PS3 расположилась на 3м месте. Интересно, что X360 даже не вошел в пятерку. В Европе Micrisoft не так популярен, как Sony. Также у европейцев пользуется популярностью ПК-гейминг.\n",
    "    2. Картина не сильно отличается от Американской. Европейцам своейственны те же жанры. Разве что, в пятерку вошли гонки.\n",
    "    3. Картина идентична Американской. Нельзя однозначно сказать, что чем выше рейтинг, тем больше продаж. Но можно выделить явных \"призеров\" и \"аутсайдеров\". Больше всего игр продается с рейтингом M и E, меньше всего с EC. Рейтинг T и E10+ расположился посередине\n",
    "3. Япония:\n",
    "    1. У Японцев совершненно другая история. Как можно заметить, в 5-ке лидеров консоли только японских производителей. Sony и Nintendo. Также интересно, что в японии лидирует портативная платформа. Кто бы мог подумать. Ее продажи более чем в 2 раза превышают продажи домашней консоли PS4. Портативные консоли в японии не просто лидируют, а занимают 4 места из 5 в пятерке самых популярных. PS4 на равне с PSV. Возможно на родине PS4 еще не успела обзавестись фанатами\n",
    "    2. И здесь в Японии совершенно другая ситуация. Лидирует жанр Ролевых Игр, на втором месте Экшн. Файтинги и Шутеры продаются меньше, но все равно попадают в пятерку.\n",
    "    3. У Японцев популярность рейтингов тоже немного отличается. Больше всего популярны рейтинги T и E. То есть на первом месте игры без большой доли жестокости. Игры для взрослых расположились только на 3 месте. Здесь как и в предыдущих исследованиях нельзя сказать, что рейтинг напрямую влияет на продажи. Скорее он лишь характеризует популярность жанров. Ведь подобные рейтинги как раз характерны для ролевых игр"
   ]
  },
  {
   "cell_type": "markdown",
   "id": "57125253",
   "metadata": {},
   "source": [
    "## Првоерка гипотез"
   ]
  },
  {
   "cell_type": "markdown",
   "id": "909defc9",
   "metadata": {},
   "source": [
    "### Средние пользовательские рейтинги платформ Xbox One и PC одинаковые"
   ]
  },
  {
   "cell_type": "markdown",
   "id": "28f1f7fb",
   "metadata": {},
   "source": [
    "Будем сравнивать средние двух выборок: Пользователей XOne и PC. Для этого воспользуемся методом `scipy.stats.ttest_ind`. Который как раз предназначен для сравнения средних двух выборок"
   ]
  },
  {
   "cell_type": "markdown",
   "id": "de58af56",
   "metadata": {},
   "source": [
    "Нулевая гипотеза: Средний рейтинг пользователей XOne равен среднему рейтингу пользователей PC<br>\n",
    "Альтернативная гипотеза: Средний рейтинг пользователей XOne не равен среднему рейтингу пользователей PC<br>\n",
    "<br>\n",
    "В качетсве альтернативной гипотезы будем использовать двухстороннюю. Потому что, если рейтинг отличается, было бы полезно понимать в какую сторону"
   ]
  },
  {
   "cell_type": "code",
   "execution_count": 104,
   "id": "078193b6",
   "metadata": {},
   "outputs": [],
   "source": [
    "users_xone = data_actual[(data_actual['platform'] == 'XOne') & (~data_actual['user_score'].isna())]\n",
    "users_pc = data_actual[(data_actual['platform'] == 'PC') & (~data_actual['user_score'].isna())]"
   ]
  },
  {
   "cell_type": "code",
   "execution_count": 105,
   "id": "b1bf8a8a",
   "metadata": {},
   "outputs": [
    {
     "name": "stdout",
     "output_type": "stream",
     "text": [
      "Средний user-рейтинг XOne: 6.594545454545456\n",
      "Средний user-рейтинг PC: 6.298360655737705\n",
      "p-value: 0.11601398086668832\n",
      "Нет оснований отвергнуть нулевую гипотезу\n"
     ]
    }
   ],
   "source": [
    "print('Средний user-рейтинг XOne:', users_xone['user_score'].mean())\n",
    "print('Средний user-рейтинг PC:', users_pc['user_score'].mean())\n",
    "\n",
    "# Уровень статистической значимости зададим в 5%\n",
    "alpha = 0.05\n",
    "\n",
    "# Так как выборки по размеру довольно разные, будем использовать equal_var=False\n",
    "result_1 = st.ttest_ind(users_xone['user_score'], users_pc['user_score'], equal_var=False)\n",
    "\n",
    "print('p-value:', result_1.pvalue)\n",
    "\n",
    "if result_1.pvalue < alpha:\n",
    "    print('Отвергаем нулевую гипотезу в пользу альтернативной')\n",
    "else:\n",
    "    print('Нет оснований отвергнуть нулевую гипотезу')"
   ]
  },
  {
   "cell_type": "markdown",
   "id": "18933d38",
   "metadata": {},
   "source": [
    "Нет оснований полагать, что нулевая гипотеза не верна. Согласно данным наших выборок, можно сказать, что средние пользовательские рейтинги платформ Xbox One и PC одинаковые"
   ]
  },
  {
   "cell_type": "markdown",
   "id": "9e335374",
   "metadata": {},
   "source": [
    "### Средние пользовательские рейтинги жанров Action (англ. «действие», экшен-игры) и Sports (англ. «спортивные соревнования») разные."
   ]
  },
  {
   "cell_type": "markdown",
   "id": "b7b2b2f8",
   "metadata": {},
   "source": [
    "Будем сравнивать средние двух выборок: Рейтинги жанра Action и Sports. Для этого воспользуемся методом `scipy.stats.ttest_ind`. Который как раз предназначен для сравнения средних двух выборок"
   ]
  },
  {
   "cell_type": "markdown",
   "id": "6459096f",
   "metadata": {},
   "source": [
    "Нулевая гипотеза:  Средние пользовательские рейтинги жанров Action и Sports равны<br>\n",
    "Альтернативная гипотеза: Средние пользовательские рейтинги жанров Action и Sports не равны<br>\n",
    "<br>\n",
    "В качестве альтернативной гипотезы тоже будем использовать двухсторонную. Так пользовательские рейтинги могут отличаться, как в большую, так и в меньшую стороны. Это стоит учитывать"
   ]
  },
  {
   "cell_type": "code",
   "execution_count": 106,
   "id": "59d6f9c4",
   "metadata": {},
   "outputs": [],
   "source": [
    "genres_action = data_actual[(data_actual['genre'] == 'Action') & (~data_actual['user_score'].isna())]\n",
    "genres_sports = data_actual[(data_actual['genre'] == 'Sports') & (~data_actual['user_score'].isna())]"
   ]
  },
  {
   "cell_type": "code",
   "execution_count": 107,
   "id": "af761925",
   "metadata": {},
   "outputs": [
    {
     "name": "stdout",
     "output_type": "stream",
     "text": [
      "Средний user-рейтинг жанра Action: 6.760606060606061\n",
      "Средний user-рейтинг жанра Sports: 5.2251968503937\n",
      "p-value: 1.1825550382644557e-14\n",
      "Отвергаем нулевую гипотезу в пользу альтернативной\n"
     ]
    }
   ],
   "source": [
    "print('Средний user-рейтинг жанра Action:', genres_action['user_score'].mean())\n",
    "print('Средний user-рейтинг жанра Sports:', genres_sports['user_score'].mean())\n",
    "\n",
    "# Уровень статистической значимости зададим в 5%\n",
    "alpha = 0.05\n",
    "\n",
    "# Так как выборки по размеру довольно разные, будем использовать equal_var=False\n",
    "result_2 = st.ttest_ind(genres_action['user_score'], genres_sports['user_score'], equal_var=False)\n",
    "\n",
    "print('p-value:', result_2.pvalue)\n",
    "\n",
    "if result_2.pvalue < alpha:\n",
    "    print('Отвергаем нулевую гипотезу в пользу альтернативной')\n",
    "else:\n",
    "    print('Нет оснований отвергнуть нулевую гипотезу')"
   ]
  },
  {
   "cell_type": "markdown",
   "id": "6126d07c",
   "metadata": {},
   "source": [
    "Исходя из данных наших выборок, мы можем сказать, что у нас достаточно оснований отвергнуть нулевую гипотезу в пользу альтернативной<br>\n",
    "То есть, мы подтверждаем, что средние пользовательские рейтинги жанров Action и Sports не равны. При этом, средний рейтинг жанра Sports меньше жанра Action"
   ]
  },
  {
   "cell_type": "markdown",
   "id": "b12c5deb",
   "metadata": {},
   "source": [
    "### Вывод"
   ]
  },
  {
   "cell_type": "markdown",
   "id": "976366ee",
   "metadata": {},
   "source": [
    "1. Согласно данным наших выборок, можно сказать, что средние пользовательские рейтинги платформ Xbox One и PC одинаковые\n",
    "2. Cредние пользовательские рейтинги жанров Action и Sports не равны. При этом, средний рейтинг жанра Sports меньше жанра Action"
   ]
  },
  {
   "cell_type": "markdown",
   "id": "f51bdfb5",
   "metadata": {},
   "source": [
    "## Общий вывод"
   ]
  },
  {
   "cell_type": "markdown",
   "id": "96935942",
   "metadata": {},
   "source": [
    "1. Проведена предобработка данных:\n",
    "    1. Названия столбцов приведены к нижнему регистру\n",
    "    2. В столбце `users_score` изменили тип данных на float. Чтобы не искажать результаты исследования, заменили 'tbd' на пропуски\n",
    "    3. Где это было возможно пропуски были обработаны. В столбцах `critic_score`, `user_score` и `rating` пропуски сокращены примерно на 5%. Для остальных данных невозможно предложить корректную методику заполнения пропусков. Поэтому оставим их как есть. Строки с пропусками в столбцах `name` и `genre` удалены. Они одинакавы и строка без названия игры, оценки критиков и юзеров не имеет смысла для исследования. В столбце `year_of_release` пропуски оставили, как есть, так как исследованию они не мешают, а заполнить корректными значениями невозможно\n",
    "    4. Добавлен столбец с суммой продаж по всем регионам\n",
    "    5. Аномалий и дубликатов нет\n",
    "    6. Можно предположить, что данные собирались из множества открытых источников. Неизвестно, что это за источник, и какая информация в нем хранилась. Например источник мог просто не опубликавать какую то информацию об игре. Или, если этот датасет собирался из нескольких датасетов, то из-за не совсем корректного \"слияния\" некоторые данные могли \"потеряться\"\n",
    "<br><br>\n",
    "<b>Стоит обратить внимание на источник данных. Много пропусков в важных столбцах</b>\n",
    "\n",
    "-----------------------------------\n",
    "2. Исследовательский анализ данных:\n",
    "    1. Основная масса игр продавалась с 2007 по 2010. Меньше всего игр выпускалось с 1980 по 1994. Первый резкий пик произошел в 1995 году. После 2008 года начался спад. В 2015 году игр вышло примерно столько же, сколько в 1998\n",
    "    2. На старте выхода консоли она только набирает популярность. С каждым годом продажи игр для определенной консоли увеличиваются. Потом они достигают определенного пика и дальше идут на спад. Это можно объяснить простым устареванием консоли и ее технологий, и/или приходу на смену нового поколения. Разным платформам необходимо разное время, чтобы достичь пика, но чаще всего значения в диапазоне от 2 до 6 лет.\n",
    "    3. Для прогнозирования возьмем период в 3 года, начиная с 2014.\n",
    "    4. продажи консолей предыдущих поколений (X360, PS3, Wii) стремятся к максимально низким. После выхода новых поколений виден резкий спад, который к следующим годам только уcиливается. Для консолей нового поколения тоже все не сильно радужно. 2015 год был лучшим, а уже в 2016 продажи пошли на спад, но все еще выше остальных. Возможно это обусловлено меньшим количеством новых и интересных публике игр. Что касается портативных консолей, то глядя на графики можно сказать, что этот формат сам по себе теряет свою популярность.\n",
    "    ----------------------------\n",
    "        PSP   0.36\n",
    "        Wii   5.07\n",
    "        PSV   22.40\n",
    "        PC    27.05\n",
    "        WiiU  42.98\n",
    "        X360  48.22\n",
    "        PS3   68.18\n",
    "        3DS   86.68\n",
    "        XOne  140.36\n",
    "        PS4   288.15\n",
    "    ----------------------------\n",
    "    5. Между характиристиками \"Оценка критиков\", \"Оценка пользовтелей\" и \"Общие продажи\" нет прямой связи. Скорее всего можно предположить, что связь нелинейная, а имеет более сложную зависимость.\n",
    "    ----------------------------\n",
    "            Корреляция хар-ик \"Оценка критиков\" и \"Общие продажи\" для PS4 = 0.368\n",
    "            Корреляция хар-ик \"Оценка пользователй\" и \"Общие продажи\" для PS4 = 0.070\n",
    "            Корреляция хар-ик \"Оценка критиков\" и \"Продажи\" для XOne: 0.42867694370333187\n",
    "            Корреляция хар-ик \"Оценка критиков\" и \"Продажи\" для 3DS: 0.314117492869051\n",
    "            Корреляция хар-ик \"Оценка пользователей\" и \"Продажи\" для XOne: -0.07038392806475809\n",
    "            Корреляция хар-ик \"Оценка пользователей\" и \"Продажи\" для 3DS: 0.2151932718527028\n",
    "    ----------------------------\n",
    "    6. В лидерах жанр со стабильно высокими продажами - Shooter, его средние и медианные продажи выше всех: 1.3 и 0.5. На втором месте расположился жанр Sports, со средним и медианой: 0.7 и 0.2. Хоть жанр Action изначально и оказался на 1 месте по общим продажам, более детальный график говорит немного другое: этот жанр со стабильно средними продажами и большим количеством выбросов (аномально высокими значениями). Возможно это связано с какими-либо очень популярными сериями игр (напр. GTA). А остальные продаются не так хорошо. А вот Puzzle и Strategy - имеют стабильно низкие продажи. Средние значения представлены ниже\n",
    "    ----------------------------\n",
    "            genre          mean      median\n",
    "            Adventure      0.094865  0.030\n",
    "            Puzzle         0.157857  0.045\n",
    "            Strategy       0.107027  0.060\n",
    "            Action         0.322068  0.090\n",
    "            Misc           0.332301  0.090\n",
    "            Racing         0.398841  0.090\n",
    "            Simulation     0.298409  0.100\n",
    "            Role-Playing   0.459005  0.110\n",
    "            Fighting       0.470333  0.125\n",
    "            Platform       0.476053  0.140\n",
    "            Sports         0.680000  0.180\n",
    "            Shooter        1.335469  0.515\n",
    "    ----------------------------\n",
    "<br><b>В 2017 году стоит сделать акцент на продажу игр для консолей нового поколения: PS4 и X360. В качестве жанров стоит выбрать более динамичные: Шутеры, Спортивные. Так же стоит обратить внимание на популярные серии игр в жанре Экшн.</b>    \n",
    "<br>\n",
    "3. Построен портрет пользователя каждого региона\n",
    "    1. Америка<br>\n",
    "    \n",
    "        Американцы больше всего предпочитают консоль нового поколения PS4 (98.61 млн), на втором месте расположился XOne (81 мн). Интересно, что из консолей последнего поколения, Американцы больше предпочитают PS4 - 108. Разница в сравнии с XOne - 93 млн. не такая большая, но все же.\n",
    "    ----------------------------\n",
    "            PS4   98.61\n",
    "            XOne  81.27\n",
    "            X360  28.30\n",
    "            3DS   22.64\n",
    "            PS3   22.05\n",
    "    ----------------------------\n",
    "        В Северной Америке на первом месте Шутеры, потом Экшн (это также может быть связано с несколькими очень популярными сериями игр). Американцы не прочь поиграть и в Спортивный жанр, он в тройке лидеров. Ролевые игры также входят в пятерку\n",
    "    ----------------------------\n",
    "            Shooter       79.02\n",
    "            Action        72.53\n",
    "            Sports        46.13\n",
    "            Role-Playing  33.47\n",
    "            Misc          15.05\n",
    "    ----------------------------\n",
    "        Нельзя однозначно сказать, что чем выше рейтинг, тем больше продаж. Но можно выделить явных \"призеров\" и \"аутсайдеров\". Больше всего игр продается с рейтингом M и E, меньше всего с E10+. Рейтинг T расположился посередине\n",
    "    ----------------------------\n",
    "            M     96.42\n",
    "            E     50.74\n",
    "            T     38.95\n",
    "            E10+  33.23\n",
    "    ----------------------------\n",
    "    2. Европа<br>\n",
    "    \n",
    "        У Европейцев из прошлого поколения консолей лидирует PS4 (130 млн). XOne (46 млн) на втором месте, но почти 3 раза менее популярен, чем PS4! PS3 расположилась на 3м месте. Интересно, что X360 даже не вошел в пятерку. В Европе Micrisoft не так популярен, как Sony Также у европейцев пользуется популярностью ПК-гейминг.\n",
    "    ----------------------------\n",
    "            PS4   130.04\n",
    "            XOne  46.25\n",
    "            PS3   25.54\n",
    "            PC    17.97\n",
    "            3DS   16.12\n",
    "    ----------------------------\n",
    "        Картина не сильно отличается от Американской. Европейцам своейственны те же жанры. Разве что, в пятерку вошли гонки\n",
    "    ----------------------------\n",
    "            Action        74.68\n",
    "            Shooter       65.52\n",
    "            Sports        45.73\n",
    "            Role-Playing  28.17\n",
    "            Racing        14.13\n",
    "    ----------------------------\n",
    "        Картина идентична Американской. Нельзя однозначно сказать, что чем выше рейтинг, тем больше продаж. Но можно выделить явных \"призеров\" и \"аутсайдеров\". Больше всего игр продается с рейтингом M и E, меньше всего с E10+. Рейтинг T расположился посередине\n",
    "    ----------------------------\n",
    "            M    93.44\n",
    "            E    58.06\n",
    "            T    34.07\n",
    "            E10+ 26.16\n",
    "    ----------------------------\n",
    "    3. Япония<br>\n",
    "    \n",
    "      У Японцев совершненно другая история. Как можно заметить, в 5-ке лидеров консоли только японских производителей. Sony и Nintendo. Также интересно, что в японии лидирует портативная платформа. Кто бы мог подумать. Ее продажи более чем в 2 раза превышают продажи домашней консоли PS4. Портативные консоли в японии не просто лидируют, а занимают 4 места из 5 в пятерке самых популярных. PS4 на равне с PSV. Возможно на родине PS4 еще не успела обзавестись фанатами\n",
    "    ----------------------------\n",
    "            3DS   44.24\n",
    "            PS4   15.02\n",
    "            PSV   14.54\n",
    "            PS3   11.22\n",
    "            WiiU  7.31\n",
    "    ----------------------------\n",
    "        И здесь в Японии совершенно другая ситуация. Лидирует жанр Ролевых Игр, на втором месте Экшн. Файтинги и Шутеры продаются меньше, но все равно попадают в пятерку.\n",
    "    ----------------------------\n",
    "            Role-Playing  31.16\n",
    "            Action        29.58\n",
    "            Fighting      6.37\n",
    "            Misc          5.61\n",
    "            Shooter       4.87\n",
    "    ----------------------------\n",
    "        У Японцев популярность рейтингов тоже немного отличается. Больше всего популярны рейтинги T и E. То есть на первом месте игры без большой доли жестокости. Игры для взрослых расположились только на 3 месте. Здесь как и в предыдущих исследованиях нельзя сказать, что рейтинг напрямую влияет на продажи. Скорее он лишь характеризует популярность жанров. Ведь подобные рейтинги как раз характерны для ролевых игр\n",
    "    ----------------------------\n",
    "            T     14.78\n",
    "            E     8.94\n",
    "            M     8.01\n",
    "            E10+  4.46\n",
    "    ----------------------------\n",
    "<br><b><i>Для продаж на Американском рынке</i> стоит сделать акценты на продажу игр для консолей нового поколения (PS4, XOne). В качестве жанров выбрать Шутеры, Экшны, Спортивные и Ролевые.<br>\n",
    "<i>Для продаж на Европейском рынке</i> стоит также сделать акцент на игры для консолей нового поколения. В большей степени PS4, так как она намного популярнее XOne. В качетсве жанров тоже можно выбрать Шутеры, Экшны, Спортивные и Гонки.<br>\n",
    "<i>Для Японского рынка</i> стоит выбрать игры для портативных консолей. В осноном игры для Sony и Nintendo. Про PS4 все таки тоже забывать не стоит. В качестве жанров стоит выбрать Ролевые игры, Экшн и Файтинги. </b>    \n",
    "<br>\n",
    "4. Проверка гипотез\n",
    "    1. <b>Согласно данным наших выборок, можно сказать, что средние пользовательские рейтинги платформ Xbox One и PC одинаковые:</b><br>\n",
    "        Средний user-рейтинг XOne: 6.604368932038835<br>\n",
    "        Средний user-рейтинг PC: 6.511023622047245<br>\n",
    "        p-value: 0.4563994343713681<br>\n",
    "        Нет оснований отвергнуть нулевую гипотезу<br>\n",
    "        <br>\n",
    "    2. <b>Cредние пользовательские рейтинги жанров Action и Sports не равны. При этом, средний рейтинг жанра Sports меньше жанра Action:</b><br>\n",
    "        Средний user-рейтинг жанра Action: 6.785258525852584<br>\n",
    "        Средний user-рейтинг жанра Sports: 5.913506493506493<br>\n",
    "        p-value: 1.3719285255474127e-18<br>\n",
    "        Отвергаем нулевую гипотезу в пользу альтернативной"
   ]
  }
 ],
 "metadata": {
  "ExecuteTimeLog": [
   {
    "duration": 1230,
    "start_time": "2023-09-18T22:29:05.544Z"
   },
   {
    "duration": 135,
    "start_time": "2023-09-18T22:29:06.776Z"
   },
   {
    "duration": 0,
    "start_time": "2023-09-18T22:29:06.916Z"
   },
   {
    "duration": 0,
    "start_time": "2023-09-18T22:29:06.917Z"
   },
   {
    "duration": 0,
    "start_time": "2023-09-18T22:29:06.918Z"
   },
   {
    "duration": 0,
    "start_time": "2023-09-18T22:29:06.919Z"
   },
   {
    "duration": 0,
    "start_time": "2023-09-18T22:29:06.921Z"
   },
   {
    "duration": 0,
    "start_time": "2023-09-18T22:29:06.922Z"
   },
   {
    "duration": 0,
    "start_time": "2023-09-18T22:29:06.923Z"
   },
   {
    "duration": 0,
    "start_time": "2023-09-18T22:29:06.924Z"
   },
   {
    "duration": 0,
    "start_time": "2023-09-18T22:29:06.925Z"
   },
   {
    "duration": 0,
    "start_time": "2023-09-18T22:29:06.926Z"
   },
   {
    "duration": 0,
    "start_time": "2023-09-18T22:29:06.927Z"
   },
   {
    "duration": 0,
    "start_time": "2023-09-18T22:29:06.928Z"
   },
   {
    "duration": 0,
    "start_time": "2023-09-18T22:29:06.929Z"
   },
   {
    "duration": 0,
    "start_time": "2023-09-18T22:29:06.930Z"
   },
   {
    "duration": 0,
    "start_time": "2023-09-18T22:29:06.932Z"
   },
   {
    "duration": 0,
    "start_time": "2023-09-18T22:29:06.933Z"
   },
   {
    "duration": 0,
    "start_time": "2023-09-18T22:29:06.935Z"
   },
   {
    "duration": 0,
    "start_time": "2023-09-18T22:29:06.936Z"
   },
   {
    "duration": 0,
    "start_time": "2023-09-18T22:29:06.937Z"
   },
   {
    "duration": 0,
    "start_time": "2023-09-18T22:29:06.938Z"
   },
   {
    "duration": 0,
    "start_time": "2023-09-18T22:29:06.939Z"
   },
   {
    "duration": 0,
    "start_time": "2023-09-18T22:29:06.940Z"
   },
   {
    "duration": 0,
    "start_time": "2023-09-18T22:29:06.941Z"
   },
   {
    "duration": 0,
    "start_time": "2023-09-18T22:29:06.942Z"
   },
   {
    "duration": 0,
    "start_time": "2023-09-18T22:29:06.944Z"
   },
   {
    "duration": 0,
    "start_time": "2023-09-18T22:29:06.945Z"
   },
   {
    "duration": 0,
    "start_time": "2023-09-18T22:29:06.946Z"
   },
   {
    "duration": 0,
    "start_time": "2023-09-18T22:29:06.947Z"
   },
   {
    "duration": 0,
    "start_time": "2023-09-18T22:29:07.001Z"
   },
   {
    "duration": 0,
    "start_time": "2023-09-18T22:29:07.003Z"
   },
   {
    "duration": 0,
    "start_time": "2023-09-18T22:29:07.004Z"
   },
   {
    "duration": 0,
    "start_time": "2023-09-18T22:29:07.005Z"
   },
   {
    "duration": 0,
    "start_time": "2023-09-18T22:29:07.006Z"
   },
   {
    "duration": 0,
    "start_time": "2023-09-18T22:29:07.007Z"
   },
   {
    "duration": 0,
    "start_time": "2023-09-18T22:29:07.008Z"
   },
   {
    "duration": 0,
    "start_time": "2023-09-18T22:29:07.009Z"
   },
   {
    "duration": 0,
    "start_time": "2023-09-18T22:29:07.010Z"
   },
   {
    "duration": 0,
    "start_time": "2023-09-18T22:29:07.011Z"
   },
   {
    "duration": 0,
    "start_time": "2023-09-18T22:29:07.012Z"
   },
   {
    "duration": 0,
    "start_time": "2023-09-18T22:29:07.014Z"
   },
   {
    "duration": 0,
    "start_time": "2023-09-18T22:29:07.015Z"
   },
   {
    "duration": 0,
    "start_time": "2023-09-18T22:29:07.016Z"
   },
   {
    "duration": 0,
    "start_time": "2023-09-18T22:29:07.017Z"
   },
   {
    "duration": 0,
    "start_time": "2023-09-18T22:29:07.018Z"
   },
   {
    "duration": 0,
    "start_time": "2023-09-18T22:29:07.019Z"
   },
   {
    "duration": 0,
    "start_time": "2023-09-18T22:29:07.020Z"
   },
   {
    "duration": 0,
    "start_time": "2023-09-18T22:29:07.021Z"
   },
   {
    "duration": 0,
    "start_time": "2023-09-18T22:29:07.022Z"
   },
   {
    "duration": 0,
    "start_time": "2023-09-18T22:29:07.023Z"
   },
   {
    "duration": 0,
    "start_time": "2023-09-18T22:29:07.024Z"
   },
   {
    "duration": 0,
    "start_time": "2023-09-18T22:29:07.025Z"
   },
   {
    "duration": 0,
    "start_time": "2023-09-18T22:29:07.026Z"
   },
   {
    "duration": 0,
    "start_time": "2023-09-18T22:29:07.027Z"
   },
   {
    "duration": 0,
    "start_time": "2023-09-18T22:29:07.028Z"
   },
   {
    "duration": 1,
    "start_time": "2023-09-18T22:29:07.029Z"
   },
   {
    "duration": 0,
    "start_time": "2023-09-18T22:29:07.030Z"
   },
   {
    "duration": 0,
    "start_time": "2023-09-18T22:29:07.032Z"
   },
   {
    "duration": 0,
    "start_time": "2023-09-18T22:29:07.033Z"
   },
   {
    "duration": 0,
    "start_time": "2023-09-18T22:29:07.034Z"
   },
   {
    "duration": 0,
    "start_time": "2023-09-18T22:29:07.034Z"
   },
   {
    "duration": 0,
    "start_time": "2023-09-18T22:29:07.035Z"
   },
   {
    "duration": 0,
    "start_time": "2023-09-18T22:29:07.036Z"
   },
   {
    "duration": 0,
    "start_time": "2023-09-18T22:29:07.038Z"
   },
   {
    "duration": 1,
    "start_time": "2023-09-18T22:29:07.038Z"
   },
   {
    "duration": 0,
    "start_time": "2023-09-18T22:29:07.101Z"
   },
   {
    "duration": 0,
    "start_time": "2023-09-18T22:29:07.103Z"
   },
   {
    "duration": 0,
    "start_time": "2023-09-18T22:29:07.104Z"
   },
   {
    "duration": 0,
    "start_time": "2023-09-18T22:29:07.105Z"
   },
   {
    "duration": 0,
    "start_time": "2023-09-18T22:29:07.106Z"
   },
   {
    "duration": 0,
    "start_time": "2023-09-18T22:29:07.107Z"
   },
   {
    "duration": 0,
    "start_time": "2023-09-18T22:29:07.108Z"
   },
   {
    "duration": 0,
    "start_time": "2023-09-18T22:29:07.109Z"
   },
   {
    "duration": 0,
    "start_time": "2023-09-18T22:29:07.110Z"
   },
   {
    "duration": 0,
    "start_time": "2023-09-18T22:29:07.111Z"
   },
   {
    "duration": 0,
    "start_time": "2023-09-18T22:29:07.113Z"
   },
   {
    "duration": 0,
    "start_time": "2023-09-18T22:29:07.114Z"
   },
   {
    "duration": 0,
    "start_time": "2023-09-18T22:29:07.115Z"
   },
   {
    "duration": 0,
    "start_time": "2023-09-18T22:29:07.116Z"
   },
   {
    "duration": 0,
    "start_time": "2023-09-18T22:29:07.117Z"
   },
   {
    "duration": 0,
    "start_time": "2023-09-18T22:29:07.118Z"
   },
   {
    "duration": 0,
    "start_time": "2023-09-18T22:29:07.119Z"
   },
   {
    "duration": 0,
    "start_time": "2023-09-18T22:29:07.120Z"
   },
   {
    "duration": 0,
    "start_time": "2023-09-18T22:29:07.121Z"
   },
   {
    "duration": 0,
    "start_time": "2023-09-18T22:29:07.122Z"
   },
   {
    "duration": 0,
    "start_time": "2023-09-18T22:29:07.123Z"
   },
   {
    "duration": 0,
    "start_time": "2023-09-18T22:29:07.125Z"
   },
   {
    "duration": 1,
    "start_time": "2023-09-18T22:29:07.125Z"
   },
   {
    "duration": 0,
    "start_time": "2023-09-18T22:29:07.127Z"
   },
   {
    "duration": 0,
    "start_time": "2023-09-18T22:29:07.128Z"
   },
   {
    "duration": 0,
    "start_time": "2023-09-18T22:29:07.129Z"
   },
   {
    "duration": 0,
    "start_time": "2023-09-18T22:29:07.130Z"
   },
   {
    "duration": 0,
    "start_time": "2023-09-18T22:29:07.131Z"
   },
   {
    "duration": 0,
    "start_time": "2023-09-18T22:29:07.132Z"
   },
   {
    "duration": 0,
    "start_time": "2023-09-18T22:29:07.133Z"
   },
   {
    "duration": 0,
    "start_time": "2023-09-18T22:29:07.134Z"
   },
   {
    "duration": 0,
    "start_time": "2023-09-18T22:29:07.135Z"
   },
   {
    "duration": 0,
    "start_time": "2023-09-18T22:29:07.136Z"
   },
   {
    "duration": 1308,
    "start_time": "2023-09-18T22:29:46.034Z"
   },
   {
    "duration": 114,
    "start_time": "2023-09-18T22:29:47.344Z"
   },
   {
    "duration": 20,
    "start_time": "2023-09-18T22:29:47.460Z"
   },
   {
    "duration": 30,
    "start_time": "2023-09-18T22:29:47.483Z"
   },
   {
    "duration": 3,
    "start_time": "2023-09-18T22:29:47.515Z"
   },
   {
    "duration": 19,
    "start_time": "2023-09-18T22:29:47.519Z"
   },
   {
    "duration": 21,
    "start_time": "2023-09-18T22:29:47.540Z"
   },
   {
    "duration": 19,
    "start_time": "2023-09-18T22:29:47.562Z"
   },
   {
    "duration": 33,
    "start_time": "2023-09-18T22:29:47.583Z"
   },
   {
    "duration": 51,
    "start_time": "2023-09-18T22:29:47.619Z"
   },
   {
    "duration": 14,
    "start_time": "2023-09-18T22:29:47.672Z"
   },
   {
    "duration": 12,
    "start_time": "2023-09-18T22:29:47.689Z"
   },
   {
    "duration": 32,
    "start_time": "2023-09-18T22:29:47.703Z"
   },
   {
    "duration": 30,
    "start_time": "2023-09-18T22:29:47.737Z"
   },
   {
    "duration": 44,
    "start_time": "2023-09-18T22:29:47.769Z"
   },
   {
    "duration": 268,
    "start_time": "2023-09-18T22:29:47.815Z"
   },
   {
    "duration": 29,
    "start_time": "2023-09-18T22:29:48.085Z"
   },
   {
    "duration": 25,
    "start_time": "2023-09-18T22:29:48.116Z"
   },
   {
    "duration": 23,
    "start_time": "2023-09-18T22:29:48.143Z"
   },
   {
    "duration": 22,
    "start_time": "2023-09-18T22:29:48.168Z"
   },
   {
    "duration": 48,
    "start_time": "2023-09-18T22:29:48.202Z"
   },
   {
    "duration": 2169,
    "start_time": "2023-09-18T22:29:48.252Z"
   },
   {
    "duration": 3745,
    "start_time": "2023-09-18T22:29:50.422Z"
   },
   {
    "duration": 4318,
    "start_time": "2023-09-18T22:29:54.168Z"
   },
   {
    "duration": 15,
    "start_time": "2023-09-18T22:29:58.487Z"
   },
   {
    "duration": 9,
    "start_time": "2023-09-18T22:29:58.504Z"
   },
   {
    "duration": 343,
    "start_time": "2023-09-18T22:29:58.515Z"
   },
   {
    "duration": 15,
    "start_time": "2023-09-18T22:29:58.862Z"
   },
   {
    "duration": 22,
    "start_time": "2023-09-18T22:29:58.879Z"
   },
   {
    "duration": 14,
    "start_time": "2023-09-18T22:29:58.903Z"
   },
   {
    "duration": 81,
    "start_time": "2023-09-18T22:29:58.919Z"
   },
   {
    "duration": 227,
    "start_time": "2023-09-18T22:29:59.001Z"
   },
   {
    "duration": 69,
    "start_time": "2023-09-18T22:29:59.230Z"
   },
   {
    "duration": 36,
    "start_time": "2023-09-18T22:29:59.301Z"
   },
   {
    "duration": 1200,
    "start_time": "2023-09-18T22:29:59.339Z"
   },
   {
    "duration": 18,
    "start_time": "2023-09-18T22:30:00.540Z"
   },
   {
    "duration": 57,
    "start_time": "2023-09-18T22:30:00.559Z"
   },
   {
    "duration": 61,
    "start_time": "2023-09-18T22:30:00.617Z"
   },
   {
    "duration": 237,
    "start_time": "2023-09-18T22:30:00.680Z"
   },
   {
    "duration": 389,
    "start_time": "2023-09-18T22:30:00.919Z"
   },
   {
    "duration": 23,
    "start_time": "2023-09-18T22:30:01.310Z"
   },
   {
    "duration": 125,
    "start_time": "2023-09-18T22:30:01.335Z"
   },
   {
    "duration": 155,
    "start_time": "2023-09-18T22:30:01.462Z"
   },
   {
    "duration": 672,
    "start_time": "2023-09-18T22:30:01.619Z"
   },
   {
    "duration": 12,
    "start_time": "2023-09-18T22:30:02.292Z"
   },
   {
    "duration": 267,
    "start_time": "2023-09-18T22:30:02.306Z"
   },
   {
    "duration": 311,
    "start_time": "2023-09-18T22:30:02.575Z"
   },
   {
    "duration": 2387,
    "start_time": "2023-09-18T22:30:02.888Z"
   },
   {
    "duration": 307,
    "start_time": "2023-09-18T22:30:05.278Z"
   },
   {
    "duration": 25,
    "start_time": "2023-09-18T22:30:05.586Z"
   },
   {
    "duration": 42,
    "start_time": "2023-09-18T22:30:05.612Z"
   },
   {
    "duration": 253,
    "start_time": "2023-09-18T22:30:05.655Z"
   },
   {
    "duration": 4,
    "start_time": "2023-09-18T22:30:05.910Z"
   },
   {
    "duration": 1669,
    "start_time": "2023-09-18T22:30:05.916Z"
   },
   {
    "duration": 19,
    "start_time": "2023-09-18T22:30:07.587Z"
   },
   {
    "duration": 270,
    "start_time": "2023-09-18T22:30:07.608Z"
   },
   {
    "duration": 7,
    "start_time": "2023-09-18T22:30:07.879Z"
   },
   {
    "duration": 26,
    "start_time": "2023-09-18T22:30:07.888Z"
   },
   {
    "duration": 30,
    "start_time": "2023-09-18T22:30:07.915Z"
   },
   {
    "duration": 155,
    "start_time": "2023-09-18T22:30:07.947Z"
   },
   {
    "duration": 4,
    "start_time": "2023-09-18T22:30:08.104Z"
   },
   {
    "duration": 266,
    "start_time": "2023-09-18T22:30:08.110Z"
   },
   {
    "duration": 4,
    "start_time": "2023-09-18T22:30:08.378Z"
   },
   {
    "duration": 37,
    "start_time": "2023-09-18T22:30:08.383Z"
   },
   {
    "duration": 1490,
    "start_time": "2023-09-18T22:30:08.421Z"
   },
   {
    "duration": 1439,
    "start_time": "2023-09-18T22:30:09.913Z"
   },
   {
    "duration": 16,
    "start_time": "2023-09-18T22:30:11.353Z"
   },
   {
    "duration": 195,
    "start_time": "2023-09-18T22:30:11.371Z"
   },
   {
    "duration": 15,
    "start_time": "2023-09-18T22:30:11.568Z"
   },
   {
    "duration": 21,
    "start_time": "2023-09-18T22:30:11.584Z"
   },
   {
    "duration": 236,
    "start_time": "2023-09-18T22:30:11.607Z"
   },
   {
    "duration": 15,
    "start_time": "2023-09-18T22:30:11.844Z"
   },
   {
    "duration": 6,
    "start_time": "2023-09-18T22:30:11.861Z"
   },
   {
    "duration": 150,
    "start_time": "2023-09-18T22:30:11.868Z"
   },
   {
    "duration": 19,
    "start_time": "2023-09-18T22:30:12.020Z"
   },
   {
    "duration": 6,
    "start_time": "2023-09-18T22:30:12.041Z"
   },
   {
    "duration": 167,
    "start_time": "2023-09-18T22:30:12.049Z"
   },
   {
    "duration": 18,
    "start_time": "2023-09-18T22:30:12.218Z"
   },
   {
    "duration": 8,
    "start_time": "2023-09-18T22:30:12.238Z"
   },
   {
    "duration": 158,
    "start_time": "2023-09-18T22:30:12.247Z"
   },
   {
    "duration": 16,
    "start_time": "2023-09-18T22:30:12.406Z"
   },
   {
    "duration": 7,
    "start_time": "2023-09-18T22:30:12.427Z"
   },
   {
    "duration": 146,
    "start_time": "2023-09-18T22:30:12.436Z"
   },
   {
    "duration": 24,
    "start_time": "2023-09-18T22:30:12.584Z"
   },
   {
    "duration": 14,
    "start_time": "2023-09-18T22:30:12.610Z"
   },
   {
    "duration": 128,
    "start_time": "2023-09-18T22:30:12.625Z"
   },
   {
    "duration": 16,
    "start_time": "2023-09-18T22:30:12.755Z"
   },
   {
    "duration": 7,
    "start_time": "2023-09-18T22:30:12.772Z"
   },
   {
    "duration": 143,
    "start_time": "2023-09-18T22:30:12.781Z"
   },
   {
    "duration": 15,
    "start_time": "2023-09-18T22:30:12.926Z"
   },
   {
    "duration": 12,
    "start_time": "2023-09-18T22:30:12.943Z"
   },
   {
    "duration": 137,
    "start_time": "2023-09-18T22:30:12.957Z"
   },
   {
    "duration": 19,
    "start_time": "2023-09-18T22:30:13.096Z"
   },
   {
    "duration": 37,
    "start_time": "2023-09-18T22:30:13.117Z"
   },
   {
    "duration": 152,
    "start_time": "2023-09-18T22:30:13.156Z"
   },
   {
    "duration": 6,
    "start_time": "2023-09-18T22:30:13.310Z"
   },
   {
    "duration": 9,
    "start_time": "2023-09-18T22:30:13.318Z"
   },
   {
    "duration": 5,
    "start_time": "2023-09-18T22:30:13.329Z"
   },
   {
    "duration": 7,
    "start_time": "2023-09-18T22:30:13.336Z"
   },
   {
    "duration": 1520,
    "start_time": "2023-09-19T11:34:30.526Z"
   },
   {
    "duration": 235,
    "start_time": "2023-09-19T11:34:34.388Z"
   },
   {
    "duration": 214,
    "start_time": "2023-09-19T11:34:45.438Z"
   },
   {
    "duration": 1396,
    "start_time": "2023-09-20T20:36:53.550Z"
   },
   {
    "duration": 160,
    "start_time": "2023-09-20T20:36:54.948Z"
   },
   {
    "duration": 95,
    "start_time": "2023-09-20T20:36:55.111Z"
   },
   {
    "duration": 25,
    "start_time": "2023-09-20T20:36:55.208Z"
   },
   {
    "duration": 19,
    "start_time": "2023-09-20T20:36:55.235Z"
   },
   {
    "duration": 3,
    "start_time": "2023-09-20T20:36:55.256Z"
   },
   {
    "duration": 13,
    "start_time": "2023-09-20T20:36:55.261Z"
   },
   {
    "duration": 51,
    "start_time": "2023-09-20T20:36:55.276Z"
   },
   {
    "duration": 20,
    "start_time": "2023-09-20T20:36:55.329Z"
   },
   {
    "duration": 7,
    "start_time": "2023-09-20T20:36:55.352Z"
   },
   {
    "duration": 59,
    "start_time": "2023-09-20T20:36:55.361Z"
   },
   {
    "duration": 7,
    "start_time": "2023-09-20T20:36:55.422Z"
   },
   {
    "duration": 36,
    "start_time": "2023-09-20T20:36:55.430Z"
   },
   {
    "duration": 27,
    "start_time": "2023-09-20T20:36:55.467Z"
   },
   {
    "duration": 13,
    "start_time": "2023-09-20T20:36:55.496Z"
   },
   {
    "duration": 8,
    "start_time": "2023-09-20T20:36:55.511Z"
   },
   {
    "duration": 283,
    "start_time": "2023-09-20T20:36:55.521Z"
   },
   {
    "duration": 3,
    "start_time": "2023-09-20T20:36:55.809Z"
   },
   {
    "duration": 8,
    "start_time": "2023-09-20T20:36:55.814Z"
   },
   {
    "duration": 44,
    "start_time": "2023-09-20T20:36:55.823Z"
   },
   {
    "duration": 12,
    "start_time": "2023-09-20T20:36:55.869Z"
   },
   {
    "duration": 7,
    "start_time": "2023-09-20T20:36:55.883Z"
   },
   {
    "duration": 7,
    "start_time": "2023-09-20T20:36:55.892Z"
   },
   {
    "duration": 38,
    "start_time": "2023-09-20T20:36:55.901Z"
   },
   {
    "duration": 47,
    "start_time": "2023-09-20T20:36:55.941Z"
   },
   {
    "duration": 15,
    "start_time": "2023-09-20T20:36:55.991Z"
   },
   {
    "duration": 10,
    "start_time": "2023-09-20T20:36:56.008Z"
   },
   {
    "duration": 17,
    "start_time": "2023-09-20T20:36:56.025Z"
   },
   {
    "duration": 20,
    "start_time": "2023-09-20T20:36:56.043Z"
   },
   {
    "duration": 29,
    "start_time": "2023-09-20T20:36:56.064Z"
   },
   {
    "duration": 15,
    "start_time": "2023-09-20T20:36:56.095Z"
   },
   {
    "duration": 19,
    "start_time": "2023-09-20T20:36:56.112Z"
   },
   {
    "duration": 22,
    "start_time": "2023-09-20T20:36:56.133Z"
   },
   {
    "duration": 21,
    "start_time": "2023-09-20T20:36:56.157Z"
   },
   {
    "duration": 25,
    "start_time": "2023-09-20T20:36:56.180Z"
   },
   {
    "duration": 1286,
    "start_time": "2023-09-20T20:36:56.207Z"
   },
   {
    "duration": 24,
    "start_time": "2023-09-20T20:36:57.495Z"
   },
   {
    "duration": 31,
    "start_time": "2023-09-20T20:36:57.521Z"
   },
   {
    "duration": 19,
    "start_time": "2023-09-20T20:36:57.554Z"
   },
   {
    "duration": 38,
    "start_time": "2023-09-20T20:36:57.574Z"
   },
   {
    "duration": 21,
    "start_time": "2023-09-20T20:36:57.614Z"
   },
   {
    "duration": 37,
    "start_time": "2023-09-20T20:36:57.637Z"
   },
   {
    "duration": 42,
    "start_time": "2023-09-20T20:36:57.676Z"
   },
   {
    "duration": 15,
    "start_time": "2023-09-20T20:36:57.720Z"
   },
   {
    "duration": 232,
    "start_time": "2023-09-20T20:36:57.736Z"
   },
   {
    "duration": 24,
    "start_time": "2023-09-20T20:36:57.970Z"
   },
   {
    "duration": 6,
    "start_time": "2023-09-20T20:36:58.008Z"
   },
   {
    "duration": 26,
    "start_time": "2023-09-20T20:36:58.015Z"
   },
   {
    "duration": 415,
    "start_time": "2023-09-20T20:36:58.043Z"
   },
   {
    "duration": 4,
    "start_time": "2023-09-20T20:36:58.459Z"
   },
   {
    "duration": 255,
    "start_time": "2023-09-20T20:36:58.465Z"
   },
   {
    "duration": 10,
    "start_time": "2023-09-20T20:36:58.722Z"
   },
   {
    "duration": 2029,
    "start_time": "2023-09-20T20:36:58.733Z"
   },
   {
    "duration": 215,
    "start_time": "2023-09-20T20:37:00.764Z"
   },
   {
    "duration": 28,
    "start_time": "2023-09-20T20:37:00.982Z"
   },
   {
    "duration": 30,
    "start_time": "2023-09-20T20:37:01.013Z"
   },
   {
    "duration": 353,
    "start_time": "2023-09-20T20:37:01.045Z"
   },
   {
    "duration": 12,
    "start_time": "2023-09-20T20:37:01.400Z"
   },
   {
    "duration": 1899,
    "start_time": "2023-09-20T20:37:01.414Z"
   },
   {
    "duration": 264,
    "start_time": "2023-09-20T20:37:03.314Z"
   },
   {
    "duration": 276,
    "start_time": "2023-09-20T20:37:03.581Z"
   },
   {
    "duration": 4,
    "start_time": "2023-09-20T20:37:03.859Z"
   },
   {
    "duration": 189,
    "start_time": "2023-09-20T20:37:03.865Z"
   },
   {
    "duration": 6,
    "start_time": "2023-09-20T20:37:04.056Z"
   },
   {
    "duration": 184,
    "start_time": "2023-09-20T20:37:04.064Z"
   },
   {
    "duration": 5,
    "start_time": "2023-09-20T20:37:04.250Z"
   },
   {
    "duration": 11,
    "start_time": "2023-09-20T20:37:04.257Z"
   },
   {
    "duration": 1542,
    "start_time": "2023-09-20T20:37:04.271Z"
   },
   {
    "duration": 1371,
    "start_time": "2023-09-20T20:37:05.815Z"
   },
   {
    "duration": 5,
    "start_time": "2023-09-20T20:37:07.188Z"
   },
   {
    "duration": 20,
    "start_time": "2023-09-20T20:37:07.194Z"
   },
   {
    "duration": 9,
    "start_time": "2023-09-20T20:37:07.215Z"
   },
   {
    "duration": 19,
    "start_time": "2023-09-20T20:37:07.226Z"
   },
   {
    "duration": 217,
    "start_time": "2023-09-20T20:37:07.246Z"
   },
   {
    "duration": 25,
    "start_time": "2023-09-20T20:37:07.465Z"
   },
   {
    "duration": 313,
    "start_time": "2023-09-20T20:37:07.491Z"
   },
   {
    "duration": 17,
    "start_time": "2023-09-20T20:37:07.806Z"
   },
   {
    "duration": 7,
    "start_time": "2023-09-20T20:37:07.825Z"
   },
   {
    "duration": 259,
    "start_time": "2023-09-20T20:37:07.834Z"
   },
   {
    "duration": 29,
    "start_time": "2023-09-20T20:37:08.095Z"
   },
   {
    "duration": 9,
    "start_time": "2023-09-20T20:37:08.128Z"
   },
   {
    "duration": 177,
    "start_time": "2023-09-20T20:37:08.143Z"
   },
   {
    "duration": 16,
    "start_time": "2023-09-20T20:37:08.322Z"
   },
   {
    "duration": 106,
    "start_time": "2023-09-20T20:37:08.340Z"
   },
   {
    "duration": 176,
    "start_time": "2023-09-20T20:37:08.448Z"
   },
   {
    "duration": 19,
    "start_time": "2023-09-20T20:37:08.626Z"
   },
   {
    "duration": 7,
    "start_time": "2023-09-20T20:37:08.647Z"
   },
   {
    "duration": 156,
    "start_time": "2023-09-20T20:37:08.656Z"
   },
   {
    "duration": 17,
    "start_time": "2023-09-20T20:37:08.814Z"
   },
   {
    "duration": 8,
    "start_time": "2023-09-20T20:37:08.833Z"
   },
   {
    "duration": 198,
    "start_time": "2023-09-20T20:37:08.843Z"
   },
   {
    "duration": 16,
    "start_time": "2023-09-20T20:37:09.043Z"
   },
   {
    "duration": 10,
    "start_time": "2023-09-20T20:37:09.061Z"
   },
   {
    "duration": 136,
    "start_time": "2023-09-20T20:37:09.073Z"
   },
   {
    "duration": 18,
    "start_time": "2023-09-20T20:37:09.211Z"
   },
   {
    "duration": 9,
    "start_time": "2023-09-20T20:37:09.231Z"
   },
   {
    "duration": 143,
    "start_time": "2023-09-20T20:37:09.244Z"
   },
   {
    "duration": 24,
    "start_time": "2023-09-20T20:37:09.389Z"
   },
   {
    "duration": 6,
    "start_time": "2023-09-20T20:37:09.415Z"
   },
   {
    "duration": 150,
    "start_time": "2023-09-20T20:37:09.423Z"
   },
   {
    "duration": 17,
    "start_time": "2023-09-20T20:37:09.575Z"
   },
   {
    "duration": 7,
    "start_time": "2023-09-20T20:37:09.609Z"
   },
   {
    "duration": 179,
    "start_time": "2023-09-20T20:37:09.618Z"
   },
   {
    "duration": 7,
    "start_time": "2023-09-20T20:37:09.809Z"
   },
   {
    "duration": 11,
    "start_time": "2023-09-20T20:37:09.818Z"
   },
   {
    "duration": 11,
    "start_time": "2023-09-20T20:37:09.830Z"
   },
   {
    "duration": 13,
    "start_time": "2023-09-20T20:37:09.844Z"
   },
   {
    "duration": 255,
    "start_time": "2023-09-20T20:38:09.544Z"
   },
   {
    "duration": 343,
    "start_time": "2023-09-20T20:38:17.322Z"
   }
  ],
  "kernelspec": {
   "display_name": "Python 3 (ipykernel)",
   "language": "python",
   "name": "python3"
  },
  "language_info": {
   "codemirror_mode": {
    "name": "ipython",
    "version": 3
   },
   "file_extension": ".py",
   "mimetype": "text/x-python",
   "name": "python",
   "nbconvert_exporter": "python",
   "pygments_lexer": "ipython3",
   "version": "3.9.5"
  },
  "toc": {
   "base_numbering": 1,
   "nav_menu": {},
   "number_sections": true,
   "sideBar": true,
   "skip_h1_title": true,
   "title_cell": "Table of Contents",
   "title_sidebar": "Contents",
   "toc_cell": true,
   "toc_position": {
    "height": "calc(100% - 180px)",
    "left": "10px",
    "top": "150px",
    "width": "376px"
   },
   "toc_section_display": true,
   "toc_window_display": true
  }
 },
 "nbformat": 4,
 "nbformat_minor": 5
}
