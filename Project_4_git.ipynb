{
 "cells": [
  {
   "cell_type": "markdown",
   "id": "71cb3cb9",
   "metadata": {},
   "source": [
    "# Анализ поездок сервиса аренды самокатов GoFast"
   ]
  },
  {
   "cell_type": "markdown",
   "id": "45d270f5",
   "metadata": {},
   "source": [
    "### Описание проекта"
   ]
  },
  {
   "cell_type": "markdown",
   "id": "dc73c62c",
   "metadata": {},
   "source": [
    "Проанализировать данные о некоторых пользователях из нескольких городов, а также об их поездках и проверить некоторые гипотезы, которые могут помочь бизнесу вырасти.<br>\n",
    "<br>\n",
    "Чтобы совершать поездки по городу, пользователи сервиса GoFast пользуются мобильным приложением. Сервисом можно пользоваться:\n",
    "без подписки:<br>\n",
    "абонентская плата отсутствует;<br>\n",
    "стоимость одной минуты поездки — 8 рублей;<br>\n",
    "стоимость старта (начала поездки) — 50 рублей;<br>\n",
    "<br>\n",
    "с подпиской Ultra:<br>\n",
    "абонентская плата — 199 рублей в месяц;<br>\n",
    "стоимость одной минуты поездки — 6 рублей;<br>\n",
    "стоимость старта — бесплатно.<br>\n",
    "<br>\n",
    "Необходимо помочь бизнесу вырасти, проверив гипотезы:<br>\n",
    "1. Тратят ли пользователи с подпиской больше времени на поездки?\n",
    "2. Можно ли сказать, что среднее расстояние, которое проезжают пользователи с подпиской за одну поездку, не превышает 3130 метров?\n",
    "3. Будет ли помесячная выручка от пользователей с подпиской по месяцам выше, чем выручка от пользователей без подписки?"
   ]
  },
  {
   "cell_type": "markdown",
   "id": "370a29ea",
   "metadata": {},
   "source": [
    "### План работы"
   ]
  },
  {
   "cell_type": "markdown",
   "id": "b2c619fa",
   "metadata": {},
   "source": [
    "1. Загрузка данных\n",
    "2. Предобработка данных\n",
    "    1. Корректировка типов данных\n",
    "    2. Проверка на явные/неявные дубликаты\n",
    "    3. Проверка пропусков\n",
    "    4. Создание новых столбцов\n",
    "    5. Проверка на аномалии\n",
    "3. Исследовательский анализ данных. Описать и визуализировать:\n",
    "    1. Частоту встречаемости городов\n",
    "    2. Соотношение пользователей с подпиской и без подписки\n",
    "    3. Возраст пользователей\n",
    "    4. Расстояние, которое пользователь преодолел за одну поездку\n",
    "    5. Продолжительность поездок\n",
    "4. Объединение данных\n",
    "    1. Объединить все датафреймы в один\n",
    "    2. Разделить общий датафрейм на пользователей с подпиской и без\n",
    "    3. Визуализировать информацию о расстоянии и времени поездок для пользователей обеих категорий\n",
    "5. Подсчёт выручки\n",
    "    1. Найти суммарное расстояние, количество поездок и суммарное время для каждого пользователя за каждый месяц\n",
    "    2. Посчитать помесячную выручку для каждого пользователя\n",
    "6. Проверка гипотез\n",
    "    1. Ответить на вопросы, постваленные бизнесом\n",
    "7. Общий вывод"
   ]
  },
  {
   "cell_type": "markdown",
   "id": "bf3eaf9d",
   "metadata": {},
   "source": [
    "### Описание данных"
   ]
  },
  {
   "cell_type": "markdown",
   "id": "03dd0323",
   "metadata": {},
   "source": [
    "<b>Пользователи</b> - users_go.csv<br>\n",
    "<br>\n",
    "`user_id` - уникальный идентификатор пользователя<br>\n",
    "`name` - имя пользователя<br>\n",
    "`age` - возраст<br>\n",
    "`city` - город<br>\n",
    "`subscription_type` - тип подписки (free, ultra)"
   ]
  },
  {
   "cell_type": "markdown",
   "id": "9ad27370",
   "metadata": {},
   "source": [
    "<b>Поездки</b> - rides_go.csv<br>\n",
    "<br>\n",
    "`user_id` - уникальный идентификатор пользователя<br>\n",
    "`distance` - расстояние, которое пользователь проехал в текущей сессии (в метрах)<br>\n",
    "`duration` - продолжительность сессии (в минутах) — время с того момента, как пользователь нажал кнопку «Начать поездку» до момента, как он нажал кнопку «Завершить поездку»<br>\n",
    "`date` - дата совершения поездки"
   ]
  },
  {
   "cell_type": "markdown",
   "id": "57de23dd",
   "metadata": {},
   "source": [
    "<b>Подписки</b> - subscriptions_go.csv<br>\n",
    "<br>\n",
    "`subscription_type` - тип подписки<br>\n",
    "`minute_price` - стоимость одной минуты поездки по данной подписке<br>\n",
    "`start_ride_price` - стоимость начала поездки<br>\n",
    "`subscription_fee` - стоимость ежемесячного платежа"
   ]
  },
  {
   "cell_type": "markdown",
   "id": "c42cbe00",
   "metadata": {},
   "source": [
    "### Шаг 2. Загрузка данных"
   ]
  },
  {
   "cell_type": "code",
   "execution_count": 1,
   "id": "72576667",
   "metadata": {},
   "outputs": [],
   "source": [
    "# Подключим библиотеки\n",
    "import pandas as pd\n",
    "import numpy as np\n",
    "import os\n",
    "from scipy import stats as st\n",
    "from matplotlib import pyplot as plt"
   ]
  },
  {
   "cell_type": "code",
   "execution_count": 2,
   "id": "eff9f206",
   "metadata": {},
   "outputs": [],
   "source": [
    "# Прочитаем данные\n",
    "pth1, pth1_1 = 'users_go.csv', '/datasets/users_go.csv'\n",
    "pth2, pth2_1 = 'rides_go.csv', '/datasets/rides_go.csv'\n",
    "pth3, pth3_1 = 'subscriptions_go.csv', '/datasets/subscriptions_go.csv'\n",
    "\n",
    "if os.path.exists(pth1):\n",
    "    users_data = pd.read_csv(pth1)\n",
    "    rides_data = pd.read_csv(pth2)\n",
    "    subs_data = pd.read_csv(pth3)\n",
    "elif os.path.exists(pth2_1):\n",
    "    users_data = pd.read_csv(pth1_1)\n",
    "    rides_data = pd.read_csv(pth2_1)\n",
    "    subs_data = pd.read_csv(pth3_1)\n",
    "else:\n",
    "    print('Something is wrong')\n",
    "\n",
    "pd.set_option('display.max_columns', None)"
   ]
  },
  {
   "cell_type": "markdown",
   "id": "63168f37",
   "metadata": {},
   "source": [
    "#### Посмотрим на общую информацию по каждому датафрейму и на первые строки каждого датафрейма"
   ]
  },
  {
   "cell_type": "markdown",
   "id": "d4becba1",
   "metadata": {},
   "source": [
    "##### users_data"
   ]
  },
  {
   "cell_type": "code",
   "execution_count": 3,
   "id": "9b40886e",
   "metadata": {
    "scrolled": true
   },
   "outputs": [
    {
     "data": {
      "text/html": [
       "<div>\n",
       "<style scoped>\n",
       "    .dataframe tbody tr th:only-of-type {\n",
       "        vertical-align: middle;\n",
       "    }\n",
       "\n",
       "    .dataframe tbody tr th {\n",
       "        vertical-align: top;\n",
       "    }\n",
       "\n",
       "    .dataframe thead th {\n",
       "        text-align: right;\n",
       "    }\n",
       "</style>\n",
       "<table border=\"1\" class=\"dataframe\">\n",
       "  <thead>\n",
       "    <tr style=\"text-align: right;\">\n",
       "      <th></th>\n",
       "      <th>user_id</th>\n",
       "      <th>name</th>\n",
       "      <th>age</th>\n",
       "      <th>city</th>\n",
       "      <th>subscription_type</th>\n",
       "    </tr>\n",
       "  </thead>\n",
       "  <tbody>\n",
       "    <tr>\n",
       "      <th>0</th>\n",
       "      <td>1</td>\n",
       "      <td>Кира</td>\n",
       "      <td>22</td>\n",
       "      <td>Тюмень</td>\n",
       "      <td>ultra</td>\n",
       "    </tr>\n",
       "    <tr>\n",
       "      <th>1</th>\n",
       "      <td>2</td>\n",
       "      <td>Станислав</td>\n",
       "      <td>31</td>\n",
       "      <td>Омск</td>\n",
       "      <td>ultra</td>\n",
       "    </tr>\n",
       "    <tr>\n",
       "      <th>2</th>\n",
       "      <td>3</td>\n",
       "      <td>Алексей</td>\n",
       "      <td>20</td>\n",
       "      <td>Москва</td>\n",
       "      <td>ultra</td>\n",
       "    </tr>\n",
       "    <tr>\n",
       "      <th>3</th>\n",
       "      <td>4</td>\n",
       "      <td>Константин</td>\n",
       "      <td>26</td>\n",
       "      <td>Ростов-на-Дону</td>\n",
       "      <td>ultra</td>\n",
       "    </tr>\n",
       "    <tr>\n",
       "      <th>4</th>\n",
       "      <td>5</td>\n",
       "      <td>Адель</td>\n",
       "      <td>28</td>\n",
       "      <td>Омск</td>\n",
       "      <td>ultra</td>\n",
       "    </tr>\n",
       "  </tbody>\n",
       "</table>\n",
       "</div>"
      ],
      "text/plain": [
       "   user_id        name  age            city subscription_type\n",
       "0        1        Кира   22          Тюмень             ultra\n",
       "1        2   Станислав   31            Омск             ultra\n",
       "2        3     Алексей   20          Москва             ultra\n",
       "3        4  Константин   26  Ростов-на-Дону             ultra\n",
       "4        5       Адель   28            Омск             ultra"
      ]
     },
     "execution_count": 3,
     "metadata": {},
     "output_type": "execute_result"
    }
   ],
   "source": [
    "users_data.head()"
   ]
  },
  {
   "cell_type": "code",
   "execution_count": 4,
   "id": "90b8ddd4",
   "metadata": {},
   "outputs": [
    {
     "name": "stdout",
     "output_type": "stream",
     "text": [
      "<class 'pandas.core.frame.DataFrame'>\n",
      "RangeIndex: 1565 entries, 0 to 1564\n",
      "Data columns (total 5 columns):\n",
      " #   Column             Non-Null Count  Dtype \n",
      "---  ------             --------------  ----- \n",
      " 0   user_id            1565 non-null   int64 \n",
      " 1   name               1565 non-null   object\n",
      " 2   age                1565 non-null   int64 \n",
      " 3   city               1565 non-null   object\n",
      " 4   subscription_type  1565 non-null   object\n",
      "dtypes: int64(2), object(3)\n",
      "memory usage: 61.3+ KB\n"
     ]
    }
   ],
   "source": [
    "users_data.info()"
   ]
  },
  {
   "cell_type": "markdown",
   "id": "1c64b384",
   "metadata": {},
   "source": [
    "Всего 1565 строк и 5 столцов.<br>\n",
    "Нет пропусков, это хорошо. Также столбцы имеют корректные типы данных"
   ]
  },
  {
   "cell_type": "markdown",
   "id": "a91f9ed9",
   "metadata": {},
   "source": [
    "##### rides_data"
   ]
  },
  {
   "cell_type": "code",
   "execution_count": 5,
   "id": "b775aa7e",
   "metadata": {
    "scrolled": true
   },
   "outputs": [
    {
     "data": {
      "text/html": [
       "<div>\n",
       "<style scoped>\n",
       "    .dataframe tbody tr th:only-of-type {\n",
       "        vertical-align: middle;\n",
       "    }\n",
       "\n",
       "    .dataframe tbody tr th {\n",
       "        vertical-align: top;\n",
       "    }\n",
       "\n",
       "    .dataframe thead th {\n",
       "        text-align: right;\n",
       "    }\n",
       "</style>\n",
       "<table border=\"1\" class=\"dataframe\">\n",
       "  <thead>\n",
       "    <tr style=\"text-align: right;\">\n",
       "      <th></th>\n",
       "      <th>user_id</th>\n",
       "      <th>distance</th>\n",
       "      <th>duration</th>\n",
       "      <th>date</th>\n",
       "    </tr>\n",
       "  </thead>\n",
       "  <tbody>\n",
       "    <tr>\n",
       "      <th>0</th>\n",
       "      <td>1</td>\n",
       "      <td>4409.919140</td>\n",
       "      <td>25.599769</td>\n",
       "      <td>2021-01-01</td>\n",
       "    </tr>\n",
       "    <tr>\n",
       "      <th>1</th>\n",
       "      <td>1</td>\n",
       "      <td>2617.592153</td>\n",
       "      <td>15.816871</td>\n",
       "      <td>2021-01-18</td>\n",
       "    </tr>\n",
       "    <tr>\n",
       "      <th>2</th>\n",
       "      <td>1</td>\n",
       "      <td>754.159807</td>\n",
       "      <td>6.232113</td>\n",
       "      <td>2021-04-20</td>\n",
       "    </tr>\n",
       "    <tr>\n",
       "      <th>3</th>\n",
       "      <td>1</td>\n",
       "      <td>2694.783254</td>\n",
       "      <td>18.511000</td>\n",
       "      <td>2021-08-11</td>\n",
       "    </tr>\n",
       "    <tr>\n",
       "      <th>4</th>\n",
       "      <td>1</td>\n",
       "      <td>4028.687306</td>\n",
       "      <td>26.265803</td>\n",
       "      <td>2021-08-28</td>\n",
       "    </tr>\n",
       "  </tbody>\n",
       "</table>\n",
       "</div>"
      ],
      "text/plain": [
       "   user_id     distance   duration        date\n",
       "0        1  4409.919140  25.599769  2021-01-01\n",
       "1        1  2617.592153  15.816871  2021-01-18\n",
       "2        1   754.159807   6.232113  2021-04-20\n",
       "3        1  2694.783254  18.511000  2021-08-11\n",
       "4        1  4028.687306  26.265803  2021-08-28"
      ]
     },
     "execution_count": 5,
     "metadata": {},
     "output_type": "execute_result"
    }
   ],
   "source": [
    "rides_data.head()"
   ]
  },
  {
   "cell_type": "code",
   "execution_count": 6,
   "id": "2573a3fd",
   "metadata": {},
   "outputs": [
    {
     "name": "stdout",
     "output_type": "stream",
     "text": [
      "<class 'pandas.core.frame.DataFrame'>\n",
      "RangeIndex: 18068 entries, 0 to 18067\n",
      "Data columns (total 4 columns):\n",
      " #   Column    Non-Null Count  Dtype  \n",
      "---  ------    --------------  -----  \n",
      " 0   user_id   18068 non-null  int64  \n",
      " 1   distance  18068 non-null  float64\n",
      " 2   duration  18068 non-null  float64\n",
      " 3   date      18068 non-null  object \n",
      "dtypes: float64(2), int64(1), object(1)\n",
      "memory usage: 564.8+ KB\n"
     ]
    }
   ],
   "source": [
    "rides_data.info()"
   ]
  },
  {
   "cell_type": "markdown",
   "id": "445c8510",
   "metadata": {},
   "source": [
    "Всего 18068 строк и 4 столбца<br>\n",
    "Нет пропусков, это хорошо. Столбец `date` стоит привести к типу datetime, займемся этим на шаге предобработки данных"
   ]
  },
  {
   "cell_type": "markdown",
   "id": "0cd199c8",
   "metadata": {},
   "source": [
    "##### subs_data"
   ]
  },
  {
   "cell_type": "code",
   "execution_count": 7,
   "id": "0a67a5ab",
   "metadata": {},
   "outputs": [
    {
     "data": {
      "text/html": [
       "<div>\n",
       "<style scoped>\n",
       "    .dataframe tbody tr th:only-of-type {\n",
       "        vertical-align: middle;\n",
       "    }\n",
       "\n",
       "    .dataframe tbody tr th {\n",
       "        vertical-align: top;\n",
       "    }\n",
       "\n",
       "    .dataframe thead th {\n",
       "        text-align: right;\n",
       "    }\n",
       "</style>\n",
       "<table border=\"1\" class=\"dataframe\">\n",
       "  <thead>\n",
       "    <tr style=\"text-align: right;\">\n",
       "      <th></th>\n",
       "      <th>subscription_type</th>\n",
       "      <th>minute_price</th>\n",
       "      <th>start_ride_price</th>\n",
       "      <th>subscription_fee</th>\n",
       "    </tr>\n",
       "  </thead>\n",
       "  <tbody>\n",
       "    <tr>\n",
       "      <th>0</th>\n",
       "      <td>free</td>\n",
       "      <td>8</td>\n",
       "      <td>50</td>\n",
       "      <td>0</td>\n",
       "    </tr>\n",
       "    <tr>\n",
       "      <th>1</th>\n",
       "      <td>ultra</td>\n",
       "      <td>6</td>\n",
       "      <td>0</td>\n",
       "      <td>199</td>\n",
       "    </tr>\n",
       "  </tbody>\n",
       "</table>\n",
       "</div>"
      ],
      "text/plain": [
       "  subscription_type  minute_price  start_ride_price  subscription_fee\n",
       "0              free             8                50                 0\n",
       "1             ultra             6                 0               199"
      ]
     },
     "execution_count": 7,
     "metadata": {},
     "output_type": "execute_result"
    }
   ],
   "source": [
    "subs_data.head()"
   ]
  },
  {
   "cell_type": "code",
   "execution_count": 8,
   "id": "a3195824",
   "metadata": {},
   "outputs": [
    {
     "name": "stdout",
     "output_type": "stream",
     "text": [
      "<class 'pandas.core.frame.DataFrame'>\n",
      "RangeIndex: 2 entries, 0 to 1\n",
      "Data columns (total 4 columns):\n",
      " #   Column             Non-Null Count  Dtype \n",
      "---  ------             --------------  ----- \n",
      " 0   subscription_type  2 non-null      object\n",
      " 1   minute_price       2 non-null      int64 \n",
      " 2   start_ride_price   2 non-null      int64 \n",
      " 3   subscription_fee   2 non-null      int64 \n",
      "dtypes: int64(3), object(1)\n",
      "memory usage: 192.0+ bytes\n"
     ]
    }
   ],
   "source": [
    "subs_data.info()"
   ]
  },
  {
   "cell_type": "markdown",
   "id": "8541fe1e",
   "metadata": {},
   "source": [
    "Можно сказать, что это датафрейм-описание. Всего 2 строки и 4 столбца, которые содержат информацию о каждом типе подписки \"free\" и \"ultra\"<br>\n",
    "Пропусков, некорректных типов данных также нет"
   ]
  },
  {
   "cell_type": "markdown",
   "id": "507aaf01",
   "metadata": {},
   "source": [
    "#### Вывод"
   ]
  },
  {
   "cell_type": "markdown",
   "id": "84dc7697",
   "metadata": {},
   "source": [
    "В датафреймах нет пропусков и всего в одном столбце `date` датафрейма rides_data имеется некорректный тип данных. Займемся этим на следующем этапе"
   ]
  },
  {
   "cell_type": "markdown",
   "id": "e95ebca7",
   "metadata": {},
   "source": [
    "### Шаг 3. Предобработка данных"
   ]
  },
  {
   "cell_type": "markdown",
   "id": "036e37f2",
   "metadata": {},
   "source": [
    "#### Корректировка типа данных в столцах"
   ]
  },
  {
   "cell_type": "markdown",
   "id": "3273ead1",
   "metadata": {},
   "source": [
    "На предыдущем этапе мы выяснили, что некорректный тип данных только в одном столбце: `date` датафрейма rides_data. Поэтому приведем его к корректному типу - \"datetime\". Мы делаем это потому, что в pandas предусмотрены удобные методы для работы типом \"datetime\""
   ]
  },
  {
   "cell_type": "code",
   "execution_count": 9,
   "id": "ad2114fb",
   "metadata": {},
   "outputs": [],
   "source": [
    "# Приведем столбец к корректному типу\n",
    "rides_data['date'] = pd.to_datetime(rides_data['date'], format='%Y-%m-%d')"
   ]
  },
  {
   "cell_type": "code",
   "execution_count": 10,
   "id": "d25a4331",
   "metadata": {},
   "outputs": [
    {
     "data": {
      "text/plain": [
       "user_id              int64\n",
       "distance           float64\n",
       "duration           float64\n",
       "date        datetime64[ns]\n",
       "dtype: object"
      ]
     },
     "execution_count": 10,
     "metadata": {},
     "output_type": "execute_result"
    }
   ],
   "source": [
    "# Посмотрим теперь на тип данных столбца\n",
    "rides_data.dtypes"
   ]
  },
  {
   "cell_type": "code",
   "execution_count": 11,
   "id": "c742111f",
   "metadata": {},
   "outputs": [
    {
     "data": {
      "text/html": [
       "<div>\n",
       "<style scoped>\n",
       "    .dataframe tbody tr th:only-of-type {\n",
       "        vertical-align: middle;\n",
       "    }\n",
       "\n",
       "    .dataframe tbody tr th {\n",
       "        vertical-align: top;\n",
       "    }\n",
       "\n",
       "    .dataframe thead th {\n",
       "        text-align: right;\n",
       "    }\n",
       "</style>\n",
       "<table border=\"1\" class=\"dataframe\">\n",
       "  <thead>\n",
       "    <tr style=\"text-align: right;\">\n",
       "      <th></th>\n",
       "      <th>user_id</th>\n",
       "      <th>distance</th>\n",
       "      <th>duration</th>\n",
       "      <th>date</th>\n",
       "    </tr>\n",
       "  </thead>\n",
       "  <tbody>\n",
       "    <tr>\n",
       "      <th>0</th>\n",
       "      <td>1</td>\n",
       "      <td>4409.919140</td>\n",
       "      <td>25.599769</td>\n",
       "      <td>2021-01-01</td>\n",
       "    </tr>\n",
       "    <tr>\n",
       "      <th>1</th>\n",
       "      <td>1</td>\n",
       "      <td>2617.592153</td>\n",
       "      <td>15.816871</td>\n",
       "      <td>2021-01-18</td>\n",
       "    </tr>\n",
       "    <tr>\n",
       "      <th>2</th>\n",
       "      <td>1</td>\n",
       "      <td>754.159807</td>\n",
       "      <td>6.232113</td>\n",
       "      <td>2021-04-20</td>\n",
       "    </tr>\n",
       "    <tr>\n",
       "      <th>3</th>\n",
       "      <td>1</td>\n",
       "      <td>2694.783254</td>\n",
       "      <td>18.511000</td>\n",
       "      <td>2021-08-11</td>\n",
       "    </tr>\n",
       "    <tr>\n",
       "      <th>4</th>\n",
       "      <td>1</td>\n",
       "      <td>4028.687306</td>\n",
       "      <td>26.265803</td>\n",
       "      <td>2021-08-28</td>\n",
       "    </tr>\n",
       "  </tbody>\n",
       "</table>\n",
       "</div>"
      ],
      "text/plain": [
       "   user_id     distance   duration       date\n",
       "0        1  4409.919140  25.599769 2021-01-01\n",
       "1        1  2617.592153  15.816871 2021-01-18\n",
       "2        1   754.159807   6.232113 2021-04-20\n",
       "3        1  2694.783254  18.511000 2021-08-11\n",
       "4        1  4028.687306  26.265803 2021-08-28"
      ]
     },
     "execution_count": 11,
     "metadata": {},
     "output_type": "execute_result"
    }
   ],
   "source": [
    "# Еще раз взглянем на наш датафрейм\n",
    "rides_data.head()"
   ]
  },
  {
   "cell_type": "markdown",
   "id": "1fa0cf1d",
   "metadata": {},
   "source": [
    "Отображение столбца `date` не изменилось, зато изменился его тип данных, чтобы в дальнейшем было удобнее с ним работать"
   ]
  },
  {
   "cell_type": "markdown",
   "id": "b1cd4ae1",
   "metadata": {},
   "source": [
    "#### Создание нового столбца с номером месяца для датафрейма rides_data"
   ]
  },
  {
   "cell_type": "code",
   "execution_count": 12,
   "id": "f7e1affe",
   "metadata": {},
   "outputs": [],
   "source": [
    "# Создадим новый столбец с месяцем\n",
    "rides_data['month'] = pd.DatetimeIndex(rides_data['date']).month"
   ]
  },
  {
   "cell_type": "code",
   "execution_count": 13,
   "id": "6ac154d5",
   "metadata": {},
   "outputs": [
    {
     "data": {
      "text/html": [
       "<div>\n",
       "<style scoped>\n",
       "    .dataframe tbody tr th:only-of-type {\n",
       "        vertical-align: middle;\n",
       "    }\n",
       "\n",
       "    .dataframe tbody tr th {\n",
       "        vertical-align: top;\n",
       "    }\n",
       "\n",
       "    .dataframe thead th {\n",
       "        text-align: right;\n",
       "    }\n",
       "</style>\n",
       "<table border=\"1\" class=\"dataframe\">\n",
       "  <thead>\n",
       "    <tr style=\"text-align: right;\">\n",
       "      <th></th>\n",
       "      <th>user_id</th>\n",
       "      <th>distance</th>\n",
       "      <th>duration</th>\n",
       "      <th>date</th>\n",
       "      <th>month</th>\n",
       "    </tr>\n",
       "  </thead>\n",
       "  <tbody>\n",
       "    <tr>\n",
       "      <th>0</th>\n",
       "      <td>1</td>\n",
       "      <td>4409.919140</td>\n",
       "      <td>25.599769</td>\n",
       "      <td>2021-01-01</td>\n",
       "      <td>1</td>\n",
       "    </tr>\n",
       "    <tr>\n",
       "      <th>1</th>\n",
       "      <td>1</td>\n",
       "      <td>2617.592153</td>\n",
       "      <td>15.816871</td>\n",
       "      <td>2021-01-18</td>\n",
       "      <td>1</td>\n",
       "    </tr>\n",
       "    <tr>\n",
       "      <th>2</th>\n",
       "      <td>1</td>\n",
       "      <td>754.159807</td>\n",
       "      <td>6.232113</td>\n",
       "      <td>2021-04-20</td>\n",
       "      <td>4</td>\n",
       "    </tr>\n",
       "    <tr>\n",
       "      <th>3</th>\n",
       "      <td>1</td>\n",
       "      <td>2694.783254</td>\n",
       "      <td>18.511000</td>\n",
       "      <td>2021-08-11</td>\n",
       "      <td>8</td>\n",
       "    </tr>\n",
       "    <tr>\n",
       "      <th>4</th>\n",
       "      <td>1</td>\n",
       "      <td>4028.687306</td>\n",
       "      <td>26.265803</td>\n",
       "      <td>2021-08-28</td>\n",
       "      <td>8</td>\n",
       "    </tr>\n",
       "  </tbody>\n",
       "</table>\n",
       "</div>"
      ],
      "text/plain": [
       "   user_id     distance   duration       date  month\n",
       "0        1  4409.919140  25.599769 2021-01-01      1\n",
       "1        1  2617.592153  15.816871 2021-01-18      1\n",
       "2        1   754.159807   6.232113 2021-04-20      4\n",
       "3        1  2694.783254  18.511000 2021-08-11      8\n",
       "4        1  4028.687306  26.265803 2021-08-28      8"
      ]
     },
     "execution_count": 13,
     "metadata": {},
     "output_type": "execute_result"
    }
   ],
   "source": [
    "# Посмотрим на обновленный датафрейм\n",
    "rides_data.head()"
   ]
  },
  {
   "cell_type": "markdown",
   "id": "47dd63fb",
   "metadata": {},
   "source": [
    "Новый столбец добавлен корректно"
   ]
  },
  {
   "cell_type": "markdown",
   "id": "75d5b7f6",
   "metadata": {},
   "source": [
    "#### Проверка дубликатов"
   ]
  },
  {
   "cell_type": "markdown",
   "id": "9b51b237",
   "metadata": {},
   "source": [
    "##### users_data"
   ]
  },
  {
   "cell_type": "markdown",
   "id": "090b104d",
   "metadata": {},
   "source": [
    "В датафрейме users_data явные дубликаты могут мешать только в столбце `user_id`.<br>\n",
    "А в остальных столбцах дубликаты вполне ожидаемы"
   ]
  },
  {
   "cell_type": "code",
   "execution_count": 14,
   "id": "86c05d67",
   "metadata": {},
   "outputs": [
    {
     "data": {
      "text/plain": [
       "31"
      ]
     },
     "execution_count": 14,
     "metadata": {},
     "output_type": "execute_result"
    }
   ],
   "source": [
    "users_data['user_id'].duplicated().sum()"
   ]
  },
  {
   "cell_type": "markdown",
   "id": "92da0990",
   "metadata": {},
   "source": [
    "Удалим дубликаты в этом столбце, так как нам не нужна информация об одних и тех же пользователях"
   ]
  },
  {
   "cell_type": "code",
   "execution_count": 15,
   "id": "a74491b0",
   "metadata": {},
   "outputs": [],
   "source": [
    "users_data = users_data.drop_duplicates(subset=['user_id'])\n",
    "users_data = users_data.reset_index(drop=True)"
   ]
  },
  {
   "cell_type": "markdown",
   "id": "c4819d46",
   "metadata": {},
   "source": [
    "По логике, после удаления дубликатов, количество уникальных значений в стролбце `user_id` должно совпадать с длиной всего датафрейма. Убедимся в этом"
   ]
  },
  {
   "cell_type": "code",
   "execution_count": 16,
   "id": "eb403688",
   "metadata": {},
   "outputs": [
    {
     "name": "stdout",
     "output_type": "stream",
     "text": [
      "Длина совпадает\n"
     ]
    }
   ],
   "source": [
    "if len(users_data['user_id'].unique()) == len(users_data):\n",
    "    print('Длина совпадает')\n",
    "else:\n",
    "    print('Длина не совпадает')"
   ]
  },
  {
   "cell_type": "markdown",
   "id": "9ecc963a",
   "metadata": {},
   "source": [
    "В теории в столбцах `city` и `subscription_type` могут хранится неявные дубликаты. Проверим"
   ]
  },
  {
   "cell_type": "code",
   "execution_count": 17,
   "id": "e5cc1e66",
   "metadata": {},
   "outputs": [
    {
     "data": {
      "text/plain": [
       "array(['Тюмень', 'Омск', 'Москва', 'Ростов-на-Дону', 'Краснодар',\n",
       "       'Пятигорск', 'Екатеринбург', 'Сочи'], dtype=object)"
      ]
     },
     "execution_count": 17,
     "metadata": {},
     "output_type": "execute_result"
    }
   ],
   "source": [
    "users_data['city'].unique()"
   ]
  },
  {
   "cell_type": "code",
   "execution_count": 18,
   "id": "5442a558",
   "metadata": {},
   "outputs": [
    {
     "data": {
      "text/plain": [
       "array(['ultra', 'free'], dtype=object)"
      ]
     },
     "execution_count": 18,
     "metadata": {},
     "output_type": "execute_result"
    }
   ],
   "source": [
    "users_data['subscription_type'].unique()"
   ]
  },
  {
   "cell_type": "markdown",
   "id": "41c476e6",
   "metadata": {},
   "source": [
    "Неявных дубликатов нет"
   ]
  },
  {
   "cell_type": "markdown",
   "id": "2b247dbb",
   "metadata": {},
   "source": [
    "Обработка дубликатов в датафрейме users_data выполнена успешно"
   ]
  },
  {
   "cell_type": "markdown",
   "id": "9d410663",
   "metadata": {},
   "source": [
    "##### rides_data"
   ]
  },
  {
   "cell_type": "markdown",
   "id": "a39417df",
   "metadata": {},
   "source": [
    "Посмотрим на количество дубликатов во всем датафрейме"
   ]
  },
  {
   "cell_type": "code",
   "execution_count": 19,
   "id": "c2109dce",
   "metadata": {},
   "outputs": [
    {
     "data": {
      "text/plain": [
       "0"
      ]
     },
     "execution_count": 19,
     "metadata": {},
     "output_type": "execute_result"
    }
   ],
   "source": [
    "rides_data.duplicated().sum()"
   ]
  },
  {
   "cell_type": "markdown",
   "id": "44eb6ade",
   "metadata": {},
   "source": [
    "Дубликатов нет, обрабатывать нечего"
   ]
  },
  {
   "cell_type": "markdown",
   "id": "c0757163",
   "metadata": {},
   "source": [
    "##### Промежуточный вывод"
   ]
  },
  {
   "cell_type": "markdown",
   "id": "2eb4ce19",
   "metadata": {},
   "source": [
    "Из всех трех датафреймов дубликаты оказались только в датафрейме \"users_data\" в столбце `user_id`.<br>\n",
    "В остальных датафреймах дубликатов не обнаружено.<br>\n",
    "Искать дубликаты в датафрейме \"subs_data\" нет смысла, так как он состоит всего из 2 строк и отсутствие дубликатов видно невооруженным глазом"
   ]
  },
  {
   "cell_type": "markdown",
   "id": "eddd0fbc",
   "metadata": {},
   "source": [
    "#### Проверка аномальных значений"
   ]
  },
  {
   "cell_type": "markdown",
   "id": "05e41d1a",
   "metadata": {},
   "source": [
    "##### users_data"
   ]
  },
  {
   "cell_type": "markdown",
   "id": "6b3fd937",
   "metadata": {},
   "source": [
    "Посмотрим на гистограммы числовых столбцов датафрейма"
   ]
  },
  {
   "cell_type": "code",
   "execution_count": 20,
   "id": "d0d57879",
   "metadata": {},
   "outputs": [
    {
     "data": {
      "image/png": "[encoded data removed]",
      "text/plain": [
       "<Figure size 432x288 with 1 Axes>"
      ]
     },
     "metadata": {
      "needs_background": "light"
     },
     "output_type": "display_data"
    }
   ],
   "source": [
    "plt.title('Гистограмма возраста пользователей')\n",
    "plt.ylabel('Количество')\n",
    "plt.xlabel('Возраст')\n",
    "plt.grid(True)\n",
    "plt.hist(users_data['age'])\n",
    "plt.show()"
   ]
  },
  {
   "cell_type": "markdown",
   "id": "e2236228",
   "metadata": {},
   "source": [
    "На оси x график заканчивается до 45, значит выбивающихся значений нет"
   ]
  },
  {
   "cell_type": "markdown",
   "id": "ba2c00e6",
   "metadata": {},
   "source": [
    "##### rides_data"
   ]
  },
  {
   "cell_type": "markdown",
   "id": "b9cf9f72",
   "metadata": {},
   "source": [
    "Посмотрим на гистограммы столбоцов `distance` и `duration`"
   ]
  },
  {
   "cell_type": "code",
   "execution_count": 21,
   "id": "671f1786",
   "metadata": {},
   "outputs": [
    {
     "data": {
      "image/png": "[encoded data removed]",
      "text/plain": [
       "<Figure size 432x288 with 1 Axes>"
      ]
     },
     "metadata": {
      "needs_background": "light"
     },
     "output_type": "display_data"
    },
    {
     "name": "stdout",
     "output_type": "stream",
     "text": [
      "Минимальное пройденное расстояние 0.855682925681208\n",
      "Максимальное пройденное расстояние 7211.007744598519\n"
     ]
    }
   ],
   "source": [
    "plt.title('Гистограмма дистанций поездок')\n",
    "plt.ylabel('Количество')\n",
    "plt.xlabel('Дистанция')\n",
    "plt.grid(True)\n",
    "plt.hist(rides_data['distance'], bins=20)\n",
    "plt.show()\n",
    "\n",
    "print('Минимальное пройденное расстояние', rides_data['distance'].min())\n",
    "print('Максимальное пройденное расстояние', rides_data['distance'].max())"
   ]
  },
  {
   "cell_type": "markdown",
   "id": "2904579b",
   "metadata": {},
   "source": [
    "Данные в столбце `distance` в пределах нормы"
   ]
  },
  {
   "cell_type": "code",
   "execution_count": 22,
   "id": "3b623f11",
   "metadata": {},
   "outputs": [
    {
     "data": {
      "image/png": "[encoded data removed]",
      "text/plain": [
       "<Figure size 432x288 with 1 Axes>"
      ]
     },
     "metadata": {
      "needs_background": "light"
     },
     "output_type": "display_data"
    },
    {
     "name": "stdout",
     "output_type": "stream",
     "text": [
      "Минимальное время сессии 0.5\n",
      "Максимальное время сессии 40.82396261922424\n"
     ]
    }
   ],
   "source": [
    "plt.title('Гистограмма времени поездок')\n",
    "plt.ylabel('Количество')\n",
    "plt.xlabel('Дистанция')\n",
    "plt.grid(True)\n",
    "plt.hist(rides_data['duration'], bins=20)\n",
    "plt.show()\n",
    "\n",
    "print('Минимальное время сессии', rides_data['duration'].min())\n",
    "print('Максимальное время сессии', rides_data['duration'].max())"
   ]
  },
  {
   "cell_type": "markdown",
   "id": "192dc1c8",
   "metadata": {},
   "source": [
    "Гистограмма столбца `duration` выглядит ожидаемо"
   ]
  },
  {
   "cell_type": "markdown",
   "id": "290907b8",
   "metadata": {},
   "source": [
    "##### Промежуточный вывод"
   ]
  },
  {
   "cell_type": "markdown",
   "id": "4c468795",
   "metadata": {},
   "source": [
    "При проверке датафреймов аномальных значений не найдено"
   ]
  },
  {
   "cell_type": "markdown",
   "id": "76ce02d2",
   "metadata": {},
   "source": [
    "#### Вывод"
   ]
  },
  {
   "cell_type": "markdown",
   "id": "b6f7eb91",
   "metadata": {},
   "source": [
    "1. В столбце `date` датафрейма \"rides_data\" изменили тип данных с object на datetime. Так как в столбце хранится информации о дате и в pandas есть удобные методы для работы с типом данных datetime\n",
    "2. В датафрейме \"rides_data\" добавили новый столбец `month`, который хранит информацию о месяце поездки\n",
    "3. Обработали дубликаты.\n",
    "    1. Дубликаты найдены только в датафрейме \"users_data\" столбце `user_id`.\n",
    "    2. В остальных датафреймах дубликатов не найдено\n",
    "4. Аномальные значения в датафреймах не найдены\n",
    "5. Пропусков в датафреймах также нет"
   ]
  },
  {
   "cell_type": "markdown",
   "id": "212593c7",
   "metadata": {},
   "source": [
    "### Шаг 4. Исследовательский анализ данных"
   ]
  },
  {
   "cell_type": "markdown",
   "id": "bc32ac38",
   "metadata": {},
   "source": [
    "#### Частота встречаемости городов"
   ]
  },
  {
   "cell_type": "markdown",
   "id": "030be77e",
   "metadata": {},
   "source": [
    "Посмотрим на сводной таблице, как часто встречаются города в датафрейме"
   ]
  },
  {
   "cell_type": "code",
   "execution_count": 23,
   "id": "174dc3af",
   "metadata": {},
   "outputs": [
    {
     "data": {
      "text/html": [
       "<div>\n",
       "<style scoped>\n",
       "    .dataframe tbody tr th:only-of-type {\n",
       "        vertical-align: middle;\n",
       "    }\n",
       "\n",
       "    .dataframe tbody tr th {\n",
       "        vertical-align: top;\n",
       "    }\n",
       "\n",
       "    .dataframe thead th {\n",
       "        text-align: right;\n",
       "    }\n",
       "</style>\n",
       "<table border=\"1\" class=\"dataframe\">\n",
       "  <thead>\n",
       "    <tr style=\"text-align: right;\">\n",
       "      <th></th>\n",
       "      <th>user_id</th>\n",
       "    </tr>\n",
       "    <tr>\n",
       "      <th>city</th>\n",
       "      <th></th>\n",
       "    </tr>\n",
       "  </thead>\n",
       "  <tbody>\n",
       "    <tr>\n",
       "      <th>Москва</th>\n",
       "      <td>168</td>\n",
       "    </tr>\n",
       "    <tr>\n",
       "      <th>Тюмень</th>\n",
       "      <td>180</td>\n",
       "    </tr>\n",
       "    <tr>\n",
       "      <th>Омск</th>\n",
       "      <td>183</td>\n",
       "    </tr>\n",
       "    <tr>\n",
       "      <th>Сочи</th>\n",
       "      <td>189</td>\n",
       "    </tr>\n",
       "    <tr>\n",
       "      <th>Краснодар</th>\n",
       "      <td>193</td>\n",
       "    </tr>\n",
       "    <tr>\n",
       "      <th>Ростов-на-Дону</th>\n",
       "      <td>198</td>\n",
       "    </tr>\n",
       "    <tr>\n",
       "      <th>Екатеринбург</th>\n",
       "      <td>204</td>\n",
       "    </tr>\n",
       "    <tr>\n",
       "      <th>Пятигорск</th>\n",
       "      <td>219</td>\n",
       "    </tr>\n",
       "  </tbody>\n",
       "</table>\n",
       "</div>"
      ],
      "text/plain": [
       "                user_id\n",
       "city                   \n",
       "Москва              168\n",
       "Тюмень              180\n",
       "Омск                183\n",
       "Сочи                189\n",
       "Краснодар           193\n",
       "Ростов-на-Дону      198\n",
       "Екатеринбург        204\n",
       "Пятигорск           219"
      ]
     },
     "execution_count": 23,
     "metadata": {},
     "output_type": "execute_result"
    }
   ],
   "source": [
    "cities_pivot = users_data.pivot_table(index='city', values='user_id', aggfunc='count').sort_values(by='user_id')\n",
    "cities_pivot"
   ]
  },
  {
   "cell_type": "markdown",
   "id": "6d809cc8",
   "metadata": {},
   "source": [
    "Построим столбчатую диаграмму для этой таблицы"
   ]
  },
  {
   "cell_type": "code",
   "execution_count": 24,
   "id": "2d4e0efd",
   "metadata": {},
   "outputs": [
    {
     "data": {
      "image/png": "[encoded data removed]",
      "text/plain": [
       "<Figure size 432x288 with 1 Axes>"
      ]
     },
     "metadata": {
      "needs_background": "light"
     },
     "output_type": "display_data"
    }
   ],
   "source": [
    "plt.title('Частота встречаемости городов')\n",
    "plt.ylabel('Количество')\n",
    "plt.xlabel('Город')\n",
    "plt.grid(True)\n",
    "plt.xticks(rotation=90)\n",
    "plt.bar(cities_pivot.index, cities_pivot['user_id'])\n",
    "plt.show()"
   ]
  },
  {
   "cell_type": "markdown",
   "id": "dd9c2d5d",
   "metadata": {},
   "source": [
    "Меньше всего пользователей в Москве, а больше всего в Пятигорсе. Довольно таки интересное наблюдение. Все таки в Москве население почти в 100 раз больше, чем в Пятигорске. (13 миллионнов против 144 тысяч)<br>\n",
    "Возможно компании стоит проверсти какуб-либо рекламную компанию в крупных городах"
   ]
  },
  {
   "cell_type": "markdown",
   "id": "6009fee0",
   "metadata": {},
   "source": [
    "#### Cоотношение пользователей с подпиской и без подписки"
   ]
  },
  {
   "cell_type": "markdown",
   "id": "d45a9048",
   "metadata": {},
   "source": [
    "Проверим какую часть от всего числа пользователей составляют пользователи с подпиской и без"
   ]
  },
  {
   "cell_type": "code",
   "execution_count": 25,
   "id": "68a92a6d",
   "metadata": {},
   "outputs": [
    {
     "name": "stdout",
     "output_type": "stream",
     "text": [
      "Всего пользователей: 1534\n",
      "Часть пользовтелей с подпиской: 0.456\n",
      "Часть пользовтелей без подписки: 0.544\n"
     ]
    }
   ],
   "source": [
    "# Посчитаем сколько всего пользователей\n",
    "len_users = len(users_data)\n",
    "\n",
    "#Напишем функцию для подсчета частей\n",
    "def subs_part(sub_type):\n",
    "    len_users = len(users_data)\n",
    "    return round(len(users_data[users_data['subscription_type'] == sub_type]) / len_users, 3)\n",
    "\n",
    "print('Всего пользователей:', len(users_data))\n",
    "print('Часть пользовтелей с подпиской:', subs_part('ultra'))\n",
    "print('Часть пользовтелей без подписки:', subs_part('free'))"
   ]
  },
  {
   "cell_type": "code",
   "execution_count": 26,
   "id": "ddc169c1",
   "metadata": {},
   "outputs": [
    {
     "data": {
      "text/html": [
       "<div>\n",
       "<style scoped>\n",
       "    .dataframe tbody tr th:only-of-type {\n",
       "        vertical-align: middle;\n",
       "    }\n",
       "\n",
       "    .dataframe tbody tr th {\n",
       "        vertical-align: top;\n",
       "    }\n",
       "\n",
       "    .dataframe thead th {\n",
       "        text-align: right;\n",
       "    }\n",
       "</style>\n",
       "<table border=\"1\" class=\"dataframe\">\n",
       "  <thead>\n",
       "    <tr style=\"text-align: right;\">\n",
       "      <th></th>\n",
       "      <th>user_id</th>\n",
       "      <th>part</th>\n",
       "    </tr>\n",
       "    <tr>\n",
       "      <th>subscription_type</th>\n",
       "      <th></th>\n",
       "      <th></th>\n",
       "    </tr>\n",
       "  </thead>\n",
       "  <tbody>\n",
       "    <tr>\n",
       "      <th>free</th>\n",
       "      <td>835</td>\n",
       "      <td>0.544</td>\n",
       "    </tr>\n",
       "    <tr>\n",
       "      <th>ultra</th>\n",
       "      <td>699</td>\n",
       "      <td>0.456</td>\n",
       "    </tr>\n",
       "  </tbody>\n",
       "</table>\n",
       "</div>"
      ],
      "text/plain": [
       "                   user_id   part\n",
       "subscription_type                \n",
       "free                   835  0.544\n",
       "ultra                  699  0.456"
      ]
     },
     "execution_count": 26,
     "metadata": {},
     "output_type": "execute_result"
    }
   ],
   "source": [
    "# Построим сводную таблицу\n",
    "subs_pivot = users_data.pivot_table(index='subscription_type', values='user_id', aggfunc='count')\n",
    "subs_pivot['part'] = subs_pivot.index.to_series().apply(subs_part)\n",
    "subs_pivot"
   ]
  },
  {
   "cell_type": "code",
   "execution_count": 27,
   "id": "75718a23",
   "metadata": {},
   "outputs": [
    {
     "data": {
      "image/png": "[encoded data removed]",
      "text/plain": [
       "<Figure size 432x288 with 1 Axes>"
      ]
     },
     "metadata": {
      "needs_background": "light"
     },
     "output_type": "display_data"
    }
   ],
   "source": [
    "plt.title('Диаграмма количества пользователей по наличию подписки')\n",
    "plt.xlabel('Вид подписки')\n",
    "plt.ylabel('Количество')\n",
    "plt.bar(subs_pivot.index, subs_pivot['user_id'])\n",
    "plt.show()"
   ]
  },
  {
   "cell_type": "markdown",
   "id": "e9142b23",
   "metadata": {},
   "source": [
    "Пользователей без подписки почти на 10% больше"
   ]
  },
  {
   "cell_type": "markdown",
   "id": "45b101f0",
   "metadata": {},
   "source": [
    "#### Возраст пользователей"
   ]
  },
  {
   "cell_type": "markdown",
   "id": "ce46354f",
   "metadata": {},
   "source": [
    "Посмотрим, как распределен возраст пользователей"
   ]
  },
  {
   "cell_type": "code",
   "execution_count": 28,
   "id": "56122de6",
   "metadata": {},
   "outputs": [
    {
     "data": {
      "image/png": "[encoded data removed]",
      "text/plain": [
       "<Figure size 432x288 with 1 Axes>"
      ]
     },
     "metadata": {
      "needs_background": "light"
     },
     "output_type": "display_data"
    }
   ],
   "source": [
    "plt.title('Гистограмма возраста пользователей')\n",
    "plt.xlabel('Возраст')\n",
    "plt.ylabel('Количество')\n",
    "plt.grid(True)\n",
    "plt.hist(users_data['age'], bins=30)\n",
    "plt.show()"
   ]
  },
  {
   "cell_type": "markdown",
   "id": "68a03d79",
   "metadata": {},
   "source": [
    "Распределение возраста пользователей похоже на нормальное. Больше всего пользователей в возрасте около 25 лет. Чем дальше возраст от наиболее встречающегося значения, тем реже он встречается"
   ]
  },
  {
   "cell_type": "markdown",
   "id": "91130ec1",
   "metadata": {},
   "source": [
    "#### Расстояние, которое пользователь преодолел за одну поездку"
   ]
  },
  {
   "cell_type": "code",
   "execution_count": 29,
   "id": "b7f29013",
   "metadata": {},
   "outputs": [
    {
     "data": {
      "image/png": "[encoded data removed]",
      "text/plain": [
       "<Figure size 432x288 with 1 Axes>"
      ]
     },
     "metadata": {
      "needs_background": "light"
     },
     "output_type": "display_data"
    }
   ],
   "source": [
    "plt.title('Гистограмма расстояний поездок')\n",
    "plt.xlabel('Расстояние')\n",
    "plt.ylabel('Количество')\n",
    "plt.grid(True)\n",
    "plt.hist(rides_data['distance'], bins=20)\n",
    "plt.show()"
   ]
  },
  {
   "cell_type": "code",
   "execution_count": 30,
   "id": "5e89a349",
   "metadata": {},
   "outputs": [
    {
     "data": {
      "image/png": "[encoded data removed]",
      "text/plain": [
       "<Figure size 432x288 with 1 Axes>"
      ]
     },
     "metadata": {
      "needs_background": "light"
     },
     "output_type": "display_data"
    }
   ],
   "source": [
    "plt.title('Пики коротких расстояний')\n",
    "plt.xlabel('Расстояние')\n",
    "plt.ylabel('Количество')\n",
    "plt.grid(True)\n",
    "plt.hist(rides_data['distance'], range=(0, 1500))\n",
    "plt.show()"
   ]
  },
  {
   "cell_type": "code",
   "execution_count": 31,
   "id": "f2ce0b4f",
   "metadata": {},
   "outputs": [
    {
     "data": {
      "image/png": "[encoded data removed]",
      "text/plain": [
       "<Figure size 432x288 with 1 Axes>"
      ]
     },
     "metadata": {
      "needs_background": "light"
     },
     "output_type": "display_data"
    }
   ],
   "source": [
    "plt.title('Пики длинных расстояний')\n",
    "plt.xlabel('Расстояние')\n",
    "plt.ylabel('Количество')\n",
    "plt.grid(True)\n",
    "plt.hist(rides_data['distance'], bins=20, range=(2000, 4000))\n",
    "plt.show()"
   ]
  },
  {
   "cell_type": "markdown",
   "id": "b05a2786",
   "metadata": {},
   "source": [
    "Больше всего пользователи проезжают около 3км. Больше 5км пользователи проезжают очень редко. Также до 1км пользователи ездят чаще, чем от 1км до 1.8км<br>\n",
    "На коротких расстояних (до 1км) больше всего поездок по 600-700 метров<br>\n",
    "На длинных от 2.5 до 3.3 км"
   ]
  },
  {
   "cell_type": "markdown",
   "id": "a85682c6",
   "metadata": {},
   "source": [
    "#### Продолжительность поездок"
   ]
  },
  {
   "cell_type": "markdown",
   "id": "682b3632",
   "metadata": {},
   "source": [
    "Посмотрим на продолжительность поездок"
   ]
  },
  {
   "cell_type": "code",
   "execution_count": 32,
   "id": "971027ee",
   "metadata": {},
   "outputs": [
    {
     "data": {
      "image/png": "[encoded data removed]",
      "text/plain": [
       "<Figure size 432x288 with 1 Axes>"
      ]
     },
     "metadata": {
      "needs_background": "light"
     },
     "output_type": "display_data"
    }
   ],
   "source": [
    "plt.title('Гистограмма времени поездок')\n",
    "plt.xlabel('Время (мин)')\n",
    "plt.ylabel('Количество')\n",
    "plt.grid(True)\n",
    "plt.hist(rides_data['duration'], bins=20)\n",
    "plt.show()"
   ]
  },
  {
   "cell_type": "markdown",
   "id": "576e0b73",
   "metadata": {},
   "source": [
    "Чаще всего пользователи ездят по 17 минут.<br>\n",
    "Было бы интересно посмотреть, зависит ли время поездки от ее дальности. Посмотрим на корреляцию этих двух параметров"
   ]
  },
  {
   "cell_type": "code",
   "execution_count": 33,
   "id": "a991cf9a",
   "metadata": {},
   "outputs": [
    {
     "data": {
      "image/png": "[encoded data removed]",
      "text/plain": [
       "<Figure size 432x288 with 1 Axes>"
      ]
     },
     "metadata": {
      "needs_background": "light"
     },
     "output_type": "display_data"
    },
    {
     "name": "stdout",
     "output_type": "stream",
     "text": [
      "0.5367776552505346\n"
     ]
    }
   ],
   "source": [
    "plt.title('Корреляция расстояния и времени')\n",
    "plt.xlabel('Расстояние')\n",
    "plt.ylabel('Время (мин)')\n",
    "plt.scatter(rides_data['distance'], rides_data['duration'], alpha=0.2)\n",
    "plt.show()\n",
    "print(rides_data['distance'].corr(rides_data['duration']))"
   ]
  },
  {
   "cell_type": "markdown",
   "id": "afdac44f",
   "metadata": {},
   "source": [
    "На графике видим необычную ситуацию. Есть пользователи, которые менее, чем за 2 минуты проезжали более 4 км. "
   ]
  },
  {
   "cell_type": "code",
   "execution_count": 34,
   "id": "0f88650a",
   "metadata": {},
   "outputs": [
    {
     "data": {
      "text/html": [
       "<div>\n",
       "<style scoped>\n",
       "    .dataframe tbody tr th:only-of-type {\n",
       "        vertical-align: middle;\n",
       "    }\n",
       "\n",
       "    .dataframe tbody tr th {\n",
       "        vertical-align: top;\n",
       "    }\n",
       "\n",
       "    .dataframe thead th {\n",
       "        text-align: right;\n",
       "    }\n",
       "</style>\n",
       "<table border=\"1\" class=\"dataframe\">\n",
       "  <thead>\n",
       "    <tr style=\"text-align: right;\">\n",
       "      <th></th>\n",
       "      <th>user_id</th>\n",
       "      <th>distance</th>\n",
       "      <th>duration</th>\n",
       "      <th>date</th>\n",
       "      <th>month</th>\n",
       "    </tr>\n",
       "  </thead>\n",
       "  <tbody>\n",
       "    <tr>\n",
       "      <th>6531</th>\n",
       "      <td>701</td>\n",
       "      <td>4196.445201</td>\n",
       "      <td>0.5</td>\n",
       "      <td>2021-08-31</td>\n",
       "      <td>8</td>\n",
       "    </tr>\n",
       "    <tr>\n",
       "      <th>6570</th>\n",
       "      <td>704</td>\n",
       "      <td>4830.824371</td>\n",
       "      <td>0.5</td>\n",
       "      <td>2021-10-14</td>\n",
       "      <td>10</td>\n",
       "    </tr>\n",
       "    <tr>\n",
       "      <th>6680</th>\n",
       "      <td>712</td>\n",
       "      <td>4684.004397</td>\n",
       "      <td>0.5</td>\n",
       "      <td>2021-03-04</td>\n",
       "      <td>3</td>\n",
       "    </tr>\n",
       "    <tr>\n",
       "      <th>6695</th>\n",
       "      <td>713</td>\n",
       "      <td>5215.642710</td>\n",
       "      <td>0.5</td>\n",
       "      <td>2021-02-25</td>\n",
       "      <td>2</td>\n",
       "    </tr>\n",
       "    <tr>\n",
       "      <th>6768</th>\n",
       "      <td>718</td>\n",
       "      <td>5197.436649</td>\n",
       "      <td>0.5</td>\n",
       "      <td>2021-02-11</td>\n",
       "      <td>2</td>\n",
       "    </tr>\n",
       "    <tr>\n",
       "      <th>...</th>\n",
       "      <td>...</td>\n",
       "      <td>...</td>\n",
       "      <td>...</td>\n",
       "      <td>...</td>\n",
       "      <td>...</td>\n",
       "    </tr>\n",
       "    <tr>\n",
       "      <th>17004</th>\n",
       "      <td>1460</td>\n",
       "      <td>5531.335845</td>\n",
       "      <td>0.5</td>\n",
       "      <td>2021-01-19</td>\n",
       "      <td>1</td>\n",
       "    </tr>\n",
       "    <tr>\n",
       "      <th>17242</th>\n",
       "      <td>1477</td>\n",
       "      <td>6724.932981</td>\n",
       "      <td>0.5</td>\n",
       "      <td>2021-01-12</td>\n",
       "      <td>1</td>\n",
       "    </tr>\n",
       "    <tr>\n",
       "      <th>17314</th>\n",
       "      <td>1483</td>\n",
       "      <td>4445.481070</td>\n",
       "      <td>0.5</td>\n",
       "      <td>2021-03-06</td>\n",
       "      <td>3</td>\n",
       "    </tr>\n",
       "    <tr>\n",
       "      <th>17505</th>\n",
       "      <td>1496</td>\n",
       "      <td>5722.551787</td>\n",
       "      <td>0.5</td>\n",
       "      <td>2021-02-14</td>\n",
       "      <td>2</td>\n",
       "    </tr>\n",
       "    <tr>\n",
       "      <th>17909</th>\n",
       "      <td>1524</td>\n",
       "      <td>4103.998874</td>\n",
       "      <td>0.5</td>\n",
       "      <td>2021-06-18</td>\n",
       "      <td>6</td>\n",
       "    </tr>\n",
       "  </tbody>\n",
       "</table>\n",
       "<p>95 rows × 5 columns</p>\n",
       "</div>"
      ],
      "text/plain": [
       "       user_id     distance  duration       date  month\n",
       "6531       701  4196.445201       0.5 2021-08-31      8\n",
       "6570       704  4830.824371       0.5 2021-10-14     10\n",
       "6680       712  4684.004397       0.5 2021-03-04      3\n",
       "6695       713  5215.642710       0.5 2021-02-25      2\n",
       "6768       718  5197.436649       0.5 2021-02-11      2\n",
       "...        ...          ...       ...        ...    ...\n",
       "17004     1460  5531.335845       0.5 2021-01-19      1\n",
       "17242     1477  6724.932981       0.5 2021-01-12      1\n",
       "17314     1483  4445.481070       0.5 2021-03-06      3\n",
       "17505     1496  5722.551787       0.5 2021-02-14      2\n",
       "17909     1524  4103.998874       0.5 2021-06-18      6\n",
       "\n",
       "[95 rows x 5 columns]"
      ]
     },
     "execution_count": 34,
     "metadata": {},
     "output_type": "execute_result"
    }
   ],
   "source": [
    "# Посмотрим на эти значения\n",
    "pivot_dist_dur = rides_data[(rides_data['distance'] >= 3000) & (rides_data['duration'] <= 5)]\n",
    "pivot_dist_dur"
   ]
  },
  {
   "cell_type": "code",
   "execution_count": 35,
   "id": "300a8973",
   "metadata": {},
   "outputs": [
    {
     "data": {
      "text/plain": [
       "array([0.5])"
      ]
     },
     "execution_count": 35,
     "metadata": {},
     "output_type": "execute_result"
    }
   ],
   "source": [
    "pivot_dist_dur['duration'].unique()"
   ]
  },
  {
   "cell_type": "markdown",
   "id": "363e15c8",
   "metadata": {},
   "source": [
    "Да, что то странное. Похоже на ошибку в данных. Время для подобных расстояний в пол минуты невозможно.<br>\n",
    "Будем считать, что это минуты. Вероятнее всего для подобных расстояний, что 0.5 это половина часа, то есть 30 минут"
   ]
  },
  {
   "cell_type": "code",
   "execution_count": 36,
   "id": "f9fe74db",
   "metadata": {},
   "outputs": [],
   "source": [
    "rides_data['duration'] = rides_data['duration'].where(rides_data['duration'] != 0.5, rides_data['duration'] * 60)"
   ]
  },
  {
   "cell_type": "code",
   "execution_count": 37,
   "id": "fc9f09af",
   "metadata": {},
   "outputs": [
    {
     "data": {
      "text/html": [
       "<div>\n",
       "<style scoped>\n",
       "    .dataframe tbody tr th:only-of-type {\n",
       "        vertical-align: middle;\n",
       "    }\n",
       "\n",
       "    .dataframe tbody tr th {\n",
       "        vertical-align: top;\n",
       "    }\n",
       "\n",
       "    .dataframe thead th {\n",
       "        text-align: right;\n",
       "    }\n",
       "</style>\n",
       "<table border=\"1\" class=\"dataframe\">\n",
       "  <thead>\n",
       "    <tr style=\"text-align: right;\">\n",
       "      <th></th>\n",
       "      <th>user_id</th>\n",
       "      <th>distance</th>\n",
       "      <th>duration</th>\n",
       "      <th>date</th>\n",
       "      <th>month</th>\n",
       "    </tr>\n",
       "  </thead>\n",
       "  <tbody>\n",
       "    <tr>\n",
       "      <th>0</th>\n",
       "      <td>1</td>\n",
       "      <td>4409.919140</td>\n",
       "      <td>25.599769</td>\n",
       "      <td>2021-01-01</td>\n",
       "      <td>1</td>\n",
       "    </tr>\n",
       "    <tr>\n",
       "      <th>1</th>\n",
       "      <td>1</td>\n",
       "      <td>2617.592153</td>\n",
       "      <td>15.816871</td>\n",
       "      <td>2021-01-18</td>\n",
       "      <td>1</td>\n",
       "    </tr>\n",
       "    <tr>\n",
       "      <th>2</th>\n",
       "      <td>1</td>\n",
       "      <td>754.159807</td>\n",
       "      <td>6.232113</td>\n",
       "      <td>2021-04-20</td>\n",
       "      <td>4</td>\n",
       "    </tr>\n",
       "    <tr>\n",
       "      <th>3</th>\n",
       "      <td>1</td>\n",
       "      <td>2694.783254</td>\n",
       "      <td>18.511000</td>\n",
       "      <td>2021-08-11</td>\n",
       "      <td>8</td>\n",
       "    </tr>\n",
       "    <tr>\n",
       "      <th>4</th>\n",
       "      <td>1</td>\n",
       "      <td>4028.687306</td>\n",
       "      <td>26.265803</td>\n",
       "      <td>2021-08-28</td>\n",
       "      <td>8</td>\n",
       "    </tr>\n",
       "    <tr>\n",
       "      <th>...</th>\n",
       "      <td>...</td>\n",
       "      <td>...</td>\n",
       "      <td>...</td>\n",
       "      <td>...</td>\n",
       "      <td>...</td>\n",
       "    </tr>\n",
       "    <tr>\n",
       "      <th>18063</th>\n",
       "      <td>1534</td>\n",
       "      <td>3781.098080</td>\n",
       "      <td>19.822962</td>\n",
       "      <td>2021-11-04</td>\n",
       "      <td>11</td>\n",
       "    </tr>\n",
       "    <tr>\n",
       "      <th>18064</th>\n",
       "      <td>1534</td>\n",
       "      <td>2840.423057</td>\n",
       "      <td>21.409799</td>\n",
       "      <td>2021-11-16</td>\n",
       "      <td>11</td>\n",
       "    </tr>\n",
       "    <tr>\n",
       "      <th>18065</th>\n",
       "      <td>1534</td>\n",
       "      <td>3826.185507</td>\n",
       "      <td>18.435051</td>\n",
       "      <td>2021-11-18</td>\n",
       "      <td>11</td>\n",
       "    </tr>\n",
       "    <tr>\n",
       "      <th>18066</th>\n",
       "      <td>1534</td>\n",
       "      <td>2902.308661</td>\n",
       "      <td>16.674362</td>\n",
       "      <td>2021-11-27</td>\n",
       "      <td>11</td>\n",
       "    </tr>\n",
       "    <tr>\n",
       "      <th>18067</th>\n",
       "      <td>1534</td>\n",
       "      <td>2371.711192</td>\n",
       "      <td>15.893917</td>\n",
       "      <td>2021-12-29</td>\n",
       "      <td>12</td>\n",
       "    </tr>\n",
       "  </tbody>\n",
       "</table>\n",
       "<p>18068 rows × 5 columns</p>\n",
       "</div>"
      ],
      "text/plain": [
       "       user_id     distance   duration       date  month\n",
       "0            1  4409.919140  25.599769 2021-01-01      1\n",
       "1            1  2617.592153  15.816871 2021-01-18      1\n",
       "2            1   754.159807   6.232113 2021-04-20      4\n",
       "3            1  2694.783254  18.511000 2021-08-11      8\n",
       "4            1  4028.687306  26.265803 2021-08-28      8\n",
       "...        ...          ...        ...        ...    ...\n",
       "18063     1534  3781.098080  19.822962 2021-11-04     11\n",
       "18064     1534  2840.423057  21.409799 2021-11-16     11\n",
       "18065     1534  3826.185507  18.435051 2021-11-18     11\n",
       "18066     1534  2902.308661  16.674362 2021-11-27     11\n",
       "18067     1534  2371.711192  15.893917 2021-12-29     12\n",
       "\n",
       "[18068 rows x 5 columns]"
      ]
     },
     "execution_count": 37,
     "metadata": {},
     "output_type": "execute_result"
    }
   ],
   "source": [
    "rides_data"
   ]
  },
  {
   "cell_type": "markdown",
   "id": "dd609f62",
   "metadata": {},
   "source": [
    "Строки успешно обработаны. Еще раз взгялнем на график корреляции"
   ]
  },
  {
   "cell_type": "code",
   "execution_count": 38,
   "id": "dd5103fd",
   "metadata": {
    "scrolled": false
   },
   "outputs": [
    {
     "data": {
      "image/png": "[encoded data removed]",
      "text/plain": [
       "<Figure size 432x288 with 1 Axes>"
      ]
     },
     "metadata": {
      "needs_background": "light"
     },
     "output_type": "display_data"
    },
    {
     "name": "stdout",
     "output_type": "stream",
     "text": [
      "0.5898805754405957\n"
     ]
    }
   ],
   "source": [
    "plt.title('Корреляция расстояния и времени')\n",
    "plt.xlabel('Расстояние')\n",
    "plt.ylabel('Время (мин)')\n",
    "plt.scatter(rides_data['distance'], rides_data['duration'], alpha=0.2)\n",
    "plt.show()\n",
    "print(rides_data['distance'].corr(rides_data['duration']))"
   ]
  },
  {
   "cell_type": "markdown",
   "id": "8bee419e",
   "metadata": {},
   "source": [
    "Аномальных значений теперь не видно на графике. Коэффициент Пирсона немного вырос и стал равен 0.58. Нельзя сказать, что они линейно зависят друг от друга. Хотя небольшая зависимость и есть. Возможно это обусловлено еще и тем, что разные пользователи используют самокаты по-разному."
   ]
  },
  {
   "cell_type": "markdown",
   "id": "085f9303",
   "metadata": {},
   "source": [
    "#### Вывод"
   ]
  },
  {
   "cell_type": "markdown",
   "id": "36edaf86",
   "metadata": {},
   "source": [
    "1. Меньше всего пользователей в Москве, а больше всего в Пятигорсе. Довольно таки интересное наблюдение. Все таки в Москве население почти в 100 раз больше, чем в Пятигорске. (13 миллионнов против 144 тысяч).\n",
    "2. Пользователей без подписки почти на 10% больше. 835 против 699\n",
    "3. Больше всего пользователей в возрасте около 25 лет. Чем дальше возраст от наиболее встречающегося значения, тем реже он встречается\n",
    "4. Больше всего пользователи проезжают около 3км. Больше 5км пользователи проезжают очень редко. Также до 1км пользователи ездят чаще, чем от 1км до 1.8км\n",
    "5. Чаще всего пользователи ездят по 17 минут.\n",
    "6. Преобразованы строки, где пользователи за 30с проезжали от 4 до 7 км. 30с заменили на 30м.\n",
    "7. Зависимость между параметрами `distance` и `duration` по коэффициенту Пирсона равена 0.58. Нельзя сказать, что они линейно зависят друг от друга. Хотя небольшая зависимость и есть. Возможно это обусловлено еще и тем, что разные пользователи используют самокаты по-разному."
   ]
  },
  {
   "cell_type": "markdown",
   "id": "4ef51331",
   "metadata": {},
   "source": [
    "### Шаг 5. Объединение данных"
   ]
  },
  {
   "cell_type": "markdown",
   "id": "e732d9d8",
   "metadata": {},
   "source": [
    "#### Объединение данных о пользователях, поездках и подписках в один датафрейм"
   ]
  },
  {
   "cell_type": "markdown",
   "id": "996b3a9a",
   "metadata": {},
   "source": [
    "Объединим датафреймы users_data, rides_data, subs_data в один"
   ]
  },
  {
   "cell_type": "code",
   "execution_count": 39,
   "id": "5a5baece",
   "metadata": {},
   "outputs": [
    {
     "data": {
      "text/html": [
       "<div>\n",
       "<style scoped>\n",
       "    .dataframe tbody tr th:only-of-type {\n",
       "        vertical-align: middle;\n",
       "    }\n",
       "\n",
       "    .dataframe tbody tr th {\n",
       "        vertical-align: top;\n",
       "    }\n",
       "\n",
       "    .dataframe thead th {\n",
       "        text-align: right;\n",
       "    }\n",
       "</style>\n",
       "<table border=\"1\" class=\"dataframe\">\n",
       "  <thead>\n",
       "    <tr style=\"text-align: right;\">\n",
       "      <th></th>\n",
       "      <th>user_id</th>\n",
       "      <th>distance</th>\n",
       "      <th>duration</th>\n",
       "      <th>date</th>\n",
       "      <th>month</th>\n",
       "      <th>name</th>\n",
       "      <th>age</th>\n",
       "      <th>city</th>\n",
       "      <th>subscription_type</th>\n",
       "      <th>minute_price</th>\n",
       "      <th>start_ride_price</th>\n",
       "      <th>subscription_fee</th>\n",
       "    </tr>\n",
       "  </thead>\n",
       "  <tbody>\n",
       "    <tr>\n",
       "      <th>18058</th>\n",
       "      <td>1534</td>\n",
       "      <td>195.447469</td>\n",
       "      <td>6.469074</td>\n",
       "      <td>2021-06-11</td>\n",
       "      <td>6</td>\n",
       "      <td>Альберт</td>\n",
       "      <td>25</td>\n",
       "      <td>Краснодар</td>\n",
       "      <td>free</td>\n",
       "      <td>8</td>\n",
       "      <td>50</td>\n",
       "      <td>0</td>\n",
       "    </tr>\n",
       "    <tr>\n",
       "      <th>18059</th>\n",
       "      <td>1534</td>\n",
       "      <td>3214.021065</td>\n",
       "      <td>18.343604</td>\n",
       "      <td>2021-06-18</td>\n",
       "      <td>6</td>\n",
       "      <td>Альберт</td>\n",
       "      <td>25</td>\n",
       "      <td>Краснодар</td>\n",
       "      <td>free</td>\n",
       "      <td>8</td>\n",
       "      <td>50</td>\n",
       "      <td>0</td>\n",
       "    </tr>\n",
       "    <tr>\n",
       "      <th>18060</th>\n",
       "      <td>1534</td>\n",
       "      <td>3644.708038</td>\n",
       "      <td>20.289416</td>\n",
       "      <td>2021-08-08</td>\n",
       "      <td>8</td>\n",
       "      <td>Альберт</td>\n",
       "      <td>25</td>\n",
       "      <td>Краснодар</td>\n",
       "      <td>free</td>\n",
       "      <td>8</td>\n",
       "      <td>50</td>\n",
       "      <td>0</td>\n",
       "    </tr>\n",
       "    <tr>\n",
       "      <th>18061</th>\n",
       "      <td>1534</td>\n",
       "      <td>3977.744996</td>\n",
       "      <td>26.916544</td>\n",
       "      <td>2021-08-20</td>\n",
       "      <td>8</td>\n",
       "      <td>Альберт</td>\n",
       "      <td>25</td>\n",
       "      <td>Краснодар</td>\n",
       "      <td>free</td>\n",
       "      <td>8</td>\n",
       "      <td>50</td>\n",
       "      <td>0</td>\n",
       "    </tr>\n",
       "    <tr>\n",
       "      <th>18062</th>\n",
       "      <td>1534</td>\n",
       "      <td>4928.173852</td>\n",
       "      <td>22.560373</td>\n",
       "      <td>2021-09-13</td>\n",
       "      <td>9</td>\n",
       "      <td>Альберт</td>\n",
       "      <td>25</td>\n",
       "      <td>Краснодар</td>\n",
       "      <td>free</td>\n",
       "      <td>8</td>\n",
       "      <td>50</td>\n",
       "      <td>0</td>\n",
       "    </tr>\n",
       "    <tr>\n",
       "      <th>18063</th>\n",
       "      <td>1534</td>\n",
       "      <td>3781.098080</td>\n",
       "      <td>19.822962</td>\n",
       "      <td>2021-11-04</td>\n",
       "      <td>11</td>\n",
       "      <td>Альберт</td>\n",
       "      <td>25</td>\n",
       "      <td>Краснодар</td>\n",
       "      <td>free</td>\n",
       "      <td>8</td>\n",
       "      <td>50</td>\n",
       "      <td>0</td>\n",
       "    </tr>\n",
       "    <tr>\n",
       "      <th>18064</th>\n",
       "      <td>1534</td>\n",
       "      <td>2840.423057</td>\n",
       "      <td>21.409799</td>\n",
       "      <td>2021-11-16</td>\n",
       "      <td>11</td>\n",
       "      <td>Альберт</td>\n",
       "      <td>25</td>\n",
       "      <td>Краснодар</td>\n",
       "      <td>free</td>\n",
       "      <td>8</td>\n",
       "      <td>50</td>\n",
       "      <td>0</td>\n",
       "    </tr>\n",
       "    <tr>\n",
       "      <th>18065</th>\n",
       "      <td>1534</td>\n",
       "      <td>3826.185507</td>\n",
       "      <td>18.435051</td>\n",
       "      <td>2021-11-18</td>\n",
       "      <td>11</td>\n",
       "      <td>Альберт</td>\n",
       "      <td>25</td>\n",
       "      <td>Краснодар</td>\n",
       "      <td>free</td>\n",
       "      <td>8</td>\n",
       "      <td>50</td>\n",
       "      <td>0</td>\n",
       "    </tr>\n",
       "    <tr>\n",
       "      <th>18066</th>\n",
       "      <td>1534</td>\n",
       "      <td>2902.308661</td>\n",
       "      <td>16.674362</td>\n",
       "      <td>2021-11-27</td>\n",
       "      <td>11</td>\n",
       "      <td>Альберт</td>\n",
       "      <td>25</td>\n",
       "      <td>Краснодар</td>\n",
       "      <td>free</td>\n",
       "      <td>8</td>\n",
       "      <td>50</td>\n",
       "      <td>0</td>\n",
       "    </tr>\n",
       "    <tr>\n",
       "      <th>18067</th>\n",
       "      <td>1534</td>\n",
       "      <td>2371.711192</td>\n",
       "      <td>15.893917</td>\n",
       "      <td>2021-12-29</td>\n",
       "      <td>12</td>\n",
       "      <td>Альберт</td>\n",
       "      <td>25</td>\n",
       "      <td>Краснодар</td>\n",
       "      <td>free</td>\n",
       "      <td>8</td>\n",
       "      <td>50</td>\n",
       "      <td>0</td>\n",
       "    </tr>\n",
       "  </tbody>\n",
       "</table>\n",
       "</div>"
      ],
      "text/plain": [
       "       user_id     distance   duration       date  month     name  age  \\\n",
       "18058     1534   195.447469   6.469074 2021-06-11      6  Альберт   25   \n",
       "18059     1534  3214.021065  18.343604 2021-06-18      6  Альберт   25   \n",
       "18060     1534  3644.708038  20.289416 2021-08-08      8  Альберт   25   \n",
       "18061     1534  3977.744996  26.916544 2021-08-20      8  Альберт   25   \n",
       "18062     1534  4928.173852  22.560373 2021-09-13      9  Альберт   25   \n",
       "18063     1534  3781.098080  19.822962 2021-11-04     11  Альберт   25   \n",
       "18064     1534  2840.423057  21.409799 2021-11-16     11  Альберт   25   \n",
       "18065     1534  3826.185507  18.435051 2021-11-18     11  Альберт   25   \n",
       "18066     1534  2902.308661  16.674362 2021-11-27     11  Альберт   25   \n",
       "18067     1534  2371.711192  15.893917 2021-12-29     12  Альберт   25   \n",
       "\n",
       "            city subscription_type  minute_price  start_ride_price  \\\n",
       "18058  Краснодар              free             8                50   \n",
       "18059  Краснодар              free             8                50   \n",
       "18060  Краснодар              free             8                50   \n",
       "18061  Краснодар              free             8                50   \n",
       "18062  Краснодар              free             8                50   \n",
       "18063  Краснодар              free             8                50   \n",
       "18064  Краснодар              free             8                50   \n",
       "18065  Краснодар              free             8                50   \n",
       "18066  Краснодар              free             8                50   \n",
       "18067  Краснодар              free             8                50   \n",
       "\n",
       "       subscription_fee  \n",
       "18058                 0  \n",
       "18059                 0  \n",
       "18060                 0  \n",
       "18061                 0  \n",
       "18062                 0  \n",
       "18063                 0  \n",
       "18064                 0  \n",
       "18065                 0  \n",
       "18066                 0  \n",
       "18067                 0  "
      ]
     },
     "execution_count": 39,
     "metadata": {},
     "output_type": "execute_result"
    }
   ],
   "source": [
    "# Сначала к таблице rides_data присоединим users_data\n",
    "all_data = rides_data.merge(users_data, on='user_id', how='left')\n",
    "\n",
    "# Теперь к получившейся таблицы all_data присоединим subs_data\n",
    "all_data = all_data.merge(subs_data, on='subscription_type', how='left')\n",
    "\n",
    "all_data.tail(10)"
   ]
  },
  {
   "cell_type": "markdown",
   "id": "7e4ff079",
   "metadata": {},
   "source": [
    "Проверим размерность и наличие пропусков"
   ]
  },
  {
   "cell_type": "code",
   "execution_count": 40,
   "id": "192216c5",
   "metadata": {},
   "outputs": [
    {
     "name": "stdout",
     "output_type": "stream",
     "text": [
      "<class 'pandas.core.frame.DataFrame'>\n",
      "Int64Index: 18068 entries, 0 to 18067\n",
      "Data columns (total 12 columns):\n",
      " #   Column             Non-Null Count  Dtype         \n",
      "---  ------             --------------  -----         \n",
      " 0   user_id            18068 non-null  int64         \n",
      " 1   distance           18068 non-null  float64       \n",
      " 2   duration           18068 non-null  float64       \n",
      " 3   date               18068 non-null  datetime64[ns]\n",
      " 4   month              18068 non-null  int64         \n",
      " 5   name               18068 non-null  object        \n",
      " 6   age                18068 non-null  int64         \n",
      " 7   city               18068 non-null  object        \n",
      " 8   subscription_type  18068 non-null  object        \n",
      " 9   minute_price       18068 non-null  int64         \n",
      " 10  start_ride_price   18068 non-null  int64         \n",
      " 11  subscription_fee   18068 non-null  int64         \n",
      "dtypes: datetime64[ns](1), float64(2), int64(6), object(3)\n",
      "memory usage: 1.8+ MB\n"
     ]
    }
   ],
   "source": [
    "all_data.info()"
   ]
  },
  {
   "cell_type": "markdown",
   "id": "2e11a23e",
   "metadata": {},
   "source": [
    "Размер датафрейма теперь состоавляет 18068 строк. Как и предполагалось, потому что при соединении у самого большого датафрема было именно 18068 строк.<br>\n",
    "В новом датафрейме пропусков также нет"
   ]
  },
  {
   "cell_type": "markdown",
   "id": "89e0a115",
   "metadata": {},
   "source": [
    "#### Создание доплнительных датафреймов"
   ]
  },
  {
   "cell_type": "markdown",
   "id": "bce50582",
   "metadata": {},
   "source": [
    "##### c данными о пользователях без подписки"
   ]
  },
  {
   "cell_type": "code",
   "execution_count": 41,
   "id": "df14248a",
   "metadata": {
    "scrolled": true
   },
   "outputs": [
    {
     "data": {
      "text/html": [
       "<div>\n",
       "<style scoped>\n",
       "    .dataframe tbody tr th:only-of-type {\n",
       "        vertical-align: middle;\n",
       "    }\n",
       "\n",
       "    .dataframe tbody tr th {\n",
       "        vertical-align: top;\n",
       "    }\n",
       "\n",
       "    .dataframe thead th {\n",
       "        text-align: right;\n",
       "    }\n",
       "</style>\n",
       "<table border=\"1\" class=\"dataframe\">\n",
       "  <thead>\n",
       "    <tr style=\"text-align: right;\">\n",
       "      <th></th>\n",
       "      <th>user_id</th>\n",
       "      <th>distance</th>\n",
       "      <th>duration</th>\n",
       "      <th>date</th>\n",
       "      <th>month</th>\n",
       "      <th>name</th>\n",
       "      <th>age</th>\n",
       "      <th>city</th>\n",
       "      <th>subscription_type</th>\n",
       "      <th>minute_price</th>\n",
       "      <th>start_ride_price</th>\n",
       "      <th>subscription_fee</th>\n",
       "    </tr>\n",
       "  </thead>\n",
       "  <tbody>\n",
       "    <tr>\n",
       "      <th>6500</th>\n",
       "      <td>700</td>\n",
       "      <td>2515.690719</td>\n",
       "      <td>14.944286</td>\n",
       "      <td>2021-01-02</td>\n",
       "      <td>1</td>\n",
       "      <td>Айдар</td>\n",
       "      <td>22</td>\n",
       "      <td>Омск</td>\n",
       "      <td>free</td>\n",
       "      <td>8</td>\n",
       "      <td>50</td>\n",
       "      <td>0</td>\n",
       "    </tr>\n",
       "    <tr>\n",
       "      <th>6501</th>\n",
       "      <td>700</td>\n",
       "      <td>846.932642</td>\n",
       "      <td>16.234663</td>\n",
       "      <td>2021-02-01</td>\n",
       "      <td>2</td>\n",
       "      <td>Айдар</td>\n",
       "      <td>22</td>\n",
       "      <td>Омск</td>\n",
       "      <td>free</td>\n",
       "      <td>8</td>\n",
       "      <td>50</td>\n",
       "      <td>0</td>\n",
       "    </tr>\n",
       "    <tr>\n",
       "      <th>6502</th>\n",
       "      <td>700</td>\n",
       "      <td>4004.434142</td>\n",
       "      <td>20.016628</td>\n",
       "      <td>2021-02-04</td>\n",
       "      <td>2</td>\n",
       "      <td>Айдар</td>\n",
       "      <td>22</td>\n",
       "      <td>Омск</td>\n",
       "      <td>free</td>\n",
       "      <td>8</td>\n",
       "      <td>50</td>\n",
       "      <td>0</td>\n",
       "    </tr>\n",
       "    <tr>\n",
       "      <th>6503</th>\n",
       "      <td>700</td>\n",
       "      <td>1205.911290</td>\n",
       "      <td>9.782872</td>\n",
       "      <td>2021-02-10</td>\n",
       "      <td>2</td>\n",
       "      <td>Айдар</td>\n",
       "      <td>22</td>\n",
       "      <td>Омск</td>\n",
       "      <td>free</td>\n",
       "      <td>8</td>\n",
       "      <td>50</td>\n",
       "      <td>0</td>\n",
       "    </tr>\n",
       "    <tr>\n",
       "      <th>6504</th>\n",
       "      <td>700</td>\n",
       "      <td>3047.379435</td>\n",
       "      <td>17.427673</td>\n",
       "      <td>2021-02-14</td>\n",
       "      <td>2</td>\n",
       "      <td>Айдар</td>\n",
       "      <td>22</td>\n",
       "      <td>Омск</td>\n",
       "      <td>free</td>\n",
       "      <td>8</td>\n",
       "      <td>50</td>\n",
       "      <td>0</td>\n",
       "    </tr>\n",
       "  </tbody>\n",
       "</table>\n",
       "</div>"
      ],
      "text/plain": [
       "      user_id     distance   duration       date  month   name  age  city  \\\n",
       "6500      700  2515.690719  14.944286 2021-01-02      1  Айдар   22  Омск   \n",
       "6501      700   846.932642  16.234663 2021-02-01      2  Айдар   22  Омск   \n",
       "6502      700  4004.434142  20.016628 2021-02-04      2  Айдар   22  Омск   \n",
       "6503      700  1205.911290   9.782872 2021-02-10      2  Айдар   22  Омск   \n",
       "6504      700  3047.379435  17.427673 2021-02-14      2  Айдар   22  Омск   \n",
       "\n",
       "     subscription_type  minute_price  start_ride_price  subscription_fee  \n",
       "6500              free             8                50                 0  \n",
       "6501              free             8                50                 0  \n",
       "6502              free             8                50                 0  \n",
       "6503              free             8                50                 0  \n",
       "6504              free             8                50                 0  "
      ]
     },
     "execution_count": 41,
     "metadata": {},
     "output_type": "execute_result"
    }
   ],
   "source": [
    "# Датасет с пользователями без подписки\n",
    "subs_free_data = all_data[all_data['subscription_type'] == 'free']\n",
    "subs_free_data.head()"
   ]
  },
  {
   "cell_type": "markdown",
   "id": "92eeede2",
   "metadata": {},
   "source": [
    "#### Датасет с пользователями с подпиской"
   ]
  },
  {
   "cell_type": "code",
   "execution_count": 42,
   "id": "f59a7035",
   "metadata": {},
   "outputs": [
    {
     "data": {
      "text/html": [
       "<div>\n",
       "<style scoped>\n",
       "    .dataframe tbody tr th:only-of-type {\n",
       "        vertical-align: middle;\n",
       "    }\n",
       "\n",
       "    .dataframe tbody tr th {\n",
       "        vertical-align: top;\n",
       "    }\n",
       "\n",
       "    .dataframe thead th {\n",
       "        text-align: right;\n",
       "    }\n",
       "</style>\n",
       "<table border=\"1\" class=\"dataframe\">\n",
       "  <thead>\n",
       "    <tr style=\"text-align: right;\">\n",
       "      <th></th>\n",
       "      <th>user_id</th>\n",
       "      <th>distance</th>\n",
       "      <th>duration</th>\n",
       "      <th>date</th>\n",
       "      <th>month</th>\n",
       "      <th>name</th>\n",
       "      <th>age</th>\n",
       "      <th>city</th>\n",
       "      <th>subscription_type</th>\n",
       "      <th>minute_price</th>\n",
       "      <th>start_ride_price</th>\n",
       "      <th>subscription_fee</th>\n",
       "    </tr>\n",
       "  </thead>\n",
       "  <tbody>\n",
       "    <tr>\n",
       "      <th>0</th>\n",
       "      <td>1</td>\n",
       "      <td>4409.919140</td>\n",
       "      <td>25.599769</td>\n",
       "      <td>2021-01-01</td>\n",
       "      <td>1</td>\n",
       "      <td>Кира</td>\n",
       "      <td>22</td>\n",
       "      <td>Тюмень</td>\n",
       "      <td>ultra</td>\n",
       "      <td>6</td>\n",
       "      <td>0</td>\n",
       "      <td>199</td>\n",
       "    </tr>\n",
       "    <tr>\n",
       "      <th>1</th>\n",
       "      <td>1</td>\n",
       "      <td>2617.592153</td>\n",
       "      <td>15.816871</td>\n",
       "      <td>2021-01-18</td>\n",
       "      <td>1</td>\n",
       "      <td>Кира</td>\n",
       "      <td>22</td>\n",
       "      <td>Тюмень</td>\n",
       "      <td>ultra</td>\n",
       "      <td>6</td>\n",
       "      <td>0</td>\n",
       "      <td>199</td>\n",
       "    </tr>\n",
       "    <tr>\n",
       "      <th>2</th>\n",
       "      <td>1</td>\n",
       "      <td>754.159807</td>\n",
       "      <td>6.232113</td>\n",
       "      <td>2021-04-20</td>\n",
       "      <td>4</td>\n",
       "      <td>Кира</td>\n",
       "      <td>22</td>\n",
       "      <td>Тюмень</td>\n",
       "      <td>ultra</td>\n",
       "      <td>6</td>\n",
       "      <td>0</td>\n",
       "      <td>199</td>\n",
       "    </tr>\n",
       "    <tr>\n",
       "      <th>3</th>\n",
       "      <td>1</td>\n",
       "      <td>2694.783254</td>\n",
       "      <td>18.511000</td>\n",
       "      <td>2021-08-11</td>\n",
       "      <td>8</td>\n",
       "      <td>Кира</td>\n",
       "      <td>22</td>\n",
       "      <td>Тюмень</td>\n",
       "      <td>ultra</td>\n",
       "      <td>6</td>\n",
       "      <td>0</td>\n",
       "      <td>199</td>\n",
       "    </tr>\n",
       "    <tr>\n",
       "      <th>4</th>\n",
       "      <td>1</td>\n",
       "      <td>4028.687306</td>\n",
       "      <td>26.265803</td>\n",
       "      <td>2021-08-28</td>\n",
       "      <td>8</td>\n",
       "      <td>Кира</td>\n",
       "      <td>22</td>\n",
       "      <td>Тюмень</td>\n",
       "      <td>ultra</td>\n",
       "      <td>6</td>\n",
       "      <td>0</td>\n",
       "      <td>199</td>\n",
       "    </tr>\n",
       "  </tbody>\n",
       "</table>\n",
       "</div>"
      ],
      "text/plain": [
       "   user_id     distance   duration       date  month  name  age    city  \\\n",
       "0        1  4409.919140  25.599769 2021-01-01      1  Кира   22  Тюмень   \n",
       "1        1  2617.592153  15.816871 2021-01-18      1  Кира   22  Тюмень   \n",
       "2        1   754.159807   6.232113 2021-04-20      4  Кира   22  Тюмень   \n",
       "3        1  2694.783254  18.511000 2021-08-11      8  Кира   22  Тюмень   \n",
       "4        1  4028.687306  26.265803 2021-08-28      8  Кира   22  Тюмень   \n",
       "\n",
       "  subscription_type  minute_price  start_ride_price  subscription_fee  \n",
       "0             ultra             6                 0               199  \n",
       "1             ultra             6                 0               199  \n",
       "2             ultra             6                 0               199  \n",
       "3             ultra             6                 0               199  \n",
       "4             ultra             6                 0               199  "
      ]
     },
     "execution_count": 42,
     "metadata": {},
     "output_type": "execute_result"
    }
   ],
   "source": [
    "# Датасет с пользователями c подпиской\n",
    "subs_ultra_data = all_data[all_data['subscription_type'] == 'ultra']\n",
    "subs_ultra_data.head()"
   ]
  },
  {
   "cell_type": "markdown",
   "id": "3a6979d3",
   "metadata": {},
   "source": [
    "#### Визуализация информации о расстоянии и времени поездок для пользователей обеих категорий."
   ]
  },
  {
   "cell_type": "markdown",
   "id": "39d80ad6",
   "metadata": {},
   "source": [
    "##### без подписки"
   ]
  },
  {
   "cell_type": "code",
   "execution_count": 43,
   "id": "7dec4faa",
   "metadata": {},
   "outputs": [
    {
     "data": {
      "image/png": "[encoded data removed]",
      "text/plain": [
       "<Figure size 432x288 with 1 Axes>"
      ]
     },
     "metadata": {
      "needs_background": "light"
     },
     "output_type": "display_data"
    }
   ],
   "source": [
    "# Расстояние\n",
    "plt.title('Гистограмма расстояния пользователей без подписки')\n",
    "plt.xlabel('Расстояние')\n",
    "plt.ylabel('Количество')\n",
    "plt.grid(True)\n",
    "plt.hist(subs_free_data['distance'])\n",
    "plt.show()"
   ]
  },
  {
   "cell_type": "markdown",
   "id": "929b907e",
   "metadata": {},
   "source": [
    "График похож на общую гистограмму по всем поездкам. Больше всего пользователи без подписки ездять от 2 до 3.5 км. На расстояния более 6км почти не ездят. Еще пользователи без подписки любят поездки на короткие расстояния (до 1км)"
   ]
  },
  {
   "cell_type": "code",
   "execution_count": 44,
   "id": "a17380c8",
   "metadata": {},
   "outputs": [
    {
     "data": {
      "image/png": "[encoded data removed]",
      "text/plain": [
       "<Figure size 432x288 with 1 Axes>"
      ]
     },
     "metadata": {
      "needs_background": "light"
     },
     "output_type": "display_data"
    }
   ],
   "source": [
    "# Время\n",
    "plt.title('Гистограмма времени поездки пользователей без подписки')\n",
    "plt.xlabel('Время (мин)')\n",
    "plt.ylabel('Количество')\n",
    "plt.grid(True)\n",
    "plt.hist(subs_free_data['duration'])\n",
    "plt.show()"
   ]
  },
  {
   "cell_type": "markdown",
   "id": "862e3db4",
   "metadata": {},
   "source": [
    "Распределение времени поездки пользователей без подписки ничем не отличается от времени всех пользователей. Наиболее частые поездки около 17 минут"
   ]
  },
  {
   "cell_type": "markdown",
   "id": "21838a0d",
   "metadata": {},
   "source": [
    "##### с подпиской"
   ]
  },
  {
   "cell_type": "code",
   "execution_count": 45,
   "id": "90b36b73",
   "metadata": {},
   "outputs": [
    {
     "data": {
      "image/png": "[encoded data removed]",
      "text/plain": [
       "<Figure size 432x288 with 1 Axes>"
      ]
     },
     "metadata": {
      "needs_background": "light"
     },
     "output_type": "display_data"
    }
   ],
   "source": [
    "# Расстояние\n",
    "plt.title('Гистограмма расстояния пользователей с подпиской')\n",
    "plt.xlabel('Расстояние')\n",
    "plt.ylabel('Количество')\n",
    "plt.grid(True)\n",
    "plt.hist(subs_ultra_data['distance'])\n",
    "plt.show()"
   ]
  },
  {
   "cell_type": "markdown",
   "id": "15efd8cf",
   "metadata": {},
   "source": [
    "Здесь график уже отличается от общего. Основная масса значение также лежит примерно от 2.5 до 3.5 км. Но главное отличие в том, что на короткие расстояния пользователи с подпиской почти не ездят. Отличие почти в 2 раза по сравнению с пользователями без подписки.<br>\n",
    "Можно сделать вывод, что основная выгода подписки раскрывается на более длинных растояниях, чем на коротких"
   ]
  },
  {
   "cell_type": "code",
   "execution_count": 46,
   "id": "a61438f9",
   "metadata": {},
   "outputs": [
    {
     "data": {
      "image/png": "[encoded data removed]",
      "text/plain": [
       "<Figure size 432x288 with 1 Axes>"
      ]
     },
     "metadata": {
      "needs_background": "light"
     },
     "output_type": "display_data"
    }
   ],
   "source": [
    "# Время\n",
    "plt.title('Гистограмма времени поездки пользователей без подписки')\n",
    "plt.xlabel('Время (мин)')\n",
    "plt.ylabel('Количество')\n",
    "plt.grid(True)\n",
    "plt.hist(subs_ultra_data['duration'])\n",
    "plt.show()"
   ]
  },
  {
   "cell_type": "markdown",
   "id": "370b6e15",
   "metadata": {},
   "source": [
    "Распределение времени поездки похоже на нормальное. Что логично. Чаще всего пользователи ездят по 17 минут. График мало чем отдичается от пользователей без подписки"
   ]
  },
  {
   "cell_type": "markdown",
   "id": "4005b5e5",
   "metadata": {},
   "source": [
    "<p>Для наглядности поcтроим гистограммы по пользователям с подпиской и без на одной графике<a name=\"double_hists\"></a></p>"
   ]
  },
  {
   "cell_type": "code",
   "execution_count": 62,
   "id": "be89040c",
   "metadata": {},
   "outputs": [
    {
     "data": {
      "image/png": "[encoded data removed]",
      "text/plain": [
       "<Figure size 720x720 with 1 Axes>"
      ]
     },
     "metadata": {
      "needs_background": "light"
     },
     "output_type": "display_data"
    }
   ],
   "source": [
    "plt.figure(figsize=(10, 10))\n",
    "plt.title('Гистограмма расстояния пользователей с подпиской и без ')\n",
    "plt.xlabel('Расстояние')\n",
    "plt.ylabel('Количество')\n",
    "plt.grid(True)\n",
    "plt.hist(subs_free_data['distance'], alpha=0.5, color='blue', label='без подписки')\n",
    "plt.hist(subs_ultra_data['distance'], alpha=0.5, color='red', label='с подпсикой')\n",
    "plt.legend(loc='upper right')\n",
    "plt.show()"
   ]
  },
  {
   "cell_type": "code",
   "execution_count": 48,
   "id": "0afd31b9",
   "metadata": {},
   "outputs": [
    {
     "data": {
      "image/png": "[encoded data removed]",
      "text/plain": [
       "<Figure size 432x288 with 1 Axes>"
      ]
     },
     "metadata": {
      "needs_background": "light"
     },
     "output_type": "display_data"
    }
   ],
   "source": [
    "plt.title('Гистограмма времени поездки пользователей с подпиской и без ')\n",
    "plt.xlabel('Время (мин)')\n",
    "plt.ylabel('Количество')\n",
    "plt.grid(True)\n",
    "plt.hist(subs_free_data['duration'], alpha=0.5, color='blue', label='без подписки')\n",
    "plt.hist(subs_ultra_data['duration'], alpha=0.5, color='red', label='с подпсикой')\n",
    "plt.legend(loc='upper right')\n",
    "plt.show()"
   ]
  },
  {
   "cell_type": "markdown",
   "id": "04112292",
   "metadata": {},
   "source": [
    "#### Вывод"
   ]
  },
  {
   "cell_type": "markdown",
   "id": "40625627",
   "metadata": {},
   "source": [
    "По итогам этого исследования можно сказать, что среднее время поездки 17-18 минут.<br>\n",
    "А также, что пользователи с подпиской чаще выирают поездки на более длинные расстояния, чем на короткие. Из чего можно сделать вывод, что выгода подписки раскрывается на более длинных дистанциях, а на коротких для пользователей выгоды в подписке мало"
   ]
  },
  {
   "cell_type": "markdown",
   "id": "402d620f",
   "metadata": {},
   "source": [
    "### Шаг 6. Подсчёт выручки"
   ]
  },
  {
   "cell_type": "markdown",
   "id": "f536da5b",
   "metadata": {},
   "source": [
    "#### Суммарное расстояние, количество поездок и суммарное время для каждого пользователя за каждый месяц"
   ]
  },
  {
   "cell_type": "code",
   "execution_count": 49,
   "id": "15ba5a6d",
   "metadata": {},
   "outputs": [
    {
     "data": {
      "text/html": [
       "<div>\n",
       "<style scoped>\n",
       "    .dataframe tbody tr th:only-of-type {\n",
       "        vertical-align: middle;\n",
       "    }\n",
       "\n",
       "    .dataframe tbody tr th {\n",
       "        vertical-align: top;\n",
       "    }\n",
       "\n",
       "    .dataframe thead th {\n",
       "        text-align: right;\n",
       "    }\n",
       "</style>\n",
       "<table border=\"1\" class=\"dataframe\">\n",
       "  <thead>\n",
       "    <tr style=\"text-align: right;\">\n",
       "      <th></th>\n",
       "      <th>user_id</th>\n",
       "      <th>month</th>\n",
       "      <th>distance</th>\n",
       "      <th>duration</th>\n",
       "      <th>rides</th>\n",
       "    </tr>\n",
       "  </thead>\n",
       "  <tbody>\n",
       "    <tr>\n",
       "      <th>0</th>\n",
       "      <td>1</td>\n",
       "      <td>1</td>\n",
       "      <td>7027.511294</td>\n",
       "      <td>41.416640</td>\n",
       "      <td>2</td>\n",
       "    </tr>\n",
       "    <tr>\n",
       "      <th>1</th>\n",
       "      <td>1</td>\n",
       "      <td>4</td>\n",
       "      <td>754.159807</td>\n",
       "      <td>6.232113</td>\n",
       "      <td>1</td>\n",
       "    </tr>\n",
       "    <tr>\n",
       "      <th>2</th>\n",
       "      <td>1</td>\n",
       "      <td>8</td>\n",
       "      <td>6723.470560</td>\n",
       "      <td>44.776802</td>\n",
       "      <td>2</td>\n",
       "    </tr>\n",
       "    <tr>\n",
       "      <th>3</th>\n",
       "      <td>1</td>\n",
       "      <td>10</td>\n",
       "      <td>5809.911100</td>\n",
       "      <td>31.578017</td>\n",
       "      <td>2</td>\n",
       "    </tr>\n",
       "    <tr>\n",
       "      <th>4</th>\n",
       "      <td>1</td>\n",
       "      <td>11</td>\n",
       "      <td>7003.499363</td>\n",
       "      <td>53.397424</td>\n",
       "      <td>3</td>\n",
       "    </tr>\n",
       "    <tr>\n",
       "      <th>5</th>\n",
       "      <td>1</td>\n",
       "      <td>12</td>\n",
       "      <td>6751.629942</td>\n",
       "      <td>27.203912</td>\n",
       "      <td>2</td>\n",
       "    </tr>\n",
       "    <tr>\n",
       "      <th>6</th>\n",
       "      <td>2</td>\n",
       "      <td>3</td>\n",
       "      <td>10187.723006</td>\n",
       "      <td>60.959959</td>\n",
       "      <td>3</td>\n",
       "    </tr>\n",
       "    <tr>\n",
       "      <th>7</th>\n",
       "      <td>2</td>\n",
       "      <td>4</td>\n",
       "      <td>6164.381824</td>\n",
       "      <td>39.048633</td>\n",
       "      <td>2</td>\n",
       "    </tr>\n",
       "    <tr>\n",
       "      <th>8</th>\n",
       "      <td>2</td>\n",
       "      <td>6</td>\n",
       "      <td>3255.338202</td>\n",
       "      <td>13.851127</td>\n",
       "      <td>1</td>\n",
       "    </tr>\n",
       "    <tr>\n",
       "      <th>9</th>\n",
       "      <td>2</td>\n",
       "      <td>7</td>\n",
       "      <td>6780.722964</td>\n",
       "      <td>46.170157</td>\n",
       "      <td>2</td>\n",
       "    </tr>\n",
       "  </tbody>\n",
       "</table>\n",
       "</div>"
      ],
      "text/plain": [
       "   user_id  month      distance   duration  rides\n",
       "0        1      1   7027.511294  41.416640      2\n",
       "1        1      4    754.159807   6.232113      1\n",
       "2        1      8   6723.470560  44.776802      2\n",
       "3        1     10   5809.911100  31.578017      2\n",
       "4        1     11   7003.499363  53.397424      3\n",
       "5        1     12   6751.629942  27.203912      2\n",
       "6        2      3  10187.723006  60.959959      3\n",
       "7        2      4   6164.381824  39.048633      2\n",
       "8        2      6   3255.338202  13.851127      1\n",
       "9        2      7   6780.722964  46.170157      2"
      ]
     },
     "execution_count": 49,
     "metadata": {},
     "output_type": "execute_result"
    }
   ],
   "source": [
    "agg_data = all_data.pivot_table(index=['user_id', 'month'], values=['distance', 'duration', 'subscription_type'],\n",
    "                      aggfunc={'distance': 'sum', 'duration': 'sum', 'subscription_type': 'count'}).reset_index()\n",
    "agg_data = agg_data.rename(columns={'subscription_type': 'rides'})\n",
    "agg_data.head(10)"
   ]
  },
  {
   "cell_type": "markdown",
   "id": "840d090a",
   "metadata": {},
   "source": [
    "#### Помесячная выручка, которую принёс каждый пользователь"
   ]
  },
  {
   "cell_type": "code",
   "execution_count": 50,
   "id": "79d05332",
   "metadata": {},
   "outputs": [
    {
     "data": {
      "text/html": [
       "<div>\n",
       "<style scoped>\n",
       "    .dataframe tbody tr th:only-of-type {\n",
       "        vertical-align: middle;\n",
       "    }\n",
       "\n",
       "    .dataframe tbody tr th {\n",
       "        vertical-align: top;\n",
       "    }\n",
       "\n",
       "    .dataframe thead th {\n",
       "        text-align: right;\n",
       "    }\n",
       "</style>\n",
       "<table border=\"1\" class=\"dataframe\">\n",
       "  <thead>\n",
       "    <tr style=\"text-align: right;\">\n",
       "      <th></th>\n",
       "      <th>user_id</th>\n",
       "      <th>month</th>\n",
       "      <th>distance</th>\n",
       "      <th>duration</th>\n",
       "      <th>rides</th>\n",
       "      <th>month_profit</th>\n",
       "      <th>subscription_type</th>\n",
       "    </tr>\n",
       "  </thead>\n",
       "  <tbody>\n",
       "    <tr>\n",
       "      <th>0</th>\n",
       "      <td>1</td>\n",
       "      <td>1</td>\n",
       "      <td>7027.511294</td>\n",
       "      <td>41.416640</td>\n",
       "      <td>2</td>\n",
       "      <td>451.0</td>\n",
       "      <td>ultra</td>\n",
       "    </tr>\n",
       "    <tr>\n",
       "      <th>1</th>\n",
       "      <td>1</td>\n",
       "      <td>4</td>\n",
       "      <td>754.159807</td>\n",
       "      <td>6.232113</td>\n",
       "      <td>1</td>\n",
       "      <td>241.0</td>\n",
       "      <td>ultra</td>\n",
       "    </tr>\n",
       "    <tr>\n",
       "      <th>2</th>\n",
       "      <td>1</td>\n",
       "      <td>8</td>\n",
       "      <td>6723.470560</td>\n",
       "      <td>44.776802</td>\n",
       "      <td>2</td>\n",
       "      <td>475.0</td>\n",
       "      <td>ultra</td>\n",
       "    </tr>\n",
       "    <tr>\n",
       "      <th>3</th>\n",
       "      <td>1</td>\n",
       "      <td>10</td>\n",
       "      <td>5809.911100</td>\n",
       "      <td>31.578017</td>\n",
       "      <td>2</td>\n",
       "      <td>391.0</td>\n",
       "      <td>ultra</td>\n",
       "    </tr>\n",
       "    <tr>\n",
       "      <th>4</th>\n",
       "      <td>1</td>\n",
       "      <td>11</td>\n",
       "      <td>7003.499363</td>\n",
       "      <td>53.397424</td>\n",
       "      <td>3</td>\n",
       "      <td>535.0</td>\n",
       "      <td>ultra</td>\n",
       "    </tr>\n",
       "    <tr>\n",
       "      <th>...</th>\n",
       "      <td>...</td>\n",
       "      <td>...</td>\n",
       "      <td>...</td>\n",
       "      <td>...</td>\n",
       "      <td>...</td>\n",
       "      <td>...</td>\n",
       "      <td>...</td>\n",
       "    </tr>\n",
       "    <tr>\n",
       "      <th>11326</th>\n",
       "      <td>1534</td>\n",
       "      <td>6</td>\n",
       "      <td>3409.468534</td>\n",
       "      <td>24.812678</td>\n",
       "      <td>2</td>\n",
       "      <td>308.0</td>\n",
       "      <td>free</td>\n",
       "    </tr>\n",
       "    <tr>\n",
       "      <th>11327</th>\n",
       "      <td>1534</td>\n",
       "      <td>8</td>\n",
       "      <td>7622.453034</td>\n",
       "      <td>47.205960</td>\n",
       "      <td>2</td>\n",
       "      <td>484.0</td>\n",
       "      <td>free</td>\n",
       "    </tr>\n",
       "    <tr>\n",
       "      <th>11328</th>\n",
       "      <td>1534</td>\n",
       "      <td>9</td>\n",
       "      <td>4928.173852</td>\n",
       "      <td>22.560373</td>\n",
       "      <td>1</td>\n",
       "      <td>234.0</td>\n",
       "      <td>free</td>\n",
       "    </tr>\n",
       "    <tr>\n",
       "      <th>11329</th>\n",
       "      <td>1534</td>\n",
       "      <td>11</td>\n",
       "      <td>13350.015305</td>\n",
       "      <td>76.342174</td>\n",
       "      <td>4</td>\n",
       "      <td>824.0</td>\n",
       "      <td>free</td>\n",
       "    </tr>\n",
       "    <tr>\n",
       "      <th>11330</th>\n",
       "      <td>1534</td>\n",
       "      <td>12</td>\n",
       "      <td>2371.711192</td>\n",
       "      <td>15.893917</td>\n",
       "      <td>1</td>\n",
       "      <td>178.0</td>\n",
       "      <td>free</td>\n",
       "    </tr>\n",
       "  </tbody>\n",
       "</table>\n",
       "<p>11331 rows × 7 columns</p>\n",
       "</div>"
      ],
      "text/plain": [
       "       user_id  month      distance   duration  rides  month_profit  \\\n",
       "0            1      1   7027.511294  41.416640      2         451.0   \n",
       "1            1      4    754.159807   6.232113      1         241.0   \n",
       "2            1      8   6723.470560  44.776802      2         475.0   \n",
       "3            1     10   5809.911100  31.578017      2         391.0   \n",
       "4            1     11   7003.499363  53.397424      3         535.0   \n",
       "...        ...    ...           ...        ...    ...           ...   \n",
       "11326     1534      6   3409.468534  24.812678      2         308.0   \n",
       "11327     1534      8   7622.453034  47.205960      2         484.0   \n",
       "11328     1534      9   4928.173852  22.560373      1         234.0   \n",
       "11329     1534     11  13350.015305  76.342174      4         824.0   \n",
       "11330     1534     12   2371.711192  15.893917      1         178.0   \n",
       "\n",
       "      subscription_type  \n",
       "0                 ultra  \n",
       "1                 ultra  \n",
       "2                 ultra  \n",
       "3                 ultra  \n",
       "4                 ultra  \n",
       "...                 ...  \n",
       "11326              free  \n",
       "11327              free  \n",
       "11328              free  \n",
       "11329              free  \n",
       "11330              free  \n",
       "\n",
       "[11331 rows x 7 columns]"
      ]
     },
     "execution_count": 50,
     "metadata": {},
     "output_type": "execute_result"
    }
   ],
   "source": [
    "# Напишем функцию для подсчета помесячной выручки\n",
    "def month_profit():\n",
    "    # Создаем копию датафрейма, чтобы не вносить изменений в основной\n",
    "    # Специально использую датафрейм до группироки, чтобы округлить каждое значение\n",
    "    all_data_copy = all_data.copy()\n",
    "    # В копии датафрейма округляем значения\n",
    "    all_data_copy['duration'] = np.ceil(all_data_copy['duration'])\n",
    "    # Создаем сводную таблицу для копии датафрейма (с уже округленными значениями)\n",
    "    group = all_data_copy.pivot_table(\n",
    "        index=['user_id', 'month', 'subscription_type'],\n",
    "        values=['duration', 'age', 'minute_price', 'start_ride_price', 'subscription_fee'], \n",
    "        aggfunc={'duration': 'sum', \n",
    "                 'age': 'count', \n",
    "                 'minute_price': 'max', \n",
    "                 'start_ride_price': 'max', \n",
    "                 'subscription_fee': 'max'})\n",
    "    # Сбрасываем индексы\n",
    "    group = group.reset_index()\n",
    "    # В новом столбце производим расчеты\n",
    "    group['month_profit'] = (\n",
    "        group['duration'] * group['minute_price']) + (\n",
    "        group['age'] * group['start_ride_price']) + group['subscription_fee']\n",
    "    # Возвращаем два столбца с суммой вырочки и видом подписки\n",
    "    return group[['month_profit', 'subscription_type']]\n",
    "\n",
    "# Так как у нас индексы в изначально сгрупированной таблице и возвращенной функции совпадают, \n",
    "# просто джоиним их по индексу.\n",
    "month_profit = month_profit()\n",
    "agg_data = agg_data.join(month_profit)\n",
    "agg_data"
   ]
  },
  {
   "cell_type": "markdown",
   "id": "2f604729",
   "metadata": {},
   "source": [
    "#### Вывод"
   ]
  },
  {
   "cell_type": "markdown",
   "id": "d928a088",
   "metadata": {},
   "source": [
    "Посчитано суммарное расстояние, количество поездок и суммарное время для каждого пользователя за каждый месяц.<br>\n",
    "А также помесячная выручка, которую принёс каждый пользователь"
   ]
  },
  {
   "cell_type": "markdown",
   "id": "41545ac0",
   "metadata": {},
   "source": [
    "### Шаг 7. Проверка гипотез"
   ]
  },
  {
   "cell_type": "markdown",
   "id": "72e3d415",
   "metadata": {},
   "source": [
    "#### Гипотеза 1 <br>\n",
    "Важно понять, тратят ли пользователи с подпиской больше времени на поездки? Если да, то пользователи с подпиской могут быть «выгоднее» для компании. Проверьте гипотезу. Используйте исходные данные о продолжительности каждой сессии — отдельно для подписчиков и тех, у кого нет подписки."
   ]
  },
  {
   "cell_type": "markdown",
   "id": "a6979284",
   "metadata": {},
   "source": [
    "Будем считать, что нам нужно сравнить две генеральные совокупности subs_ultra_data и subs_free_data. Использовать выборки не будем, так как обработать совокупности такого размера не будет затруднительно<br>\n",
    "Сформулируем нулевую и альтернативную гипотезы:<br>\n",
    "H0 : u1 = u2 - Среднее время поездки пользователей с подпиской и без равны <br>\n",
    "H1 : u1 > u2 - Среднее время поездки пользователей с подпиской больше, чем у пользователей без подписки <br>\n"
   ]
  },
  {
   "cell_type": "code",
   "execution_count": 51,
   "id": "4fb06bf5",
   "metadata": {},
   "outputs": [
    {
     "name": "stdout",
     "output_type": "stream",
     "text": [
      "Среднее время пользователей с подпиской: 18.54198516280583\n",
      "Среднее время пользователей без подписки: 17.6331724383597\n",
      "\n",
      "p-value: 4.39368045847419e-24\n",
      "Отвергаем нулевую гипотезу в пользу альтернативной\n"
     ]
    }
   ],
   "source": [
    "# Сначала просто найдем средние\n",
    "print('Среднее время пользователей с подпиской:', subs_ultra_data['duration'].mean())\n",
    "print('Среднее время пользователей без подписки:', subs_free_data['duration'].mean())\n",
    "print('')\n",
    "\n",
    "# Задаем уровень статистической значимости\n",
    "alpha = 0.05\n",
    "\n",
    "# Проведем ttest для двух генеральных совокупностей\n",
    "# Мы помним, что пользователей без подписки больше на 10%, поэтому зададим equal_var=False\n",
    "# Так как альтернативная гипотеза односторонняя, укажем alternative='greater'\n",
    "result_1 = st.ttest_ind(subs_ultra_data['duration'], \n",
    "                        subs_free_data['duration'], \n",
    "                        equal_var=False, \n",
    "                        alternative='greater')\n",
    "\n",
    "# Если p-value результата меньше статистической значимости - отвергнем нулевую гипотезу\n",
    "print('p-value:', result_1.pvalue)\n",
    "\n",
    "if result_1.pvalue < alpha:\n",
    "    print('Отвергаем нулевую гипотезу в пользу альтернативной')\n",
    "else:\n",
    "    print('Нулевую гипотезу не отвергаем')\n"
   ]
  },
  {
   "cell_type": "markdown",
   "id": "5b0be1a3",
   "metadata": {},
   "source": [
    "Сначала мы увидели, что среднее время время пользователей с подпиской больше, чем у пользователей без подписки. Но просто по значениям сложно определить насколько это разница значима. Для этого и нужен статистический тест. С помощью t-теста мы определили, что разница значима, так как p-value меньше статистической значимости, то есть <br>\n",
    "Поэтому можно сказать, что пользователи с подпиской \"выгоднее\" для компании"
   ]
  },
  {
   "cell_type": "markdown",
   "id": "fc9d4af9",
   "metadata": {},
   "source": [
    "#### Гипотеза 2<br>\n",
    "Расстояние одной поездки в 3130 метров — оптимальное с точки зрения износа самоката. Можно ли сказать, что среднее расстояние, которое проезжают пользователи с подпиской за одну поездку, не превышает 3130 метров? Проверьте гипотезу и сделайте выводы."
   ]
  },
  {
   "cell_type": "markdown",
   "id": "be33892e",
   "metadata": {},
   "source": [
    "H0 : u = 3130 - Среднее время одной поездки пользователей с подпиской равно 3130 метров <br>\n",
    "H1 : u >= 3130 - Среднее время одной поездки пользователей превышает 3130 метров"
   ]
  },
  {
   "cell_type": "code",
   "execution_count": 52,
   "id": "5e8aa554",
   "metadata": {
    "scrolled": true
   },
   "outputs": [
    {
     "name": "stdout",
     "output_type": "stream",
     "text": [
      "Среднее расстояние пользователей с подпиской: 3115.4453880370247\n",
      "p-value: 0.9195368847849785\n",
      "Нулевую гипотезу не отвергаем\n"
     ]
    }
   ],
   "source": [
    "print('Среднее расстояние пользователей с подпиской:', subs_ultra_data['distance'].mean())\n",
    "\n",
    "# Задаем уровень статистической значимости\n",
    "alpha = 0.05\n",
    "\n",
    "# Зададим истинное среднее\n",
    "dist_norm = 3130\n",
    "\n",
    "# Проведем ttest\n",
    "# Так как альтернативная гипотеза односторонняя, укажем alternative='less'\n",
    "result_2 = st.ttest_1samp(subs_ultra_data['distance'],\n",
    "                          dist_norm,\n",
    "                          alternative='greater')\n",
    "\n",
    "# Если p-value результата меньше статистической значимости - отвергнем нулевую гипотезу\n",
    "print('p-value:', result_2.pvalue)\n",
    "\n",
    "if result_2.pvalue < alpha:\n",
    "    print('Отвергаем нулевую гипотезу в пользу альтернативной')\n",
    "else:\n",
    "    print('Нулевую гипотезу не отвергаем')"
   ]
  },
  {
   "cell_type": "markdown",
   "id": "4012cf60",
   "metadata": {},
   "source": [
    "У нас недостаточно оснований отвргнуть нулевую гипотезу. То есть мы не отвергаем того, что среднее расстояние = 3130. Соответсвенно у нас недостотачно оснований полагать, что в среднем подписчики проезжают более 3130 м"
   ]
  },
  {
   "cell_type": "markdown",
   "id": "1fbcccd7",
   "metadata": {},
   "source": [
    "#### Гипотеза 3<br>\n",
    "Проверьте гипотезу о том, будет ли помесячная выручка от пользователей с подпиской по месяцам выше, чем выручка от пользователей без подписки. Сделайте вывод."
   ]
  },
  {
   "cell_type": "markdown",
   "id": "65f6f23b",
   "metadata": {},
   "source": [
    "H0 : u1 = u2 - Выручка по месяцам от пользователей с подпиской и без подписки равна<br>\n",
    "H1 : u1 > u2 - Выручка по месяцам от пользователей с подпиской больше чем от пользователей без подписки"
   ]
  },
  {
   "cell_type": "code",
   "execution_count": 53,
   "id": "b9771276",
   "metadata": {},
   "outputs": [],
   "source": [
    "# Передадим в переменные данные для сравнения\n",
    "month_profit_ultra = agg_data[agg_data['subscription_type'] == 'ultra']['month_profit']\n",
    "month_profit_free = agg_data[agg_data['subscription_type'] == 'free']['month_profit']"
   ]
  },
  {
   "cell_type": "code",
   "execution_count": 54,
   "id": "8bbad6d9",
   "metadata": {},
   "outputs": [
    {
     "name": "stdout",
     "output_type": "stream",
     "text": [
      "Средняя выручка пользователей с подпиской: 362.7921906022502\n",
      "Средняя выручка пользователей без подписки: 331.88349514563106\n",
      "\n",
      "p-value: 1.1191107868099425e-32\n",
      "Отвергаем нулевую гипотезу в пользу альтернативной\n"
     ]
    }
   ],
   "source": [
    "print('Средняя выручка пользователей с подпиской:', month_profit_ultra.mean())\n",
    "print('Средняя выручка пользователей без подписки:', month_profit_free.mean())\n",
    "print('')\n",
    "\n",
    "# Задаем уровень статистической значимости\n",
    "alpha = 0.05\n",
    "\n",
    "# Проведем ttest\n",
    "# Мы помним, что пользователей без подписки больше на 10%, поэтому зададим equal_var=False\n",
    "# Так как альтернативная гипотеза односторонняя, укажем alternative='greater'\n",
    "result_3 = st.ttest_ind(month_profit_ultra,\n",
    "                        month_profit_free,\n",
    "                        equal_var=False,\n",
    "                        alternative='greater')\n",
    "\n",
    "# Если p-value результата меньше статистической значимости - отвергнем нулевую гипотезу\n",
    "print('p-value:', result_3.pvalue)\n",
    "\n",
    "if result_3.pvalue < alpha:\n",
    "    print('Отвергаем нулевую гипотезу в пользу альтернативной')\n",
    "else:\n",
    "    print('Нулевую гипотезу не отвергаем')"
   ]
  },
  {
   "cell_type": "markdown",
   "id": "d0706772",
   "metadata": {},
   "source": [
    "Исходя из результата статистического теста, можно сказать, что выручка по месяцам от пользователей с подпиской больше, чем от пользователей без подписки. "
   ]
  },
  {
   "cell_type": "markdown",
   "id": "3f8c3e67",
   "metadata": {},
   "source": [
    "#### Гипотеза 4<br>\n",
    "Представьте такую ситуацию: техническая команда сервиса обновила сервера, с которыми взаимодействует мобильное приложение. Она надеется, что из-за этого количество обращений в техподдержку значимо снизилось. Некоторый файл содержит для каждого пользователя данные о количестве обращений до обновления и после него. Какой тест вам понадобился бы для проверки этой гипотезы?"
   ]
  },
  {
   "cell_type": "markdown",
   "id": "5a10a573",
   "metadata": {},
   "source": [
    "<b>Ответ:</b><br>\n",
    "<i>Нулевая гипотеза</i> : Количество обращений каждого пользователя до и после обновления равны<br>\n",
    "<i>Альтернативная гипотеза</i>: Количество обращений каждого пользователя после обновления изменилось чем до обновления<br>\n",
    "В этом случае сравниваются средние совокупностей до и после изменения. Так как выборки зависимые(парные), то будем использовать специальный метод для сравнения именно таких выборок - `scipy.stats.ttest_rel()`"
   ]
  },
  {
   "cell_type": "markdown",
   "id": "24856558",
   "metadata": {},
   "source": [
    "### Общий вывод"
   ]
  },
  {
   "cell_type": "markdown",
   "id": "4869be12",
   "metadata": {},
   "source": [
    "<div>\n",
    "<h5>Данные</h5><br>\n",
    "<b>Данные в проекте довольно хорошие:</b><br>\n",
    "- Нет пропусков <br>\n",
    "- Менее 1% дубликатов <br> \n",
    "- 0.5% аномальных значений, которые в последующем были преобразованы в корректные. Обошлось без удаления данных <br>\n",
    "<h5>Исследование данных</h5><br>\n",
    "<b>Частота встречаемости городов</b><br>\n",
    "Меньше всего пользователей в Москве, а больше всего в Пятигорсе. Довольно таки интересное наблюдение. Все таки в Москве население почти в 100 раз больше, чем в Пятигорске. (13 миллионнов против 144 тысяч)\n",
    "Возможно компании стоит проверсти какуб-либо рекламную компанию в крупных городах:<br>\n",
    "----------------------<br>\n",
    "Москва = 168<br>\n",
    "Тюмень = 180<br>\n",
    "Омск = 183<br>\n",
    "Сочи = 189<br>\n",
    "Краснодар = 193<br>\n",
    "Ростов-на-Дону = 198<br>\n",
    "Екатеринбург = 204<br>\n",
    "Пятигорск = 219<br>\n",
    "----------------------<br>\n",
    "<br>\n",
    "<b>Cоотношение пользователей с подпиской и без подписки</b><br>\n",
    "Пользователей без подписки почти на 10% больше<br>\n",
    "----------------------<br>\n",
    "Без подписки = 835<br>\n",
    "С подпиской = 699<br>\n",
    "----------------------<br>\n",
    "<br>\n",
    "<b>Возраст пользователей</b><br>\n",
    "Распределение возраста пользователей похоже на нормальное. Больше всего пользователей в возрасте около 25 лет. Чем дальше возраст от наиболее встречающегося значения, тем реже он встречается<br>\n",
    "<br>\n",
    "<b>Расстояние, которое пользователь преодолел за одну поездку</b><br>\n",
    "Больше всего пользователи проезжают около 3км. Больше 5км пользователи проезжают очень редко. Также до 1км пользователи ездят чаще, чем от 1км до 1.8км<br>\n",
    "На коротких расстояних (до 1км) больше всего поездок по 600-700 метров<br>\n",
    "На длинных от 2.5 до 3.3 км<br>\n",
    "<br>\n",
    "<b>Продолжительность поездок</b><br>\n",
    "Чаще всего пользователи ездят по 17 минут.<br>\n",
    "Зависимость между параметрами `distance` и `duration` по коэффициенту Пирсона равена 0.58. Нельзя сказать, что они линейно зависят друг от друга. Хотя небольшая зависимость и есть. Возможно это обусловлено еще и тем, что разные пользователи используют самокаты по-разному.\n",
    "<h5>Гипотезы</h5>\n",
    "    <br>\n",
    "<b>Тратят ли пользователи с подпиской больше времени на поездки?</b><br>\n",
    "Среднее время пользователей с подпиской: 18.54198516280583<br>\n",
    "Среднее время пользователей без подписки: 17.6331724383597<br>\n",
    "Сначала мы увидели, что среднее время время пользователей с подпиской больше, чем у пользователей без подписки. <br>\n",
    "Но просто по значениям сложно определить насколько это разница значима. Для этого и нужен статистический тест. С помощью t-теста мы определили, что разница значима, так как p-value меньше статистической значимости, то есть\n",
    "<i><b>Поэтому можно сказать, что пользователи с подпиской \"выгоднее\" для компании</b></i><br>\n",
    "<br>\n",
    "<b>Можно ли сказать, что среднее расстояние, которое проезжают пользователи с подпиской за одну поездку, не превышает 3130 метров?</b><br>\n",
    "Среднее расстояние пользователей с подпиской: 3115.4<br>\n",
    "У нас недостаточно оснований отвргнуть нулевую гипотезу. То есть мы не отвергаем того, что среднее расстояние = 3130. Соответсвенно у нас недостотачно оснований полагать, что в среднем подписчики проезжают более 3130 м<br>\n",
    "<br>\n",
    "<b>Будет ли помесячная выручка от пользователей с подпиской по месяцам выше, чем выручка от пользователей без подписки?</b><br>\n",
    "Средняя выручка пользователей с подпиской: 362.7921906022502<br>\n",
    "Средняя выручка пользователей без подписки: 331.88349514563106<br>\n",
    "Исходя из результата статистического теста, можно сказать, что выручка по месяцам от пользователей с подпиской больше, чем от пользователей без подписки.\n",
    "<h5>Итог</h5>\n",
    "    <br>\n",
    "    Подводя итог, можно сказать, что пользователи с подпиской выгоднее для компании, так как хоть их и меньше, но помесячный доход от них больше.<br>\n",
    "    Также компании стоит посмотреть в сторону крупных городов, так как население в них в десятки раз больше, чем в некоторых регионах"
   ]
  },
  {
   "cell_type": "markdown",
   "id": "61213c5e",
   "metadata": {},
   "source": [
    "### Шаг 8. Распределения"
   ]
  }
 ],
 "metadata": {
  "ExecuteTimeLog": [
   {
    "duration": 942,
    "start_time": "2023-09-11T20:58:15.130Z"
   },
   {
    "duration": 75,
    "start_time": "2023-09-11T20:58:16.074Z"
   },
   {
    "duration": 89,
    "start_time": "2023-09-11T20:58:16.151Z"
   },
   {
    "duration": 0,
    "start_time": "2023-09-11T20:58:16.242Z"
   },
   {
    "duration": 0,
    "start_time": "2023-09-11T20:58:16.244Z"
   },
   {
    "duration": 0,
    "start_time": "2023-09-11T20:58:16.245Z"
   },
   {
    "duration": 0,
    "start_time": "2023-09-11T20:58:16.246Z"
   },
   {
    "duration": 0,
    "start_time": "2023-09-11T20:58:16.247Z"
   },
   {
    "duration": 0,
    "start_time": "2023-09-11T20:58:16.248Z"
   },
   {
    "duration": 0,
    "start_time": "2023-09-11T20:58:16.249Z"
   },
   {
    "duration": 0,
    "start_time": "2023-09-11T20:58:16.251Z"
   },
   {
    "duration": 0,
    "start_time": "2023-09-11T20:58:16.252Z"
   },
   {
    "duration": 0,
    "start_time": "2023-09-11T20:58:16.253Z"
   },
   {
    "duration": 0,
    "start_time": "2023-09-11T20:58:16.254Z"
   },
   {
    "duration": 0,
    "start_time": "2023-09-11T20:58:16.255Z"
   },
   {
    "duration": 0,
    "start_time": "2023-09-11T20:58:16.256Z"
   },
   {
    "duration": 0,
    "start_time": "2023-09-11T20:58:16.257Z"
   },
   {
    "duration": 0,
    "start_time": "2023-09-11T20:58:16.258Z"
   },
   {
    "duration": 0,
    "start_time": "2023-09-11T20:58:16.259Z"
   },
   {
    "duration": 0,
    "start_time": "2023-09-11T20:58:16.259Z"
   },
   {
    "duration": 0,
    "start_time": "2023-09-11T20:58:16.261Z"
   },
   {
    "duration": 0,
    "start_time": "2023-09-11T20:58:16.262Z"
   },
   {
    "duration": 0,
    "start_time": "2023-09-11T20:58:16.263Z"
   },
   {
    "duration": 0,
    "start_time": "2023-09-11T20:58:16.264Z"
   },
   {
    "duration": 0,
    "start_time": "2023-09-11T20:58:16.265Z"
   },
   {
    "duration": 0,
    "start_time": "2023-09-11T20:58:16.266Z"
   },
   {
    "duration": 0,
    "start_time": "2023-09-11T20:58:16.267Z"
   },
   {
    "duration": 0,
    "start_time": "2023-09-11T20:58:16.268Z"
   },
   {
    "duration": 0,
    "start_time": "2023-09-11T20:58:16.309Z"
   },
   {
    "duration": 0,
    "start_time": "2023-09-11T20:58:16.310Z"
   },
   {
    "duration": 0,
    "start_time": "2023-09-11T20:58:16.311Z"
   },
   {
    "duration": 0,
    "start_time": "2023-09-11T20:58:16.312Z"
   },
   {
    "duration": 0,
    "start_time": "2023-09-11T20:58:16.314Z"
   },
   {
    "duration": 0,
    "start_time": "2023-09-11T20:58:16.315Z"
   },
   {
    "duration": 0,
    "start_time": "2023-09-11T20:58:16.316Z"
   },
   {
    "duration": 0,
    "start_time": "2023-09-11T20:58:16.317Z"
   },
   {
    "duration": 0,
    "start_time": "2023-09-11T20:58:16.318Z"
   },
   {
    "duration": 0,
    "start_time": "2023-09-11T20:58:16.319Z"
   },
   {
    "duration": 0,
    "start_time": "2023-09-11T20:58:16.320Z"
   },
   {
    "duration": 0,
    "start_time": "2023-09-11T20:58:16.321Z"
   },
   {
    "duration": 0,
    "start_time": "2023-09-11T20:58:16.322Z"
   },
   {
    "duration": 0,
    "start_time": "2023-09-11T20:58:16.323Z"
   },
   {
    "duration": 0,
    "start_time": "2023-09-11T20:58:16.324Z"
   },
   {
    "duration": 0,
    "start_time": "2023-09-11T20:58:16.325Z"
   },
   {
    "duration": 0,
    "start_time": "2023-09-11T20:58:16.326Z"
   },
   {
    "duration": 0,
    "start_time": "2023-09-11T20:58:16.327Z"
   },
   {
    "duration": 0,
    "start_time": "2023-09-11T20:58:16.328Z"
   },
   {
    "duration": 876,
    "start_time": "2023-09-11T20:58:45.635Z"
   },
   {
    "duration": 237,
    "start_time": "2023-09-11T20:58:46.513Z"
   },
   {
    "duration": 15,
    "start_time": "2023-09-11T20:58:46.752Z"
   },
   {
    "duration": 27,
    "start_time": "2023-09-11T20:58:46.769Z"
   },
   {
    "duration": 23,
    "start_time": "2023-09-11T20:58:46.797Z"
   },
   {
    "duration": 36,
    "start_time": "2023-09-11T20:58:46.822Z"
   },
   {
    "duration": 25,
    "start_time": "2023-09-11T20:58:46.860Z"
   },
   {
    "duration": 24,
    "start_time": "2023-09-11T20:58:46.887Z"
   },
   {
    "duration": 13,
    "start_time": "2023-09-11T20:58:46.913Z"
   },
   {
    "duration": 11,
    "start_time": "2023-09-11T20:58:46.928Z"
   },
   {
    "duration": 19,
    "start_time": "2023-09-11T20:58:46.940Z"
   },
   {
    "duration": 14,
    "start_time": "2023-09-11T20:58:46.961Z"
   },
   {
    "duration": 12,
    "start_time": "2023-09-11T20:58:46.976Z"
   },
   {
    "duration": 19,
    "start_time": "2023-09-11T20:58:46.990Z"
   },
   {
    "duration": 32,
    "start_time": "2023-09-11T20:58:47.010Z"
   },
   {
    "duration": 11,
    "start_time": "2023-09-11T20:58:47.044Z"
   },
   {
    "duration": 25,
    "start_time": "2023-09-11T20:58:47.056Z"
   },
   {
    "duration": 14,
    "start_time": "2023-09-11T20:58:47.082Z"
   },
   {
    "duration": 423,
    "start_time": "2023-09-11T20:58:47.098Z"
   },
   {
    "duration": 166,
    "start_time": "2023-09-11T20:58:47.522Z"
   },
   {
    "duration": 167,
    "start_time": "2023-09-11T20:58:47.689Z"
   },
   {
    "duration": 15,
    "start_time": "2023-09-11T20:58:47.858Z"
   },
   {
    "duration": 182,
    "start_time": "2023-09-11T20:58:47.875Z"
   },
   {
    "duration": 8,
    "start_time": "2023-09-11T20:58:48.059Z"
   },
   {
    "duration": 30,
    "start_time": "2023-09-11T20:58:48.068Z"
   },
   {
    "duration": 145,
    "start_time": "2023-09-11T20:58:48.100Z"
   },
   {
    "duration": 164,
    "start_time": "2023-09-11T20:58:48.247Z"
   },
   {
    "duration": 168,
    "start_time": "2023-09-11T20:58:48.415Z"
   },
   {
    "duration": 221,
    "start_time": "2023-09-11T20:58:48.586Z"
   },
   {
    "duration": 16,
    "start_time": "2023-09-11T20:58:48.809Z"
   },
   {
    "duration": 6,
    "start_time": "2023-09-11T20:58:48.827Z"
   },
   {
    "duration": 21,
    "start_time": "2023-09-11T20:58:48.835Z"
   },
   {
    "duration": 31,
    "start_time": "2023-09-11T20:58:48.857Z"
   },
   {
    "duration": 198,
    "start_time": "2023-09-11T20:58:48.889Z"
   },
   {
    "duration": 34,
    "start_time": "2023-09-11T20:58:49.089Z"
   },
   {
    "duration": 18,
    "start_time": "2023-09-11T20:58:49.125Z"
   },
   {
    "duration": 17,
    "start_time": "2023-09-11T20:58:49.145Z"
   },
   {
    "duration": 162,
    "start_time": "2023-09-11T20:58:49.163Z"
   },
   {
    "duration": 146,
    "start_time": "2023-09-11T20:58:49.326Z"
   },
   {
    "duration": 209,
    "start_time": "2023-09-11T20:58:49.474Z"
   },
   {
    "duration": 158,
    "start_time": "2023-09-11T20:58:49.685Z"
   },
   {
    "duration": 26,
    "start_time": "2023-09-11T20:58:49.845Z"
   },
   {
    "duration": 64,
    "start_time": "2023-09-11T20:58:49.872Z"
   },
   {
    "duration": 8,
    "start_time": "2023-09-11T20:58:49.938Z"
   },
   {
    "duration": 6,
    "start_time": "2023-09-11T20:58:49.948Z"
   },
   {
    "duration": 10,
    "start_time": "2023-09-11T20:58:49.956Z"
   },
   {
    "duration": 6,
    "start_time": "2023-09-11T20:58:49.968Z"
   },
   {
    "duration": 857,
    "start_time": "2023-09-11T21:13:19.558Z"
   },
   {
    "duration": 105,
    "start_time": "2023-09-11T21:13:20.417Z"
   },
   {
    "duration": 16,
    "start_time": "2023-09-11T21:13:20.524Z"
   },
   {
    "duration": 20,
    "start_time": "2023-09-11T21:13:20.542Z"
   },
   {
    "duration": 17,
    "start_time": "2023-09-11T21:13:20.565Z"
   },
   {
    "duration": 19,
    "start_time": "2023-09-11T21:13:20.584Z"
   },
   {
    "duration": 11,
    "start_time": "2023-09-11T21:13:20.604Z"
   },
   {
    "duration": 17,
    "start_time": "2023-09-11T21:13:20.617Z"
   },
   {
    "duration": 11,
    "start_time": "2023-09-11T21:13:20.636Z"
   },
   {
    "duration": 10,
    "start_time": "2023-09-11T21:13:20.649Z"
   },
   {
    "duration": 7,
    "start_time": "2023-09-11T21:13:20.661Z"
   },
   {
    "duration": 15,
    "start_time": "2023-09-11T21:13:20.670Z"
   },
   {
    "duration": 23,
    "start_time": "2023-09-11T21:13:20.687Z"
   },
   {
    "duration": 5,
    "start_time": "2023-09-11T21:13:20.714Z"
   },
   {
    "duration": 27,
    "start_time": "2023-09-11T21:13:20.721Z"
   },
   {
    "duration": 38,
    "start_time": "2023-09-11T21:13:20.750Z"
   },
   {
    "duration": 33,
    "start_time": "2023-09-11T21:13:20.790Z"
   },
   {
    "duration": 39,
    "start_time": "2023-09-11T21:13:20.825Z"
   },
   {
    "duration": 428,
    "start_time": "2023-09-11T21:13:20.866Z"
   },
   {
    "duration": 159,
    "start_time": "2023-09-11T21:13:21.296Z"
   },
   {
    "duration": 167,
    "start_time": "2023-09-11T21:13:21.457Z"
   },
   {
    "duration": 15,
    "start_time": "2023-09-11T21:13:21.626Z"
   },
   {
    "duration": 168,
    "start_time": "2023-09-11T21:13:21.643Z"
   },
   {
    "duration": 8,
    "start_time": "2023-09-11T21:13:21.813Z"
   },
   {
    "duration": 18,
    "start_time": "2023-09-11T21:13:21.822Z"
   },
   {
    "duration": 159,
    "start_time": "2023-09-11T21:13:21.842Z"
   },
   {
    "duration": 167,
    "start_time": "2023-09-11T21:13:22.009Z"
   },
   {
    "duration": 167,
    "start_time": "2023-09-11T21:13:22.177Z"
   },
   {
    "duration": 273,
    "start_time": "2023-09-11T21:13:22.346Z"
   },
   {
    "duration": 22,
    "start_time": "2023-09-11T21:13:22.624Z"
   },
   {
    "duration": 6,
    "start_time": "2023-09-11T21:13:22.649Z"
   },
   {
    "duration": 14,
    "start_time": "2023-09-11T21:13:22.657Z"
   },
   {
    "duration": 23,
    "start_time": "2023-09-11T21:13:22.674Z"
   },
   {
    "duration": 188,
    "start_time": "2023-09-11T21:13:22.699Z"
   },
   {
    "duration": 42,
    "start_time": "2023-09-11T21:13:22.889Z"
   },
   {
    "duration": 20,
    "start_time": "2023-09-11T21:13:22.932Z"
   },
   {
    "duration": 33,
    "start_time": "2023-09-11T21:13:22.954Z"
   },
   {
    "duration": 169,
    "start_time": "2023-09-11T21:13:22.988Z"
   },
   {
    "duration": 139,
    "start_time": "2023-09-11T21:13:23.159Z"
   },
   {
    "duration": 217,
    "start_time": "2023-09-11T21:13:23.300Z"
   },
   {
    "duration": 164,
    "start_time": "2023-09-11T21:13:23.521Z"
   },
   {
    "duration": 34,
    "start_time": "2023-09-11T21:13:23.687Z"
   },
   {
    "duration": 49,
    "start_time": "2023-09-11T21:13:23.723Z"
   },
   {
    "duration": 8,
    "start_time": "2023-09-11T21:13:23.774Z"
   },
   {
    "duration": 28,
    "start_time": "2023-09-11T21:13:23.783Z"
   },
   {
    "duration": 11,
    "start_time": "2023-09-11T21:13:23.813Z"
   },
   {
    "duration": 6,
    "start_time": "2023-09-11T21:13:23.826Z"
   },
   {
    "duration": 62,
    "start_time": "2023-09-11T21:17:24.754Z"
   },
   {
    "duration": 896,
    "start_time": "2023-09-11T21:17:31.470Z"
   },
   {
    "duration": 237,
    "start_time": "2023-09-11T21:17:32.369Z"
   },
   {
    "duration": 16,
    "start_time": "2023-09-11T21:17:32.608Z"
   },
   {
    "duration": 50,
    "start_time": "2023-09-11T21:17:32.626Z"
   },
   {
    "duration": 34,
    "start_time": "2023-09-11T21:17:32.677Z"
   },
   {
    "duration": 35,
    "start_time": "2023-09-11T21:17:32.713Z"
   },
   {
    "duration": 38,
    "start_time": "2023-09-11T21:17:32.749Z"
   },
   {
    "duration": 52,
    "start_time": "2023-09-11T21:17:32.789Z"
   },
   {
    "duration": 55,
    "start_time": "2023-09-11T21:17:32.843Z"
   },
   {
    "duration": 32,
    "start_time": "2023-09-11T21:17:32.900Z"
   },
   {
    "duration": 50,
    "start_time": "2023-09-11T21:17:32.933Z"
   },
   {
    "duration": 19,
    "start_time": "2023-09-11T21:17:32.985Z"
   },
   {
    "duration": 55,
    "start_time": "2023-09-11T21:17:33.006Z"
   },
   {
    "duration": 94,
    "start_time": "2023-09-11T21:17:33.063Z"
   },
   {
    "duration": 186,
    "start_time": "2023-09-11T21:17:33.159Z"
   },
   {
    "duration": 27,
    "start_time": "2023-09-11T21:17:33.347Z"
   },
   {
    "duration": 9,
    "start_time": "2023-09-11T21:17:33.376Z"
   },
   {
    "duration": 28,
    "start_time": "2023-09-11T21:17:33.387Z"
   },
   {
    "duration": 635,
    "start_time": "2023-09-11T21:17:36.997Z"
   },
   {
    "duration": 1150,
    "start_time": "2023-09-13T09:43:58.741Z"
   },
   {
    "duration": 212,
    "start_time": "2023-09-13T09:43:59.902Z"
   },
   {
    "duration": 18,
    "start_time": "2023-09-13T09:44:00.121Z"
   },
   {
    "duration": 30,
    "start_time": "2023-09-13T09:44:00.142Z"
   },
   {
    "duration": 55,
    "start_time": "2023-09-13T09:44:00.174Z"
   },
   {
    "duration": 46,
    "start_time": "2023-09-13T09:44:00.231Z"
   },
   {
    "duration": 68,
    "start_time": "2023-09-13T09:44:00.279Z"
   },
   {
    "duration": 53,
    "start_time": "2023-09-13T09:44:00.349Z"
   },
   {
    "duration": 38,
    "start_time": "2023-09-13T09:44:00.408Z"
   },
   {
    "duration": 65,
    "start_time": "2023-09-13T09:44:00.449Z"
   },
   {
    "duration": 47,
    "start_time": "2023-09-13T09:44:00.516Z"
   },
   {
    "duration": 149,
    "start_time": "2023-09-13T09:44:00.565Z"
   },
   {
    "duration": 54,
    "start_time": "2023-09-13T09:44:00.715Z"
   },
   {
    "duration": 31,
    "start_time": "2023-09-13T09:44:00.771Z"
   },
   {
    "duration": 24,
    "start_time": "2023-09-13T09:44:00.808Z"
   },
   {
    "duration": 65,
    "start_time": "2023-09-13T09:44:00.834Z"
   },
   {
    "duration": 43,
    "start_time": "2023-09-13T09:44:00.900Z"
   },
   {
    "duration": 30,
    "start_time": "2023-09-13T09:44:00.945Z"
   },
   {
    "duration": 53,
    "start_time": "2023-09-13T09:44:00.976Z"
   },
   {
    "duration": 203,
    "start_time": "2023-09-13T09:44:01.031Z"
   },
   {
    "duration": 208,
    "start_time": "2023-09-13T09:44:01.235Z"
   },
   {
    "duration": 200,
    "start_time": "2023-09-13T09:44:01.445Z"
   },
   {
    "duration": 15,
    "start_time": "2023-09-13T09:44:01.647Z"
   },
   {
    "duration": 380,
    "start_time": "2023-09-13T09:44:01.664Z"
   },
   {
    "duration": 298,
    "start_time": "2023-09-13T09:44:02.046Z"
   },
   {
    "duration": 71,
    "start_time": "2023-09-13T09:44:02.346Z"
   },
   {
    "duration": 186,
    "start_time": "2023-09-13T09:44:02.419Z"
   },
   {
    "duration": 201,
    "start_time": "2023-09-13T09:44:02.616Z"
   },
   {
    "duration": 222,
    "start_time": "2023-09-13T09:44:02.819Z"
   },
   {
    "duration": 171,
    "start_time": "2023-09-13T09:44:03.043Z"
   },
   {
    "duration": 407,
    "start_time": "2023-09-13T09:44:03.215Z"
   },
   {
    "duration": 322,
    "start_time": "2023-09-13T09:44:03.625Z"
   },
   {
    "duration": 416,
    "start_time": "2023-09-13T09:44:03.949Z"
   },
   {
    "duration": 15,
    "start_time": "2023-09-13T09:44:04.367Z"
   },
   {
    "duration": 15,
    "start_time": "2023-09-13T09:44:04.401Z"
   },
   {
    "duration": 9,
    "start_time": "2023-09-13T09:44:04.422Z"
   },
   {
    "duration": 49,
    "start_time": "2023-09-13T09:44:04.433Z"
   },
   {
    "duration": 275,
    "start_time": "2023-09-13T09:44:04.484Z"
   },
   {
    "duration": 44,
    "start_time": "2023-09-13T09:44:04.762Z"
   },
   {
    "duration": 19,
    "start_time": "2023-09-13T09:44:04.810Z"
   },
   {
    "duration": 172,
    "start_time": "2023-09-13T09:44:04.833Z"
   },
   {
    "duration": 121,
    "start_time": "2023-09-13T09:44:05.006Z"
   },
   {
    "duration": 167,
    "start_time": "2023-09-13T09:44:05.129Z"
   },
   {
    "duration": 168,
    "start_time": "2023-09-13T09:44:05.301Z"
   },
   {
    "duration": 172,
    "start_time": "2023-09-13T09:44:05.470Z"
   },
   {
    "duration": 186,
    "start_time": "2023-09-13T09:44:05.644Z"
   },
   {
    "duration": 211,
    "start_time": "2023-09-13T09:44:05.832Z"
   },
   {
    "duration": 211,
    "start_time": "2023-09-13T09:44:06.045Z"
   },
   {
    "duration": 26,
    "start_time": "2023-09-13T09:44:06.258Z"
   },
   {
    "duration": 81,
    "start_time": "2023-09-13T09:44:06.286Z"
   },
   {
    "duration": 65,
    "start_time": "2023-09-13T09:44:06.369Z"
   },
   {
    "duration": 64,
    "start_time": "2023-09-13T09:44:06.436Z"
   },
   {
    "duration": 30,
    "start_time": "2023-09-13T09:44:06.506Z"
   },
   {
    "duration": 14,
    "start_time": "2023-09-13T09:44:06.539Z"
   },
   {
    "duration": 1332,
    "start_time": "2023-09-13T10:09:19.776Z"
   },
   {
    "duration": 316,
    "start_time": "2023-09-13T10:09:21.111Z"
   },
   {
    "duration": 13,
    "start_time": "2023-09-13T10:09:21.428Z"
   },
   {
    "duration": 30,
    "start_time": "2023-09-13T10:09:21.443Z"
   },
   {
    "duration": 32,
    "start_time": "2023-09-13T10:09:21.474Z"
   },
   {
    "duration": 16,
    "start_time": "2023-09-13T10:09:21.509Z"
   },
   {
    "duration": 7,
    "start_time": "2023-09-13T10:09:21.527Z"
   },
   {
    "duration": 16,
    "start_time": "2023-09-13T10:09:21.535Z"
   },
   {
    "duration": 14,
    "start_time": "2023-09-13T10:09:21.553Z"
   },
   {
    "duration": 9,
    "start_time": "2023-09-13T10:09:21.571Z"
   },
   {
    "duration": 11,
    "start_time": "2023-09-13T10:09:21.582Z"
   },
   {
    "duration": 23,
    "start_time": "2023-09-13T10:09:21.594Z"
   },
   {
    "duration": 19,
    "start_time": "2023-09-13T10:09:21.619Z"
   },
   {
    "duration": 30,
    "start_time": "2023-09-13T10:09:21.640Z"
   },
   {
    "duration": 11,
    "start_time": "2023-09-13T10:09:21.672Z"
   },
   {
    "duration": 8,
    "start_time": "2023-09-13T10:09:21.685Z"
   },
   {
    "duration": 10,
    "start_time": "2023-09-13T10:09:21.695Z"
   },
   {
    "duration": 11,
    "start_time": "2023-09-13T10:09:21.707Z"
   },
   {
    "duration": 23,
    "start_time": "2023-09-13T10:09:21.720Z"
   },
   {
    "duration": 188,
    "start_time": "2023-09-13T10:09:21.745Z"
   },
   {
    "duration": 187,
    "start_time": "2023-09-13T10:09:21.935Z"
   },
   {
    "duration": 191,
    "start_time": "2023-09-13T10:09:22.123Z"
   },
   {
    "duration": 31,
    "start_time": "2023-09-13T10:09:22.316Z"
   },
   {
    "duration": 176,
    "start_time": "2023-09-13T10:09:22.349Z"
   },
   {
    "duration": 21,
    "start_time": "2023-09-13T10:09:22.527Z"
   },
   {
    "duration": 18,
    "start_time": "2023-09-13T10:09:22.550Z"
   },
   {
    "duration": 139,
    "start_time": "2023-09-13T10:09:22.570Z"
   },
   {
    "duration": 187,
    "start_time": "2023-09-13T10:09:22.712Z"
   },
   {
    "duration": 184,
    "start_time": "2023-09-13T10:09:22.901Z"
   },
   {
    "duration": 162,
    "start_time": "2023-09-13T10:09:23.087Z"
   },
   {
    "duration": 169,
    "start_time": "2023-09-13T10:09:23.251Z"
   },
   {
    "duration": 181,
    "start_time": "2023-09-13T10:09:23.422Z"
   },
   {
    "duration": 286,
    "start_time": "2023-09-13T10:09:23.604Z"
   },
   {
    "duration": 16,
    "start_time": "2023-09-13T10:09:23.892Z"
   },
   {
    "duration": 13,
    "start_time": "2023-09-13T10:09:23.909Z"
   },
   {
    "duration": 8,
    "start_time": "2023-09-13T10:09:23.924Z"
   },
   {
    "duration": 14,
    "start_time": "2023-09-13T10:09:23.946Z"
   },
   {
    "duration": 219,
    "start_time": "2023-09-13T10:09:23.962Z"
   },
   {
    "duration": 27,
    "start_time": "2023-09-13T10:09:24.183Z"
   },
   {
    "duration": 15,
    "start_time": "2023-09-13T10:09:24.211Z"
   },
   {
    "duration": 18,
    "start_time": "2023-09-13T10:09:24.247Z"
   },
   {
    "duration": 18,
    "start_time": "2023-09-13T10:09:24.267Z"
   },
   {
    "duration": 170,
    "start_time": "2023-09-13T10:09:24.287Z"
   },
   {
    "duration": 155,
    "start_time": "2023-09-13T10:09:24.459Z"
   },
   {
    "duration": 153,
    "start_time": "2023-09-13T10:09:24.616Z"
   },
   {
    "duration": 181,
    "start_time": "2023-09-13T10:09:24.771Z"
   },
   {
    "duration": 201,
    "start_time": "2023-09-13T10:09:24.954Z"
   },
   {
    "duration": 252,
    "start_time": "2023-09-13T10:09:25.156Z"
   },
   {
    "duration": 41,
    "start_time": "2023-09-13T10:09:25.410Z"
   },
   {
    "duration": 51,
    "start_time": "2023-09-13T10:09:25.452Z"
   },
   {
    "duration": 8,
    "start_time": "2023-09-13T10:09:25.504Z"
   },
   {
    "duration": 11,
    "start_time": "2023-09-13T10:09:25.514Z"
   },
   {
    "duration": 27,
    "start_time": "2023-09-13T10:09:25.526Z"
   },
   {
    "duration": 8,
    "start_time": "2023-09-13T10:09:25.555Z"
   },
   {
    "duration": 194,
    "start_time": "2023-09-13T10:09:41.498Z"
   },
   {
    "duration": 194,
    "start_time": "2023-09-13T10:09:45.395Z"
   },
   {
    "duration": 1071,
    "start_time": "2023-09-13T10:09:54.281Z"
   },
   {
    "duration": 1169,
    "start_time": "2023-09-13T10:10:09.177Z"
   },
   {
    "duration": 198,
    "start_time": "2023-09-13T10:10:18.617Z"
   },
   {
    "duration": 312,
    "start_time": "2023-09-13T10:11:06.688Z"
   },
   {
    "duration": 270,
    "start_time": "2023-09-13T10:11:14.833Z"
   },
   {
    "duration": 210,
    "start_time": "2023-09-13T10:11:23.737Z"
   }
  ],
  "kernelspec": {
   "display_name": "Python 3 (ipykernel)",
   "language": "python",
   "name": "python3"
  },
  "language_info": {
   "codemirror_mode": {
    "name": "ipython",
    "version": 3
   },
   "file_extension": ".py",
   "mimetype": "text/x-python",
   "name": "python",
   "nbconvert_exporter": "python",
   "pygments_lexer": "ipython3",
   "version": "3.9.5"
  },
  "toc": {
   "base_numbering": 1,
   "nav_menu": {},
   "number_sections": true,
   "sideBar": true,
   "skip_h1_title": true,
   "title_cell": "Table of Contents",
   "title_sidebar": "Contents",
   "toc_cell": false,
   "toc_position": {
    "height": "calc(100% - 180px)",
    "left": "10px",
    "top": "150px",
    "width": "374.391px"
   },
   "toc_section_display": true,
   "toc_window_display": true
  }
 },
 "nbformat": 4,
 "nbformat_minor": 5
}
