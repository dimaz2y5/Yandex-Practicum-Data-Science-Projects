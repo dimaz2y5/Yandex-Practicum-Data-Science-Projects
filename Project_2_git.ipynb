{
 "cells": [
  {
   "cell_type": "markdown",
   "id": "310d8d2a",
   "metadata": {
    "deletable": false,
    "editable": false,
    "id": "c81daeeb"
   },
   "source": [
    "# Исследование надежности заемщиков\n"
   ]
  },
  {
   "cell_type": "markdown",
   "id": "3928ce8a",
   "metadata": {
    "deletable": false,
    "editable": false,
    "id": "827c20bf"
   },
   "source": [
    "Во второй части проекта вы выполните шаги 3 и 4. Их вручную проверит ревьюер.\n",
    "Чтобы вам не пришлось писать код заново для шагов 1 и 2, мы добавили авторские решения в ячейки с кодом. \n",
    "\n"
   ]
  },
  {
   "cell_type": "markdown",
   "id": "2a313745",
   "metadata": {
    "deletable": false,
    "editable": false,
    "id": "744d7639"
   },
   "source": [
    "## Откройте таблицу и изучите общую информацию о данных"
   ]
  },
  {
   "cell_type": "markdown",
   "id": "1ed1b90e",
   "metadata": {
    "deletable": false,
    "editable": false,
    "id": "e7a14c31"
   },
   "source": [
    "**Задание 1. Импортируйте библиотеку pandas. Считайте данные из csv-файла в датафрейм и сохраните в переменную `data`. Путь к файлу:**\n",
    "\n",
    "`/datasets/data.csv`"
   ]
  },
  {
   "cell_type": "code",
   "execution_count": 55,
   "id": "d4f48bf4",
   "metadata": {
    "deletable": false,
    "id": "7bcf75c9"
   },
   "outputs": [],
   "source": [
    "import pandas as pd\n",
    "\n",
    "try:\n",
    "    data = pd.read_csv('/datasets/data.csv')\n",
    "except:\n",
    "    data = pd.read_csv('https://code.s3.yandex.net/datasets/data.csv')"
   ]
  },
  {
   "cell_type": "markdown",
   "id": "ca61c683",
   "metadata": {
    "deletable": false,
    "editable": false,
    "id": "b8038fe3"
   },
   "source": [
    "**Задание 2. Выведите первые 20 строчек датафрейма `data` на экран.**"
   ]
  },
  {
   "cell_type": "code",
   "execution_count": 56,
   "id": "6218e046",
   "metadata": {
    "deletable": false,
    "id": "2a7cab99",
    "outputId": "1a8f3ef2-d323-4ec2-ddf7-89670b5944c4"
   },
   "outputs": [
    {
     "data": {
      "text/html": [
       "<div>\n",
       "<style scoped>\n",
       "    .dataframe tbody tr th:only-of-type {\n",
       "        vertical-align: middle;\n",
       "    }\n",
       "\n",
       "    .dataframe tbody tr th {\n",
       "        vertical-align: top;\n",
       "    }\n",
       "\n",
       "    .dataframe thead th {\n",
       "        text-align: right;\n",
       "    }\n",
       "</style>\n",
       "<table border=\"1\" class=\"dataframe\">\n",
       "  <thead>\n",
       "    <tr style=\"text-align: right;\">\n",
       "      <th></th>\n",
       "      <th>children</th>\n",
       "      <th>days_employed</th>\n",
       "      <th>dob_years</th>\n",
       "      <th>education</th>\n",
       "      <th>education_id</th>\n",
       "      <th>family_status</th>\n",
       "      <th>family_status_id</th>\n",
       "      <th>gender</th>\n",
       "      <th>income_type</th>\n",
       "      <th>debt</th>\n",
       "      <th>total_income</th>\n",
       "      <th>purpose</th>\n",
       "    </tr>\n",
       "  </thead>\n",
       "  <tbody>\n",
       "    <tr>\n",
       "      <th>0</th>\n",
       "      <td>1</td>\n",
       "      <td>-8437.673028</td>\n",
       "      <td>42</td>\n",
       "      <td>высшее</td>\n",
       "      <td>0</td>\n",
       "      <td>женат / замужем</td>\n",
       "      <td>0</td>\n",
       "      <td>F</td>\n",
       "      <td>сотрудник</td>\n",
       "      <td>0</td>\n",
       "      <td>253875.639453</td>\n",
       "      <td>покупка жилья</td>\n",
       "    </tr>\n",
       "    <tr>\n",
       "      <th>1</th>\n",
       "      <td>1</td>\n",
       "      <td>-4024.803754</td>\n",
       "      <td>36</td>\n",
       "      <td>среднее</td>\n",
       "      <td>1</td>\n",
       "      <td>женат / замужем</td>\n",
       "      <td>0</td>\n",
       "      <td>F</td>\n",
       "      <td>сотрудник</td>\n",
       "      <td>0</td>\n",
       "      <td>112080.014102</td>\n",
       "      <td>приобретение автомобиля</td>\n",
       "    </tr>\n",
       "    <tr>\n",
       "      <th>2</th>\n",
       "      <td>0</td>\n",
       "      <td>-5623.422610</td>\n",
       "      <td>33</td>\n",
       "      <td>Среднее</td>\n",
       "      <td>1</td>\n",
       "      <td>женат / замужем</td>\n",
       "      <td>0</td>\n",
       "      <td>M</td>\n",
       "      <td>сотрудник</td>\n",
       "      <td>0</td>\n",
       "      <td>145885.952297</td>\n",
       "      <td>покупка жилья</td>\n",
       "    </tr>\n",
       "    <tr>\n",
       "      <th>3</th>\n",
       "      <td>3</td>\n",
       "      <td>-4124.747207</td>\n",
       "      <td>32</td>\n",
       "      <td>среднее</td>\n",
       "      <td>1</td>\n",
       "      <td>женат / замужем</td>\n",
       "      <td>0</td>\n",
       "      <td>M</td>\n",
       "      <td>сотрудник</td>\n",
       "      <td>0</td>\n",
       "      <td>267628.550329</td>\n",
       "      <td>дополнительное образование</td>\n",
       "    </tr>\n",
       "    <tr>\n",
       "      <th>4</th>\n",
       "      <td>0</td>\n",
       "      <td>340266.072047</td>\n",
       "      <td>53</td>\n",
       "      <td>среднее</td>\n",
       "      <td>1</td>\n",
       "      <td>гражданский брак</td>\n",
       "      <td>1</td>\n",
       "      <td>F</td>\n",
       "      <td>пенсионер</td>\n",
       "      <td>0</td>\n",
       "      <td>158616.077870</td>\n",
       "      <td>сыграть свадьбу</td>\n",
       "    </tr>\n",
       "    <tr>\n",
       "      <th>5</th>\n",
       "      <td>0</td>\n",
       "      <td>-926.185831</td>\n",
       "      <td>27</td>\n",
       "      <td>высшее</td>\n",
       "      <td>0</td>\n",
       "      <td>гражданский брак</td>\n",
       "      <td>1</td>\n",
       "      <td>M</td>\n",
       "      <td>компаньон</td>\n",
       "      <td>0</td>\n",
       "      <td>255763.565419</td>\n",
       "      <td>покупка жилья</td>\n",
       "    </tr>\n",
       "    <tr>\n",
       "      <th>6</th>\n",
       "      <td>0</td>\n",
       "      <td>-2879.202052</td>\n",
       "      <td>43</td>\n",
       "      <td>высшее</td>\n",
       "      <td>0</td>\n",
       "      <td>женат / замужем</td>\n",
       "      <td>0</td>\n",
       "      <td>F</td>\n",
       "      <td>компаньон</td>\n",
       "      <td>0</td>\n",
       "      <td>240525.971920</td>\n",
       "      <td>операции с жильем</td>\n",
       "    </tr>\n",
       "    <tr>\n",
       "      <th>7</th>\n",
       "      <td>0</td>\n",
       "      <td>-152.779569</td>\n",
       "      <td>50</td>\n",
       "      <td>СРЕДНЕЕ</td>\n",
       "      <td>1</td>\n",
       "      <td>женат / замужем</td>\n",
       "      <td>0</td>\n",
       "      <td>M</td>\n",
       "      <td>сотрудник</td>\n",
       "      <td>0</td>\n",
       "      <td>135823.934197</td>\n",
       "      <td>образование</td>\n",
       "    </tr>\n",
       "    <tr>\n",
       "      <th>8</th>\n",
       "      <td>2</td>\n",
       "      <td>-6929.865299</td>\n",
       "      <td>35</td>\n",
       "      <td>ВЫСШЕЕ</td>\n",
       "      <td>0</td>\n",
       "      <td>гражданский брак</td>\n",
       "      <td>1</td>\n",
       "      <td>F</td>\n",
       "      <td>сотрудник</td>\n",
       "      <td>0</td>\n",
       "      <td>95856.832424</td>\n",
       "      <td>на проведение свадьбы</td>\n",
       "    </tr>\n",
       "    <tr>\n",
       "      <th>9</th>\n",
       "      <td>0</td>\n",
       "      <td>-2188.756445</td>\n",
       "      <td>41</td>\n",
       "      <td>среднее</td>\n",
       "      <td>1</td>\n",
       "      <td>женат / замужем</td>\n",
       "      <td>0</td>\n",
       "      <td>M</td>\n",
       "      <td>сотрудник</td>\n",
       "      <td>0</td>\n",
       "      <td>144425.938277</td>\n",
       "      <td>покупка жилья для семьи</td>\n",
       "    </tr>\n",
       "    <tr>\n",
       "      <th>10</th>\n",
       "      <td>2</td>\n",
       "      <td>-4171.483647</td>\n",
       "      <td>36</td>\n",
       "      <td>высшее</td>\n",
       "      <td>0</td>\n",
       "      <td>женат / замужем</td>\n",
       "      <td>0</td>\n",
       "      <td>M</td>\n",
       "      <td>компаньон</td>\n",
       "      <td>0</td>\n",
       "      <td>113943.491460</td>\n",
       "      <td>покупка недвижимости</td>\n",
       "    </tr>\n",
       "    <tr>\n",
       "      <th>11</th>\n",
       "      <td>0</td>\n",
       "      <td>-792.701887</td>\n",
       "      <td>40</td>\n",
       "      <td>среднее</td>\n",
       "      <td>1</td>\n",
       "      <td>женат / замужем</td>\n",
       "      <td>0</td>\n",
       "      <td>F</td>\n",
       "      <td>сотрудник</td>\n",
       "      <td>0</td>\n",
       "      <td>77069.234271</td>\n",
       "      <td>покупка коммерческой недвижимости</td>\n",
       "    </tr>\n",
       "    <tr>\n",
       "      <th>12</th>\n",
       "      <td>0</td>\n",
       "      <td>NaN</td>\n",
       "      <td>65</td>\n",
       "      <td>среднее</td>\n",
       "      <td>1</td>\n",
       "      <td>гражданский брак</td>\n",
       "      <td>1</td>\n",
       "      <td>M</td>\n",
       "      <td>пенсионер</td>\n",
       "      <td>0</td>\n",
       "      <td>NaN</td>\n",
       "      <td>сыграть свадьбу</td>\n",
       "    </tr>\n",
       "    <tr>\n",
       "      <th>13</th>\n",
       "      <td>0</td>\n",
       "      <td>-1846.641941</td>\n",
       "      <td>54</td>\n",
       "      <td>неоконченное высшее</td>\n",
       "      <td>2</td>\n",
       "      <td>женат / замужем</td>\n",
       "      <td>0</td>\n",
       "      <td>F</td>\n",
       "      <td>сотрудник</td>\n",
       "      <td>0</td>\n",
       "      <td>130458.228857</td>\n",
       "      <td>приобретение автомобиля</td>\n",
       "    </tr>\n",
       "    <tr>\n",
       "      <th>14</th>\n",
       "      <td>0</td>\n",
       "      <td>-1844.956182</td>\n",
       "      <td>56</td>\n",
       "      <td>высшее</td>\n",
       "      <td>0</td>\n",
       "      <td>гражданский брак</td>\n",
       "      <td>1</td>\n",
       "      <td>F</td>\n",
       "      <td>компаньон</td>\n",
       "      <td>1</td>\n",
       "      <td>165127.911772</td>\n",
       "      <td>покупка жилой недвижимости</td>\n",
       "    </tr>\n",
       "    <tr>\n",
       "      <th>15</th>\n",
       "      <td>1</td>\n",
       "      <td>-972.364419</td>\n",
       "      <td>26</td>\n",
       "      <td>среднее</td>\n",
       "      <td>1</td>\n",
       "      <td>женат / замужем</td>\n",
       "      <td>0</td>\n",
       "      <td>F</td>\n",
       "      <td>сотрудник</td>\n",
       "      <td>0</td>\n",
       "      <td>116820.904450</td>\n",
       "      <td>строительство собственной недвижимости</td>\n",
       "    </tr>\n",
       "    <tr>\n",
       "      <th>16</th>\n",
       "      <td>0</td>\n",
       "      <td>-1719.934226</td>\n",
       "      <td>35</td>\n",
       "      <td>среднее</td>\n",
       "      <td>1</td>\n",
       "      <td>женат / замужем</td>\n",
       "      <td>0</td>\n",
       "      <td>F</td>\n",
       "      <td>сотрудник</td>\n",
       "      <td>0</td>\n",
       "      <td>289202.704229</td>\n",
       "      <td>недвижимость</td>\n",
       "    </tr>\n",
       "    <tr>\n",
       "      <th>17</th>\n",
       "      <td>0</td>\n",
       "      <td>-2369.999720</td>\n",
       "      <td>33</td>\n",
       "      <td>высшее</td>\n",
       "      <td>0</td>\n",
       "      <td>гражданский брак</td>\n",
       "      <td>1</td>\n",
       "      <td>M</td>\n",
       "      <td>сотрудник</td>\n",
       "      <td>0</td>\n",
       "      <td>90410.586745</td>\n",
       "      <td>строительство недвижимости</td>\n",
       "    </tr>\n",
       "    <tr>\n",
       "      <th>18</th>\n",
       "      <td>0</td>\n",
       "      <td>400281.136913</td>\n",
       "      <td>53</td>\n",
       "      <td>среднее</td>\n",
       "      <td>1</td>\n",
       "      <td>вдовец / вдова</td>\n",
       "      <td>2</td>\n",
       "      <td>F</td>\n",
       "      <td>пенсионер</td>\n",
       "      <td>0</td>\n",
       "      <td>56823.777243</td>\n",
       "      <td>на покупку подержанного автомобиля</td>\n",
       "    </tr>\n",
       "    <tr>\n",
       "      <th>19</th>\n",
       "      <td>0</td>\n",
       "      <td>-10038.818549</td>\n",
       "      <td>48</td>\n",
       "      <td>СРЕДНЕЕ</td>\n",
       "      <td>1</td>\n",
       "      <td>в разводе</td>\n",
       "      <td>3</td>\n",
       "      <td>F</td>\n",
       "      <td>сотрудник</td>\n",
       "      <td>0</td>\n",
       "      <td>242831.107982</td>\n",
       "      <td>на покупку своего автомобиля</td>\n",
       "    </tr>\n",
       "  </tbody>\n",
       "</table>\n",
       "</div>"
      ],
      "text/plain": [
       "    children  days_employed  dob_years            education  education_id  \\\n",
       "0          1   -8437.673028         42               высшее             0   \n",
       "1          1   -4024.803754         36              среднее             1   \n",
       "2          0   -5623.422610         33              Среднее             1   \n",
       "3          3   -4124.747207         32              среднее             1   \n",
       "4          0  340266.072047         53              среднее             1   \n",
       "5          0    -926.185831         27               высшее             0   \n",
       "6          0   -2879.202052         43               высшее             0   \n",
       "7          0    -152.779569         50              СРЕДНЕЕ             1   \n",
       "8          2   -6929.865299         35               ВЫСШЕЕ             0   \n",
       "9          0   -2188.756445         41              среднее             1   \n",
       "10         2   -4171.483647         36               высшее             0   \n",
       "11         0    -792.701887         40              среднее             1   \n",
       "12         0            NaN         65              среднее             1   \n",
       "13         0   -1846.641941         54  неоконченное высшее             2   \n",
       "14         0   -1844.956182         56               высшее             0   \n",
       "15         1    -972.364419         26              среднее             1   \n",
       "16         0   -1719.934226         35              среднее             1   \n",
       "17         0   -2369.999720         33               высшее             0   \n",
       "18         0  400281.136913         53              среднее             1   \n",
       "19         0  -10038.818549         48              СРЕДНЕЕ             1   \n",
       "\n",
       "       family_status  family_status_id gender income_type  debt  \\\n",
       "0    женат / замужем                 0      F   сотрудник     0   \n",
       "1    женат / замужем                 0      F   сотрудник     0   \n",
       "2    женат / замужем                 0      M   сотрудник     0   \n",
       "3    женат / замужем                 0      M   сотрудник     0   \n",
       "4   гражданский брак                 1      F   пенсионер     0   \n",
       "5   гражданский брак                 1      M   компаньон     0   \n",
       "6    женат / замужем                 0      F   компаньон     0   \n",
       "7    женат / замужем                 0      M   сотрудник     0   \n",
       "8   гражданский брак                 1      F   сотрудник     0   \n",
       "9    женат / замужем                 0      M   сотрудник     0   \n",
       "10   женат / замужем                 0      M   компаньон     0   \n",
       "11   женат / замужем                 0      F   сотрудник     0   \n",
       "12  гражданский брак                 1      M   пенсионер     0   \n",
       "13   женат / замужем                 0      F   сотрудник     0   \n",
       "14  гражданский брак                 1      F   компаньон     1   \n",
       "15   женат / замужем                 0      F   сотрудник     0   \n",
       "16   женат / замужем                 0      F   сотрудник     0   \n",
       "17  гражданский брак                 1      M   сотрудник     0   \n",
       "18    вдовец / вдова                 2      F   пенсионер     0   \n",
       "19         в разводе                 3      F   сотрудник     0   \n",
       "\n",
       "     total_income                                 purpose  \n",
       "0   253875.639453                           покупка жилья  \n",
       "1   112080.014102                 приобретение автомобиля  \n",
       "2   145885.952297                           покупка жилья  \n",
       "3   267628.550329              дополнительное образование  \n",
       "4   158616.077870                         сыграть свадьбу  \n",
       "5   255763.565419                           покупка жилья  \n",
       "6   240525.971920                       операции с жильем  \n",
       "7   135823.934197                             образование  \n",
       "8    95856.832424                   на проведение свадьбы  \n",
       "9   144425.938277                 покупка жилья для семьи  \n",
       "10  113943.491460                    покупка недвижимости  \n",
       "11   77069.234271       покупка коммерческой недвижимости  \n",
       "12            NaN                         сыграть свадьбу  \n",
       "13  130458.228857                 приобретение автомобиля  \n",
       "14  165127.911772              покупка жилой недвижимости  \n",
       "15  116820.904450  строительство собственной недвижимости  \n",
       "16  289202.704229                            недвижимость  \n",
       "17   90410.586745              строительство недвижимости  \n",
       "18   56823.777243      на покупку подержанного автомобиля  \n",
       "19  242831.107982            на покупку своего автомобиля  "
      ]
     },
     "execution_count": 56,
     "metadata": {},
     "output_type": "execute_result"
    }
   ],
   "source": [
    "data.head(20)"
   ]
  },
  {
   "cell_type": "markdown",
   "id": "8c37c4fd",
   "metadata": {
    "deletable": false,
    "editable": false,
    "id": "1c12e233"
   },
   "source": [
    "**Задание 3. Выведите основную информацию о датафрейме с помощью метода `info()`.**"
   ]
  },
  {
   "cell_type": "code",
   "execution_count": 57,
   "id": "8220f01b",
   "metadata": {
    "deletable": false,
    "id": "2b757bca",
    "outputId": "15376089-8dad-46c9-b520-c05248d43158"
   },
   "outputs": [
    {
     "name": "stdout",
     "output_type": "stream",
     "text": [
      "<class 'pandas.core.frame.DataFrame'>\n",
      "RangeIndex: 21525 entries, 0 to 21524\n",
      "Data columns (total 12 columns):\n",
      " #   Column            Non-Null Count  Dtype  \n",
      "---  ------            --------------  -----  \n",
      " 0   children          21525 non-null  int64  \n",
      " 1   days_employed     19351 non-null  float64\n",
      " 2   dob_years         21525 non-null  int64  \n",
      " 3   education         21525 non-null  object \n",
      " 4   education_id      21525 non-null  int64  \n",
      " 5   family_status     21525 non-null  object \n",
      " 6   family_status_id  21525 non-null  int64  \n",
      " 7   gender            21525 non-null  object \n",
      " 8   income_type       21525 non-null  object \n",
      " 9   debt              21525 non-null  int64  \n",
      " 10  total_income      19351 non-null  float64\n",
      " 11  purpose           21525 non-null  object \n",
      "dtypes: float64(2), int64(5), object(5)\n",
      "memory usage: 2.0+ MB\n"
     ]
    }
   ],
   "source": [
    "data.info()"
   ]
  },
  {
   "cell_type": "markdown",
   "id": "4cf751bf",
   "metadata": {
    "deletable": false,
    "editable": false,
    "id": "333ec665"
   },
   "source": [
    "## Предобработка данных"
   ]
  },
  {
   "cell_type": "markdown",
   "id": "f9214217",
   "metadata": {
    "deletable": false,
    "editable": false,
    "id": "02d92d53"
   },
   "source": [
    "### Удаление пропусков"
   ]
  },
  {
   "cell_type": "markdown",
   "id": "49916ba0",
   "metadata": {
    "deletable": false,
    "editable": false,
    "id": "cd84967c"
   },
   "source": [
    "**Задание 4. Выведите количество пропущенных значений для каждого столбца. Используйте комбинацию двух методов.**"
   ]
  },
  {
   "cell_type": "code",
   "execution_count": 58,
   "id": "fedf62a2",
   "metadata": {
    "deletable": false,
    "id": "7f9b2309",
    "outputId": "81f4d817-781c-465c-ed15-91ce4446810d"
   },
   "outputs": [
    {
     "data": {
      "text/plain": [
       "children               0\n",
       "days_employed       2174\n",
       "dob_years              0\n",
       "education              0\n",
       "education_id           0\n",
       "family_status          0\n",
       "family_status_id       0\n",
       "gender                 0\n",
       "income_type            0\n",
       "debt                   0\n",
       "total_income        2174\n",
       "purpose                0\n",
       "dtype: int64"
      ]
     },
     "execution_count": 58,
     "metadata": {},
     "output_type": "execute_result"
    }
   ],
   "source": [
    "data.isna().sum()"
   ]
  },
  {
   "cell_type": "markdown",
   "id": "7327ecab",
   "metadata": {
    "deletable": false,
    "editable": false,
    "id": "db86e27b"
   },
   "source": [
    "**Задание 5. В двух столбцах есть пропущенные значения. Один из них — `days_employed`. Пропуски в этом столбце вы обработаете на следующем этапе. Другой столбец с пропущенными значениями — `total_income` — хранит данные о доходах. На сумму дохода сильнее всего влияет тип занятости, поэтому заполнить пропуски в этом столбце нужно медианным значением по каждому типу из столбца `income_type`. Например, у человека с типом занятости `сотрудник` пропуск в столбце `total_income` должен быть заполнен медианным доходом среди всех записей с тем же типом.**"
   ]
  },
  {
   "cell_type": "code",
   "execution_count": 59,
   "id": "34695552",
   "metadata": {
    "deletable": false,
    "id": "42006a93"
   },
   "outputs": [],
   "source": [
    "for t in data['income_type'].unique():\n",
    "    data.loc[(data['income_type'] == t) & (data['total_income'].isna()), 'total_income'] = \\\n",
    "    data.loc[(data['income_type'] == t), 'total_income'].median()"
   ]
  },
  {
   "cell_type": "markdown",
   "id": "155b47bd",
   "metadata": {
    "deletable": false,
    "editable": false,
    "id": "89da5ece"
   },
   "source": [
    "### Обработка аномальных значений"
   ]
  },
  {
   "cell_type": "markdown",
   "id": "5177e11c",
   "metadata": {
    "deletable": false,
    "editable": false,
    "id": "57964554"
   },
   "source": [
    "**Задание 6. В данных могут встречаться артефакты (аномалии) — значения, которые не отражают действительность и появились по какой-то ошибке. таким артефактом будет отрицательное количество дней трудового стажа в столбце `days_employed`. Для реальных данных это нормально. Обработайте значения в этом столбце: замените все отрицательные значения положительными с помощью метода `abs()`.**"
   ]
  },
  {
   "cell_type": "code",
   "execution_count": 60,
   "id": "54ad6924",
   "metadata": {
    "deletable": false,
    "id": "f6f055bf"
   },
   "outputs": [],
   "source": [
    "data['days_employed'] = data['days_employed'].abs()"
   ]
  },
  {
   "cell_type": "markdown",
   "id": "66d647a0",
   "metadata": {
    "deletable": false,
    "editable": false,
    "id": "6107dd2f"
   },
   "source": [
    "**Задание 7. Для каждого типа занятости выведите медианное значение трудового стажа `days_employed` в днях.**"
   ]
  },
  {
   "cell_type": "code",
   "execution_count": 61,
   "id": "c467e0b3",
   "metadata": {
    "deletable": false,
    "id": "85a5faf6",
    "outputId": "801ef80e-522b-4668-f34e-565af7432bcf"
   },
   "outputs": [
    {
     "data": {
      "text/plain": [
       "income_type\n",
       "безработный        366413.652744\n",
       "в декрете            3296.759962\n",
       "госслужащий          2689.368353\n",
       "компаньон            1547.382223\n",
       "пенсионер          365213.306266\n",
       "предприниматель       520.848083\n",
       "сотрудник            1574.202821\n",
       "студент               578.751554\n",
       "Name: days_employed, dtype: float64"
      ]
     },
     "execution_count": 61,
     "metadata": {},
     "output_type": "execute_result"
    }
   ],
   "source": [
    "data.groupby('income_type')['days_employed'].agg('median')"
   ]
  },
  {
   "cell_type": "markdown",
   "id": "c4a8d062",
   "metadata": {
    "deletable": false,
    "editable": false,
    "id": "38d1a030"
   },
   "source": [
    "У двух типов (безработные и пенсионеры) получатся аномально большие значения. Исправить такие значения сложно, поэтому оставьте их как есть. Тем более этот столбец не понадобится вам для исследования."
   ]
  },
  {
   "cell_type": "markdown",
   "id": "875b5339",
   "metadata": {
    "deletable": false,
    "editable": false,
    "id": "d8a9f147"
   },
   "source": [
    "**Задание 8. Выведите перечень уникальных значений столбца `children`.**"
   ]
  },
  {
   "cell_type": "code",
   "execution_count": 62,
   "id": "3a409944",
   "metadata": {
    "deletable": false,
    "id": "ef5056eb",
    "outputId": "6975b15c-7f95-4697-d16d-a0c79b657b03"
   },
   "outputs": [
    {
     "data": {
      "text/plain": [
       "array([ 1,  0,  3,  2, -1,  4, 20,  5])"
      ]
     },
     "execution_count": 62,
     "metadata": {},
     "output_type": "execute_result"
    }
   ],
   "source": [
    "data['children'].unique()"
   ]
  },
  {
   "cell_type": "markdown",
   "id": "d6842d44",
   "metadata": {
    "deletable": false,
    "editable": false,
    "id": "40b9ebf2"
   },
   "source": [
    "**Задание 9. В столбце `children` есть два аномальных значения. Удалите строки, в которых встречаются такие аномальные значения из датафрейма `data`.**"
   ]
  },
  {
   "cell_type": "code",
   "execution_count": 63,
   "id": "967ce5c8",
   "metadata": {
    "deletable": false,
    "id": "3ff9801d"
   },
   "outputs": [],
   "source": [
    "data = data[(data['children'] != -1) & (data['children'] != 20)]"
   ]
  },
  {
   "cell_type": "markdown",
   "id": "dccc9793",
   "metadata": {
    "deletable": false,
    "editable": false,
    "id": "bbc4d0ce"
   },
   "source": [
    "**Задание 10. Ещё раз выведите перечень уникальных значений столбца `children`, чтобы убедиться, что артефакты удалены.**"
   ]
  },
  {
   "cell_type": "code",
   "execution_count": 64,
   "id": "b773eef7",
   "metadata": {
    "deletable": false,
    "id": "ad4fa8b7",
    "outputId": "b2097101-d49d-44d9-901b-32a65c9463d1"
   },
   "outputs": [
    {
     "data": {
      "text/plain": [
       "array([1, 0, 3, 2, 4, 5])"
      ]
     },
     "execution_count": 64,
     "metadata": {},
     "output_type": "execute_result"
    }
   ],
   "source": [
    "data['children'].unique()"
   ]
  },
  {
   "cell_type": "markdown",
   "id": "b8451702",
   "metadata": {
    "deletable": false,
    "editable": false,
    "id": "75440b63"
   },
   "source": [
    "### Удаление пропусков (продолжение)"
   ]
  },
  {
   "cell_type": "markdown",
   "id": "4b8a41ac",
   "metadata": {
    "deletable": false,
    "editable": false,
    "id": "f4ea573f"
   },
   "source": [
    "**Задание 11. Заполните пропуски в столбце `days_employed` медианными значениями по каждого типа занятости `income_type`.**"
   ]
  },
  {
   "cell_type": "code",
   "execution_count": 65,
   "id": "feba791a",
   "metadata": {
    "deletable": false,
    "id": "af6b1a7e"
   },
   "outputs": [],
   "source": [
    "for t in data['income_type'].unique():\n",
    "    data.loc[(data['income_type'] == t) & (data['days_employed'].isna()), 'days_employed'] = \\\n",
    "    data.loc[(data['income_type'] == t), 'days_employed'].median()"
   ]
  },
  {
   "cell_type": "markdown",
   "id": "fb018ef3",
   "metadata": {
    "deletable": false,
    "editable": false,
    "id": "2753f40d"
   },
   "source": [
    "**Задание 12. Убедитесь, что все пропуски заполнены. Проверьте себя и ещё раз выведите количество пропущенных значений для каждого столбца с помощью двух методов.**"
   ]
  },
  {
   "cell_type": "code",
   "execution_count": 66,
   "id": "73ee6fad",
   "metadata": {
    "deletable": false,
    "id": "55f78bc2",
    "outputId": "8da1e4e1-358e-4e87-98c9-f261bce0a7b2"
   },
   "outputs": [
    {
     "data": {
      "text/plain": [
       "children            0\n",
       "days_employed       0\n",
       "dob_years           0\n",
       "education           0\n",
       "education_id        0\n",
       "family_status       0\n",
       "family_status_id    0\n",
       "gender              0\n",
       "income_type         0\n",
       "debt                0\n",
       "total_income        0\n",
       "purpose             0\n",
       "dtype: int64"
      ]
     },
     "execution_count": 66,
     "metadata": {},
     "output_type": "execute_result"
    }
   ],
   "source": [
    "data.isna().sum()"
   ]
  },
  {
   "cell_type": "markdown",
   "id": "ed17e03e",
   "metadata": {
    "deletable": false,
    "editable": false,
    "id": "ddc81e43"
   },
   "source": [
    "### Изменение типов данных"
   ]
  },
  {
   "cell_type": "markdown",
   "id": "3978c918",
   "metadata": {
    "deletable": false,
    "editable": false,
    "id": "42d19d24"
   },
   "source": [
    "**Задание 13. Замените вещественный тип данных в столбце `total_income` на целочисленный с помощью метода `astype()`.**"
   ]
  },
  {
   "cell_type": "code",
   "execution_count": 67,
   "id": "a7f9b3f7",
   "metadata": {
    "deletable": false,
    "id": "920b65ad"
   },
   "outputs": [],
   "source": [
    "data['total_income'] = data['total_income'].astype(int)"
   ]
  },
  {
   "cell_type": "markdown",
   "id": "e46b9608",
   "metadata": {
    "deletable": false,
    "editable": false,
    "id": "80c420ba"
   },
   "source": [
    "### Обработка дубликатов"
   ]
  },
  {
   "cell_type": "markdown",
   "id": "ce7b8d9b",
   "metadata": {
    "deletable": false,
    "editable": false
   },
   "source": [
    "**Задание 14. Обработайте неявные дубликаты в столбце `education`. В этом столбце есть одни и те же значения, но записанные по-разному: с использованием заглавных и строчных букв. Приведите их к нижнему регистру. Проверьте остальные столбцы.**"
   ]
  },
  {
   "cell_type": "code",
   "execution_count": 68,
   "id": "9138e196",
   "metadata": {
    "deletable": false
   },
   "outputs": [],
   "source": [
    "data['education'] = data['education'].str.lower()"
   ]
  },
  {
   "cell_type": "markdown",
   "id": "f0c5e1bf",
   "metadata": {
    "deletable": false,
    "editable": false,
    "id": "dc587695"
   },
   "source": [
    "**Задание 15. Выведите на экран количество строк-дубликатов в данных. Если такие строки присутствуют, удалите их.**"
   ]
  },
  {
   "cell_type": "code",
   "execution_count": 69,
   "id": "b1323e66",
   "metadata": {
    "deletable": false,
    "id": "3ee445e4",
    "outputId": "9684deba-1934-42d1-99e1-cda61740f822"
   },
   "outputs": [
    {
     "data": {
      "text/plain": [
       "71"
      ]
     },
     "execution_count": 69,
     "metadata": {},
     "output_type": "execute_result"
    }
   ],
   "source": [
    "data.duplicated().sum()"
   ]
  },
  {
   "cell_type": "code",
   "execution_count": 70,
   "id": "cbbe8e43",
   "metadata": {
    "deletable": false,
    "id": "8575fe05"
   },
   "outputs": [],
   "source": [
    "data = data.drop_duplicates()"
   ]
  },
  {
   "cell_type": "markdown",
   "id": "1430a784",
   "metadata": {
    "deletable": false,
    "editable": false,
    "id": "9904cf55"
   },
   "source": [
    "### Категоризация данных"
   ]
  },
  {
   "cell_type": "markdown",
   "id": "25f78234",
   "metadata": {
    "deletable": false,
    "editable": false,
    "id": "72fcc8a2"
   },
   "source": [
    "**Задание 16. На основании диапазонов, указанных ниже, создайте в датафрейме `data` столбец `total_income_category` с категориями:**\n",
    "\n",
    "- 0–30000 — `'E'`;\n",
    "- 30001–50000 — `'D'`;\n",
    "- 50001–200000 — `'C'`;\n",
    "- 200001–1000000 — `'B'`;\n",
    "- 1000001 и выше — `'A'`.\n",
    "\n",
    "\n",
    "**Например, кредитополучателю с доходом 25000 нужно назначить категорию `'E'`, а клиенту, получающему 235000, — `'B'`. Используйте собственную функцию с именем `categorize_income()` и метод `apply()`.**"
   ]
  },
  {
   "cell_type": "code",
   "execution_count": 71,
   "id": "4d5b0d24",
   "metadata": {
    "deletable": false,
    "id": "e1771346"
   },
   "outputs": [],
   "source": [
    "def categorize_income(income):\n",
    "    try:\n",
    "        if 0 <= income <= 30000:\n",
    "            return 'E'\n",
    "        elif 30001 <= income <= 50000:\n",
    "            return 'D'\n",
    "        elif 50001 <= income <= 200000:\n",
    "            return 'C'\n",
    "        elif 200001 <= income <= 1000000:\n",
    "            return 'B'\n",
    "        elif income >= 1000001:\n",
    "            return 'A'\n",
    "    except:\n",
    "        pass"
   ]
  },
  {
   "cell_type": "code",
   "execution_count": 72,
   "id": "c54ec4a8",
   "metadata": {
    "deletable": false,
    "id": "d5f3586d"
   },
   "outputs": [],
   "source": [
    "data['total_income_category'] = data['total_income'].apply(categorize_income)"
   ]
  },
  {
   "cell_type": "markdown",
   "id": "6cad8bdd",
   "metadata": {
    "deletable": false,
    "editable": false,
    "id": "dde49b5c"
   },
   "source": [
    "**Задание 17. Выведите на экран перечень уникальных целей взятия кредита из столбца `purpose`.**"
   ]
  },
  {
   "cell_type": "code",
   "execution_count": 73,
   "id": "0a028c2b",
   "metadata": {
    "deletable": false,
    "id": "f67ce9b3",
    "outputId": "673c12d9-7d7e-4ae0-9812-c622c89dd244"
   },
   "outputs": [
    {
     "data": {
      "text/plain": [
       "array(['покупка жилья', 'приобретение автомобиля',\n",
       "       'дополнительное образование', 'сыграть свадьбу',\n",
       "       'операции с жильем', 'образование', 'на проведение свадьбы',\n",
       "       'покупка жилья для семьи', 'покупка недвижимости',\n",
       "       'покупка коммерческой недвижимости', 'покупка жилой недвижимости',\n",
       "       'строительство собственной недвижимости', 'недвижимость',\n",
       "       'строительство недвижимости', 'на покупку подержанного автомобиля',\n",
       "       'на покупку своего автомобиля',\n",
       "       'операции с коммерческой недвижимостью',\n",
       "       'строительство жилой недвижимости', 'жилье',\n",
       "       'операции со своей недвижимостью', 'автомобили',\n",
       "       'заняться образованием', 'сделка с подержанным автомобилем',\n",
       "       'получение образования', 'автомобиль', 'свадьба',\n",
       "       'получение дополнительного образования', 'покупка своего жилья',\n",
       "       'операции с недвижимостью', 'получение высшего образования',\n",
       "       'свой автомобиль', 'сделка с автомобилем',\n",
       "       'профильное образование', 'высшее образование',\n",
       "       'покупка жилья для сдачи', 'на покупку автомобиля', 'ремонт жилью',\n",
       "       'заняться высшим образованием'], dtype=object)"
      ]
     },
     "execution_count": 73,
     "metadata": {},
     "output_type": "execute_result"
    }
   ],
   "source": [
    "data['purpose'].unique()"
   ]
  },
  {
   "cell_type": "markdown",
   "id": "0dcf7f0f",
   "metadata": {
    "deletable": false,
    "editable": false,
    "id": "85d0aef0"
   },
   "source": [
    "**Задание 18. Создайте функцию, которая на основании данных из столбца `purpose` сформирует новый столбец `purpose_category`, в который войдут следующие категории:**\n",
    "\n",
    "- `'операции с автомобилем'`,\n",
    "- `'операции с недвижимостью'`,\n",
    "- `'проведение свадьбы'`,\n",
    "- `'получение образования'`.\n",
    "\n",
    "**Например, если в столбце `purpose` находится подстрока `'на покупку автомобиля'`, то в столбце `purpose_category` должна появиться строка `'операции с автомобилем'`.**\n",
    "\n",
    "**Используйте собственную функцию с именем `categorize_purpose()` и метод `apply()`. Изучите данные в столбце `purpose` и определите, какие подстроки помогут вам правильно определить категорию.**"
   ]
  },
  {
   "cell_type": "code",
   "execution_count": 74,
   "id": "3c60b0f0",
   "metadata": {
    "deletable": false,
    "id": "e149fab4"
   },
   "outputs": [],
   "source": [
    "def categorize_purpose(row):\n",
    "    try:\n",
    "        if 'автом' in row:\n",
    "            return 'операции с автомобилем'\n",
    "        elif 'жил' in row or 'недвиж' in row:\n",
    "            return 'операции с недвижимостью'\n",
    "        elif 'свад' in row:\n",
    "            return 'проведение свадьбы'\n",
    "        elif 'образов' in row:\n",
    "            return 'получение образования'\n",
    "    except:\n",
    "        return 'нет категории'"
   ]
  },
  {
   "cell_type": "code",
   "execution_count": 75,
   "id": "52964980",
   "metadata": {
    "deletable": false,
    "id": "bf36e69b"
   },
   "outputs": [],
   "source": [
    "data['purpose_category'] = data['purpose'].apply(categorize_purpose)"
   ]
  },
  {
   "cell_type": "markdown",
   "id": "0329d8f5",
   "metadata": {
    "deletable": false,
    "editable": false,
    "id": "09b242bf"
   },
   "source": [
    "### Шаг 3. Исследуйте данные и ответьте на вопросы"
   ]
  },
  {
   "cell_type": "markdown",
   "id": "681aeb70",
   "metadata": {},
   "source": [
    "<b>Еще немного предобработки</b>"
   ]
  },
  {
   "cell_type": "markdown",
   "id": "9ecc61b4",
   "metadata": {},
   "source": [
    "Для начала хотелось бы категоризироавть датафрейм.<br>\n",
    "В предыдущих этапах мы создали отдельные категории, поэтому стоит сделать декомпозицию датафрейма, чтобы привести его к более удобному виду.<br>\n",
    "Создавать словарь под категорию дохода не будем, так как все таки доход каждого клиента лучше оставить для наглядности.<br>\n",
    "А вот с целью кредита иная ситуация. Многие категории повторются по смыслу, но имеют разный вариант написания. В данном случае целесообразно декомпозировать таблицу именно по данной категории"
   ]
  },
  {
   "cell_type": "code",
   "execution_count": 76,
   "id": "e427909b",
   "metadata": {},
   "outputs": [
    {
     "data": {
      "text/html": [
       "<div>\n",
       "<style scoped>\n",
       "    .dataframe tbody tr th:only-of-type {\n",
       "        vertical-align: middle;\n",
       "    }\n",
       "\n",
       "    .dataframe tbody tr th {\n",
       "        vertical-align: top;\n",
       "    }\n",
       "\n",
       "    .dataframe thead th {\n",
       "        text-align: right;\n",
       "    }\n",
       "</style>\n",
       "<table border=\"1\" class=\"dataframe\">\n",
       "  <thead>\n",
       "    <tr style=\"text-align: right;\">\n",
       "      <th></th>\n",
       "      <th>purpose_category</th>\n",
       "      <th>purpose</th>\n",
       "    </tr>\n",
       "  </thead>\n",
       "  <tbody>\n",
       "    <tr>\n",
       "      <th>0</th>\n",
       "      <td>операции с автомобилем</td>\n",
       "      <td>приобретение автомобиля</td>\n",
       "    </tr>\n",
       "    <tr>\n",
       "      <th>1</th>\n",
       "      <td>операции с автомобилем</td>\n",
       "      <td>на покупку автомобиля</td>\n",
       "    </tr>\n",
       "    <tr>\n",
       "      <th>2</th>\n",
       "      <td>операции с автомобилем</td>\n",
       "      <td>сделка с автомобилем</td>\n",
       "    </tr>\n",
       "    <tr>\n",
       "      <th>3</th>\n",
       "      <td>операции с автомобилем</td>\n",
       "      <td>свой автомобиль</td>\n",
       "    </tr>\n",
       "    <tr>\n",
       "      <th>4</th>\n",
       "      <td>операции с автомобилем</td>\n",
       "      <td>автомобиль</td>\n",
       "    </tr>\n",
       "    <tr>\n",
       "      <th>5</th>\n",
       "      <td>операции с автомобилем</td>\n",
       "      <td>сделка с подержанным автомобилем</td>\n",
       "    </tr>\n",
       "    <tr>\n",
       "      <th>6</th>\n",
       "      <td>операции с автомобилем</td>\n",
       "      <td>автомобили</td>\n",
       "    </tr>\n",
       "    <tr>\n",
       "      <th>7</th>\n",
       "      <td>операции с автомобилем</td>\n",
       "      <td>на покупку подержанного автомобиля</td>\n",
       "    </tr>\n",
       "    <tr>\n",
       "      <th>8</th>\n",
       "      <td>операции с автомобилем</td>\n",
       "      <td>на покупку своего автомобиля</td>\n",
       "    </tr>\n",
       "    <tr>\n",
       "      <th>9</th>\n",
       "      <td>операции с недвижимостью</td>\n",
       "      <td>покупка жилья</td>\n",
       "    </tr>\n",
       "    <tr>\n",
       "      <th>10</th>\n",
       "      <td>операции с недвижимостью</td>\n",
       "      <td>покупка жилья для сдачи</td>\n",
       "    </tr>\n",
       "    <tr>\n",
       "      <th>11</th>\n",
       "      <td>операции с недвижимостью</td>\n",
       "      <td>операции с недвижимостью</td>\n",
       "    </tr>\n",
       "    <tr>\n",
       "      <th>12</th>\n",
       "      <td>операции с недвижимостью</td>\n",
       "      <td>покупка своего жилья</td>\n",
       "    </tr>\n",
       "    <tr>\n",
       "      <th>13</th>\n",
       "      <td>операции с недвижимостью</td>\n",
       "      <td>операции со своей недвижимостью</td>\n",
       "    </tr>\n",
       "    <tr>\n",
       "      <th>14</th>\n",
       "      <td>операции с недвижимостью</td>\n",
       "      <td>ремонт жилью</td>\n",
       "    </tr>\n",
       "    <tr>\n",
       "      <th>15</th>\n",
       "      <td>операции с недвижимостью</td>\n",
       "      <td>строительство жилой недвижимости</td>\n",
       "    </tr>\n",
       "    <tr>\n",
       "      <th>16</th>\n",
       "      <td>операции с недвижимостью</td>\n",
       "      <td>жилье</td>\n",
       "    </tr>\n",
       "    <tr>\n",
       "      <th>17</th>\n",
       "      <td>операции с недвижимостью</td>\n",
       "      <td>строительство недвижимости</td>\n",
       "    </tr>\n",
       "    <tr>\n",
       "      <th>18</th>\n",
       "      <td>операции с недвижимостью</td>\n",
       "      <td>операции с жильем</td>\n",
       "    </tr>\n",
       "    <tr>\n",
       "      <th>19</th>\n",
       "      <td>операции с недвижимостью</td>\n",
       "      <td>операции с коммерческой недвижимостью</td>\n",
       "    </tr>\n",
       "    <tr>\n",
       "      <th>20</th>\n",
       "      <td>операции с недвижимостью</td>\n",
       "      <td>покупка недвижимости</td>\n",
       "    </tr>\n",
       "    <tr>\n",
       "      <th>21</th>\n",
       "      <td>операции с недвижимостью</td>\n",
       "      <td>покупка коммерческой недвижимости</td>\n",
       "    </tr>\n",
       "    <tr>\n",
       "      <th>22</th>\n",
       "      <td>операции с недвижимостью</td>\n",
       "      <td>покупка жилья для семьи</td>\n",
       "    </tr>\n",
       "    <tr>\n",
       "      <th>23</th>\n",
       "      <td>операции с недвижимостью</td>\n",
       "      <td>покупка жилой недвижимости</td>\n",
       "    </tr>\n",
       "    <tr>\n",
       "      <th>24</th>\n",
       "      <td>операции с недвижимостью</td>\n",
       "      <td>строительство собственной недвижимости</td>\n",
       "    </tr>\n",
       "    <tr>\n",
       "      <th>25</th>\n",
       "      <td>операции с недвижимостью</td>\n",
       "      <td>недвижимость</td>\n",
       "    </tr>\n",
       "    <tr>\n",
       "      <th>26</th>\n",
       "      <td>получение образования</td>\n",
       "      <td>получение образования</td>\n",
       "    </tr>\n",
       "    <tr>\n",
       "      <th>27</th>\n",
       "      <td>получение образования</td>\n",
       "      <td>получение дополнительного образования</td>\n",
       "    </tr>\n",
       "    <tr>\n",
       "      <th>28</th>\n",
       "      <td>получение образования</td>\n",
       "      <td>получение высшего образования</td>\n",
       "    </tr>\n",
       "    <tr>\n",
       "      <th>29</th>\n",
       "      <td>получение образования</td>\n",
       "      <td>образование</td>\n",
       "    </tr>\n",
       "    <tr>\n",
       "      <th>30</th>\n",
       "      <td>получение образования</td>\n",
       "      <td>профильное образование</td>\n",
       "    </tr>\n",
       "    <tr>\n",
       "      <th>31</th>\n",
       "      <td>получение образования</td>\n",
       "      <td>высшее образование</td>\n",
       "    </tr>\n",
       "    <tr>\n",
       "      <th>32</th>\n",
       "      <td>получение образования</td>\n",
       "      <td>дополнительное образование</td>\n",
       "    </tr>\n",
       "    <tr>\n",
       "      <th>33</th>\n",
       "      <td>получение образования</td>\n",
       "      <td>заняться образованием</td>\n",
       "    </tr>\n",
       "    <tr>\n",
       "      <th>34</th>\n",
       "      <td>получение образования</td>\n",
       "      <td>заняться высшим образованием</td>\n",
       "    </tr>\n",
       "    <tr>\n",
       "      <th>35</th>\n",
       "      <td>проведение свадьбы</td>\n",
       "      <td>свадьба</td>\n",
       "    </tr>\n",
       "    <tr>\n",
       "      <th>36</th>\n",
       "      <td>проведение свадьбы</td>\n",
       "      <td>на проведение свадьбы</td>\n",
       "    </tr>\n",
       "    <tr>\n",
       "      <th>37</th>\n",
       "      <td>проведение свадьбы</td>\n",
       "      <td>сыграть свадьбу</td>\n",
       "    </tr>\n",
       "  </tbody>\n",
       "</table>\n",
       "</div>"
      ],
      "text/plain": [
       "            purpose_category                                 purpose\n",
       "0     операции с автомобилем                 приобретение автомобиля\n",
       "1     операции с автомобилем                   на покупку автомобиля\n",
       "2     операции с автомобилем                    сделка с автомобилем\n",
       "3     операции с автомобилем                         свой автомобиль\n",
       "4     операции с автомобилем                              автомобиль\n",
       "5     операции с автомобилем        сделка с подержанным автомобилем\n",
       "6     операции с автомобилем                              автомобили\n",
       "7     операции с автомобилем      на покупку подержанного автомобиля\n",
       "8     операции с автомобилем            на покупку своего автомобиля\n",
       "9   операции с недвижимостью                           покупка жилья\n",
       "10  операции с недвижимостью                 покупка жилья для сдачи\n",
       "11  операции с недвижимостью                операции с недвижимостью\n",
       "12  операции с недвижимостью                    покупка своего жилья\n",
       "13  операции с недвижимостью         операции со своей недвижимостью\n",
       "14  операции с недвижимостью                            ремонт жилью\n",
       "15  операции с недвижимостью        строительство жилой недвижимости\n",
       "16  операции с недвижимостью                                   жилье\n",
       "17  операции с недвижимостью              строительство недвижимости\n",
       "18  операции с недвижимостью                       операции с жильем\n",
       "19  операции с недвижимостью   операции с коммерческой недвижимостью\n",
       "20  операции с недвижимостью                    покупка недвижимости\n",
       "21  операции с недвижимостью       покупка коммерческой недвижимости\n",
       "22  операции с недвижимостью                 покупка жилья для семьи\n",
       "23  операции с недвижимостью              покупка жилой недвижимости\n",
       "24  операции с недвижимостью  строительство собственной недвижимости\n",
       "25  операции с недвижимостью                            недвижимость\n",
       "26     получение образования                   получение образования\n",
       "27     получение образования   получение дополнительного образования\n",
       "28     получение образования           получение высшего образования\n",
       "29     получение образования                             образование\n",
       "30     получение образования                  профильное образование\n",
       "31     получение образования                      высшее образование\n",
       "32     получение образования              дополнительное образование\n",
       "33     получение образования                   заняться образованием\n",
       "34     получение образования            заняться высшим образованием\n",
       "35        проведение свадьбы                                 свадьба\n",
       "36        проведение свадьбы                   на проведение свадьбы\n",
       "37        проведение свадьбы                         сыграть свадьбу"
      ]
     },
     "execution_count": 76,
     "metadata": {},
     "output_type": "execute_result"
    }
   ],
   "source": [
    "# Создаем справочник под цель кредита, удалим дубликаты, сбросим индексы и отсортируем по категории\n",
    "purpose_dictionary = \\\n",
    "data[['purpose_category','purpose']].drop_duplicates().sort_values(by='purpose_category').reset_index(drop=True)\n",
    "\n",
    "# Посмотрим, что получилось\n",
    "purpose_dictionary"
   ]
  },
  {
   "cell_type": "code",
   "execution_count": 77,
   "id": "3c8954e8",
   "metadata": {},
   "outputs": [
    {
     "data": {
      "text/html": [
       "<div>\n",
       "<style scoped>\n",
       "    .dataframe tbody tr th:only-of-type {\n",
       "        vertical-align: middle;\n",
       "    }\n",
       "\n",
       "    .dataframe tbody tr th {\n",
       "        vertical-align: top;\n",
       "    }\n",
       "\n",
       "    .dataframe thead th {\n",
       "        text-align: right;\n",
       "    }\n",
       "</style>\n",
       "<table border=\"1\" class=\"dataframe\">\n",
       "  <thead>\n",
       "    <tr style=\"text-align: right;\">\n",
       "      <th></th>\n",
       "      <th>children</th>\n",
       "      <th>days_employed</th>\n",
       "      <th>dob_years</th>\n",
       "      <th>education</th>\n",
       "      <th>education_id</th>\n",
       "      <th>family_status</th>\n",
       "      <th>family_status_id</th>\n",
       "      <th>gender</th>\n",
       "      <th>income_type</th>\n",
       "      <th>debt</th>\n",
       "      <th>total_income</th>\n",
       "      <th>total_income_category</th>\n",
       "      <th>purpose_category</th>\n",
       "    </tr>\n",
       "  </thead>\n",
       "  <tbody>\n",
       "    <tr>\n",
       "      <th>0</th>\n",
       "      <td>1</td>\n",
       "      <td>8437.673028</td>\n",
       "      <td>42</td>\n",
       "      <td>высшее</td>\n",
       "      <td>0</td>\n",
       "      <td>женат / замужем</td>\n",
       "      <td>0</td>\n",
       "      <td>F</td>\n",
       "      <td>сотрудник</td>\n",
       "      <td>0</td>\n",
       "      <td>253875</td>\n",
       "      <td>B</td>\n",
       "      <td>операции с недвижимостью</td>\n",
       "    </tr>\n",
       "    <tr>\n",
       "      <th>1</th>\n",
       "      <td>1</td>\n",
       "      <td>4024.803754</td>\n",
       "      <td>36</td>\n",
       "      <td>среднее</td>\n",
       "      <td>1</td>\n",
       "      <td>женат / замужем</td>\n",
       "      <td>0</td>\n",
       "      <td>F</td>\n",
       "      <td>сотрудник</td>\n",
       "      <td>0</td>\n",
       "      <td>112080</td>\n",
       "      <td>C</td>\n",
       "      <td>операции с автомобилем</td>\n",
       "    </tr>\n",
       "    <tr>\n",
       "      <th>2</th>\n",
       "      <td>0</td>\n",
       "      <td>5623.422610</td>\n",
       "      <td>33</td>\n",
       "      <td>среднее</td>\n",
       "      <td>1</td>\n",
       "      <td>женат / замужем</td>\n",
       "      <td>0</td>\n",
       "      <td>M</td>\n",
       "      <td>сотрудник</td>\n",
       "      <td>0</td>\n",
       "      <td>145885</td>\n",
       "      <td>C</td>\n",
       "      <td>операции с недвижимостью</td>\n",
       "    </tr>\n",
       "    <tr>\n",
       "      <th>3</th>\n",
       "      <td>3</td>\n",
       "      <td>4124.747207</td>\n",
       "      <td>32</td>\n",
       "      <td>среднее</td>\n",
       "      <td>1</td>\n",
       "      <td>женат / замужем</td>\n",
       "      <td>0</td>\n",
       "      <td>M</td>\n",
       "      <td>сотрудник</td>\n",
       "      <td>0</td>\n",
       "      <td>267628</td>\n",
       "      <td>B</td>\n",
       "      <td>получение образования</td>\n",
       "    </tr>\n",
       "    <tr>\n",
       "      <th>4</th>\n",
       "      <td>0</td>\n",
       "      <td>340266.072047</td>\n",
       "      <td>53</td>\n",
       "      <td>среднее</td>\n",
       "      <td>1</td>\n",
       "      <td>гражданский брак</td>\n",
       "      <td>1</td>\n",
       "      <td>F</td>\n",
       "      <td>пенсионер</td>\n",
       "      <td>0</td>\n",
       "      <td>158616</td>\n",
       "      <td>C</td>\n",
       "      <td>проведение свадьбы</td>\n",
       "    </tr>\n",
       "  </tbody>\n",
       "</table>\n",
       "</div>"
      ],
      "text/plain": [
       "   children  days_employed  dob_years education  education_id  \\\n",
       "0         1    8437.673028         42    высшее             0   \n",
       "1         1    4024.803754         36   среднее             1   \n",
       "2         0    5623.422610         33   среднее             1   \n",
       "3         3    4124.747207         32   среднее             1   \n",
       "4         0  340266.072047         53   среднее             1   \n",
       "\n",
       "      family_status  family_status_id gender income_type  debt  total_income  \\\n",
       "0   женат / замужем                 0      F   сотрудник     0        253875   \n",
       "1   женат / замужем                 0      F   сотрудник     0        112080   \n",
       "2   женат / замужем                 0      M   сотрудник     0        145885   \n",
       "3   женат / замужем                 0      M   сотрудник     0        267628   \n",
       "4  гражданский брак                 1      F   пенсионер     0        158616   \n",
       "\n",
       "  total_income_category          purpose_category  \n",
       "0                     B  операции с недвижимостью  \n",
       "1                     C    операции с автомобилем  \n",
       "2                     C  операции с недвижимостью  \n",
       "3                     B     получение образования  \n",
       "4                     C        проведение свадьбы  "
      ]
     },
     "execution_count": 77,
     "metadata": {},
     "output_type": "execute_result"
    }
   ],
   "source": [
    "# Уберем лишний столбец с основного датафрейма\n",
    "data = data.drop('purpose', axis=1)\n",
    "\n",
    "# Посмотрим, что получилось\n",
    "data.head()"
   ]
  },
  {
   "cell_type": "markdown",
   "id": "fd4962aa",
   "metadata": {},
   "source": [
    "Теперь датафрейм не перегружен лишним столбцом"
   ]
  },
  {
   "cell_type": "markdown",
   "id": "9e815d97",
   "metadata": {
    "deletable": false,
    "editable": false,
    "id": "c5d66278"
   },
   "source": [
    "#### 3.1 Есть ли зависимость между количеством детей и возвратом кредита в срок?"
   ]
  },
  {
   "cell_type": "markdown",
   "id": "272e7128",
   "metadata": {},
   "source": [
    "3.1.1 Столбец `children` уже был проверен на предыдущих этапах. Проверим нет ли ошибок в столбце `debt`"
   ]
  },
  {
   "cell_type": "code",
   "execution_count": 78,
   "id": "616dda79",
   "metadata": {},
   "outputs": [
    {
     "name": "stdout",
     "output_type": "stream",
     "text": [
      "[0 1]\n",
      "0\n"
     ]
    }
   ],
   "source": [
    "print(data['debt'].unique())\n",
    "print(data['debt'].isna().sum())"
   ]
  },
  {
   "cell_type": "markdown",
   "id": "95a9f381",
   "metadata": {},
   "source": [
    "Столбец содержит корректные значения. Пропусков также нет"
   ]
  },
  {
   "cell_type": "markdown",
   "id": "41fa0582",
   "metadata": {},
   "source": [
    "3.1.2 Проверим, сколько всего клиентов по количеству детей"
   ]
  },
  {
   "cell_type": "code",
   "execution_count": 79,
   "id": "ba121d64",
   "metadata": {},
   "outputs": [
    {
     "data": {
      "text/plain": [
       "0    14091\n",
       "1     4808\n",
       "2     2052\n",
       "3      330\n",
       "4       41\n",
       "5        9\n",
       "Name: children, dtype: int64"
      ]
     },
     "execution_count": 79,
     "metadata": {},
     "output_type": "execute_result"
    }
   ],
   "source": [
    "child_group_all = data['children'].value_counts()\n",
    "child_group_all"
   ]
  },
  {
   "cell_type": "markdown",
   "id": "0d0d424a",
   "metadata": {},
   "source": [
    "Видим, что чем больше детей, тем клиенты менее охотно берут кредиты в общем"
   ]
  },
  {
   "cell_type": "markdown",
   "id": "a393d948",
   "metadata": {},
   "source": [
    "3.1.3 Проверим отношение задолженности ко всем взятым кредитам в зависимости от количества детей"
   ]
  },
  {
   "cell_type": "code",
   "execution_count": 80,
   "id": "b8c16201",
   "metadata": {
    "scrolled": true
   },
   "outputs": [
    {
     "name": "stdout",
     "output_type": "stream",
     "text": [
      "Процентное отношение задолженности ко всем взятым кредитам в зависимости от количества детей\n"
     ]
    },
    {
     "data": {
      "text/plain": [
       "children\n",
       "0    7.543822\n",
       "1    9.234609\n",
       "2    9.454191\n",
       "3    8.181818\n",
       "4    9.756098\n",
       "5    0.000000\n",
       "dtype: float64"
      ]
     },
     "execution_count": 80,
     "metadata": {},
     "output_type": "execute_result"
    }
   ],
   "source": [
    "# Получим кол-во задолженности по каждой категории\n",
    "child_debt = data.groupby('children')['debt'].sum()\n",
    "\n",
    "# Получим отношение\n",
    "print('Процентное отношение задолженности ко всем взятым кредитам в зависимости от количества детей')\n",
    "child_ratio = child_debt / child_group_all * 100\n",
    "child_ratio"
   ]
  },
  {
   "cell_type": "markdown",
   "id": "c7455361",
   "metadata": {
    "deletable": false,
    "id": "2cacfc4a"
   },
   "source": [
    "Для наглядности отсортируем получившиеся данные"
   ]
  },
  {
   "cell_type": "code",
   "execution_count": 81,
   "id": "dc905baa",
   "metadata": {},
   "outputs": [
    {
     "data": {
      "text/plain": [
       "children\n",
       "5    0.000000\n",
       "0    7.543822\n",
       "3    8.181818\n",
       "1    9.234609\n",
       "2    9.454191\n",
       "4    9.756098\n",
       "dtype: float64"
      ]
     },
     "execution_count": 81,
     "metadata": {},
     "output_type": "execute_result"
    }
   ],
   "source": [
    "child_ratio.sort_values()"
   ]
  },
  {
   "cell_type": "code",
   "execution_count": 82,
   "id": "1ebf5ee9",
   "metadata": {},
   "outputs": [
    {
     "data": {
      "text/html": [
       "<div>\n",
       "<style scoped>\n",
       "    .dataframe tbody tr th:only-of-type {\n",
       "        vertical-align: middle;\n",
       "    }\n",
       "\n",
       "    .dataframe tbody tr th {\n",
       "        vertical-align: top;\n",
       "    }\n",
       "\n",
       "    .dataframe thead th {\n",
       "        text-align: right;\n",
       "    }\n",
       "</style>\n",
       "<table border=\"1\" class=\"dataframe\">\n",
       "  <thead>\n",
       "    <tr style=\"text-align: right;\">\n",
       "      <th></th>\n",
       "      <th>debt</th>\n",
       "      <th>ratio</th>\n",
       "    </tr>\n",
       "    <tr>\n",
       "      <th>children</th>\n",
       "      <th></th>\n",
       "      <th></th>\n",
       "    </tr>\n",
       "  </thead>\n",
       "  <tbody>\n",
       "    <tr>\n",
       "      <th>0</th>\n",
       "      <td>14091</td>\n",
       "      <td>7.543822</td>\n",
       "    </tr>\n",
       "    <tr>\n",
       "      <th>1</th>\n",
       "      <td>4808</td>\n",
       "      <td>9.234609</td>\n",
       "    </tr>\n",
       "    <tr>\n",
       "      <th>2</th>\n",
       "      <td>2052</td>\n",
       "      <td>9.454191</td>\n",
       "    </tr>\n",
       "    <tr>\n",
       "      <th>3</th>\n",
       "      <td>330</td>\n",
       "      <td>8.181818</td>\n",
       "    </tr>\n",
       "    <tr>\n",
       "      <th>4</th>\n",
       "      <td>41</td>\n",
       "      <td>9.756098</td>\n",
       "    </tr>\n",
       "    <tr>\n",
       "      <th>5</th>\n",
       "      <td>9</td>\n",
       "      <td>0.000000</td>\n",
       "    </tr>\n",
       "  </tbody>\n",
       "</table>\n",
       "</div>"
      ],
      "text/plain": [
       "           debt     ratio\n",
       "children                 \n",
       "0         14091  7.543822\n",
       "1          4808  9.234609\n",
       "2          2052  9.454191\n",
       "3           330  8.181818\n",
       "4            41  9.756098\n",
       "5             9  0.000000"
      ]
     },
     "execution_count": 82,
     "metadata": {},
     "output_type": "execute_result"
    }
   ],
   "source": [
    "# Создаим сводную таблицу\n",
    "pivot_child = data.pivot_table(index='children', values='debt', aggfunc={'debt': 'count'})\n",
    "pivot_child['ratio'] = child_ratio\n",
    "pivot_child"
   ]
  },
  {
   "cell_type": "markdown",
   "id": "580f6029",
   "metadata": {
    "deletable": false,
    "id": "3a6b99ec"
   },
   "source": [
    "**Вывод:** По результатам исследования можно сделать следующие выводы:<br>\n",
    "1. Зависимость между количеством детей и возвратом кредита в срок - Есть<br>\n",
    "2. Основным фактром является не количество детей, а их наличие. Так, например у клиентов без детей процентное соотношение задолженности меньше почти на 2% по сравнению с теми, у кого один ребенок.<br> Далее разница в процентах не так велика\n",
    "3. 0% задолженности по клиентам с 5 детьми может говорить о недостатке информации о подобных клиентах. Так как во всем датафрейме всего 9 записей с этой категорией. При построении общего вывода информация по данной категории не учитывалась.<br>\n",
    "4. Также можно сделать вывод о том, что клиенты без детей охотнее берут кредиты, чем клиенты с детьми. Так как в датафррейме клиентов без детей в 2 раза больше, чем остальных вместе взятых. Многодетные семьи менее охотно берут кредиты"
   ]
  },
  {
   "cell_type": "markdown",
   "id": "a59a1fee",
   "metadata": {
    "deletable": false,
    "editable": false,
    "id": "97be82ca"
   },
   "source": [
    "#### 3.2 Есть ли зависимость между семейным положением и возвратом кредита в срок?"
   ]
  },
  {
   "cell_type": "markdown",
   "id": "f4d68e89",
   "metadata": {},
   "source": [
    "3.2.1 Проверим данные на коректност в столбце `family_status`"
   ]
  },
  {
   "cell_type": "code",
   "execution_count": 83,
   "id": "ba0c601a",
   "metadata": {
    "deletable": false,
    "id": "dc3f7ee8"
   },
   "outputs": [
    {
     "data": {
      "text/plain": [
       "array(['женат / замужем', 'гражданский брак', 'вдовец / вдова',\n",
       "       'в разводе', 'Не женат / не замужем'], dtype=object)"
      ]
     },
     "execution_count": 83,
     "metadata": {},
     "output_type": "execute_result"
    }
   ],
   "source": [
    "family_status_uniq = data['family_status'].unique()\n",
    "family_status_uniq"
   ]
  },
  {
   "cell_type": "markdown",
   "id": "ddc4ac50",
   "metadata": {},
   "source": [
    "Неявных дубликатов нет. Можно двигаться дальше"
   ]
  },
  {
   "cell_type": "markdown",
   "id": "aff1cb11",
   "metadata": {},
   "source": [
    "3.2.2 Проверим сколько всего клиентов по каждому семейному положению"
   ]
  },
  {
   "cell_type": "code",
   "execution_count": 84,
   "id": "deb06192",
   "metadata": {},
   "outputs": [
    {
     "data": {
      "text/plain": [
       "женат / замужем          12261\n",
       "гражданский брак          4134\n",
       "Не женат / не замужем     2796\n",
       "в разводе                 1189\n",
       "вдовец / вдова             951\n",
       "Name: family_status, dtype: int64"
      ]
     },
     "execution_count": 84,
     "metadata": {},
     "output_type": "execute_result"
    }
   ],
   "source": [
    "family_group_all = data['family_status'].value_counts()\n",
    "family_group_all"
   ]
  },
  {
   "cell_type": "markdown",
   "id": "1c15cb6b",
   "metadata": {},
   "source": [
    "Больше всего берут кредиты пары/семьи"
   ]
  },
  {
   "cell_type": "markdown",
   "id": "a27c8686",
   "metadata": {},
   "source": [
    "3.2.3 Проверим отношение задолженности ко всем взятым кредитам в зависимости от семейного положения"
   ]
  },
  {
   "cell_type": "code",
   "execution_count": 85,
   "id": "1d0603b0",
   "metadata": {},
   "outputs": [
    {
     "name": "stdout",
     "output_type": "stream",
     "text": [
      "Процентное отношение задолженности ко всем взятым кредитам в зависимости от семейного положения\n"
     ]
    },
    {
     "data": {
      "text/plain": [
       "Не женат / не замужем    9.763948\n",
       "в разводе                7.064760\n",
       "вдовец / вдова           6.624606\n",
       "гражданский брак         9.313014\n",
       "женат / замужем          7.560558\n",
       "dtype: float64"
      ]
     },
     "execution_count": 85,
     "metadata": {},
     "output_type": "execute_result"
    }
   ],
   "source": [
    "# Получим кол-во задолженности по каждой категории\n",
    "family_debt = data.groupby('family_status')['debt'].sum()\n",
    "\n",
    "# Получим отношение\n",
    "print('Процентное отношение задолженности ко всем взятым кредитам в зависимости от семейного положения')\n",
    "family_ratio = family_debt / family_group_all * 100\n",
    "family_ratio"
   ]
  },
  {
   "cell_type": "markdown",
   "id": "d8f9c411",
   "metadata": {},
   "source": [
    "Для наглядности отсортируем данные"
   ]
  },
  {
   "cell_type": "code",
   "execution_count": 86,
   "id": "13849f24",
   "metadata": {},
   "outputs": [
    {
     "data": {
      "text/plain": [
       "вдовец / вдова           6.624606\n",
       "в разводе                7.064760\n",
       "женат / замужем          7.560558\n",
       "гражданский брак         9.313014\n",
       "Не женат / не замужем    9.763948\n",
       "dtype: float64"
      ]
     },
     "execution_count": 86,
     "metadata": {},
     "output_type": "execute_result"
    }
   ],
   "source": [
    "family_ratio.sort_values()"
   ]
  },
  {
   "cell_type": "markdown",
   "id": "c842474b",
   "metadata": {},
   "source": [
    "3.2.3 Еще можно разделить категории на \"одиноких\" и \"пар\". Предположим, что семейное положение \"женат/замужем\" и \"гражданский брак\" - это пары. А \"вдовец/вдова\", \"в разводе\", \"не женат/не замужем\" - одинокие"
   ]
  },
  {
   "cell_type": "code",
   "execution_count": 87,
   "id": "34cc5096",
   "metadata": {},
   "outputs": [],
   "source": [
    "# Напишем функцию которая разделит имеющиеся категории на доп. категории. 1 - Одинокий, 0 - Пара\n",
    "def family_type_lonely(row):\n",
    "    try:\n",
    "        if row == 'вдовец / вдова' or row == 'в разводе' or row == 'Не женат / не замужем':\n",
    "            return 1\n",
    "        elif row == 'женат / замужем' or row == 'гражданский брак':\n",
    "            return 0\n",
    "    except:\n",
    "        return None\n",
    "    \n",
    "# Добавим стообец с новой категорией в датафрейм\n",
    "data['lonely'] = data['family_status'].apply(family_type_lonely)"
   ]
  },
  {
   "cell_type": "markdown",
   "id": "1c928251",
   "metadata": {},
   "source": [
    "3.2.4 Проверим отношение задолженности ко всем взятым кредитам в зависимости от признака \"Одинокий / Пара\""
   ]
  },
  {
   "cell_type": "code",
   "execution_count": 88,
   "id": "c127f19d",
   "metadata": {},
   "outputs": [
    {
     "name": "stdout",
     "output_type": "stream",
     "text": [
      "Процентное отношение задолженности ко всем взятым кредитам в зависимости от признака \"Одинокий или Пара\"\n"
     ]
    },
    {
     "data": {
      "text/plain": [
       "lonely\n",
       "0    8.002440\n",
       "1    8.508914\n",
       "dtype: float64"
      ]
     },
     "execution_count": 88,
     "metadata": {},
     "output_type": "execute_result"
    }
   ],
   "source": [
    "# Получим отношение\n",
    "print('Процентное отношение задолженности ко всем взятым кредитам в зависимости от признака \\\"Одинокий или Пара\\\"')\n",
    "lonely_ratio = data.groupby('lonely')['debt'].sum() / data['lonely'].value_counts() * 100\n",
    "lonely_ratio"
   ]
  },
  {
   "cell_type": "code",
   "execution_count": 89,
   "id": "7903e650",
   "metadata": {},
   "outputs": [
    {
     "data": {
      "text/html": [
       "<div>\n",
       "<style scoped>\n",
       "    .dataframe tbody tr th:only-of-type {\n",
       "        vertical-align: middle;\n",
       "    }\n",
       "\n",
       "    .dataframe tbody tr th {\n",
       "        vertical-align: top;\n",
       "    }\n",
       "\n",
       "    .dataframe thead th {\n",
       "        text-align: right;\n",
       "    }\n",
       "</style>\n",
       "<table border=\"1\" class=\"dataframe\">\n",
       "  <thead>\n",
       "    <tr style=\"text-align: right;\">\n",
       "      <th></th>\n",
       "      <th>debt</th>\n",
       "      <th>ratio</th>\n",
       "    </tr>\n",
       "    <tr>\n",
       "      <th>family_status</th>\n",
       "      <th></th>\n",
       "      <th></th>\n",
       "    </tr>\n",
       "  </thead>\n",
       "  <tbody>\n",
       "    <tr>\n",
       "      <th>вдовец / вдова</th>\n",
       "      <td>951</td>\n",
       "      <td>6.624606</td>\n",
       "    </tr>\n",
       "    <tr>\n",
       "      <th>в разводе</th>\n",
       "      <td>1189</td>\n",
       "      <td>7.064760</td>\n",
       "    </tr>\n",
       "    <tr>\n",
       "      <th>женат / замужем</th>\n",
       "      <td>12261</td>\n",
       "      <td>7.560558</td>\n",
       "    </tr>\n",
       "    <tr>\n",
       "      <th>гражданский брак</th>\n",
       "      <td>4134</td>\n",
       "      <td>9.313014</td>\n",
       "    </tr>\n",
       "    <tr>\n",
       "      <th>Не женат / не замужем</th>\n",
       "      <td>2796</td>\n",
       "      <td>9.763948</td>\n",
       "    </tr>\n",
       "  </tbody>\n",
       "</table>\n",
       "</div>"
      ],
      "text/plain": [
       "                        debt     ratio\n",
       "family_status                         \n",
       "вдовец / вдова           951  6.624606\n",
       "в разводе               1189  7.064760\n",
       "женат / замужем        12261  7.560558\n",
       "гражданский брак        4134  9.313014\n",
       "Не женат / не замужем   2796  9.763948"
      ]
     },
     "execution_count": 89,
     "metadata": {},
     "output_type": "execute_result"
    }
   ],
   "source": [
    "# Создаим сводную таблицу\n",
    "pivot_family = data.pivot_table(index='family_status', values='debt', aggfunc={'debt': 'count'})\n",
    "pivot_family['ratio'] = family_ratio\n",
    "pivot_family.sort_values(by='ratio')"
   ]
  },
  {
   "cell_type": "markdown",
   "id": "1585e5bf",
   "metadata": {
    "deletable": false,
    "id": "1cef7837"
   },
   "source": [
    "**Вывод:** По результатам исследования можно сделать следующие выводы:\n",
    "1. Зависимость между семейным положением и возвратом кредита в срок - Есть<br>\n",
    "2. Разницы между одинокими и парами практически нет.<br>\n",
    "    Среди пар лучше возвращают кредиты клиенты в официальном браке, нежели в гражданском.<br>\n",
    "    Среди одиноких хуже всего возвращают кредиты не женатые/не замужние "
   ]
  },
  {
   "cell_type": "markdown",
   "id": "f84213ac",
   "metadata": {
    "deletable": false,
    "editable": false,
    "id": "1e8b2fca"
   },
   "source": [
    "#### 3.3 Есть ли зависимость между уровнем дохода и возвратом кредита в срок?"
   ]
  },
  {
   "cell_type": "markdown",
   "id": "bbb1dacc",
   "metadata": {},
   "source": [
    "3.3.1 На предыдущих этапах уже была выполнена категоризация по столбцам `total_income` и `total_income_category`.<br>\n",
    "Поэтому сразу приступим к группировке по доходу и количеству взятых кредитов"
   ]
  },
  {
   "cell_type": "markdown",
   "id": "36da2839",
   "metadata": {},
   "source": [
    "Напоминание по категоризации дохода:<br>\n",
    "от 0 до 30000 - E<br>\n",
    "от 30001 до 50000 - D<br>\n",
    "от 50001 до 200000 - C<br>\n",
    "от 200001 до 1000000 - B<br>\n",
    "от 1000001 - А"
   ]
  },
  {
   "cell_type": "code",
   "execution_count": 90,
   "id": "6be1a838",
   "metadata": {
    "deletable": false,
    "id": "cd7e3720"
   },
   "outputs": [
    {
     "data": {
      "text/plain": [
       "C    15921\n",
       "B     5014\n",
       "D      349\n",
       "A       25\n",
       "E       22\n",
       "Name: total_income_category, dtype: int64"
      ]
     },
     "execution_count": 90,
     "metadata": {},
     "output_type": "execute_result"
    }
   ],
   "source": [
    "# Получим количество выданных кредитов по каждому уровню дохода.\n",
    "income_group_all = data['total_income_category'].value_counts()\n",
    "income_group_all"
   ]
  },
  {
   "cell_type": "markdown",
   "id": "5b4730e5",
   "metadata": {},
   "source": [
    "3.3.2 Проверим отношение задолженности ко всем взятым кредитам в зависимости от уровня дохода"
   ]
  },
  {
   "cell_type": "code",
   "execution_count": 91,
   "id": "dcefd3c5",
   "metadata": {},
   "outputs": [
    {
     "name": "stdout",
     "output_type": "stream",
     "text": [
      "отношение задолженности ко всем взятым кредитам в зависимости от уровня дохода\n"
     ]
    },
    {
     "data": {
      "text/plain": [
       "A    8.000000\n",
       "B    7.060231\n",
       "C    8.498210\n",
       "D    6.017192\n",
       "E    9.090909\n",
       "dtype: float64"
      ]
     },
     "execution_count": 91,
     "metadata": {},
     "output_type": "execute_result"
    }
   ],
   "source": [
    "print('отношение задолженности ко всем взятым кредитам в зависимости от уровня дохода')\n",
    "income_ratio = data.groupby('total_income_category')['debt'].sum() / income_group_all * 100\n",
    "income_ratio"
   ]
  },
  {
   "cell_type": "markdown",
   "id": "0bc7589f",
   "metadata": {},
   "source": [
    "Отсортируем для наглядности"
   ]
  },
  {
   "cell_type": "code",
   "execution_count": 92,
   "id": "decbebf5",
   "metadata": {},
   "outputs": [
    {
     "data": {
      "text/plain": [
       "D    6.017192\n",
       "B    7.060231\n",
       "A    8.000000\n",
       "C    8.498210\n",
       "E    9.090909\n",
       "dtype: float64"
      ]
     },
     "execution_count": 92,
     "metadata": {},
     "output_type": "execute_result"
    }
   ],
   "source": [
    "income_ratio.sort_values()"
   ]
  },
  {
   "cell_type": "code",
   "execution_count": 93,
   "id": "15b102ea",
   "metadata": {},
   "outputs": [
    {
     "data": {
      "text/html": [
       "<div>\n",
       "<style scoped>\n",
       "    .dataframe tbody tr th:only-of-type {\n",
       "        vertical-align: middle;\n",
       "    }\n",
       "\n",
       "    .dataframe tbody tr th {\n",
       "        vertical-align: top;\n",
       "    }\n",
       "\n",
       "    .dataframe thead th {\n",
       "        text-align: right;\n",
       "    }\n",
       "</style>\n",
       "<table border=\"1\" class=\"dataframe\">\n",
       "  <thead>\n",
       "    <tr style=\"text-align: right;\">\n",
       "      <th></th>\n",
       "      <th>debt</th>\n",
       "      <th>ratio</th>\n",
       "    </tr>\n",
       "    <tr>\n",
       "      <th>total_income_category</th>\n",
       "      <th></th>\n",
       "      <th></th>\n",
       "    </tr>\n",
       "  </thead>\n",
       "  <tbody>\n",
       "    <tr>\n",
       "      <th>A</th>\n",
       "      <td>25</td>\n",
       "      <td>8.000000</td>\n",
       "    </tr>\n",
       "    <tr>\n",
       "      <th>B</th>\n",
       "      <td>5014</td>\n",
       "      <td>7.060231</td>\n",
       "    </tr>\n",
       "    <tr>\n",
       "      <th>C</th>\n",
       "      <td>15921</td>\n",
       "      <td>8.498210</td>\n",
       "    </tr>\n",
       "    <tr>\n",
       "      <th>D</th>\n",
       "      <td>349</td>\n",
       "      <td>6.017192</td>\n",
       "    </tr>\n",
       "    <tr>\n",
       "      <th>E</th>\n",
       "      <td>22</td>\n",
       "      <td>9.090909</td>\n",
       "    </tr>\n",
       "  </tbody>\n",
       "</table>\n",
       "</div>"
      ],
      "text/plain": [
       "                        debt     ratio\n",
       "total_income_category                 \n",
       "A                         25  8.000000\n",
       "B                       5014  7.060231\n",
       "C                      15921  8.498210\n",
       "D                        349  6.017192\n",
       "E                         22  9.090909"
      ]
     },
     "execution_count": 93,
     "metadata": {},
     "output_type": "execute_result"
    }
   ],
   "source": [
    "# Создаим сводную таблицу\n",
    "pivot_income = data.pivot_table(index='total_income_category', values='debt', aggfunc={'debt': 'count'})\n",
    "pivot_income['ratio'] = income_ratio\n",
    "pivot_income"
   ]
  },
  {
   "cell_type": "markdown",
   "id": "ff35f003",
   "metadata": {
    "deletable": false,
    "id": "e8593def"
   },
   "source": [
    "**Вывод:** По результатам исследования можно сделать следующие выводы:\n",
    "1. Зависимость между уровнем дохода и возвратом кредита в срок - Есть.<br>\n",
    "2. Чем выше доход, тем меньше задолженности. У группы с достатком выше среднего (B) на 1.5% меньше задолженности, чем у группы со средним доходом (C)\n",
    "3. Клиенты максимальной группы дохода (А) и группы ниже среднего (D, E) редко берут кредиты.<br>\n",
    "4. Больше всего кредитов берут клиенты со средней группы (C) и выше среднего (B).<br>"
   ]
  },
  {
   "cell_type": "code",
   "execution_count": 94,
   "id": "d7cb5d22",
   "metadata": {},
   "outputs": [
    {
     "data": {
      "text/html": [
       "<div>\n",
       "<style scoped>\n",
       "    .dataframe tbody tr th:only-of-type {\n",
       "        vertical-align: middle;\n",
       "    }\n",
       "\n",
       "    .dataframe tbody tr th {\n",
       "        vertical-align: top;\n",
       "    }\n",
       "\n",
       "    .dataframe thead th {\n",
       "        text-align: right;\n",
       "    }\n",
       "</style>\n",
       "<table border=\"1\" class=\"dataframe\">\n",
       "  <thead>\n",
       "    <tr style=\"text-align: right;\">\n",
       "      <th></th>\n",
       "      <th>children</th>\n",
       "      <th>days_employed</th>\n",
       "      <th>dob_years</th>\n",
       "      <th>education</th>\n",
       "      <th>education_id</th>\n",
       "      <th>family_status</th>\n",
       "      <th>family_status_id</th>\n",
       "      <th>gender</th>\n",
       "      <th>income_type</th>\n",
       "      <th>debt</th>\n",
       "      <th>total_income</th>\n",
       "      <th>total_income_category</th>\n",
       "      <th>purpose_category</th>\n",
       "      <th>lonely</th>\n",
       "    </tr>\n",
       "  </thead>\n",
       "  <tbody>\n",
       "    <tr>\n",
       "      <th>0</th>\n",
       "      <td>1</td>\n",
       "      <td>8437.673028</td>\n",
       "      <td>42</td>\n",
       "      <td>высшее</td>\n",
       "      <td>0</td>\n",
       "      <td>женат / замужем</td>\n",
       "      <td>0</td>\n",
       "      <td>F</td>\n",
       "      <td>сотрудник</td>\n",
       "      <td>0</td>\n",
       "      <td>253875</td>\n",
       "      <td>(195842.0, 2265604.0]</td>\n",
       "      <td>операции с недвижимостью</td>\n",
       "      <td>0</td>\n",
       "    </tr>\n",
       "    <tr>\n",
       "      <th>1</th>\n",
       "      <td>1</td>\n",
       "      <td>4024.803754</td>\n",
       "      <td>36</td>\n",
       "      <td>среднее</td>\n",
       "      <td>1</td>\n",
       "      <td>женат / замужем</td>\n",
       "      <td>0</td>\n",
       "      <td>F</td>\n",
       "      <td>сотрудник</td>\n",
       "      <td>0</td>\n",
       "      <td>112080</td>\n",
       "      <td>(107507.0, 142594.0]</td>\n",
       "      <td>операции с автомобилем</td>\n",
       "      <td>0</td>\n",
       "    </tr>\n",
       "    <tr>\n",
       "      <th>2</th>\n",
       "      <td>0</td>\n",
       "      <td>5623.422610</td>\n",
       "      <td>33</td>\n",
       "      <td>среднее</td>\n",
       "      <td>1</td>\n",
       "      <td>женат / замужем</td>\n",
       "      <td>0</td>\n",
       "      <td>M</td>\n",
       "      <td>сотрудник</td>\n",
       "      <td>0</td>\n",
       "      <td>145885</td>\n",
       "      <td>(142594.0, 195842.0]</td>\n",
       "      <td>операции с недвижимостью</td>\n",
       "      <td>0</td>\n",
       "    </tr>\n",
       "    <tr>\n",
       "      <th>3</th>\n",
       "      <td>3</td>\n",
       "      <td>4124.747207</td>\n",
       "      <td>32</td>\n",
       "      <td>среднее</td>\n",
       "      <td>1</td>\n",
       "      <td>женат / замужем</td>\n",
       "      <td>0</td>\n",
       "      <td>M</td>\n",
       "      <td>сотрудник</td>\n",
       "      <td>0</td>\n",
       "      <td>267628</td>\n",
       "      <td>(195842.0, 2265604.0]</td>\n",
       "      <td>получение образования</td>\n",
       "      <td>0</td>\n",
       "    </tr>\n",
       "    <tr>\n",
       "      <th>4</th>\n",
       "      <td>0</td>\n",
       "      <td>340266.072047</td>\n",
       "      <td>53</td>\n",
       "      <td>среднее</td>\n",
       "      <td>1</td>\n",
       "      <td>гражданский брак</td>\n",
       "      <td>1</td>\n",
       "      <td>F</td>\n",
       "      <td>пенсионер</td>\n",
       "      <td>0</td>\n",
       "      <td>158616</td>\n",
       "      <td>(142594.0, 195842.0]</td>\n",
       "      <td>проведение свадьбы</td>\n",
       "      <td>0</td>\n",
       "    </tr>\n",
       "  </tbody>\n",
       "</table>\n",
       "</div>"
      ],
      "text/plain": [
       "   children  days_employed  dob_years education  education_id  \\\n",
       "0         1    8437.673028         42    высшее             0   \n",
       "1         1    4024.803754         36   среднее             1   \n",
       "2         0    5623.422610         33   среднее             1   \n",
       "3         3    4124.747207         32   среднее             1   \n",
       "4         0  340266.072047         53   среднее             1   \n",
       "\n",
       "      family_status  family_status_id gender income_type  debt  total_income  \\\n",
       "0   женат / замужем                 0      F   сотрудник     0        253875   \n",
       "1   женат / замужем                 0      F   сотрудник     0        112080   \n",
       "2   женат / замужем                 0      M   сотрудник     0        145885   \n",
       "3   женат / замужем                 0      M   сотрудник     0        267628   \n",
       "4  гражданский брак                 1      F   пенсионер     0        158616   \n",
       "\n",
       "   total_income_category          purpose_category  lonely  \n",
       "0  (195842.0, 2265604.0]  операции с недвижимостью       0  \n",
       "1   (107507.0, 142594.0]    операции с автомобилем       0  \n",
       "2   (142594.0, 195842.0]  операции с недвижимостью       0  \n",
       "3  (195842.0, 2265604.0]     получение образования       0  \n",
       "4   (142594.0, 195842.0]        проведение свадьбы       0  "
      ]
     },
     "execution_count": 94,
     "metadata": {},
     "output_type": "execute_result"
    }
   ],
   "source": [
    "new_data = data\n",
    "new_data['total_income_category'] = pd.qcut(data['total_income'], 4)\n",
    "new_data.head() "
   ]
  },
  {
   "cell_type": "code",
   "execution_count": 95,
   "id": "bb101416",
   "metadata": {},
   "outputs": [
    {
     "data": {
      "text/plain": [
       "(107507.0, 142594.0]     5450\n",
       "(20666.999, 107507.0]    5333\n",
       "(195842.0, 2265604.0]    5332\n",
       "(142594.0, 195842.0]     5216\n",
       "Name: total_income_category, dtype: int64"
      ]
     },
     "execution_count": 95,
     "metadata": {},
     "output_type": "execute_result"
    }
   ],
   "source": [
    "new_data['total_income_category'].value_counts()"
   ]
  },
  {
   "cell_type": "code",
   "execution_count": 96,
   "id": "de17c477",
   "metadata": {
    "scrolled": true
   },
   "outputs": [
    {
     "name": "stdout",
     "output_type": "stream",
     "text": [
      "отношение задолженности ко всем взятым кредитам в зависимости от уровня дохода по новым категориям\n"
     ]
    },
    {
     "data": {
      "text/plain": [
       "(20666.999, 107507.0]    8.006750\n",
       "(107507.0, 142594.0]     8.807339\n",
       "(142594.0, 195842.0]     8.512270\n",
       "(195842.0, 2265604.0]    7.145536\n",
       "dtype: float64"
      ]
     },
     "execution_count": 96,
     "metadata": {},
     "output_type": "execute_result"
    }
   ],
   "source": [
    "print('отношение задолженности ко всем взятым кредитам в зависимости от уровня дохода по новым категориям')\n",
    "new_income_ratio = new_data.groupby('total_income_category')['debt'].sum() / \\\n",
    "new_data['total_income_category'].value_counts() * 100\n",
    "new_income_ratio"
   ]
  },
  {
   "cell_type": "markdown",
   "id": "0e62d9f3",
   "metadata": {
    "deletable": false,
    "editable": false,
    "id": "99ecbd1f"
   },
   "source": [
    "#### 3.4 Как разные цели кредита влияют на его возврат в срок?"
   ]
  },
  {
   "cell_type": "markdown",
   "id": "aef548cb",
   "metadata": {},
   "source": [
    "3.4.1 На предыдущих этапах уже была сделана декомпозиция датафрейма по категории \"Цель кредита\". Сейчас датафрейм имеет удобный для анализа формат"
   ]
  },
  {
   "cell_type": "markdown",
   "id": "7a1d771e",
   "metadata": {},
   "source": [
    "Посмотрим на что клиенты больше всего берут кредитов"
   ]
  },
  {
   "cell_type": "code",
   "execution_count": 97,
   "id": "ad570613",
   "metadata": {},
   "outputs": [
    {
     "data": {
      "text/plain": [
       "операции с недвижимостью    10751\n",
       "операции с автомобилем       4279\n",
       "получение образования        3988\n",
       "проведение свадьбы           2313\n",
       "Name: purpose_category, dtype: int64"
      ]
     },
     "execution_count": 97,
     "metadata": {},
     "output_type": "execute_result"
    }
   ],
   "source": [
    "purpose_group_all = data['purpose_category'].value_counts()\n",
    "purpose_group_all"
   ]
  },
  {
   "cell_type": "markdown",
   "id": "44389b8f",
   "metadata": {
    "deletable": false,
    "id": "2b687290"
   },
   "source": [
    "3.4.1 Проверим отношение задолженности ко всем взятым кредитам в зависимости от цели кредита"
   ]
  },
  {
   "cell_type": "code",
   "execution_count": 98,
   "id": "8998c2f3",
   "metadata": {},
   "outputs": [
    {
     "name": "stdout",
     "output_type": "stream",
     "text": [
      "Процентное отношение задолженности ко всем взятым кредитам в зависимости от цели кредита\n"
     ]
    },
    {
     "data": {
      "text/plain": [
       "операции с автомобилем      9.347978\n",
       "операции с недвижимостью    7.255139\n",
       "получение образования       9.252758\n",
       "проведение свадьбы          7.911803\n",
       "dtype: float64"
      ]
     },
     "execution_count": 98,
     "metadata": {},
     "output_type": "execute_result"
    }
   ],
   "source": [
    "print('Процентное отношение задолженности ко всем взятым кредитам в зависимости от цели кредита')\n",
    "purpose_ratio = data.groupby('purpose_category')['debt'].sum() / purpose_group_all * 100\n",
    "purpose_ratio"
   ]
  },
  {
   "cell_type": "markdown",
   "id": "8362f337",
   "metadata": {},
   "source": [
    "Отсортируем для наглядности"
   ]
  },
  {
   "cell_type": "code",
   "execution_count": 99,
   "id": "5943d1cd",
   "metadata": {},
   "outputs": [
    {
     "data": {
      "text/plain": [
       "операции с недвижимостью    7.255139\n",
       "проведение свадьбы          7.911803\n",
       "получение образования       9.252758\n",
       "операции с автомобилем      9.347978\n",
       "dtype: float64"
      ]
     },
     "execution_count": 99,
     "metadata": {},
     "output_type": "execute_result"
    }
   ],
   "source": [
    "purpose_ratio.sort_values()"
   ]
  },
  {
   "cell_type": "code",
   "execution_count": 100,
   "id": "5b6117ee",
   "metadata": {},
   "outputs": [
    {
     "data": {
      "text/html": [
       "<div>\n",
       "<style scoped>\n",
       "    .dataframe tbody tr th:only-of-type {\n",
       "        vertical-align: middle;\n",
       "    }\n",
       "\n",
       "    .dataframe tbody tr th {\n",
       "        vertical-align: top;\n",
       "    }\n",
       "\n",
       "    .dataframe thead th {\n",
       "        text-align: right;\n",
       "    }\n",
       "</style>\n",
       "<table border=\"1\" class=\"dataframe\">\n",
       "  <thead>\n",
       "    <tr style=\"text-align: right;\">\n",
       "      <th></th>\n",
       "      <th>debt</th>\n",
       "      <th>ratio</th>\n",
       "    </tr>\n",
       "    <tr>\n",
       "      <th>purpose_category</th>\n",
       "      <th></th>\n",
       "      <th></th>\n",
       "    </tr>\n",
       "  </thead>\n",
       "  <tbody>\n",
       "    <tr>\n",
       "      <th>операции с недвижимостью</th>\n",
       "      <td>10751</td>\n",
       "      <td>7.255139</td>\n",
       "    </tr>\n",
       "    <tr>\n",
       "      <th>проведение свадьбы</th>\n",
       "      <td>2313</td>\n",
       "      <td>7.911803</td>\n",
       "    </tr>\n",
       "    <tr>\n",
       "      <th>получение образования</th>\n",
       "      <td>3988</td>\n",
       "      <td>9.252758</td>\n",
       "    </tr>\n",
       "    <tr>\n",
       "      <th>операции с автомобилем</th>\n",
       "      <td>4279</td>\n",
       "      <td>9.347978</td>\n",
       "    </tr>\n",
       "  </tbody>\n",
       "</table>\n",
       "</div>"
      ],
      "text/plain": [
       "                           debt     ratio\n",
       "purpose_category                         \n",
       "операции с недвижимостью  10751  7.255139\n",
       "проведение свадьбы         2313  7.911803\n",
       "получение образования      3988  9.252758\n",
       "операции с автомобилем     4279  9.347978"
      ]
     },
     "execution_count": 100,
     "metadata": {},
     "output_type": "execute_result"
    }
   ],
   "source": [
    "# Создаим сводную таблицу\n",
    "pivot_purpose = data.pivot_table(index='purpose_category', values='debt', aggfunc={'debt': 'count'})\n",
    "pivot_purpose['ratio'] = purpose_ratio\n",
    "pivot_purpose.sort_values(by='ratio')"
   ]
  },
  {
   "cell_type": "markdown",
   "id": "519ba139",
   "metadata": {
    "deletable": false,
    "id": "b4bb2ce6"
   },
   "source": [
    "**Вывод:** По результатам исследования можно сделать следующие выводы:<br>\n",
    "1. По кредитам на \"операции с недвижимостью\" и \"проведение свадьбы\" клиенты имеют меньшую задолженность\n",
    "2. По кредитам на \"получение образования\" и \"операции с автомобилем\" клиенты имеют большую задолженность"
   ]
  },
  {
   "cell_type": "markdown",
   "id": "5331c1ca",
   "metadata": {
    "deletable": false,
    "editable": false,
    "id": "09c3ac4c"
   },
   "source": [
    "#### 3.5 Приведите возможные причины появления пропусков в исходных данных."
   ]
  },
  {
   "cell_type": "markdown",
   "id": "a81712c5",
   "metadata": {
    "deletable": false,
    "id": "9da2ceda"
   },
   "source": [
    "*Ответ:* Основная часть пропусков присутствовала в столбцах `days_employed` и `total_income`. Эти столбцы несут информацию об общем стаже работы и ежемесячном доходе соответственно. Количество пропусков в каждом столбце было идентично. Поэтому можно предположить, что пустые значения в столбце `days_employed` свидетельствуют о том, что клиент никогда не работал. Соответственно информация в столбце `total_income` о ежемесячном доходе также отсутствует. Что логично, ведь клиент никогда не работал"
   ]
  },
  {
   "cell_type": "markdown",
   "id": "69a12a15",
   "metadata": {
    "deletable": false,
    "editable": false,
    "id": "7b0487d6"
   },
   "source": [
    "#### 3.6 Объясните, почему заполнить пропуски медианным значением — лучшее решение для количественных переменных."
   ]
  },
  {
   "cell_type": "markdown",
   "id": "40f09c2d",
   "metadata": {
    "deletable": false,
    "id": "7ecf2b8e"
   },
   "source": [
    "*Ответ:* В данном случае количественные переменные имеют аномально большие значения. Это подтверждает созданный ниже датафрейм в котором отражены максимальные значения каждого из столбца `days_employed` и `total_income`. Если бы для заполнения пропусков использовалась функция арифмитечского среднего, то аномально большие значения исказили бы реальную картину. Медиана же исключает влияние аномальных значений на конечный результат"
   ]
  },
  {
   "cell_type": "code",
   "execution_count": 101,
   "id": "e1520d99",
   "metadata": {},
   "outputs": [
    {
     "data": {
      "text/html": [
       "<div>\n",
       "<style scoped>\n",
       "    .dataframe tbody tr th:only-of-type {\n",
       "        vertical-align: middle;\n",
       "    }\n",
       "\n",
       "    .dataframe tbody tr th {\n",
       "        vertical-align: top;\n",
       "    }\n",
       "\n",
       "    .dataframe thead th {\n",
       "        text-align: right;\n",
       "    }\n",
       "</style>\n",
       "<table border=\"1\" class=\"dataframe\">\n",
       "  <thead>\n",
       "    <tr style=\"text-align: right;\">\n",
       "      <th></th>\n",
       "      <th>max_total_income</th>\n",
       "      <th>max_days_employed</th>\n",
       "    </tr>\n",
       "  </thead>\n",
       "  <tbody>\n",
       "    <tr>\n",
       "      <th>сотрудник</th>\n",
       "      <td>2265604</td>\n",
       "      <td>401755.400475</td>\n",
       "    </tr>\n",
       "    <tr>\n",
       "      <th>пенсионер</th>\n",
       "      <td>2265604</td>\n",
       "      <td>401755.400475</td>\n",
       "    </tr>\n",
       "    <tr>\n",
       "      <th>компаньон</th>\n",
       "      <td>2265604</td>\n",
       "      <td>401755.400475</td>\n",
       "    </tr>\n",
       "    <tr>\n",
       "      <th>госслужащий</th>\n",
       "      <td>2265604</td>\n",
       "      <td>401755.400475</td>\n",
       "    </tr>\n",
       "    <tr>\n",
       "      <th>безработный</th>\n",
       "      <td>2265604</td>\n",
       "      <td>401755.400475</td>\n",
       "    </tr>\n",
       "    <tr>\n",
       "      <th>предприниматель</th>\n",
       "      <td>2265604</td>\n",
       "      <td>401755.400475</td>\n",
       "    </tr>\n",
       "    <tr>\n",
       "      <th>студент</th>\n",
       "      <td>2265604</td>\n",
       "      <td>401755.400475</td>\n",
       "    </tr>\n",
       "    <tr>\n",
       "      <th>в декрете</th>\n",
       "      <td>2265604</td>\n",
       "      <td>401755.400475</td>\n",
       "    </tr>\n",
       "  </tbody>\n",
       "</table>\n",
       "</div>"
      ],
      "text/plain": [
       "                 max_total_income  max_days_employed\n",
       "сотрудник                 2265604      401755.400475\n",
       "пенсионер                 2265604      401755.400475\n",
       "компаньон                 2265604      401755.400475\n",
       "госслужащий               2265604      401755.400475\n",
       "безработный               2265604      401755.400475\n",
       "предприниматель           2265604      401755.400475\n",
       "студент                   2265604      401755.400475\n",
       "в декрете                 2265604      401755.400475"
      ]
     },
     "execution_count": 101,
     "metadata": {},
     "output_type": "execute_result"
    }
   ],
   "source": [
    "max_data = []\n",
    "for t in data['income_type'].unique():\n",
    "    child_list = []\n",
    "    child_list.extend([data['total_income'].max(), data['days_employed'].max()])\n",
    "    max_data.append(child_list)\n",
    "max_income_days_df = pd.DataFrame(data=max_data, index=data['income_type'].unique(), \n",
    "                                  columns=['max_total_income', 'max_days_employed'])\n",
    "max_income_days_df"
   ]
  },
  {
   "cell_type": "markdown",
   "id": "5eeb21e1",
   "metadata": {
    "deletable": false,
    "editable": false,
    "id": "6db5255a"
   },
   "source": [
    "### Шаг 4: общий вывод."
   ]
  },
  {
   "cell_type": "markdown",
   "id": "65d4bab4",
   "metadata": {
    "deletable": false,
    "id": "bad65432"
   },
   "source": [
    "Общий вывод: Было проведено исследование в ходе которого выполнены следующие пункты:\n",
    "1. В датафрейме заменены пропуски.\n",
    "2. Удалены аномальные значения, влияющие на исследование.\n",
    "3. Проведена категоризация данных по ежемесячному доходу и цели на кредит.\n",
    "4. Выполнена декомпозиця таблицы по цели на кредит.\n",
    "5. Даны ответы на вопросы бизнеса, которые можно подытожить двумя тезисами:<br>\n",
    "    5.1 Минимальная задолженность по кредитам у клиентов: С целью на операции с недвижимостью, с доходом выше среднего в официальном браке и без детей.<br>\n",
    "    5.2 Хуже всего отдают кредиты клиенты: С целью на операции с автомобилем, с доходом ниже среднего, не женатые и с детьми"
   ]
  },
  {
   "cell_type": "code",
   "execution_count": null,
   "id": "a7b4ebc9",
   "metadata": {},
   "outputs": [],
   "source": []
  }
 ],
 "metadata": {
  "ExecuteTimeLog": [
   {
    "duration": 442,
    "start_time": "2023-08-06T12:31:01.122Z"
   },
   {
    "duration": 24,
    "start_time": "2023-08-06T12:31:01.566Z"
   },
   {
    "duration": 310,
    "start_time": "2023-08-06T12:31:01.600Z"
   },
   {
    "duration": 70,
    "start_time": "2023-08-06T12:31:01.912Z"
   },
   {
    "duration": 63,
    "start_time": "2023-08-06T12:31:01.984Z"
   },
   {
    "duration": 20,
    "start_time": "2023-08-06T12:31:02.048Z"
   },
   {
    "duration": 47,
    "start_time": "2023-08-06T12:31:02.070Z"
   },
   {
    "duration": 33,
    "start_time": "2023-08-06T12:31:02.118Z"
   },
   {
    "duration": 40,
    "start_time": "2023-08-06T12:31:02.153Z"
   },
   {
    "duration": 26,
    "start_time": "2023-08-06T12:31:02.194Z"
   },
   {
    "duration": 55,
    "start_time": "2023-08-06T12:31:02.221Z"
   },
   {
    "duration": 35,
    "start_time": "2023-08-06T12:31:02.278Z"
   },
   {
    "duration": 25,
    "start_time": "2023-08-06T12:31:02.314Z"
   },
   {
    "duration": 35,
    "start_time": "2023-08-06T12:31:02.342Z"
   },
   {
    "duration": 56,
    "start_time": "2023-08-06T12:31:02.378Z"
   },
   {
    "duration": 17,
    "start_time": "2023-08-06T12:31:02.436Z"
   },
   {
    "duration": 4,
    "start_time": "2023-08-06T12:31:02.455Z"
   },
   {
    "duration": 36,
    "start_time": "2023-08-06T12:31:02.461Z"
   },
   {
    "duration": 83,
    "start_time": "2023-08-06T12:31:02.499Z"
   },
   {
    "duration": 25,
    "start_time": "2023-08-06T12:31:02.583Z"
   },
   {
    "duration": 35,
    "start_time": "2023-08-06T12:31:02.609Z"
   },
   {
    "duration": 2,
    "start_time": "2023-08-06T12:32:56.784Z"
   },
   {
    "duration": 12,
    "start_time": "2023-08-06T12:40:23.700Z"
   },
   {
    "duration": 735,
    "start_time": "2023-08-06T12:48:45.281Z"
   },
   {
    "duration": 1055,
    "start_time": "2023-08-06T12:48:59.942Z"
   },
   {
    "duration": 8,
    "start_time": "2023-08-06T12:49:17.381Z"
   },
   {
    "duration": 13,
    "start_time": "2023-08-06T12:51:46.739Z"
   },
   {
    "duration": 8,
    "start_time": "2023-08-06T12:52:25.044Z"
   },
   {
    "duration": 10,
    "start_time": "2023-08-06T12:53:09.732Z"
   },
   {
    "duration": 14,
    "start_time": "2023-08-06T12:54:34.899Z"
   },
   {
    "duration": 11,
    "start_time": "2023-08-06T12:54:38.182Z"
   },
   {
    "duration": 71,
    "start_time": "2023-08-06T12:54:42.802Z"
   },
   {
    "duration": 14,
    "start_time": "2023-08-06T12:54:42.876Z"
   },
   {
    "duration": 17,
    "start_time": "2023-08-06T12:54:42.891Z"
   },
   {
    "duration": 10,
    "start_time": "2023-08-06T12:54:42.913Z"
   },
   {
    "duration": 37,
    "start_time": "2023-08-06T12:54:42.926Z"
   },
   {
    "duration": 3,
    "start_time": "2023-08-06T12:54:42.965Z"
   },
   {
    "duration": 8,
    "start_time": "2023-08-06T12:54:42.987Z"
   },
   {
    "duration": 7,
    "start_time": "2023-08-06T12:54:42.996Z"
   },
   {
    "duration": 7,
    "start_time": "2023-08-06T12:54:43.005Z"
   },
   {
    "duration": 5,
    "start_time": "2023-08-06T12:54:43.013Z"
   },
   {
    "duration": 37,
    "start_time": "2023-08-06T12:54:43.020Z"
   },
   {
    "duration": 33,
    "start_time": "2023-08-06T12:54:43.058Z"
   },
   {
    "duration": 4,
    "start_time": "2023-08-06T12:54:43.093Z"
   },
   {
    "duration": 30,
    "start_time": "2023-08-06T12:54:43.099Z"
   },
   {
    "duration": 46,
    "start_time": "2023-08-06T12:54:43.131Z"
   },
   {
    "duration": 36,
    "start_time": "2023-08-06T12:54:43.178Z"
   },
   {
    "duration": 9,
    "start_time": "2023-08-06T12:54:43.215Z"
   },
   {
    "duration": 23,
    "start_time": "2023-08-06T12:54:43.225Z"
   },
   {
    "duration": 18,
    "start_time": "2023-08-06T12:54:43.251Z"
   },
   {
    "duration": 4,
    "start_time": "2023-08-06T12:54:43.270Z"
   },
   {
    "duration": 19,
    "start_time": "2023-08-06T12:54:43.275Z"
   },
   {
    "duration": 23,
    "start_time": "2023-08-06T12:54:43.295Z"
   },
   {
    "duration": 13,
    "start_time": "2023-08-06T12:55:06.513Z"
   },
   {
    "duration": 14,
    "start_time": "2023-08-06T12:55:44.444Z"
   },
   {
    "duration": 8,
    "start_time": "2023-08-06T12:56:19.510Z"
   },
   {
    "duration": 15,
    "start_time": "2023-08-06T12:56:29.356Z"
   },
   {
    "duration": 15,
    "start_time": "2023-08-06T12:56:54.191Z"
   },
   {
    "duration": 12,
    "start_time": "2023-08-06T12:58:50.289Z"
   },
   {
    "duration": 11,
    "start_time": "2023-08-06T12:59:04.141Z"
   },
   {
    "duration": 11,
    "start_time": "2023-08-06T12:59:13.236Z"
   },
   {
    "duration": 15,
    "start_time": "2023-08-06T13:00:44.252Z"
   },
   {
    "duration": 14,
    "start_time": "2023-08-06T13:02:43.815Z"
   },
   {
    "duration": 15,
    "start_time": "2023-08-06T13:02:49.651Z"
   },
   {
    "duration": 7,
    "start_time": "2023-08-06T13:04:59.027Z"
   },
   {
    "duration": 105,
    "start_time": "2023-08-06T13:05:33.739Z"
   },
   {
    "duration": 8,
    "start_time": "2023-08-06T13:05:50.450Z"
   },
   {
    "duration": 12,
    "start_time": "2023-08-06T13:06:46.723Z"
   },
   {
    "duration": 10,
    "start_time": "2023-08-06T13:07:29.235Z"
   },
   {
    "duration": 7,
    "start_time": "2023-08-06T13:07:44.233Z"
   },
   {
    "duration": 67,
    "start_time": "2023-08-06T13:07:53.629Z"
   },
   {
    "duration": 15,
    "start_time": "2023-08-06T13:07:53.698Z"
   },
   {
    "duration": 30,
    "start_time": "2023-08-06T13:07:53.715Z"
   },
   {
    "duration": 13,
    "start_time": "2023-08-06T13:07:53.747Z"
   },
   {
    "duration": 43,
    "start_time": "2023-08-06T13:07:53.761Z"
   },
   {
    "duration": 3,
    "start_time": "2023-08-06T13:07:53.806Z"
   },
   {
    "duration": 22,
    "start_time": "2023-08-06T13:07:53.811Z"
   },
   {
    "duration": 10,
    "start_time": "2023-08-06T13:07:53.835Z"
   },
   {
    "duration": 20,
    "start_time": "2023-08-06T13:07:53.847Z"
   },
   {
    "duration": 14,
    "start_time": "2023-08-06T13:07:53.870Z"
   },
   {
    "duration": 36,
    "start_time": "2023-08-06T13:07:53.885Z"
   },
   {
    "duration": 9,
    "start_time": "2023-08-06T13:07:53.922Z"
   },
   {
    "duration": 11,
    "start_time": "2023-08-06T13:07:53.932Z"
   },
   {
    "duration": 14,
    "start_time": "2023-08-06T13:07:53.944Z"
   },
   {
    "duration": 24,
    "start_time": "2023-08-06T13:07:53.959Z"
   },
   {
    "duration": 16,
    "start_time": "2023-08-06T13:07:53.984Z"
   },
   {
    "duration": 3,
    "start_time": "2023-08-06T13:07:54.001Z"
   },
   {
    "duration": 25,
    "start_time": "2023-08-06T13:07:54.005Z"
   },
   {
    "duration": 25,
    "start_time": "2023-08-06T13:07:54.031Z"
   },
   {
    "duration": 23,
    "start_time": "2023-08-06T13:07:54.057Z"
   },
   {
    "duration": 30,
    "start_time": "2023-08-06T13:07:54.081Z"
   },
   {
    "duration": 38,
    "start_time": "2023-08-06T13:07:54.112Z"
   },
   {
    "duration": 13,
    "start_time": "2023-08-06T13:07:54.151Z"
   },
   {
    "duration": 12,
    "start_time": "2023-08-06T13:09:22.778Z"
   },
   {
    "duration": 65,
    "start_time": "2023-08-06T13:09:34.309Z"
   },
   {
    "duration": 14,
    "start_time": "2023-08-06T13:09:34.376Z"
   },
   {
    "duration": 18,
    "start_time": "2023-08-06T13:09:34.392Z"
   },
   {
    "duration": 10,
    "start_time": "2023-08-06T13:09:34.413Z"
   },
   {
    "duration": 31,
    "start_time": "2023-08-06T13:09:34.424Z"
   },
   {
    "duration": 3,
    "start_time": "2023-08-06T13:09:34.457Z"
   },
   {
    "duration": 9,
    "start_time": "2023-08-06T13:09:34.486Z"
   },
   {
    "duration": 3,
    "start_time": "2023-08-06T13:09:34.497Z"
   },
   {
    "duration": 11,
    "start_time": "2023-08-06T13:09:34.501Z"
   },
   {
    "duration": 3,
    "start_time": "2023-08-06T13:09:34.514Z"
   },
   {
    "duration": 32,
    "start_time": "2023-08-06T13:09:34.518Z"
   },
   {
    "duration": 8,
    "start_time": "2023-08-06T13:09:34.552Z"
   },
   {
    "duration": 3,
    "start_time": "2023-08-06T13:09:34.587Z"
   },
   {
    "duration": 12,
    "start_time": "2023-08-06T13:09:34.591Z"
   },
   {
    "duration": 15,
    "start_time": "2023-08-06T13:09:34.605Z"
   },
   {
    "duration": 19,
    "start_time": "2023-08-06T13:09:34.622Z"
   },
   {
    "duration": 4,
    "start_time": "2023-08-06T13:09:34.642Z"
   },
   {
    "duration": 12,
    "start_time": "2023-08-06T13:09:34.647Z"
   },
   {
    "duration": 34,
    "start_time": "2023-08-06T13:09:34.660Z"
   },
   {
    "duration": 3,
    "start_time": "2023-08-06T13:09:34.695Z"
   },
   {
    "duration": 10,
    "start_time": "2023-08-06T13:09:34.700Z"
   },
   {
    "duration": 16,
    "start_time": "2023-08-06T13:09:34.711Z"
   },
   {
    "duration": 14,
    "start_time": "2023-08-06T13:09:34.729Z"
   },
   {
    "duration": 4,
    "start_time": "2023-08-06T13:22:07.659Z"
   },
   {
    "duration": 7,
    "start_time": "2023-08-06T13:23:35.179Z"
   },
   {
    "duration": 4,
    "start_time": "2023-08-06T13:23:45.634Z"
   },
   {
    "duration": 3,
    "start_time": "2023-08-06T13:23:54.008Z"
   },
   {
    "duration": 6,
    "start_time": "2023-08-06T13:28:16.611Z"
   },
   {
    "duration": 5,
    "start_time": "2023-08-06T13:28:29.164Z"
   },
   {
    "duration": 6,
    "start_time": "2023-08-06T13:31:21.516Z"
   },
   {
    "duration": 515,
    "start_time": "2023-08-06T19:17:47.465Z"
   },
   {
    "duration": 22,
    "start_time": "2023-08-06T19:17:47.982Z"
   },
   {
    "duration": 15,
    "start_time": "2023-08-06T19:17:48.005Z"
   },
   {
    "duration": 15,
    "start_time": "2023-08-06T19:17:48.023Z"
   },
   {
    "duration": 57,
    "start_time": "2023-08-06T19:17:48.039Z"
   },
   {
    "duration": 5,
    "start_time": "2023-08-06T19:17:48.098Z"
   },
   {
    "duration": 11,
    "start_time": "2023-08-06T19:17:48.104Z"
   },
   {
    "duration": 5,
    "start_time": "2023-08-06T19:17:48.116Z"
   },
   {
    "duration": 8,
    "start_time": "2023-08-06T19:17:48.123Z"
   },
   {
    "duration": 26,
    "start_time": "2023-08-06T19:17:48.135Z"
   },
   {
    "duration": 39,
    "start_time": "2023-08-06T19:17:48.163Z"
   },
   {
    "duration": 10,
    "start_time": "2023-08-06T19:17:48.204Z"
   },
   {
    "duration": 6,
    "start_time": "2023-08-06T19:17:48.216Z"
   },
   {
    "duration": 38,
    "start_time": "2023-08-06T19:17:48.223Z"
   },
   {
    "duration": 20,
    "start_time": "2023-08-06T19:17:48.263Z"
   },
   {
    "duration": 17,
    "start_time": "2023-08-06T19:17:48.284Z"
   },
   {
    "duration": 3,
    "start_time": "2023-08-06T19:17:48.303Z"
   },
   {
    "duration": 12,
    "start_time": "2023-08-06T19:17:48.307Z"
   },
   {
    "duration": 5,
    "start_time": "2023-08-06T19:17:48.321Z"
   },
   {
    "duration": 32,
    "start_time": "2023-08-06T19:17:48.328Z"
   },
   {
    "duration": 12,
    "start_time": "2023-08-06T19:17:48.362Z"
   },
   {
    "duration": 19,
    "start_time": "2023-08-06T19:17:48.375Z"
   },
   {
    "duration": 14,
    "start_time": "2023-08-06T19:17:48.395Z"
   },
   {
    "duration": 7,
    "start_time": "2023-08-06T19:17:48.410Z"
   },
   {
    "duration": 7,
    "start_time": "2023-08-06T19:17:48.418Z"
   },
   {
    "duration": 37,
    "start_time": "2023-08-06T19:17:48.426Z"
   },
   {
    "duration": 2,
    "start_time": "2023-08-06T19:17:48.465Z"
   },
   {
    "duration": 3,
    "start_time": "2023-08-06T19:17:48.471Z"
   },
   {
    "duration": 5,
    "start_time": "2023-08-06T19:17:48.476Z"
   },
   {
    "duration": 3,
    "start_time": "2023-08-06T19:33:58.865Z"
   },
   {
    "duration": 6,
    "start_time": "2023-08-06T19:34:03.164Z"
   },
   {
    "duration": 7,
    "start_time": "2023-08-06T19:37:13.963Z"
   },
   {
    "duration": 5,
    "start_time": "2023-08-06T19:38:13.194Z"
   },
   {
    "duration": 8,
    "start_time": "2023-08-06T19:49:18.972Z"
   },
   {
    "duration": 6,
    "start_time": "2023-08-06T19:49:24.571Z"
   },
   {
    "duration": 7,
    "start_time": "2023-08-06T19:51:06.364Z"
   },
   {
    "duration": 7,
    "start_time": "2023-08-06T19:52:47.628Z"
   },
   {
    "duration": 9,
    "start_time": "2023-08-06T19:53:06.732Z"
   },
   {
    "duration": 5,
    "start_time": "2023-08-06T20:14:42.956Z"
   },
   {
    "duration": 60,
    "start_time": "2023-08-06T20:15:47.810Z"
   },
   {
    "duration": 5,
    "start_time": "2023-08-06T20:15:53.778Z"
   },
   {
    "duration": 27,
    "start_time": "2023-08-06T20:17:41.139Z"
   },
   {
    "duration": 20,
    "start_time": "2023-08-06T20:17:59.069Z"
   },
   {
    "duration": 17,
    "start_time": "2023-08-06T20:18:11.772Z"
   },
   {
    "duration": 8,
    "start_time": "2023-08-06T20:20:31.080Z"
   },
   {
    "duration": 7,
    "start_time": "2023-08-06T20:25:35.957Z"
   },
   {
    "duration": 11,
    "start_time": "2023-08-06T20:25:53.509Z"
   },
   {
    "duration": 10,
    "start_time": "2023-08-06T20:26:50.301Z"
   },
   {
    "duration": 6,
    "start_time": "2023-08-06T20:26:57.212Z"
   },
   {
    "duration": 4,
    "start_time": "2023-08-06T20:50:24.560Z"
   },
   {
    "duration": 6,
    "start_time": "2023-08-06T20:50:29.265Z"
   },
   {
    "duration": 21,
    "start_time": "2023-08-06T20:53:22.306Z"
   },
   {
    "duration": 12,
    "start_time": "2023-08-06T20:53:41.321Z"
   },
   {
    "duration": 11,
    "start_time": "2023-08-06T20:56:30.836Z"
   },
   {
    "duration": 9,
    "start_time": "2023-08-06T20:57:29.027Z"
   },
   {
    "duration": 47,
    "start_time": "2023-08-07T16:19:06.846Z"
   },
   {
    "duration": 687,
    "start_time": "2023-08-07T16:19:16.028Z"
   },
   {
    "duration": 22,
    "start_time": "2023-08-07T16:19:16.717Z"
   },
   {
    "duration": 50,
    "start_time": "2023-08-07T16:19:16.741Z"
   },
   {
    "duration": 19,
    "start_time": "2023-08-07T16:19:16.793Z"
   },
   {
    "duration": 39,
    "start_time": "2023-08-07T16:19:16.814Z"
   },
   {
    "duration": 3,
    "start_time": "2023-08-07T16:19:16.855Z"
   },
   {
    "duration": 36,
    "start_time": "2023-08-07T16:19:16.859Z"
   },
   {
    "duration": 62,
    "start_time": "2023-08-07T16:19:16.897Z"
   },
   {
    "duration": 19,
    "start_time": "2023-08-07T16:19:16.961Z"
   },
   {
    "duration": 4,
    "start_time": "2023-08-07T16:19:16.983Z"
   },
   {
    "duration": 37,
    "start_time": "2023-08-07T16:19:16.989Z"
   },
   {
    "duration": 10,
    "start_time": "2023-08-07T16:19:17.027Z"
   },
   {
    "duration": 11,
    "start_time": "2023-08-07T16:19:17.038Z"
   },
   {
    "duration": 49,
    "start_time": "2023-08-07T16:19:17.051Z"
   },
   {
    "duration": 70,
    "start_time": "2023-08-07T16:19:17.102Z"
   },
   {
    "duration": 19,
    "start_time": "2023-08-07T16:19:17.174Z"
   },
   {
    "duration": 5,
    "start_time": "2023-08-07T16:19:17.195Z"
   },
   {
    "duration": 28,
    "start_time": "2023-08-07T16:19:17.201Z"
   },
   {
    "duration": 13,
    "start_time": "2023-08-07T16:19:17.231Z"
   },
   {
    "duration": 12,
    "start_time": "2023-08-07T16:19:17.245Z"
   },
   {
    "duration": 44,
    "start_time": "2023-08-07T16:19:17.259Z"
   },
   {
    "duration": 30,
    "start_time": "2023-08-07T16:19:17.305Z"
   },
   {
    "duration": 15,
    "start_time": "2023-08-07T16:19:17.337Z"
   },
   {
    "duration": 21,
    "start_time": "2023-08-07T16:19:17.354Z"
   },
   {
    "duration": 16,
    "start_time": "2023-08-07T16:19:17.376Z"
   },
   {
    "duration": 13,
    "start_time": "2023-08-07T16:19:17.394Z"
   },
   {
    "duration": 25,
    "start_time": "2023-08-07T16:19:17.408Z"
   },
   {
    "duration": 14,
    "start_time": "2023-08-07T16:19:17.436Z"
   },
   {
    "duration": 9,
    "start_time": "2023-08-07T16:19:17.452Z"
   },
   {
    "duration": 21,
    "start_time": "2023-08-07T16:19:17.463Z"
   },
   {
    "duration": 33,
    "start_time": "2023-08-07T16:19:17.485Z"
   },
   {
    "duration": 23,
    "start_time": "2023-08-07T16:19:17.520Z"
   },
   {
    "duration": 21,
    "start_time": "2023-08-07T16:19:17.544Z"
   },
   {
    "duration": 15,
    "start_time": "2023-08-07T16:19:17.567Z"
   },
   {
    "duration": 12,
    "start_time": "2023-08-07T16:19:17.583Z"
   },
   {
    "duration": 38,
    "start_time": "2023-08-07T16:23:53.693Z"
   },
   {
    "duration": 9,
    "start_time": "2023-08-07T16:24:17.197Z"
   },
   {
    "duration": 8,
    "start_time": "2023-08-07T16:24:21.202Z"
   },
   {
    "duration": 6,
    "start_time": "2023-08-07T16:25:08.951Z"
   },
   {
    "duration": 5,
    "start_time": "2023-08-07T16:39:41.915Z"
   },
   {
    "duration": 7,
    "start_time": "2023-08-07T16:39:45.666Z"
   },
   {
    "duration": 9,
    "start_time": "2023-08-07T16:49:21.700Z"
   },
   {
    "duration": 11,
    "start_time": "2023-08-07T16:50:02.572Z"
   },
   {
    "duration": 5,
    "start_time": "2023-08-07T16:50:08.531Z"
   },
   {
    "duration": 22,
    "start_time": "2023-08-07T17:26:00.871Z"
   },
   {
    "duration": 15,
    "start_time": "2023-08-07T17:26:27.157Z"
   },
   {
    "duration": 7,
    "start_time": "2023-08-07T17:26:38.718Z"
   },
   {
    "duration": 6,
    "start_time": "2023-08-07T17:26:41.278Z"
   },
   {
    "duration": 7,
    "start_time": "2023-08-07T17:27:31.815Z"
   },
   {
    "duration": 67,
    "start_time": "2023-08-07T17:30:01.472Z"
   },
   {
    "duration": 66,
    "start_time": "2023-08-07T17:30:15.999Z"
   },
   {
    "duration": 1052,
    "start_time": "2023-08-07T17:31:36.457Z"
   },
   {
    "duration": 12,
    "start_time": "2023-08-07T17:32:05.200Z"
   },
   {
    "duration": 21,
    "start_time": "2023-08-07T17:38:29.310Z"
   },
   {
    "duration": 9,
    "start_time": "2023-08-07T17:39:06.591Z"
   },
   {
    "duration": 19,
    "start_time": "2023-08-07T17:40:50.256Z"
   },
   {
    "duration": 8,
    "start_time": "2023-08-07T17:41:28.383Z"
   },
   {
    "duration": 8,
    "start_time": "2023-08-07T17:44:52.183Z"
   },
   {
    "duration": 13,
    "start_time": "2023-08-07T17:44:57.191Z"
   },
   {
    "duration": 14,
    "start_time": "2023-08-07T17:46:30.974Z"
   },
   {
    "duration": 14,
    "start_time": "2023-08-07T17:48:17.431Z"
   },
   {
    "duration": 73,
    "start_time": "2023-08-07T18:06:08.241Z"
   },
   {
    "duration": 16,
    "start_time": "2023-08-07T18:06:08.316Z"
   },
   {
    "duration": 18,
    "start_time": "2023-08-07T18:06:08.334Z"
   },
   {
    "duration": 8,
    "start_time": "2023-08-07T18:06:08.354Z"
   },
   {
    "duration": 55,
    "start_time": "2023-08-07T18:06:08.364Z"
   },
   {
    "duration": 3,
    "start_time": "2023-08-07T18:06:08.420Z"
   },
   {
    "duration": 29,
    "start_time": "2023-08-07T18:06:08.425Z"
   },
   {
    "duration": 21,
    "start_time": "2023-08-07T18:06:08.456Z"
   },
   {
    "duration": 16,
    "start_time": "2023-08-07T18:06:08.479Z"
   },
   {
    "duration": 13,
    "start_time": "2023-08-07T18:06:08.497Z"
   },
   {
    "duration": 41,
    "start_time": "2023-08-07T18:06:08.512Z"
   },
   {
    "duration": 10,
    "start_time": "2023-08-07T18:06:08.555Z"
   },
   {
    "duration": 36,
    "start_time": "2023-08-07T18:06:08.567Z"
   },
   {
    "duration": 16,
    "start_time": "2023-08-07T18:06:08.607Z"
   },
   {
    "duration": 28,
    "start_time": "2023-08-07T18:06:08.625Z"
   },
   {
    "duration": 18,
    "start_time": "2023-08-07T18:06:08.654Z"
   },
   {
    "duration": 4,
    "start_time": "2023-08-07T18:06:08.674Z"
   },
   {
    "duration": 30,
    "start_time": "2023-08-07T18:06:08.680Z"
   },
   {
    "duration": 8,
    "start_time": "2023-08-07T18:06:08.712Z"
   },
   {
    "duration": 10,
    "start_time": "2023-08-07T18:06:08.722Z"
   },
   {
    "duration": 17,
    "start_time": "2023-08-07T18:06:08.733Z"
   },
   {
    "duration": 28,
    "start_time": "2023-08-07T18:06:08.752Z"
   },
   {
    "duration": 36,
    "start_time": "2023-08-07T18:06:08.781Z"
   },
   {
    "duration": 14,
    "start_time": "2023-08-07T18:06:08.819Z"
   },
   {
    "duration": 40,
    "start_time": "2023-08-07T18:06:08.835Z"
   },
   {
    "duration": 26,
    "start_time": "2023-08-07T18:06:08.877Z"
   },
   {
    "duration": 25,
    "start_time": "2023-08-07T18:06:08.904Z"
   },
   {
    "duration": 27,
    "start_time": "2023-08-07T18:06:08.931Z"
   },
   {
    "duration": 31,
    "start_time": "2023-08-07T18:06:08.960Z"
   },
   {
    "duration": 20,
    "start_time": "2023-08-07T18:06:08.993Z"
   },
   {
    "duration": 26,
    "start_time": "2023-08-07T18:06:09.015Z"
   },
   {
    "duration": 41,
    "start_time": "2023-08-07T18:06:09.042Z"
   },
   {
    "duration": 11,
    "start_time": "2023-08-07T18:06:09.086Z"
   },
   {
    "duration": 11,
    "start_time": "2023-08-07T18:06:09.098Z"
   },
   {
    "duration": 18,
    "start_time": "2023-08-07T18:06:09.110Z"
   },
   {
    "duration": 18,
    "start_time": "2023-08-07T18:06:09.129Z"
   },
   {
    "duration": 21,
    "start_time": "2023-08-07T18:06:09.148Z"
   },
   {
    "duration": 13,
    "start_time": "2023-08-07T18:06:09.171Z"
   },
   {
    "duration": 7,
    "start_time": "2023-08-07T18:06:09.186Z"
   },
   {
    "duration": 16,
    "start_time": "2023-08-07T18:06:09.195Z"
   },
   {
    "duration": 507,
    "start_time": "2023-08-08T12:50:50.274Z"
   },
   {
    "duration": 31,
    "start_time": "2023-08-08T12:50:50.784Z"
   },
   {
    "duration": 40,
    "start_time": "2023-08-08T12:50:50.818Z"
   },
   {
    "duration": 16,
    "start_time": "2023-08-08T12:50:50.861Z"
   },
   {
    "duration": 49,
    "start_time": "2023-08-08T12:50:50.879Z"
   },
   {
    "duration": 26,
    "start_time": "2023-08-08T12:50:50.931Z"
   },
   {
    "duration": 12,
    "start_time": "2023-08-08T12:50:50.959Z"
   },
   {
    "duration": 7,
    "start_time": "2023-08-08T12:50:50.973Z"
   },
   {
    "duration": 26,
    "start_time": "2023-08-08T12:50:50.982Z"
   },
   {
    "duration": 6,
    "start_time": "2023-08-08T12:50:51.015Z"
   },
   {
    "duration": 70,
    "start_time": "2023-08-08T12:50:51.023Z"
   },
   {
    "duration": 16,
    "start_time": "2023-08-08T12:50:51.095Z"
   },
   {
    "duration": 6,
    "start_time": "2023-08-08T12:50:51.113Z"
   },
   {
    "duration": 45,
    "start_time": "2023-08-08T12:50:51.121Z"
   },
   {
    "duration": 31,
    "start_time": "2023-08-08T12:50:51.169Z"
   },
   {
    "duration": 24,
    "start_time": "2023-08-08T12:50:51.207Z"
   },
   {
    "duration": 4,
    "start_time": "2023-08-08T12:50:51.234Z"
   },
   {
    "duration": 20,
    "start_time": "2023-08-08T12:50:51.257Z"
   },
   {
    "duration": 17,
    "start_time": "2023-08-08T12:50:51.281Z"
   },
   {
    "duration": 5,
    "start_time": "2023-08-08T12:50:51.301Z"
   },
   {
    "duration": 15,
    "start_time": "2023-08-08T12:50:51.309Z"
   },
   {
    "duration": 41,
    "start_time": "2023-08-08T12:50:51.327Z"
   },
   {
    "duration": 25,
    "start_time": "2023-08-08T12:50:51.373Z"
   },
   {
    "duration": 33,
    "start_time": "2023-08-08T12:50:51.400Z"
   },
   {
    "duration": 18,
    "start_time": "2023-08-08T12:50:51.435Z"
   },
   {
    "duration": 19,
    "start_time": "2023-08-08T12:50:51.455Z"
   },
   {
    "duration": 51,
    "start_time": "2023-08-08T12:50:51.476Z"
   },
   {
    "duration": 36,
    "start_time": "2023-08-08T12:50:51.531Z"
   },
   {
    "duration": 19,
    "start_time": "2023-08-08T12:50:51.569Z"
   },
   {
    "duration": 25,
    "start_time": "2023-08-08T12:50:51.590Z"
   },
   {
    "duration": 9,
    "start_time": "2023-08-08T12:50:51.617Z"
   },
   {
    "duration": 15,
    "start_time": "2023-08-08T12:50:51.628Z"
   },
   {
    "duration": 22,
    "start_time": "2023-08-08T12:50:51.644Z"
   },
   {
    "duration": 14,
    "start_time": "2023-08-08T12:50:51.669Z"
   },
   {
    "duration": 13,
    "start_time": "2023-08-08T12:50:51.685Z"
   },
   {
    "duration": 34,
    "start_time": "2023-08-08T12:50:51.700Z"
   },
   {
    "duration": 19,
    "start_time": "2023-08-08T12:50:51.737Z"
   },
   {
    "duration": 30,
    "start_time": "2023-08-08T12:50:51.759Z"
   },
   {
    "duration": 10,
    "start_time": "2023-08-08T12:50:51.791Z"
   },
   {
    "duration": 29,
    "start_time": "2023-08-08T12:50:51.802Z"
   },
   {
    "duration": 65,
    "start_time": "2023-08-08T16:43:09.744Z"
   },
   {
    "duration": 817,
    "start_time": "2023-08-08T16:43:17.628Z"
   },
   {
    "duration": 34,
    "start_time": "2023-08-08T16:43:18.446Z"
   },
   {
    "duration": 22,
    "start_time": "2023-08-08T16:43:18.482Z"
   },
   {
    "duration": 15,
    "start_time": "2023-08-08T16:43:18.507Z"
   },
   {
    "duration": 76,
    "start_time": "2023-08-08T16:43:18.524Z"
   },
   {
    "duration": 5,
    "start_time": "2023-08-08T16:43:18.602Z"
   },
   {
    "duration": 41,
    "start_time": "2023-08-08T16:43:18.609Z"
   },
   {
    "duration": 28,
    "start_time": "2023-08-08T16:43:18.652Z"
   },
   {
    "duration": 19,
    "start_time": "2023-08-08T16:43:18.682Z"
   },
   {
    "duration": 13,
    "start_time": "2023-08-08T16:43:18.703Z"
   },
   {
    "duration": 73,
    "start_time": "2023-08-08T16:43:18.718Z"
   },
   {
    "duration": 19,
    "start_time": "2023-08-08T16:43:18.792Z"
   },
   {
    "duration": 19,
    "start_time": "2023-08-08T16:43:18.813Z"
   },
   {
    "duration": 39,
    "start_time": "2023-08-08T16:43:18.834Z"
   },
   {
    "duration": 33,
    "start_time": "2023-08-08T16:43:18.882Z"
   },
   {
    "duration": 19,
    "start_time": "2023-08-08T16:43:18.917Z"
   },
   {
    "duration": 5,
    "start_time": "2023-08-08T16:43:18.938Z"
   },
   {
    "duration": 35,
    "start_time": "2023-08-08T16:43:18.945Z"
   },
   {
    "duration": 10,
    "start_time": "2023-08-08T16:43:18.982Z"
   },
   {
    "duration": 15,
    "start_time": "2023-08-08T16:43:18.994Z"
   },
   {
    "duration": 27,
    "start_time": "2023-08-08T16:43:19.010Z"
   },
   {
    "duration": 52,
    "start_time": "2023-08-08T16:43:19.039Z"
   },
   {
    "duration": 15,
    "start_time": "2023-08-08T16:43:19.093Z"
   },
   {
    "duration": 8,
    "start_time": "2023-08-08T16:43:19.109Z"
   },
   {
    "duration": 11,
    "start_time": "2023-08-08T16:43:19.118Z"
   },
   {
    "duration": 14,
    "start_time": "2023-08-08T16:43:19.132Z"
   },
   {
    "duration": 6,
    "start_time": "2023-08-08T16:43:19.156Z"
   },
   {
    "duration": 57,
    "start_time": "2023-08-08T16:43:19.165Z"
   },
   {
    "duration": 12,
    "start_time": "2023-08-08T16:43:49.267Z"
   },
   {
    "duration": 13,
    "start_time": "2023-08-08T16:45:17.168Z"
   },
   {
    "duration": 10,
    "start_time": "2023-08-08T16:45:29.539Z"
   },
   {
    "duration": 78,
    "start_time": "2023-08-08T16:45:37.755Z"
   },
   {
    "duration": 68,
    "start_time": "2023-08-08T16:46:06.826Z"
   },
   {
    "duration": 59,
    "start_time": "2023-08-08T16:46:24.664Z"
   },
   {
    "duration": 80,
    "start_time": "2023-08-08T16:46:32.596Z"
   },
   {
    "duration": 83,
    "start_time": "2023-08-08T16:46:39.011Z"
   },
   {
    "duration": 16,
    "start_time": "2023-08-08T16:46:39.096Z"
   },
   {
    "duration": 29,
    "start_time": "2023-08-08T16:46:39.113Z"
   },
   {
    "duration": 26,
    "start_time": "2023-08-08T16:46:39.144Z"
   },
   {
    "duration": 51,
    "start_time": "2023-08-08T16:46:39.172Z"
   },
   {
    "duration": 3,
    "start_time": "2023-08-08T16:46:39.225Z"
   },
   {
    "duration": 50,
    "start_time": "2023-08-08T16:46:39.230Z"
   },
   {
    "duration": 11,
    "start_time": "2023-08-08T16:46:39.282Z"
   },
   {
    "duration": 38,
    "start_time": "2023-08-08T16:46:39.294Z"
   },
   {
    "duration": 35,
    "start_time": "2023-08-08T16:46:39.335Z"
   },
   {
    "duration": 61,
    "start_time": "2023-08-08T16:46:39.371Z"
   },
   {
    "duration": 12,
    "start_time": "2023-08-08T16:46:39.434Z"
   },
   {
    "duration": 22,
    "start_time": "2023-08-08T16:46:39.448Z"
   },
   {
    "duration": 33,
    "start_time": "2023-08-08T16:46:39.472Z"
   },
   {
    "duration": 33,
    "start_time": "2023-08-08T16:46:39.507Z"
   },
   {
    "duration": 24,
    "start_time": "2023-08-08T16:46:39.542Z"
   },
   {
    "duration": 32,
    "start_time": "2023-08-08T16:46:39.568Z"
   },
   {
    "duration": 42,
    "start_time": "2023-08-08T16:46:39.602Z"
   },
   {
    "duration": 42,
    "start_time": "2023-08-08T16:46:39.647Z"
   },
   {
    "duration": 22,
    "start_time": "2023-08-08T16:46:39.690Z"
   },
   {
    "duration": 28,
    "start_time": "2023-08-08T16:46:39.715Z"
   },
   {
    "duration": 35,
    "start_time": "2023-08-08T16:46:39.745Z"
   },
   {
    "duration": 22,
    "start_time": "2023-08-08T16:46:39.782Z"
   },
   {
    "duration": 29,
    "start_time": "2023-08-08T16:46:39.805Z"
   },
   {
    "duration": 42,
    "start_time": "2023-08-08T16:46:39.836Z"
   },
   {
    "duration": 30,
    "start_time": "2023-08-08T16:46:39.880Z"
   },
   {
    "duration": 35,
    "start_time": "2023-08-08T16:46:39.912Z"
   },
   {
    "duration": 76,
    "start_time": "2023-08-08T16:46:39.951Z"
   },
   {
    "duration": 12,
    "start_time": "2023-08-08T16:46:48.767Z"
   },
   {
    "duration": 13,
    "start_time": "2023-08-08T16:47:05.661Z"
   },
   {
    "duration": 58,
    "start_time": "2023-08-08T16:48:06.185Z"
   },
   {
    "duration": 10,
    "start_time": "2023-08-08T16:48:13.268Z"
   },
   {
    "duration": 11,
    "start_time": "2023-08-08T16:48:38.248Z"
   },
   {
    "duration": 10,
    "start_time": "2023-08-08T16:48:58.006Z"
   },
   {
    "duration": 4,
    "start_time": "2023-08-08T16:49:38.535Z"
   },
   {
    "duration": 9,
    "start_time": "2023-08-08T16:50:51.104Z"
   },
   {
    "duration": 13,
    "start_time": "2023-08-08T16:52:16.272Z"
   },
   {
    "duration": 4,
    "start_time": "2023-08-08T16:53:23.768Z"
   },
   {
    "duration": 5,
    "start_time": "2023-08-08T16:53:39.024Z"
   },
   {
    "duration": 11,
    "start_time": "2023-08-08T16:53:56.765Z"
   },
   {
    "duration": 4,
    "start_time": "2023-08-08T16:54:23.035Z"
   },
   {
    "duration": 12,
    "start_time": "2023-08-08T16:59:15.072Z"
   },
   {
    "duration": 9,
    "start_time": "2023-08-08T17:00:44.762Z"
   },
   {
    "duration": 8,
    "start_time": "2023-08-08T17:01:41.165Z"
   },
   {
    "duration": 10,
    "start_time": "2023-08-08T17:02:22.549Z"
   },
   {
    "duration": 8,
    "start_time": "2023-08-08T17:02:33.741Z"
   },
   {
    "duration": 8,
    "start_time": "2023-08-08T17:02:51.198Z"
   },
   {
    "duration": 8,
    "start_time": "2023-08-08T17:02:56.006Z"
   },
   {
    "duration": 15,
    "start_time": "2023-08-08T17:03:13.296Z"
   },
   {
    "duration": 12,
    "start_time": "2023-08-08T17:04:07.465Z"
   },
   {
    "duration": 14,
    "start_time": "2023-08-08T17:04:36.344Z"
   },
   {
    "duration": 4,
    "start_time": "2023-08-08T17:04:52.888Z"
   },
   {
    "duration": 5,
    "start_time": "2023-08-08T17:05:09.464Z"
   },
   {
    "duration": 15,
    "start_time": "2023-08-08T17:05:40.529Z"
   },
   {
    "duration": 15,
    "start_time": "2023-08-08T17:05:55.352Z"
   },
   {
    "duration": 22,
    "start_time": "2023-08-08T17:06:54.155Z"
   },
   {
    "duration": 13,
    "start_time": "2023-08-08T17:07:09.498Z"
   },
   {
    "duration": 16,
    "start_time": "2023-08-08T17:07:50.554Z"
   },
   {
    "duration": 73,
    "start_time": "2023-08-08T17:07:57.575Z"
   },
   {
    "duration": 22,
    "start_time": "2023-08-08T17:07:57.651Z"
   },
   {
    "duration": 15,
    "start_time": "2023-08-08T17:07:57.675Z"
   },
   {
    "duration": 11,
    "start_time": "2023-08-08T17:07:57.692Z"
   },
   {
    "duration": 53,
    "start_time": "2023-08-08T17:07:57.704Z"
   },
   {
    "duration": 12,
    "start_time": "2023-08-08T17:07:57.758Z"
   },
   {
    "duration": 27,
    "start_time": "2023-08-08T17:07:57.772Z"
   },
   {
    "duration": 14,
    "start_time": "2023-08-08T17:07:57.801Z"
   },
   {
    "duration": 9,
    "start_time": "2023-08-08T17:07:57.817Z"
   },
   {
    "duration": 7,
    "start_time": "2023-08-08T17:07:57.830Z"
   },
   {
    "duration": 49,
    "start_time": "2023-08-08T17:07:57.839Z"
   },
   {
    "duration": 10,
    "start_time": "2023-08-08T17:07:57.890Z"
   },
   {
    "duration": 24,
    "start_time": "2023-08-08T17:07:57.902Z"
   },
   {
    "duration": 22,
    "start_time": "2023-08-08T17:07:57.927Z"
   },
   {
    "duration": 61,
    "start_time": "2023-08-08T17:07:57.951Z"
   },
   {
    "duration": 18,
    "start_time": "2023-08-08T17:07:58.014Z"
   },
   {
    "duration": 3,
    "start_time": "2023-08-08T17:07:58.035Z"
   },
   {
    "duration": 38,
    "start_time": "2023-08-08T17:07:58.040Z"
   },
   {
    "duration": 13,
    "start_time": "2023-08-08T17:07:58.080Z"
   },
   {
    "duration": 9,
    "start_time": "2023-08-08T17:07:58.094Z"
   },
   {
    "duration": 19,
    "start_time": "2023-08-08T17:07:58.104Z"
   },
   {
    "duration": 24,
    "start_time": "2023-08-08T17:07:58.124Z"
   },
   {
    "duration": 25,
    "start_time": "2023-08-08T17:07:58.150Z"
   },
   {
    "duration": 14,
    "start_time": "2023-08-08T17:07:58.176Z"
   },
   {
    "duration": 10,
    "start_time": "2023-08-08T17:07:58.191Z"
   },
   {
    "duration": 14,
    "start_time": "2023-08-08T17:07:58.202Z"
   },
   {
    "duration": 6,
    "start_time": "2023-08-08T17:07:58.217Z"
   },
   {
    "duration": 15,
    "start_time": "2023-08-08T17:07:58.225Z"
   },
   {
    "duration": 14,
    "start_time": "2023-08-08T17:08:39.953Z"
   },
   {
    "duration": 9,
    "start_time": "2023-08-08T17:08:51.130Z"
   },
   {
    "duration": 10,
    "start_time": "2023-08-08T17:09:32.475Z"
   },
   {
    "duration": 9,
    "start_time": "2023-08-08T17:09:51.787Z"
   },
   {
    "duration": 10,
    "start_time": "2023-08-08T17:09:58.434Z"
   },
   {
    "duration": 9,
    "start_time": "2023-08-08T17:10:09.913Z"
   },
   {
    "duration": 11,
    "start_time": "2023-08-08T17:10:57.283Z"
   },
   {
    "duration": 28,
    "start_time": "2023-08-08T17:11:23.242Z"
   },
   {
    "duration": 15,
    "start_time": "2023-08-08T17:12:45.449Z"
   },
   {
    "duration": 7,
    "start_time": "2023-08-08T17:15:23.402Z"
   },
   {
    "duration": 12,
    "start_time": "2023-08-08T17:15:30.282Z"
   },
   {
    "duration": 12,
    "start_time": "2023-08-08T17:17:03.922Z"
   },
   {
    "duration": 14,
    "start_time": "2023-08-08T17:26:22.153Z"
   },
   {
    "duration": 8,
    "start_time": "2023-08-08T17:26:38.578Z"
   },
   {
    "duration": 16,
    "start_time": "2023-08-08T17:26:48.674Z"
   },
   {
    "duration": 13,
    "start_time": "2023-08-08T17:27:27.292Z"
   },
   {
    "duration": 9,
    "start_time": "2023-08-08T17:34:12.436Z"
   },
   {
    "duration": 8,
    "start_time": "2023-08-08T17:34:34.142Z"
   },
   {
    "duration": 14,
    "start_time": "2023-08-08T17:36:47.695Z"
   },
   {
    "duration": 16,
    "start_time": "2023-08-08T17:37:04.792Z"
   },
   {
    "duration": 18,
    "start_time": "2023-08-08T17:39:02.648Z"
   },
   {
    "duration": 8,
    "start_time": "2023-08-08T17:39:16.600Z"
   },
   {
    "duration": 14,
    "start_time": "2023-08-08T17:40:39.161Z"
   },
   {
    "duration": 13,
    "start_time": "2023-08-08T17:40:51.729Z"
   },
   {
    "duration": 10,
    "start_time": "2023-08-08T17:40:58.467Z"
   },
   {
    "duration": 4,
    "start_time": "2023-08-08T17:41:43.825Z"
   },
   {
    "duration": 4,
    "start_time": "2023-08-08T17:41:49.378Z"
   },
   {
    "duration": 76,
    "start_time": "2023-08-08T17:42:17.250Z"
   },
   {
    "duration": 15,
    "start_time": "2023-08-08T17:42:49.505Z"
   },
   {
    "duration": 8,
    "start_time": "2023-08-08T17:51:50.795Z"
   },
   {
    "duration": 16,
    "start_time": "2023-08-08T17:51:59.714Z"
   },
   {
    "duration": 27,
    "start_time": "2023-08-08T17:52:28.802Z"
   },
   {
    "duration": 18,
    "start_time": "2023-08-08T17:54:39.202Z"
   },
   {
    "duration": 58,
    "start_time": "2023-08-08T17:56:58.660Z"
   },
   {
    "duration": 36,
    "start_time": "2023-08-08T17:57:22.589Z"
   },
   {
    "duration": 82,
    "start_time": "2023-08-08T17:59:17.033Z"
   },
   {
    "duration": 20,
    "start_time": "2023-08-08T17:59:57.242Z"
   },
   {
    "duration": 15,
    "start_time": "2023-08-08T18:00:04.627Z"
   },
   {
    "duration": 21,
    "start_time": "2023-08-08T18:01:22.939Z"
   },
   {
    "duration": 17,
    "start_time": "2023-08-08T18:27:13.903Z"
   },
   {
    "duration": 586,
    "start_time": "2023-08-08T18:31:07.341Z"
   },
   {
    "duration": 18,
    "start_time": "2023-08-08T18:31:46.290Z"
   },
   {
    "duration": 20,
    "start_time": "2023-08-08T18:32:19.771Z"
   },
   {
    "duration": 17,
    "start_time": "2023-08-08T18:35:51.216Z"
   },
   {
    "duration": 13,
    "start_time": "2023-08-08T18:43:17.117Z"
   },
   {
    "duration": 26,
    "start_time": "2023-08-08T18:43:30.342Z"
   },
   {
    "duration": 45,
    "start_time": "2023-08-08T18:47:14.224Z"
   },
   {
    "duration": 47,
    "start_time": "2023-08-08T18:47:31.641Z"
   },
   {
    "duration": 12,
    "start_time": "2023-08-08T18:49:18.536Z"
   },
   {
    "duration": 24,
    "start_time": "2023-08-08T18:49:29.698Z"
   },
   {
    "duration": 23,
    "start_time": "2023-08-08T18:51:05.457Z"
   },
   {
    "duration": 19,
    "start_time": "2023-08-08T18:51:20.503Z"
   },
   {
    "duration": 58,
    "start_time": "2023-08-08T18:52:58.773Z"
   },
   {
    "duration": 18,
    "start_time": "2023-08-08T18:53:08.501Z"
   },
   {
    "duration": 28,
    "start_time": "2023-08-08T18:53:33.740Z"
   },
   {
    "duration": 7,
    "start_time": "2023-08-08T18:54:28.316Z"
   },
   {
    "duration": 16,
    "start_time": "2023-08-08T18:55:08.572Z"
   },
   {
    "duration": 22,
    "start_time": "2023-08-08T18:55:38.253Z"
   },
   {
    "duration": 21,
    "start_time": "2023-08-08T18:56:13.981Z"
   },
   {
    "duration": 27,
    "start_time": "2023-08-08T19:02:15.401Z"
   },
   {
    "duration": 25,
    "start_time": "2023-08-08T19:02:34.725Z"
   },
   {
    "duration": 36,
    "start_time": "2023-08-08T19:02:38.452Z"
   },
   {
    "duration": 31,
    "start_time": "2023-08-08T19:03:08.472Z"
   },
   {
    "duration": 18,
    "start_time": "2023-08-08T19:03:53.630Z"
   },
   {
    "duration": 21,
    "start_time": "2023-08-08T19:04:12.932Z"
   },
   {
    "duration": 19,
    "start_time": "2023-08-08T19:04:23.683Z"
   },
   {
    "duration": 28,
    "start_time": "2023-08-08T19:05:26.341Z"
   },
   {
    "duration": 16,
    "start_time": "2023-08-08T19:05:34.607Z"
   },
   {
    "duration": 3,
    "start_time": "2023-08-08T19:08:34.917Z"
   },
   {
    "duration": 15,
    "start_time": "2023-08-08T19:08:56.114Z"
   },
   {
    "duration": 20,
    "start_time": "2023-08-08T19:11:18.503Z"
   },
   {
    "duration": 26,
    "start_time": "2023-08-08T19:12:41.102Z"
   },
   {
    "duration": 28,
    "start_time": "2023-08-08T19:13:03.375Z"
   },
   {
    "duration": 27,
    "start_time": "2023-08-08T19:14:14.510Z"
   },
   {
    "duration": 23,
    "start_time": "2023-08-08T19:14:45.068Z"
   },
   {
    "duration": 19,
    "start_time": "2023-08-08T19:15:02.118Z"
   },
   {
    "duration": 33,
    "start_time": "2023-08-08T19:16:08.742Z"
   },
   {
    "duration": 27,
    "start_time": "2023-08-08T19:16:54.080Z"
   },
   {
    "duration": 65,
    "start_time": "2023-08-08T19:17:16.983Z"
   },
   {
    "duration": 103,
    "start_time": "2023-08-08T19:20:00.310Z"
   },
   {
    "duration": 94,
    "start_time": "2023-08-08T19:20:05.318Z"
   },
   {
    "duration": 23,
    "start_time": "2023-08-08T19:20:08.581Z"
   },
   {
    "duration": 50,
    "start_time": "2023-08-08T19:20:14.902Z"
   },
   {
    "duration": 74,
    "start_time": "2023-08-08T19:20:18.518Z"
   },
   {
    "duration": 36,
    "start_time": "2023-08-08T19:20:22.430Z"
   },
   {
    "duration": 73,
    "start_time": "2023-08-08T19:21:21.503Z"
   },
   {
    "duration": 27,
    "start_time": "2023-08-08T19:21:46.071Z"
   },
   {
    "duration": 17,
    "start_time": "2023-08-08T19:22:00.283Z"
   },
   {
    "duration": 17,
    "start_time": "2023-08-08T19:27:44.896Z"
   },
   {
    "duration": 99,
    "start_time": "2023-08-08T19:28:24.816Z"
   },
   {
    "duration": 109,
    "start_time": "2023-08-08T19:28:40.712Z"
   },
   {
    "duration": 19,
    "start_time": "2023-08-08T19:28:52.880Z"
   },
   {
    "duration": 33,
    "start_time": "2023-08-08T19:33:20.076Z"
   },
   {
    "duration": 13,
    "start_time": "2023-08-08T19:33:47.577Z"
   },
   {
    "duration": 3,
    "start_time": "2023-08-08T19:34:29.697Z"
   },
   {
    "duration": 18,
    "start_time": "2023-08-08T19:34:31.218Z"
   },
   {
    "duration": 4,
    "start_time": "2023-08-08T19:34:32.881Z"
   },
   {
    "duration": 19,
    "start_time": "2023-08-08T19:34:34.084Z"
   },
   {
    "duration": 4,
    "start_time": "2023-08-08T19:34:44.641Z"
   },
   {
    "duration": 4,
    "start_time": "2023-08-08T19:34:50.842Z"
   },
   {
    "duration": 18,
    "start_time": "2023-08-08T19:34:53.578Z"
   },
   {
    "duration": 8,
    "start_time": "2023-08-08T19:35:47.394Z"
   },
   {
    "duration": 4,
    "start_time": "2023-08-08T19:36:05.650Z"
   },
   {
    "duration": 8,
    "start_time": "2023-08-08T19:36:07.153Z"
   },
   {
    "duration": 8,
    "start_time": "2023-08-08T19:36:07.764Z"
   },
   {
    "duration": 78,
    "start_time": "2023-08-08T19:36:33.818Z"
   },
   {
    "duration": 17,
    "start_time": "2023-08-08T19:36:33.898Z"
   },
   {
    "duration": 22,
    "start_time": "2023-08-08T19:36:33.916Z"
   },
   {
    "duration": 16,
    "start_time": "2023-08-08T19:36:33.955Z"
   },
   {
    "duration": 37,
    "start_time": "2023-08-08T19:36:33.972Z"
   },
   {
    "duration": 3,
    "start_time": "2023-08-08T19:36:34.011Z"
   },
   {
    "duration": 30,
    "start_time": "2023-08-08T19:36:34.016Z"
   },
   {
    "duration": 21,
    "start_time": "2023-08-08T19:36:34.048Z"
   },
   {
    "duration": 11,
    "start_time": "2023-08-08T19:36:34.075Z"
   },
   {
    "duration": 34,
    "start_time": "2023-08-08T19:36:34.088Z"
   },
   {
    "duration": 43,
    "start_time": "2023-08-08T19:36:34.124Z"
   },
   {
    "duration": 16,
    "start_time": "2023-08-08T19:36:34.168Z"
   },
   {
    "duration": 10,
    "start_time": "2023-08-08T19:36:34.185Z"
   },
   {
    "duration": 42,
    "start_time": "2023-08-08T19:36:34.196Z"
   },
   {
    "duration": 27,
    "start_time": "2023-08-08T19:36:34.240Z"
   },
   {
    "duration": 54,
    "start_time": "2023-08-08T19:36:34.268Z"
   },
   {
    "duration": 5,
    "start_time": "2023-08-08T19:36:34.323Z"
   },
   {
    "duration": 24,
    "start_time": "2023-08-08T19:36:34.330Z"
   },
   {
    "duration": 36,
    "start_time": "2023-08-08T19:36:34.356Z"
   },
   {
    "duration": 5,
    "start_time": "2023-08-08T19:36:34.394Z"
   },
   {
    "duration": 13,
    "start_time": "2023-08-08T19:36:34.401Z"
   },
   {
    "duration": 24,
    "start_time": "2023-08-08T19:36:34.415Z"
   },
   {
    "duration": 20,
    "start_time": "2023-08-08T19:36:34.440Z"
   },
   {
    "duration": 19,
    "start_time": "2023-08-08T19:36:34.461Z"
   },
   {
    "duration": 17,
    "start_time": "2023-08-08T19:36:34.482Z"
   },
   {
    "duration": 10,
    "start_time": "2023-08-08T19:36:34.501Z"
   },
   {
    "duration": 15,
    "start_time": "2023-08-08T19:36:34.513Z"
   },
   {
    "duration": 9,
    "start_time": "2023-08-08T19:36:34.532Z"
   },
   {
    "duration": 31,
    "start_time": "2023-08-08T19:36:34.542Z"
   },
   {
    "duration": 14,
    "start_time": "2023-08-08T19:37:45.466Z"
   },
   {
    "duration": 9,
    "start_time": "2023-08-08T19:37:55.329Z"
   },
   {
    "duration": 14,
    "start_time": "2023-08-08T19:38:14.882Z"
   },
   {
    "duration": 14,
    "start_time": "2023-08-08T19:38:15.994Z"
   },
   {
    "duration": 3,
    "start_time": "2023-08-08T19:38:19.242Z"
   },
   {
    "duration": 13,
    "start_time": "2023-08-08T19:38:20.810Z"
   },
   {
    "duration": 4,
    "start_time": "2023-08-08T19:38:22.293Z"
   },
   {
    "duration": 14,
    "start_time": "2023-08-08T19:38:23.898Z"
   },
   {
    "duration": 73,
    "start_time": "2023-08-08T19:38:34.895Z"
   },
   {
    "duration": 15,
    "start_time": "2023-08-08T19:38:34.970Z"
   },
   {
    "duration": 65,
    "start_time": "2023-08-08T19:38:34.986Z"
   },
   {
    "duration": 20,
    "start_time": "2023-08-08T19:38:35.053Z"
   },
   {
    "duration": 40,
    "start_time": "2023-08-08T19:38:35.075Z"
   },
   {
    "duration": 4,
    "start_time": "2023-08-08T19:38:35.117Z"
   },
   {
    "duration": 16,
    "start_time": "2023-08-08T19:38:35.123Z"
   },
   {
    "duration": 14,
    "start_time": "2023-08-08T19:38:35.140Z"
   },
   {
    "duration": 8,
    "start_time": "2023-08-08T19:38:35.156Z"
   },
   {
    "duration": 5,
    "start_time": "2023-08-08T19:38:35.167Z"
   },
   {
    "duration": 36,
    "start_time": "2023-08-08T19:38:35.173Z"
   },
   {
    "duration": 10,
    "start_time": "2023-08-08T19:38:35.211Z"
   },
   {
    "duration": 4,
    "start_time": "2023-08-08T19:38:35.222Z"
   },
   {
    "duration": 13,
    "start_time": "2023-08-08T19:38:35.253Z"
   },
   {
    "duration": 34,
    "start_time": "2023-08-08T19:38:35.267Z"
   },
   {
    "duration": 18,
    "start_time": "2023-08-08T19:38:35.303Z"
   },
   {
    "duration": 4,
    "start_time": "2023-08-08T19:38:35.323Z"
   },
   {
    "duration": 27,
    "start_time": "2023-08-08T19:38:35.328Z"
   },
   {
    "duration": 6,
    "start_time": "2023-08-08T19:38:35.357Z"
   },
   {
    "duration": 5,
    "start_time": "2023-08-08T19:38:35.365Z"
   },
   {
    "duration": 11,
    "start_time": "2023-08-08T19:38:35.372Z"
   },
   {
    "duration": 23,
    "start_time": "2023-08-08T19:38:35.385Z"
   },
   {
    "duration": 14,
    "start_time": "2023-08-08T19:38:35.409Z"
   },
   {
    "duration": 31,
    "start_time": "2023-08-08T19:38:35.425Z"
   },
   {
    "duration": 5,
    "start_time": "2023-08-08T19:38:35.457Z"
   },
   {
    "duration": 15,
    "start_time": "2023-08-08T19:38:35.464Z"
   },
   {
    "duration": 6,
    "start_time": "2023-08-08T19:38:35.480Z"
   },
   {
    "duration": 5,
    "start_time": "2023-08-08T19:38:35.489Z"
   },
   {
    "duration": 17,
    "start_time": "2023-08-08T19:38:35.496Z"
   },
   {
    "duration": 21,
    "start_time": "2023-08-08T19:39:22.731Z"
   },
   {
    "duration": 945,
    "start_time": "2023-08-08T19:42:55.692Z"
   },
   {
    "duration": 252,
    "start_time": "2023-08-08T19:43:12.167Z"
   },
   {
    "duration": 14,
    "start_time": "2023-08-08T19:43:55.867Z"
   },
   {
    "duration": 23,
    "start_time": "2023-08-08T19:44:07.683Z"
   },
   {
    "duration": 31,
    "start_time": "2023-08-08T19:44:46.356Z"
   },
   {
    "duration": 361,
    "start_time": "2023-08-08T19:45:21.275Z"
   },
   {
    "duration": 12,
    "start_time": "2023-08-08T19:45:30.339Z"
   },
   {
    "duration": 17,
    "start_time": "2023-08-08T19:47:03.532Z"
   },
   {
    "duration": 30,
    "start_time": "2023-08-08T19:49:57.124Z"
   },
   {
    "duration": 23,
    "start_time": "2023-08-08T19:51:44.372Z"
   },
   {
    "duration": 19,
    "start_time": "2023-08-08T19:52:18.065Z"
   },
   {
    "duration": 75,
    "start_time": "2023-08-08T19:52:54.769Z"
   },
   {
    "duration": 24,
    "start_time": "2023-08-08T19:52:54.847Z"
   },
   {
    "duration": 51,
    "start_time": "2023-08-08T19:52:54.872Z"
   },
   {
    "duration": 15,
    "start_time": "2023-08-08T19:52:54.925Z"
   },
   {
    "duration": 59,
    "start_time": "2023-08-08T19:52:54.943Z"
   },
   {
    "duration": 3,
    "start_time": "2023-08-08T19:52:55.004Z"
   },
   {
    "duration": 14,
    "start_time": "2023-08-08T19:52:55.008Z"
   },
   {
    "duration": 12,
    "start_time": "2023-08-08T19:52:55.024Z"
   },
   {
    "duration": 17,
    "start_time": "2023-08-08T19:52:55.038Z"
   },
   {
    "duration": 38,
    "start_time": "2023-08-08T19:52:55.057Z"
   },
   {
    "duration": 42,
    "start_time": "2023-08-08T19:52:55.097Z"
   },
   {
    "duration": 10,
    "start_time": "2023-08-08T19:52:55.141Z"
   },
   {
    "duration": 25,
    "start_time": "2023-08-08T19:52:55.153Z"
   },
   {
    "duration": 13,
    "start_time": "2023-08-08T19:52:55.181Z"
   },
   {
    "duration": 30,
    "start_time": "2023-08-08T19:52:55.195Z"
   },
   {
    "duration": 19,
    "start_time": "2023-08-08T19:52:55.226Z"
   },
   {
    "duration": 4,
    "start_time": "2023-08-08T19:52:55.246Z"
   },
   {
    "duration": 33,
    "start_time": "2023-08-08T19:52:55.253Z"
   },
   {
    "duration": 14,
    "start_time": "2023-08-08T19:52:55.287Z"
   },
   {
    "duration": 26,
    "start_time": "2023-08-08T19:52:55.303Z"
   },
   {
    "duration": 19,
    "start_time": "2023-08-08T19:52:55.331Z"
   },
   {
    "duration": 31,
    "start_time": "2023-08-08T19:52:55.352Z"
   },
   {
    "duration": 25,
    "start_time": "2023-08-08T19:52:55.385Z"
   },
   {
    "duration": 8,
    "start_time": "2023-08-08T19:52:55.412Z"
   },
   {
    "duration": 16,
    "start_time": "2023-08-08T19:52:55.422Z"
   },
   {
    "duration": 31,
    "start_time": "2023-08-08T19:52:55.439Z"
   },
   {
    "duration": 8,
    "start_time": "2023-08-08T19:52:55.471Z"
   },
   {
    "duration": 6,
    "start_time": "2023-08-08T19:52:55.481Z"
   },
   {
    "duration": 24,
    "start_time": "2023-08-08T19:52:55.489Z"
   },
   {
    "duration": 7,
    "start_time": "2023-08-08T19:52:55.515Z"
   },
   {
    "duration": 20,
    "start_time": "2023-08-08T19:52:55.524Z"
   },
   {
    "duration": 26,
    "start_time": "2023-08-08T19:52:55.553Z"
   },
   {
    "duration": 17,
    "start_time": "2023-08-08T19:52:55.581Z"
   },
   {
    "duration": 31,
    "start_time": "2023-08-08T19:52:55.600Z"
   },
   {
    "duration": 12,
    "start_time": "2023-08-08T19:52:55.633Z"
   },
   {
    "duration": 43,
    "start_time": "2023-08-08T19:52:55.646Z"
   },
   {
    "duration": 9,
    "start_time": "2023-08-08T19:52:55.691Z"
   },
   {
    "duration": 16,
    "start_time": "2023-08-08T19:52:55.702Z"
   },
   {
    "duration": 7,
    "start_time": "2023-08-08T19:52:55.720Z"
   },
   {
    "duration": 38,
    "start_time": "2023-08-08T19:52:55.754Z"
   },
   {
    "duration": 10,
    "start_time": "2023-08-08T19:52:55.796Z"
   },
   {
    "duration": 23,
    "start_time": "2023-08-08T19:52:55.807Z"
   },
   {
    "duration": 6,
    "start_time": "2023-08-08T19:52:55.831Z"
   },
   {
    "duration": 49,
    "start_time": "2023-08-08T19:52:55.839Z"
   },
   {
    "duration": 20,
    "start_time": "2023-08-08T19:52:55.890Z"
   },
   {
    "duration": 22,
    "start_time": "2023-08-08T19:53:26.716Z"
   },
   {
    "duration": 33,
    "start_time": "2023-08-08T19:54:44.653Z"
   },
   {
    "duration": 27,
    "start_time": "2023-08-08T19:57:31.762Z"
   },
   {
    "duration": 9,
    "start_time": "2023-08-08T19:59:25.006Z"
   },
   {
    "duration": 13,
    "start_time": "2023-08-08T19:59:30.429Z"
   },
   {
    "duration": 16,
    "start_time": "2023-08-08T19:59:57.909Z"
   },
   {
    "duration": 42,
    "start_time": "2023-08-08T20:00:03.253Z"
   },
   {
    "duration": 27,
    "start_time": "2023-08-08T20:01:10.085Z"
   },
   {
    "duration": 25,
    "start_time": "2023-08-08T20:01:16.170Z"
   },
   {
    "duration": 24,
    "start_time": "2023-08-08T20:01:38.022Z"
   },
   {
    "duration": 18,
    "start_time": "2023-08-08T20:02:09.582Z"
   },
   {
    "duration": 18,
    "start_time": "2023-08-08T20:04:11.030Z"
   },
   {
    "duration": 19,
    "start_time": "2023-08-08T20:04:22.606Z"
   },
   {
    "duration": 14,
    "start_time": "2023-08-08T20:04:53.591Z"
   },
   {
    "duration": 20,
    "start_time": "2023-08-08T20:06:15.257Z"
   },
   {
    "duration": 20,
    "start_time": "2023-08-08T20:06:34.855Z"
   },
   {
    "duration": 13,
    "start_time": "2023-08-08T20:06:53.222Z"
   },
   {
    "duration": 17,
    "start_time": "2023-08-08T20:08:49.476Z"
   },
   {
    "duration": 13,
    "start_time": "2023-08-08T20:08:51.943Z"
   },
   {
    "duration": 24,
    "start_time": "2023-08-08T20:12:45.840Z"
   },
   {
    "duration": 15,
    "start_time": "2023-08-08T20:13:00.088Z"
   },
   {
    "duration": 15,
    "start_time": "2023-08-08T20:13:26.121Z"
   },
   {
    "duration": 16,
    "start_time": "2023-08-08T20:15:36.201Z"
   },
   {
    "duration": 16,
    "start_time": "2023-08-08T20:15:46.633Z"
   },
   {
    "duration": 16,
    "start_time": "2023-08-08T20:16:16.865Z"
   },
   {
    "duration": 19,
    "start_time": "2023-08-08T20:16:53.950Z"
   },
   {
    "duration": 17,
    "start_time": "2023-08-08T20:17:06.416Z"
   },
   {
    "duration": 16,
    "start_time": "2023-08-08T20:17:10.400Z"
   },
   {
    "duration": 16,
    "start_time": "2023-08-08T20:17:38.120Z"
   },
   {
    "duration": 6,
    "start_time": "2023-08-08T20:21:21.826Z"
   },
   {
    "duration": 11,
    "start_time": "2023-08-08T20:21:27.288Z"
   },
   {
    "duration": 45,
    "start_time": "2023-08-08T20:43:57.770Z"
   },
   {
    "duration": 11,
    "start_time": "2023-08-08T20:44:13.293Z"
   },
   {
    "duration": 12,
    "start_time": "2023-08-08T20:45:06.082Z"
   },
   {
    "duration": 12,
    "start_time": "2023-08-08T20:45:20.778Z"
   },
   {
    "duration": 10,
    "start_time": "2023-08-08T20:45:26.234Z"
   },
   {
    "duration": 10,
    "start_time": "2023-08-08T20:46:13.779Z"
   },
   {
    "duration": 11,
    "start_time": "2023-08-08T20:46:15.234Z"
   },
   {
    "duration": 12,
    "start_time": "2023-08-08T20:46:16.282Z"
   },
   {
    "duration": 12,
    "start_time": "2023-08-08T20:46:17.234Z"
   },
   {
    "duration": 11,
    "start_time": "2023-08-08T20:46:18.170Z"
   },
   {
    "duration": 11,
    "start_time": "2023-08-08T20:48:40.996Z"
   },
   {
    "duration": 12,
    "start_time": "2023-08-08T20:51:32.860Z"
   },
   {
    "duration": 12,
    "start_time": "2023-08-08T20:52:25.052Z"
   },
   {
    "duration": 13,
    "start_time": "2023-08-08T20:52:38.069Z"
   },
   {
    "duration": 14,
    "start_time": "2023-08-08T20:53:02.837Z"
   },
   {
    "duration": 15,
    "start_time": "2023-08-08T20:53:08.878Z"
   },
   {
    "duration": 11,
    "start_time": "2023-08-08T20:53:55.981Z"
   },
   {
    "duration": 11,
    "start_time": "2023-08-08T20:54:01.197Z"
   },
   {
    "duration": 12,
    "start_time": "2023-08-08T20:54:07.533Z"
   },
   {
    "duration": 13,
    "start_time": "2023-08-08T20:54:18.814Z"
   },
   {
    "duration": 13,
    "start_time": "2023-08-08T20:54:35.526Z"
   },
   {
    "duration": 52,
    "start_time": "2023-08-09T15:57:25.017Z"
   },
   {
    "duration": 693,
    "start_time": "2023-08-09T15:57:30.938Z"
   },
   {
    "duration": 22,
    "start_time": "2023-08-09T15:57:31.633Z"
   },
   {
    "duration": 21,
    "start_time": "2023-08-09T15:57:31.657Z"
   },
   {
    "duration": 37,
    "start_time": "2023-08-09T15:57:31.680Z"
   },
   {
    "duration": 93,
    "start_time": "2023-08-09T15:57:31.718Z"
   },
   {
    "duration": 4,
    "start_time": "2023-08-09T15:57:31.813Z"
   },
   {
    "duration": 49,
    "start_time": "2023-08-09T15:57:31.818Z"
   },
   {
    "duration": 16,
    "start_time": "2023-08-09T15:57:31.869Z"
   },
   {
    "duration": 52,
    "start_time": "2023-08-09T15:57:31.887Z"
   },
   {
    "duration": 13,
    "start_time": "2023-08-09T15:57:31.942Z"
   },
   {
    "duration": 57,
    "start_time": "2023-08-09T15:57:31.957Z"
   },
   {
    "duration": 12,
    "start_time": "2023-08-09T15:57:32.016Z"
   },
   {
    "duration": 32,
    "start_time": "2023-08-09T15:57:32.030Z"
   },
   {
    "duration": 41,
    "start_time": "2023-08-09T15:57:32.064Z"
   },
   {
    "duration": 47,
    "start_time": "2023-08-09T15:57:32.107Z"
   },
   {
    "duration": 37,
    "start_time": "2023-08-09T15:57:32.156Z"
   },
   {
    "duration": 43,
    "start_time": "2023-08-09T15:57:32.195Z"
   },
   {
    "duration": 64,
    "start_time": "2023-08-09T15:57:32.240Z"
   },
   {
    "duration": 89,
    "start_time": "2023-08-09T15:57:32.306Z"
   },
   {
    "duration": 69,
    "start_time": "2023-08-09T15:57:32.396Z"
   },
   {
    "duration": 48,
    "start_time": "2023-08-09T15:57:32.467Z"
   },
   {
    "duration": 74,
    "start_time": "2023-08-09T15:57:32.517Z"
   },
   {
    "duration": 35,
    "start_time": "2023-08-09T15:57:32.593Z"
   },
   {
    "duration": 42,
    "start_time": "2023-08-09T15:57:32.630Z"
   },
   {
    "duration": 24,
    "start_time": "2023-08-09T15:57:32.674Z"
   },
   {
    "duration": 33,
    "start_time": "2023-08-09T15:57:32.700Z"
   },
   {
    "duration": 25,
    "start_time": "2023-08-09T15:57:32.735Z"
   },
   {
    "duration": 39,
    "start_time": "2023-08-09T15:57:32.763Z"
   },
   {
    "duration": 32,
    "start_time": "2023-08-09T15:57:32.804Z"
   },
   {
    "duration": 25,
    "start_time": "2023-08-09T15:57:32.838Z"
   },
   {
    "duration": 61,
    "start_time": "2023-08-09T15:57:32.864Z"
   },
   {
    "duration": 21,
    "start_time": "2023-08-09T15:57:32.927Z"
   },
   {
    "duration": 25,
    "start_time": "2023-08-09T15:57:32.950Z"
   },
   {
    "duration": 31,
    "start_time": "2023-08-09T15:57:32.977Z"
   },
   {
    "duration": 20,
    "start_time": "2023-08-09T15:57:33.010Z"
   },
   {
    "duration": 9,
    "start_time": "2023-08-09T15:57:33.032Z"
   },
   {
    "duration": 33,
    "start_time": "2023-08-09T15:57:33.042Z"
   },
   {
    "duration": 18,
    "start_time": "2023-08-09T15:57:33.076Z"
   },
   {
    "duration": 39,
    "start_time": "2023-08-09T15:57:33.095Z"
   },
   {
    "duration": 19,
    "start_time": "2023-08-09T15:57:33.136Z"
   },
   {
    "duration": 20,
    "start_time": "2023-08-09T15:59:36.120Z"
   },
   {
    "duration": 567,
    "start_time": "2023-08-09T16:01:07.426Z"
   },
   {
    "duration": 62,
    "start_time": "2023-08-09T16:01:56.376Z"
   },
   {
    "duration": 18,
    "start_time": "2023-08-09T16:02:00.681Z"
   },
   {
    "duration": 16,
    "start_time": "2023-08-09T16:02:25.302Z"
   },
   {
    "duration": 8,
    "start_time": "2023-08-09T16:06:09.475Z"
   },
   {
    "duration": 23,
    "start_time": "2023-08-09T16:06:23.301Z"
   },
   {
    "duration": 20,
    "start_time": "2023-08-09T16:37:07.271Z"
   },
   {
    "duration": 10,
    "start_time": "2023-08-09T16:37:20.263Z"
   },
   {
    "duration": 14,
    "start_time": "2023-08-09T16:37:23.424Z"
   },
   {
    "duration": 19,
    "start_time": "2023-08-09T16:37:32.066Z"
   },
   {
    "duration": 9,
    "start_time": "2023-08-09T16:37:33.720Z"
   },
   {
    "duration": 18,
    "start_time": "2023-08-09T16:37:35.298Z"
   },
   {
    "duration": 75,
    "start_time": "2023-08-09T16:55:23.486Z"
   },
   {
    "duration": 15,
    "start_time": "2023-08-09T16:55:23.563Z"
   },
   {
    "duration": 16,
    "start_time": "2023-08-09T16:55:23.595Z"
   },
   {
    "duration": 10,
    "start_time": "2023-08-09T16:55:23.613Z"
   },
   {
    "duration": 37,
    "start_time": "2023-08-09T16:55:23.624Z"
   },
   {
    "duration": 31,
    "start_time": "2023-08-09T16:55:23.663Z"
   },
   {
    "duration": 10,
    "start_time": "2023-08-09T16:55:23.696Z"
   },
   {
    "duration": 8,
    "start_time": "2023-08-09T16:55:23.708Z"
   },
   {
    "duration": 15,
    "start_time": "2023-08-09T16:55:23.718Z"
   },
   {
    "duration": 9,
    "start_time": "2023-08-09T16:55:23.736Z"
   },
   {
    "duration": 51,
    "start_time": "2023-08-09T16:55:23.748Z"
   },
   {
    "duration": 10,
    "start_time": "2023-08-09T16:55:23.801Z"
   },
   {
    "duration": 7,
    "start_time": "2023-08-09T16:55:23.812Z"
   },
   {
    "duration": 17,
    "start_time": "2023-08-09T16:55:23.820Z"
   },
   {
    "duration": 74,
    "start_time": "2023-08-09T16:55:23.838Z"
   },
   {
    "duration": 17,
    "start_time": "2023-08-09T16:55:23.914Z"
   },
   {
    "duration": 4,
    "start_time": "2023-08-09T16:55:23.933Z"
   },
   {
    "duration": 14,
    "start_time": "2023-08-09T16:55:23.939Z"
   },
   {
    "duration": 8,
    "start_time": "2023-08-09T16:55:23.955Z"
   },
   {
    "duration": 30,
    "start_time": "2023-08-09T16:55:23.965Z"
   },
   {
    "duration": 8,
    "start_time": "2023-08-09T16:55:23.997Z"
   },
   {
    "duration": 22,
    "start_time": "2023-08-09T16:55:24.007Z"
   },
   {
    "duration": 14,
    "start_time": "2023-08-09T16:55:24.031Z"
   },
   {
    "duration": 10,
    "start_time": "2023-08-09T16:55:24.047Z"
   },
   {
    "duration": 8,
    "start_time": "2023-08-09T16:55:24.060Z"
   },
   {
    "duration": 8,
    "start_time": "2023-08-09T16:55:24.095Z"
   },
   {
    "duration": 5,
    "start_time": "2023-08-09T16:55:24.105Z"
   },
   {
    "duration": 16,
    "start_time": "2023-08-09T16:55:24.113Z"
   },
   {
    "duration": 5,
    "start_time": "2023-08-09T16:55:24.130Z"
   },
   {
    "duration": 8,
    "start_time": "2023-08-09T16:55:24.137Z"
   },
   {
    "duration": 48,
    "start_time": "2023-08-09T16:55:24.147Z"
   },
   {
    "duration": 6,
    "start_time": "2023-08-09T16:55:24.197Z"
   },
   {
    "duration": 14,
    "start_time": "2023-08-09T16:55:24.205Z"
   },
   {
    "duration": 14,
    "start_time": "2023-08-09T16:55:24.220Z"
   },
   {
    "duration": 16,
    "start_time": "2023-08-09T16:55:24.236Z"
   },
   {
    "duration": 45,
    "start_time": "2023-08-09T16:55:24.255Z"
   },
   {
    "duration": 43,
    "start_time": "2023-08-09T16:55:24.302Z"
   },
   {
    "duration": 6,
    "start_time": "2023-08-09T16:55:24.346Z"
   },
   {
    "duration": 16,
    "start_time": "2023-08-09T16:55:24.353Z"
   },
   {
    "duration": 18,
    "start_time": "2023-08-09T16:55:24.371Z"
   },
   {
    "duration": 9,
    "start_time": "2023-08-09T16:55:24.395Z"
   },
   {
    "duration": 20,
    "start_time": "2023-08-09T16:55:24.405Z"
   },
   {
    "duration": 7,
    "start_time": "2023-08-09T16:55:24.427Z"
   },
   {
    "duration": 15,
    "start_time": "2023-08-09T16:55:24.436Z"
   },
   {
    "duration": 5,
    "start_time": "2023-08-09T16:55:24.453Z"
   },
   {
    "duration": 17,
    "start_time": "2023-08-09T16:55:24.495Z"
   },
   {
    "duration": 14,
    "start_time": "2023-08-09T16:55:24.514Z"
   }
  ],
  "colab": {
   "name": "dpp_template_part2.ipynb",
   "provenance": []
  },
  "kernelspec": {
   "display_name": "Python 3 (ipykernel)",
   "language": "python",
   "name": "python3"
  },
  "language_info": {
   "codemirror_mode": {
    "name": "ipython",
    "version": 3
   },
   "file_extension": ".py",
   "mimetype": "text/x-python",
   "name": "python",
   "nbconvert_exporter": "python",
   "pygments_lexer": "ipython3",
   "version": "3.11.3"
  },
  "toc": {
   "base_numbering": 1,
   "nav_menu": {},
   "number_sections": true,
   "sideBar": true,
   "skip_h1_title": true,
   "title_cell": "Table of Contents",
   "title_sidebar": "Contents",
   "toc_cell": false,
   "toc_position": {
    "height": "calc(100% - 180px)",
    "left": "10px",
    "top": "150px",
    "width": "371px"
   },
   "toc_section_display": true,
   "toc_window_display": true
  }
 },
 "nbformat": 4,
 "nbformat_minor": 5
}
